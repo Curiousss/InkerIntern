{
 "cells": [
  {
   "cell_type": "code",
   "execution_count": 4,
   "metadata": {
    "collapsed": true
   },
   "outputs": [],
   "source": [
    "import numpy as np"
   ]
  },
  {
   "cell_type": "code",
   "execution_count": 5,
   "metadata": {
    "collapsed": true
   },
   "outputs": [],
   "source": [
    "X = np.array([[1, 0, 1, 0],\n",
    "     [1, 0, 1, 1],\n",
    "     [0, 1, 0, 1]])\n",
    "Y = np.array([[1],\n",
    "             [1],\n",
    "             [0]])\n",
    "lr = 1"
   ]
  },
  {
   "cell_type": "code",
   "execution_count": 13,
   "metadata": {},
   "outputs": [
    {
     "name": "stdout",
     "output_type": "stream",
     "text": [
      "[[ 0.63438762  0.30596738  0.24985455]\n",
      " [ 0.06539409  0.60294432  0.32509646]\n",
      " [ 0.29548944  0.89534488  0.87028959]\n",
      " [ 0.48265864  0.28650861  0.63777705]]\n",
      "[[ 0.36117603  0.32450678  0.36838794]]\n",
      "[[ 0.52938428]\n",
      " [ 0.29820585]\n",
      " [ 0.44177216]]\n",
      "[[ 0.93567883]]\n"
     ]
    }
   ],
   "source": [
    "wh = np.random.uniform(low=0, high=1, size=(4,3))\n",
    "bh = np.random.uniform(low=0, high=1, size=(1,3))\n",
    "wout = np.random.uniform(low=0, high=1, size=(3,1))\n",
    "bout = np.random.uniform(low=0, high=1, size=(1,1))\n",
    "print(wh)\n",
    "print(bh)\n",
    "print(wout)\n",
    "print(bout)"
   ]
  },
  {
   "cell_type": "code",
   "execution_count": 14,
   "metadata": {},
   "outputs": [
    {
     "data": {
      "text/plain": [
       "'wh = np.array([[0.42, 0.88, 0.55],\\n     [0.1, 0.73, 0.68],\\n     [0.6, 0.18, 0.47],\\n     [0.92, 0.11, 0.52]])\\nbh = np.array([0.46, 0.72, 0.08])\\nwout = np.array([[0.3],\\n                [0.25], \\n                [0.23]])\\nbout = np.array([0.69])\\n'"
      ]
     },
     "execution_count": 14,
     "metadata": {},
     "output_type": "execute_result"
    }
   ],
   "source": [
    "'''wh = np.array([[0.42, 0.88, 0.55],\n",
    "     [0.1, 0.73, 0.68],\n",
    "     [0.6, 0.18, 0.47],\n",
    "     [0.92, 0.11, 0.52]])\n",
    "bh = np.array([0.46, 0.72, 0.08])\n",
    "wout = np.array([[0.3],\n",
    "                [0.25], \n",
    "                [0.23]])\n",
    "bout = np.array([0.69])\n",
    "'''"
   ]
  },
  {
   "cell_type": "code",
   "execution_count": 15,
   "metadata": {
    "collapsed": true
   },
   "outputs": [],
   "source": [
    "def sigmoid(x):\n",
    "    return 1.0 / (1 + np.exp(-x))"
   ]
  },
  {
   "cell_type": "code",
   "execution_count": 16,
   "metadata": {
    "collapsed": true
   },
   "outputs": [],
   "source": [
    "def sigmoid_der(xprime):\n",
    "    return xprime * (1 - xprime)"
   ]
  },
  {
   "cell_type": "code",
   "execution_count": 17,
   "metadata": {},
   "outputs": [
    {
     "name": "stdout",
     "output_type": "stream",
     "text": [
      "[[ 1.29105309  1.52581905  1.48853208]\n",
      " [ 1.77371173  1.81232766  2.12630913]\n",
      " [ 0.90922875  1.21395971  1.33126144]]\n",
      "[[ 0.78432538  0.82139377  0.81585784]\n",
      " [ 0.85491865  0.85964296  0.89343411]\n",
      " [ 0.71284232  0.77099882  0.79104922]]\n"
     ]
    }
   ],
   "source": [
    "hidden_layer = X.dot(wh) + bh\n",
    "print(hidden_layer)\n",
    "hidden_layer = sigmoid(hidden_layer)\n",
    "print(hidden_layer)"
   ]
  },
  {
   "cell_type": "code",
   "execution_count": 18,
   "metadata": {},
   "outputs": [
    {
     "name": "stdout",
     "output_type": "stream",
     "text": [
      "[[ 1.95625606]\n",
      " [ 2.03930419]\n",
      " [ 1.89242622]]\n",
      "[[ 0.8761272 ]\n",
      " [ 0.8848624 ]\n",
      " [ 0.86903192]]\n"
     ]
    }
   ],
   "source": [
    "output_layer = hidden_layer.dot(wout) + bout\n",
    "print(output_layer)\n",
    "output_layer = sigmoid(output_layer)\n",
    "print(output_layer)"
   ]
  },
  {
   "cell_type": "code",
   "execution_count": 19,
   "metadata": {},
   "outputs": [
    {
     "name": "stdout",
     "output_type": "stream",
     "text": [
      "[[ 0.1238728 ]\n",
      " [ 0.1151376 ]\n",
      " [-0.86903192]]\n"
     ]
    }
   ],
   "source": [
    "err_output = Y - output_layer\n",
    "print(err_output)"
   ]
  },
  {
   "cell_type": "code",
   "execution_count": 20,
   "metadata": {},
   "outputs": [
    {
     "name": "stdout",
     "output_type": "stream",
     "text": [
      "[[ 0.10852833]\n",
      " [ 0.10188093]\n",
      " [ 0.11381544]]\n"
     ]
    }
   ],
   "source": [
    "slope_out = sigmoid_der(output_layer)\n",
    "print(slope_out)"
   ]
  },
  {
   "cell_type": "code",
   "execution_count": 21,
   "metadata": {},
   "outputs": [
    {
     "name": "stdout",
     "output_type": "stream",
     "text": [
      "[[ 0.16915908  0.14670605  0.15023382]\n",
      " [ 0.12403275  0.12065694  0.0952096 ]\n",
      " [ 0.20469815  0.17655964  0.16529035]]\n"
     ]
    }
   ],
   "source": [
    "slope_hidden = sigmoid_der(hidden_layer)\n",
    "print(slope_hidden)"
   ]
  },
  {
   "cell_type": "code",
   "execution_count": 22,
   "metadata": {},
   "outputs": [
    {
     "name": "stdout",
     "output_type": "stream",
     "text": [
      "[[ 0.01344371]\n",
      " [ 0.01173033]\n",
      " [-0.09890925]]\n"
     ]
    }
   ],
   "source": [
    "d_output = err_output * slope_out\n",
    "print(d_output)"
   ]
  },
  {
   "cell_type": "code",
   "execution_count": 23,
   "metadata": {},
   "outputs": [
    {
     "name": "stdout",
     "output_type": "stream",
     "text": [
      "(3, 1) (3, 1)\n",
      "[[ 0.00711689  0.00400899  0.00593906]\n",
      " [ 0.00620985  0.00349805  0.00518213]\n",
      " [-0.052361   -0.02949532 -0.04369535]]\n"
     ]
    }
   ],
   "source": [
    "err_hidden = d_output.dot(wout.T)\n",
    "print(d_output.shape, wout.shape)\n",
    "print(err_hidden)"
   ]
  },
  {
   "cell_type": "code",
   "execution_count": 24,
   "metadata": {},
   "outputs": [
    {
     "name": "stdout",
     "output_type": "stream",
     "text": [
      "[[ 0.00120389  0.00058814  0.00089225]\n",
      " [ 0.00077022  0.00042206  0.00049339]\n",
      " [-0.0107182  -0.00520768 -0.00722242]]\n"
     ]
    }
   ],
   "source": [
    "d_hidden = err_hidden*slope_hidden\n",
    "print(d_hidden)"
   ]
  },
  {
   "cell_type": "code",
   "execution_count": 25,
   "metadata": {},
   "outputs": [
    {
     "name": "stdout",
     "output_type": "stream",
     "text": [
      "[[ 0.4794503]\n",
      " [ 0.2430734]\n",
      " [ 0.3849785]]\n"
     ]
    }
   ],
   "source": [
    "wout = wout + hidden_layer.T.dot(d_output) * lr\n",
    "print(wout)"
   ]
  },
  {
   "cell_type": "code",
   "execution_count": 26,
   "metadata": {},
   "outputs": [
    {
     "name": "stdout",
     "output_type": "stream",
     "text": [
      "[[ 0.63636173  0.30697759  0.25124019]\n",
      " [ 0.05467589  0.59773663  0.31787404]\n",
      " [ 0.29746355  0.89635509  0.87167523]\n",
      " [ 0.47271066  0.28172299  0.63104802]]\n"
     ]
    }
   ],
   "source": [
    "wh = wh+ X.T.dot(d_hidden) * lr\n",
    "print(wh)"
   ]
  },
  {
   "cell_type": "code",
   "execution_count": 27,
   "metadata": {},
   "outputs": [
    {
     "name": "stdout",
     "output_type": "stream",
     "text": [
      "[[ 0.35243194  0.32030931  0.36255115]] [[ 0.86194361]]\n"
     ]
    }
   ],
   "source": [
    "bh = bh + np.sum(d_hidden, axis=0) * lr\n",
    "bout = bout + np.sum(d_output, axis=0)*lr\n",
    "print(bh, bout)"
   ]
  },
  {
   "cell_type": "code",
   "execution_count": null,
   "metadata": {
    "collapsed": true
   },
   "outputs": [],
   "source": []
  },
  {
   "cell_type": "code",
   "execution_count": null,
   "metadata": {
    "collapsed": true
   },
   "outputs": [],
   "source": []
  }
 ],
 "metadata": {
  "kernelspec": {
   "display_name": "Python 3",
   "language": "python",
   "name": "python3"
  },
  "language_info": {
   "codemirror_mode": {
    "name": "ipython",
    "version": 3
   },
   "file_extension": ".py",
   "mimetype": "text/x-python",
   "name": "python",
   "nbconvert_exporter": "python",
   "pygments_lexer": "ipython3",
   "version": "3.6.3"
  }
 },
 "nbformat": 4,
 "nbformat_minor": 2
}
