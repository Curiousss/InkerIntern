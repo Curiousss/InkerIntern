{
  "nbformat": 4,
  "nbformat_minor": 0,
  "metadata": {
    "colab": {
      "name": "FER_WINO_SEPARABLE_NO_CUDNN.ipynb",
      "version": "0.3.2",
      "provenance": [],
      "collapsed_sections": [],
      "include_colab_link": true
    },
    "kernelspec": {
      "name": "python3",
      "display_name": "Python 3"
    },
    "accelerator": "GPU"
  },
  "cells": [
    {
      "cell_type": "markdown",
      "metadata": {
        "id": "view-in-github",
        "colab_type": "text"
      },
      "source": [
        "[View in Colaboratory](https://colab.research.google.com/github/Curiousss/InkerIntern/blob/master/FER_WINO_SEPARABLE_NO_CUDNN.ipynb)"
      ]
    },
    {
      "metadata": {
        "id": "Q9eNowMGaO_J",
        "colab_type": "code",
        "colab": {
          "resources": {
            "http://localhost:8080/nbextensions/google.colab/files.js": {
              "data": "Ly8gQ29weXJpZ2h0IDIwMTcgR29vZ2xlIExMQwovLwovLyBMaWNlbnNlZCB1bmRlciB0aGUgQXBhY2hlIExpY2Vuc2UsIFZlcnNpb24gMi4wICh0aGUgIkxpY2Vuc2UiKTsKLy8geW91IG1heSBub3QgdXNlIHRoaXMgZmlsZSBleGNlcHQgaW4gY29tcGxpYW5jZSB3aXRoIHRoZSBMaWNlbnNlLgovLyBZb3UgbWF5IG9idGFpbiBhIGNvcHkgb2YgdGhlIExpY2Vuc2UgYXQKLy8KLy8gICAgICBodHRwOi8vd3d3LmFwYWNoZS5vcmcvbGljZW5zZXMvTElDRU5TRS0yLjAKLy8KLy8gVW5sZXNzIHJlcXVpcmVkIGJ5IGFwcGxpY2FibGUgbGF3IG9yIGFncmVlZCB0byBpbiB3cml0aW5nLCBzb2Z0d2FyZQovLyBkaXN0cmlidXRlZCB1bmRlciB0aGUgTGljZW5zZSBpcyBkaXN0cmlidXRlZCBvbiBhbiAiQVMgSVMiIEJBU0lTLAovLyBXSVRIT1VUIFdBUlJBTlRJRVMgT1IgQ09ORElUSU9OUyBPRiBBTlkgS0lORCwgZWl0aGVyIGV4cHJlc3Mgb3IgaW1wbGllZC4KLy8gU2VlIHRoZSBMaWNlbnNlIGZvciB0aGUgc3BlY2lmaWMgbGFuZ3VhZ2UgZ292ZXJuaW5nIHBlcm1pc3Npb25zIGFuZAovLyBsaW1pdGF0aW9ucyB1bmRlciB0aGUgTGljZW5zZS4KCi8qKgogKiBAZmlsZW92ZXJ2aWV3IEhlbHBlcnMgZm9yIGdvb2dsZS5jb2xhYiBQeXRob24gbW9kdWxlLgogKi8KKGZ1bmN0aW9uKHNjb3BlKSB7CmZ1bmN0aW9uIHNwYW4odGV4dCwgc3R5bGVBdHRyaWJ1dGVzID0ge30pIHsKICBjb25zdCBlbGVtZW50ID0gZG9jdW1lbnQuY3JlYXRlRWxlbWVudCgnc3BhbicpOwogIGVsZW1lbnQudGV4dENvbnRlbnQgPSB0ZXh0OwogIGZvciAoY29uc3Qga2V5IG9mIE9iamVjdC5rZXlzKHN0eWxlQXR0cmlidXRlcykpIHsKICAgIGVsZW1lbnQuc3R5bGVba2V5XSA9IHN0eWxlQXR0cmlidXRlc1trZXldOwogIH0KICByZXR1cm4gZWxlbWVudDsKfQoKLy8gTWF4IG51bWJlciBvZiBieXRlcyB3aGljaCB3aWxsIGJlIHVwbG9hZGVkIGF0IGEgdGltZS4KY29uc3QgTUFYX1BBWUxPQURfU0laRSA9IDEwMCAqIDEwMjQ7Ci8vIE1heCBhbW91bnQgb2YgdGltZSB0byBibG9jayB3YWl0aW5nIGZvciB0aGUgdXNlci4KY29uc3QgRklMRV9DSEFOR0VfVElNRU9VVF9NUyA9IDMwICogMTAwMDsKCmZ1bmN0aW9uIF91cGxvYWRGaWxlcyhpbnB1dElkLCBvdXRwdXRJZCkgewogIGNvbnN0IHN0ZXBzID0gdXBsb2FkRmlsZXNTdGVwKGlucHV0SWQsIG91dHB1dElkKTsKICBjb25zdCBvdXRwdXRFbGVtZW50ID0gZG9jdW1lbnQuZ2V0RWxlbWVudEJ5SWQob3V0cHV0SWQpOwogIC8vIENhY2hlIHN0ZXBzIG9uIHRoZSBvdXRwdXRFbGVtZW50IHRvIG1ha2UgaXQgYXZhaWxhYmxlIGZvciB0aGUgbmV4dCBjYWxsCiAgLy8gdG8gdXBsb2FkRmlsZXNDb250aW51ZSBmcm9tIFB5dGhvbi4KICBvdXRwdXRFbGVtZW50LnN0ZXBzID0gc3RlcHM7CgogIHJldHVybiBfdXBsb2FkRmlsZXNDb250aW51ZShvdXRwdXRJZCk7Cn0KCi8vIFRoaXMgaXMgcm91Z2hseSBhbiBhc3luYyBnZW5lcmF0b3IgKG5vdCBzdXBwb3J0ZWQgaW4gdGhlIGJyb3dzZXIgeWV0KSwKLy8gd2hlcmUgdGhlcmUgYXJlIG11bHRpcGxlIGFzeW5jaHJvbm91cyBzdGVwcyBhbmQgdGhlIFB5dGhvbiBzaWRlIGlzIGdvaW5nCi8vIHRvIHBvbGwgZm9yIGNvbXBsZXRpb24gb2YgZWFjaCBzdGVwLgovLyBUaGlzIHVzZXMgYSBQcm9taXNlIHRvIGJsb2NrIHRoZSBweXRob24gc2lkZSBvbiBjb21wbGV0aW9uIG9mIGVhY2ggc3RlcCwKLy8gdGhlbiBwYXNzZXMgdGhlIHJlc3VsdCBvZiB0aGUgcHJldmlvdXMgc3RlcCBhcyB0aGUgaW5wdXQgdG8gdGhlIG5leHQgc3RlcC4KZnVuY3Rpb24gX3VwbG9hZEZpbGVzQ29udGludWUob3V0cHV0SWQpIHsKICBjb25zdCBvdXRwdXRFbGVtZW50ID0gZG9jdW1lbnQuZ2V0RWxlbWVudEJ5SWQob3V0cHV0SWQpOwogIGNvbnN0IHN0ZXBzID0gb3V0cHV0RWxlbWVudC5zdGVwczsKCiAgY29uc3QgbmV4dCA9IHN0ZXBzLm5leHQob3V0cHV0RWxlbWVudC5sYXN0UHJvbWlzZVZhbHVlKTsKICByZXR1cm4gUHJvbWlzZS5yZXNvbHZlKG5leHQudmFsdWUucHJvbWlzZSkudGhlbigodmFsdWUpID0+IHsKICAgIC8vIENhY2hlIHRoZSBsYXN0IHByb21pc2UgdmFsdWUgdG8gbWFrZSBpdCBhdmFpbGFibGUgdG8gdGhlIG5leHQKICAgIC8vIHN0ZXAgb2YgdGhlIGdlbmVyYXRvci4KICAgIG91dHB1dEVsZW1lbnQubGFzdFByb21pc2VWYWx1ZSA9IHZhbHVlOwogICAgcmV0dXJuIG5leHQudmFsdWUucmVzcG9uc2U7CiAgfSk7Cn0KCi8qKgogKiBHZW5lcmF0b3IgZnVuY3Rpb24gd2hpY2ggaXMgY2FsbGVkIGJldHdlZW4gZWFjaCBhc3luYyBzdGVwIG9mIHRoZSB1cGxvYWQKICogcHJvY2Vzcy4KICogQHBhcmFtIHtzdHJpbmd9IGlucHV0SWQgRWxlbWVudCBJRCBvZiB0aGUgaW5wdXQgZmlsZSBwaWNrZXIgZWxlbWVudC4KICogQHBhcmFtIHtzdHJpbmd9IG91dHB1dElkIEVsZW1lbnQgSUQgb2YgdGhlIG91dHB1dCBkaXNwbGF5LgogKiBAcmV0dXJuIHshSXRlcmFibGU8IU9iamVjdD59IEl0ZXJhYmxlIG9mIG5leHQgc3RlcHMuCiAqLwpmdW5jdGlvbiogdXBsb2FkRmlsZXNTdGVwKGlucHV0SWQsIG91dHB1dElkKSB7CiAgY29uc3QgaW5wdXRFbGVtZW50ID0gZG9jdW1lbnQuZ2V0RWxlbWVudEJ5SWQoaW5wdXRJZCk7CiAgaW5wdXRFbGVtZW50LmRpc2FibGVkID0gZmFsc2U7CgogIGNvbnN0IG91dHB1dEVsZW1lbnQgPSBkb2N1bWVudC5nZXRFbGVtZW50QnlJZChvdXRwdXRJZCk7CiAgb3V0cHV0RWxlbWVudC5pbm5lckhUTUwgPSAnJzsKCiAgY29uc3QgcGlja2VkUHJvbWlzZSA9IG5ldyBQcm9taXNlKChyZXNvbHZlKSA9PiB7CiAgICBpbnB1dEVsZW1lbnQuYWRkRXZlbnRMaXN0ZW5lcignY2hhbmdlJywgKGUpID0+IHsKICAgICAgcmVzb2x2ZShlLnRhcmdldC5maWxlcyk7CiAgICB9KTsKICB9KTsKCiAgY29uc3QgY2FuY2VsID0gZG9jdW1lbnQuY3JlYXRlRWxlbWVudCgnYnV0dG9uJyk7CiAgaW5wdXRFbGVtZW50LnBhcmVudEVsZW1lbnQuYXBwZW5kQ2hpbGQoY2FuY2VsKTsKICBjYW5jZWwudGV4dENvbnRlbnQgPSAnQ2FuY2VsIHVwbG9hZCc7CiAgY29uc3QgY2FuY2VsUHJvbWlzZSA9IG5ldyBQcm9taXNlKChyZXNvbHZlKSA9PiB7CiAgICBjYW5jZWwub25jbGljayA9ICgpID0+IHsKICAgICAgcmVzb2x2ZShudWxsKTsKICAgIH07CiAgfSk7CgogIC8vIENhbmNlbCB1cGxvYWQgaWYgdXNlciBoYXNuJ3QgcGlja2VkIGFueXRoaW5nIGluIHRpbWVvdXQuCiAgY29uc3QgdGltZW91dFByb21pc2UgPSBuZXcgUHJvbWlzZSgocmVzb2x2ZSkgPT4gewogICAgc2V0VGltZW91dCgoKSA9PiB7CiAgICAgIHJlc29sdmUobnVsbCk7CiAgICB9LCBGSUxFX0NIQU5HRV9USU1FT1VUX01TKTsKICB9KTsKCiAgLy8gV2FpdCBmb3IgdGhlIHVzZXIgdG8gcGljayB0aGUgZmlsZXMuCiAgY29uc3QgZmlsZXMgPSB5aWVsZCB7CiAgICBwcm9taXNlOiBQcm9taXNlLnJhY2UoW3BpY2tlZFByb21pc2UsIHRpbWVvdXRQcm9taXNlLCBjYW5jZWxQcm9taXNlXSksCiAgICByZXNwb25zZTogewogICAgICBhY3Rpb246ICdzdGFydGluZycsCiAgICB9CiAgfTsKCiAgaWYgKCFmaWxlcykgewogICAgcmV0dXJuIHsKICAgICAgcmVzcG9uc2U6IHsKICAgICAgICBhY3Rpb246ICdjb21wbGV0ZScsCiAgICAgIH0KICAgIH07CiAgfQoKICBjYW5jZWwucmVtb3ZlKCk7CgogIC8vIERpc2FibGUgdGhlIGlucHV0IGVsZW1lbnQgc2luY2UgZnVydGhlciBwaWNrcyBhcmUgbm90IGFsbG93ZWQuCiAgaW5wdXRFbGVtZW50LmRpc2FibGVkID0gdHJ1ZTsKCiAgZm9yIChjb25zdCBmaWxlIG9mIGZpbGVzKSB7CiAgICBjb25zdCBsaSA9IGRvY3VtZW50LmNyZWF0ZUVsZW1lbnQoJ2xpJyk7CiAgICBsaS5hcHBlbmQoc3BhbihmaWxlLm5hbWUsIHtmb250V2VpZ2h0OiAnYm9sZCd9KSk7CiAgICBsaS5hcHBlbmQoc3BhbigKICAgICAgICBgKCR7ZmlsZS50eXBlIHx8ICduL2EnfSkgLSAke2ZpbGUuc2l6ZX0gYnl0ZXMsIGAgKwogICAgICAgIGBsYXN0IG1vZGlmaWVkOiAkewogICAgICAgICAgICBmaWxlLmxhc3RNb2RpZmllZERhdGUgPyBmaWxlLmxhc3RNb2RpZmllZERhdGUudG9Mb2NhbGVEYXRlU3RyaW5nKCkgOgogICAgICAgICAgICAgICAgICAgICAgICAgICAgICAgICAgICAnbi9hJ30gLSBgKSk7CiAgICBjb25zdCBwZXJjZW50ID0gc3BhbignMCUgZG9uZScpOwogICAgbGkuYXBwZW5kQ2hpbGQocGVyY2VudCk7CgogICAgb3V0cHV0RWxlbWVudC5hcHBlbmRDaGlsZChsaSk7CgogICAgY29uc3QgZmlsZURhdGFQcm9taXNlID0gbmV3IFByb21pc2UoKHJlc29sdmUpID0+IHsKICAgICAgY29uc3QgcmVhZGVyID0gbmV3IEZpbGVSZWFkZXIoKTsKICAgICAgcmVhZGVyLm9ubG9hZCA9IChlKSA9PiB7CiAgICAgICAgcmVzb2x2ZShlLnRhcmdldC5yZXN1bHQpOwogICAgICB9OwogICAgICByZWFkZXIucmVhZEFzQXJyYXlCdWZmZXIoZmlsZSk7CiAgICB9KTsKICAgIC8vIFdhaXQgZm9yIHRoZSBkYXRhIHRvIGJlIHJlYWR5LgogICAgbGV0IGZpbGVEYXRhID0geWllbGQgewogICAgICBwcm9taXNlOiBmaWxlRGF0YVByb21pc2UsCiAgICAgIHJlc3BvbnNlOiB7CiAgICAgICAgYWN0aW9uOiAnY29udGludWUnLAogICAgICB9CiAgICB9OwoKICAgIC8vIFVzZSBhIGNodW5rZWQgc2VuZGluZyB0byBhdm9pZCBtZXNzYWdlIHNpemUgbGltaXRzLiBTZWUgYi82MjExNTY2MC4KICAgIGxldCBwb3NpdGlvbiA9IDA7CiAgICB3aGlsZSAocG9zaXRpb24gPCBmaWxlRGF0YS5ieXRlTGVuZ3RoKSB7CiAgICAgIGNvbnN0IGxlbmd0aCA9IE1hdGgubWluKGZpbGVEYXRhLmJ5dGVMZW5ndGggLSBwb3NpdGlvbiwgTUFYX1BBWUxPQURfU0laRSk7CiAgICAgIGNvbnN0IGNodW5rID0gbmV3IFVpbnQ4QXJyYXkoZmlsZURhdGEsIHBvc2l0aW9uLCBsZW5ndGgpOwogICAgICBwb3NpdGlvbiArPSBsZW5ndGg7CgogICAgICBjb25zdCBiYXNlNjQgPSBidG9hKFN0cmluZy5mcm9tQ2hhckNvZGUuYXBwbHkobnVsbCwgY2h1bmspKTsKICAgICAgeWllbGQgewogICAgICAgIHJlc3BvbnNlOiB7CiAgICAgICAgICBhY3Rpb246ICdhcHBlbmQnLAogICAgICAgICAgZmlsZTogZmlsZS5uYW1lLAogICAgICAgICAgZGF0YTogYmFzZTY0LAogICAgICAgIH0sCiAgICAgIH07CiAgICAgIHBlcmNlbnQudGV4dENvbnRlbnQgPQogICAgICAgICAgYCR7TWF0aC5yb3VuZCgocG9zaXRpb24gLyBmaWxlRGF0YS5ieXRlTGVuZ3RoKSAqIDEwMCl9JSBkb25lYDsKICAgIH0KICB9CgogIC8vIEFsbCBkb25lLgogIHlpZWxkIHsKICAgIHJlc3BvbnNlOiB7CiAgICAgIGFjdGlvbjogJ2NvbXBsZXRlJywKICAgIH0KICB9Owp9CgpzY29wZS5nb29nbGUgPSBzY29wZS5nb29nbGUgfHwge307CnNjb3BlLmdvb2dsZS5jb2xhYiA9IHNjb3BlLmdvb2dsZS5jb2xhYiB8fCB7fTsKc2NvcGUuZ29vZ2xlLmNvbGFiLl9maWxlcyA9IHsKICBfdXBsb2FkRmlsZXMsCiAgX3VwbG9hZEZpbGVzQ29udGludWUsCn07Cn0pKHNlbGYpOwo=",
              "ok": true,
              "headers": [
                [
                  "content-type",
                  "application/javascript"
                ]
              ],
              "status": 200,
              "status_text": ""
            }
          },
          "base_uri": "https://localhost:8080/",
          "height": 73
        },
        "outputId": "b47ae07c-2f9b-4a8c-b1a9-f64f97c0c3e3"
      },
      "cell_type": "code",
      "source": [
        "from google.colab import files\n",
        "uploaded = files.upload()"
      ],
      "execution_count": 8,
      "outputs": [
        {
          "output_type": "display_data",
          "data": {
            "text/html": [
              "\n",
              "     <input type=\"file\" id=\"files-7213b070-638c-43ac-b13a-207b078658c9\" name=\"files[]\" multiple disabled />\n",
              "     <output id=\"result-7213b070-638c-43ac-b13a-207b078658c9\">\n",
              "      Upload widget is only available when the cell has been executed in the\n",
              "      current browser session. Please rerun this cell to enable.\n",
              "      </output>\n",
              "      <script src=\"/nbextensions/google.colab/files.js\"></script> "
            ],
            "text/plain": [
              "<IPython.core.display.HTML object>"
            ]
          },
          "metadata": {
            "tags": []
          }
        },
        {
          "output_type": "stream",
          "text": [
            "Saving baddata.txt to baddata.txt\n"
          ],
          "name": "stdout"
        }
      ]
    },
    {
      "metadata": {
        "id": "BEb9SWJUV8T2",
        "colab_type": "code",
        "colab": {
          "base_uri": "https://localhost:8080/",
          "height": 35
        },
        "outputId": "d5f8c58f-25a4-46fd-c63a-b6f7a7b075ef"
      },
      "cell_type": "code",
      "source": [
        "!ls"
      ],
      "execution_count": 1,
      "outputs": [
        {
          "output_type": "stream",
          "text": [
            "datalab\r\n"
          ],
          "name": "stdout"
        }
      ]
    },
    {
      "metadata": {
        "id": "ldEdUzQbuQIi",
        "colab_type": "code",
        "colab": {
          "base_uri": "https://localhost:8080/",
          "height": 108
        },
        "outputId": "32e58f24-3b2c-4ddc-9a5f-e367a2ddd29d"
      },
      "cell_type": "code",
      "source": [
        "!tar xvf fer2013.tar\n",
        "!ls"
      ],
      "execution_count": 3,
      "outputs": [
        {
          "output_type": "stream",
          "text": [
            "fer2013/fer2013.csv\n",
            "fer2013/README\n",
            "fer2013/fer2013.bib\n",
            "fer2013/\n",
            "datalab  fer2013  fer2013.tar\n"
          ],
          "name": "stdout"
        }
      ]
    },
    {
      "metadata": {
        "id": "dTyUIGDeuAQf",
        "colab_type": "code",
        "colab": {
          "base_uri": "https://localhost:8080/",
          "height": 35
        },
        "outputId": "95dfcfc3-b6ea-4464-c467-fb7406d0abdc"
      },
      "cell_type": "code",
      "source": [
        "\n",
        "import csv\n",
        "import numpy as np\n",
        "\n",
        "import keras\n",
        "from keras.models import Sequential\n",
        "from keras.layers import Dense, Dropout, Activation, Flatten, GlobalAveragePooling2D, InputLayer\n",
        "from keras.layers import Convolution2D, SeparableConv2D, MaxPooling2D, BatchNormalization \n",
        "from keras.layers.advanced_activations import LeakyReLU\n",
        "from keras.utils import np_utils\n",
        "from keras.preprocessing.image import ImageDataGenerator"
      ],
      "execution_count": 4,
      "outputs": [
        {
          "output_type": "stream",
          "text": [
            "Using TensorFlow backend.\n"
          ],
          "name": "stderr"
        }
      ]
    },
    {
      "metadata": {
        "id": "OqJCQeGxhq4x",
        "colab_type": "code",
        "colab": {}
      },
      "cell_type": "code",
      "source": [
        "img_rows, img_cols = 48, 48\n",
        "batch_size = 128\n",
        "classes = 7\n",
        "epoch = 100\n",
        "img_channels = 1"
      ],
      "execution_count": 0,
      "outputs": []
    },
    {
      "metadata": {
        "id": "sq7nNsVmhsYX",
        "colab_type": "code",
        "colab": {}
      },
      "cell_type": "code",
      "source": [
        "import csv\n",
        "f = open('fer2013/fer2013.csv')\n",
        "csv_f = csv.reader(f)\n"
      ],
      "execution_count": 0,
      "outputs": []
    },
    {
      "metadata": {
        "id": "yQSDhHZ3tKqk",
        "colab_type": "code",
        "colab": {}
      },
      "cell_type": "code",
      "source": [
        "train_x = []\n",
        "train_y = []\n",
        "val_x =[]\n",
        "val_y =[]"
      ],
      "execution_count": 0,
      "outputs": []
    },
    {
      "metadata": {
        "id": "eWmuGFqNF5Ds",
        "colab_type": "code",
        "colab": {}
      },
      "cell_type": "code",
      "source": [
        "ToBeRemovedTrainingData = []\n",
        "with open(\"baddata.txt\", \"r\") as text:\n",
        "  for line in text:\n",
        "    ToBeRemovedTrainingData.append(int(line))"
      ],
      "execution_count": 0,
      "outputs": []
    },
    {
      "metadata": {
        "id": "HmmgpkTpiWyS",
        "colab_type": "code",
        "colab": {}
      },
      "cell_type": "code",
      "source": [
        "num=0\n",
        "for row in csv_f:\n",
        "  num = num +1\n",
        "  if num in ToBeRemovedTrainingData or num==1:\n",
        "    continue\n",
        "  #print(row)\n",
        "  #print(num)\n",
        "  temp_list = []\n",
        "  for pixel in row[1].split( ):\n",
        "    temp_list.append(int(pixel))\n",
        "\n",
        "  if str(row[2]) == \"Training\":\n",
        "    train_y.append(int(row[0]))\n",
        "    train_x.append(temp_list) \n",
        "  elif str(row[2]) == \"PublicTest\":\n",
        "    val_y.append(int(row[0]))\n",
        "    val_x.append(temp_list)"
      ],
      "execution_count": 0,
      "outputs": []
    },
    {
      "metadata": {
        "id": "H6rDJXl4rUKS",
        "colab_type": "code",
        "colab": {}
      },
      "cell_type": "code",
      "source": [
        "train_x = np.asarray(train_x)\n",
        "train_y = np.asarray(train_y)\n",
        "val_x = np.asarray(val_x)\n",
        "val_y = np.asarray(val_y)"
      ],
      "execution_count": 0,
      "outputs": []
    },
    {
      "metadata": {
        "id": "lmXwV3InrVsQ",
        "colab_type": "code",
        "colab": {}
      },
      "cell_type": "code",
      "source": [
        "train_x = train_x.reshape(train_x.shape[0], 48, 48)\n",
        "train_x = train_x.reshape(train_x.shape[0], 48, 48, 1 )\n",
        "train_y = np_utils.to_categorical(train_y, 7)"
      ],
      "execution_count": 0,
      "outputs": []
    },
    {
      "metadata": {
        "id": "s3iZUfL1ztRu",
        "colab_type": "code",
        "colab": {}
      },
      "cell_type": "code",
      "source": [
        "val_x = val_x.reshape(val_x.shape[0], 48, 48)\n",
        "val_x = val_x.reshape(val_x.shape[0], 48, 48, 1)\n",
        "val_y = np_utils.to_categorical(val_y, 7)"
      ],
      "execution_count": 0,
      "outputs": []
    },
    {
      "metadata": {
        "id": "FAWueVKKI0CR",
        "colab_type": "code",
        "colab": {
          "base_uri": "https://localhost:8080/",
          "height": 65
        },
        "outputId": "fabd2789-8404-476a-bc2c-b934eb651a58"
      },
      "cell_type": "code",
      "source": [
        "from PIL import Image\n",
        "\n",
        "#print(train_x.shape)\n",
        "\n",
        "showimg = train_x[1].reshape(48,48)\n",
        "img = Image.fromarray(showimg.astype('uint8'))\n",
        "from IPython.display import display\n",
        "display(img)"
      ],
      "execution_count": 14,
      "outputs": [
        {
          "output_type": "display_data",
          "data": {
            "image/png": "[encoded data removed]",
            "text/plain": [
              "<PIL.Image.Image image mode=L size=48x48 at 0x7F5871519CF8>"
            ]
          },
          "metadata": {
            "tags": []
          }
        }
      ]
    },
    {
      "metadata": {
        "id": "bkb-p1BXzBrI",
        "colab_type": "code",
        "colab": {}
      },
      "cell_type": "code",
      "source": [
        "train_x = train_x.astype('float32')\n",
        "train_x = train_x / 255.0\n",
        "val_x = val_x.astype('float32')\n",
        "val_x = val_x / 255.0\n",
        "train_x = train_x - 0.5\n",
        "train_x = train_x * 2\n",
        "val_x = val_x - 0.5\n",
        "val_x = val_x * 2\n"
      ],
      "execution_count": 0,
      "outputs": []
    },
    {
      "metadata": {
        "id": "jMKS1KOEGsB3",
        "colab_type": "code",
        "colab": {}
      },
      "cell_type": "code",
      "source": [
        "input_shape = (img_rows, img_cols, img_channels)\n",
        "model = Sequential()\n",
        "model.add(SeparableConv2D(filters=64, kernel_size=(7, 7), padding='same',\n",
        "                            name='image_array', input_shape=input_shape))\n",
        "model.add(BatchNormalization())\n",
        "model.add(LeakyReLU())\n",
        "model.add(SeparableConv2D(filters=64, kernel_size=(7, 7), padding='same'))\n",
        "model.add(BatchNormalization())\n",
        "model.add(LeakyReLU())\n",
        "model.add(MaxPooling2D(pool_size=(2, 2), padding='same'))\n",
        "model.add(Dropout(.3))\n",
        "\n",
        "model.add(SeparableConv2D(filters=128, kernel_size=(7, 7), padding='same'))\n",
        "model.add(BatchNormalization())\n",
        "model.add(LeakyReLU())\n",
        "model.add(SeparableConv2D(filters=128, kernel_size=(7, 7), padding='same'))\n",
        "model.add(BatchNormalization())\n",
        "model.add(LeakyReLU())\n",
        "model.add(MaxPooling2D(pool_size=(2, 2), padding='same'))\n",
        "model.add(Dropout(.3))\n",
        "\n",
        "model.add(SeparableConv2D(filters=256, kernel_size=(7, 7), padding='same'))\n",
        "model.add(BatchNormalization())\n",
        "model.add(LeakyReLU())\n",
        "model.add(SeparableConv2D(filters=256, kernel_size=(7, 7), padding='same'))\n",
        "model.add(BatchNormalization())\n",
        "model.add(LeakyReLU())\n",
        "model.add(MaxPooling2D(pool_size=(2, 2), padding='same'))\n",
        "model.add(Dropout(.3))\n",
        "\n",
        "model.add(SeparableConv2D(filters=512, kernel_size=(7, 7), padding='same'))\n",
        "model.add(BatchNormalization())\n",
        "model.add(LeakyReLU())\n",
        "model.add(SeparableConv2D(filters=512, kernel_size=(7, 7), padding='same'))\n",
        "model.add(BatchNormalization())\n",
        "model.add(LeakyReLU())\n",
        "model.add(MaxPooling2D(pool_size=(2, 2), padding='same'))\n",
        "model.add(Dropout(.3))\n",
        "\n",
        "#model.add(Flatten())\n",
        "'''\n",
        "model.add(Dense(1024))\n",
        "model.add(BatchNormalization())\n",
        "model.add(LeakyReLU())\n",
        "model.add(Dropout(.5))\n",
        "\n",
        "model.add(Dense(2048))\n",
        "model.add(BatchNormalization())\n",
        "model.add(LeakyReLU())\n",
        "model.add(Dropout(.5))\n",
        "'''\n",
        "model.add(InputLayer(input_shape=(3, 3, 1024)))\n",
        "model.add(GlobalAveragePooling2D())\n",
        "model.add(Dense(7))\n",
        "model.add(Activation('softmax'))"
      ],
      "execution_count": 0,
      "outputs": []
    },
    {
      "metadata": {
        "id": "tRsZspcA0uxT",
        "colab_type": "code",
        "colab": {
          "base_uri": "https://localhost:8080/",
          "height": 1454
        },
        "outputId": "468fc168-0b67-4fd0-8619-35326ded403f"
      },
      "cell_type": "code",
      "source": [
        "model.summary()"
      ],
      "execution_count": 0,
      "outputs": [
        {
          "output_type": "stream",
          "text": [
            "_________________________________________________________________\n",
            "Layer (type)                 Output Shape              Param #   \n",
            "=================================================================\n",
            "image_array (SeparableConv2D (None, 48, 48, 64)        137       \n",
            "_________________________________________________________________\n",
            "batch_normalization_27 (Batc (None, 48, 48, 64)        256       \n",
            "_________________________________________________________________\n",
            "leaky_re_lu_27 (LeakyReLU)   (None, 48, 48, 64)        0         \n",
            "_________________________________________________________________\n",
            "separable_conv2d_22 (Separab (None, 48, 48, 64)        4736      \n",
            "_________________________________________________________________\n",
            "batch_normalization_28 (Batc (None, 48, 48, 64)        256       \n",
            "_________________________________________________________________\n",
            "leaky_re_lu_28 (LeakyReLU)   (None, 48, 48, 64)        0         \n",
            "_________________________________________________________________\n",
            "max_pooling2d_13 (MaxPooling (None, 24, 24, 64)        0         \n",
            "_________________________________________________________________\n",
            "dropout_15 (Dropout)         (None, 24, 24, 64)        0         \n",
            "_________________________________________________________________\n",
            "separable_conv2d_23 (Separab (None, 24, 24, 128)       8896      \n",
            "_________________________________________________________________\n",
            "batch_normalization_29 (Batc (None, 24, 24, 128)       512       \n",
            "_________________________________________________________________\n",
            "leaky_re_lu_29 (LeakyReLU)   (None, 24, 24, 128)       0         \n",
            "_________________________________________________________________\n",
            "separable_conv2d_24 (Separab (None, 24, 24, 128)       17664     \n",
            "_________________________________________________________________\n",
            "batch_normalization_30 (Batc (None, 24, 24, 128)       512       \n",
            "_________________________________________________________________\n",
            "leaky_re_lu_30 (LeakyReLU)   (None, 24, 24, 128)       0         \n",
            "_________________________________________________________________\n",
            "max_pooling2d_14 (MaxPooling (None, 12, 12, 128)       0         \n",
            "_________________________________________________________________\n",
            "dropout_16 (Dropout)         (None, 12, 12, 128)       0         \n",
            "_________________________________________________________________\n",
            "separable_conv2d_25 (Separab (None, 12, 12, 256)       34176     \n",
            "_________________________________________________________________\n",
            "batch_normalization_31 (Batc (None, 12, 12, 256)       1024      \n",
            "_________________________________________________________________\n",
            "leaky_re_lu_31 (LeakyReLU)   (None, 12, 12, 256)       0         \n",
            "_________________________________________________________________\n",
            "separable_conv2d_26 (Separab (None, 12, 12, 256)       68096     \n",
            "_________________________________________________________________\n",
            "batch_normalization_32 (Batc (None, 12, 12, 256)       1024      \n",
            "_________________________________________________________________\n",
            "leaky_re_lu_32 (LeakyReLU)   (None, 12, 12, 256)       0         \n",
            "_________________________________________________________________\n",
            "max_pooling2d_15 (MaxPooling (None, 6, 6, 256)         0         \n",
            "_________________________________________________________________\n",
            "dropout_17 (Dropout)         (None, 6, 6, 256)         0         \n",
            "_________________________________________________________________\n",
            "separable_conv2d_27 (Separab (None, 6, 6, 512)         133888    \n",
            "_________________________________________________________________\n",
            "batch_normalization_33 (Batc (None, 6, 6, 512)         2048      \n",
            "_________________________________________________________________\n",
            "leaky_re_lu_33 (LeakyReLU)   (None, 6, 6, 512)         0         \n",
            "_________________________________________________________________\n",
            "separable_conv2d_28 (Separab (None, 6, 6, 512)         267264    \n",
            "_________________________________________________________________\n",
            "batch_normalization_34 (Batc (None, 6, 6, 512)         2048      \n",
            "_________________________________________________________________\n",
            "leaky_re_lu_34 (LeakyReLU)   (None, 6, 6, 512)         0         \n",
            "_________________________________________________________________\n",
            "max_pooling2d_16 (MaxPooling (None, 3, 3, 512)         0         \n",
            "_________________________________________________________________\n",
            "dropout_18 (Dropout)         (None, 3, 3, 512)         0         \n",
            "_________________________________________________________________\n",
            "input_2 (InputLayer)         multiple                  0         \n",
            "_________________________________________________________________\n",
            "global_average_pooling2d_3 ( (None, 512)               0         \n",
            "_________________________________________________________________\n",
            "dense_4 (Dense)              (None, 7)                 3591      \n",
            "_________________________________________________________________\n",
            "activation_2 (Activation)    (None, 7)                 0         \n",
            "=================================================================\n",
            "Total params: 546,128\n",
            "Trainable params: 542,288\n",
            "Non-trainable params: 3,840\n",
            "_________________________________________________________________\n"
          ],
          "name": "stdout"
        }
      ]
    },
    {
      "metadata": {
        "id": "Hy0FyCcc2li0",
        "colab_type": "code",
        "colab": {}
      },
      "cell_type": "code",
      "source": [
        "model.compile(optimizer='Adam',\n",
        "                 loss='categorical_crossentropy',\n",
        "                 metrics=['accuracy'])\n",
        "filepath='Model.best.hdf5'\n",
        "checkpointer = keras.callbacks.ModelCheckpoint(filepath, monitor='val_acc', verbose=1, save_best_only=True, mode='auto')\n"
      ],
      "execution_count": 0,
      "outputs": []
    },
    {
      "metadata": {
        "id": "rZYe0RPXn4O_",
        "colab_type": "code",
        "colab": {
          "base_uri": "https://localhost:8080/",
          "height": 682
        },
        "outputId": "d3ef6964-0249-4c7c-d4eb-48a940d777ec"
      },
      "cell_type": "code",
      "source": [
        "model.load_weights('Model.best.hdf5')"
      ],
      "execution_count": 18,
      "outputs": [
        {
          "output_type": "error",
          "ename": "OSError",
          "evalue": "ignored",
          "traceback": [
            "\u001b[0;31m---------------------------------------------------------------------------\u001b[0m",
            "\u001b[0;31mOSError\u001b[0m                                   Traceback (most recent call last)",
            "\u001b[0;32m<ipython-input-18-6df7b7822b1b>\u001b[0m in \u001b[0;36m<module>\u001b[0;34m()\u001b[0m\n\u001b[0;32m----> 1\u001b[0;31m \u001b[0mmodel\u001b[0m\u001b[0;34m.\u001b[0m\u001b[0mload_weights\u001b[0m\u001b[0;34m(\u001b[0m\u001b[0;34m'Model.best.hdf5'\u001b[0m\u001b[0;34m)\u001b[0m\u001b[0;34m\u001b[0m\u001b[0m\n\u001b[0m",
            "\u001b[0;32m/usr/local/lib/python3.6/dist-packages/keras/models.py\u001b[0m in \u001b[0;36mload_weights\u001b[0;34m(self, filepath, by_name, skip_mismatch, reshape)\u001b[0m\n\u001b[1;32m    752\u001b[0m         \u001b[0;32mif\u001b[0m \u001b[0mh5py\u001b[0m \u001b[0;32mis\u001b[0m \u001b[0;32mNone\u001b[0m\u001b[0;34m:\u001b[0m\u001b[0;34m\u001b[0m\u001b[0m\n\u001b[1;32m    753\u001b[0m             \u001b[0;32mraise\u001b[0m \u001b[0mImportError\u001b[0m\u001b[0;34m(\u001b[0m\u001b[0;34m'`load_weights` requires h5py.'\u001b[0m\u001b[0;34m)\u001b[0m\u001b[0;34m\u001b[0m\u001b[0m\n\u001b[0;32m--> 754\u001b[0;31m         \u001b[0;32mwith\u001b[0m \u001b[0mh5py\u001b[0m\u001b[0;34m.\u001b[0m\u001b[0mFile\u001b[0m\u001b[0;34m(\u001b[0m\u001b[0mfilepath\u001b[0m\u001b[0;34m,\u001b[0m \u001b[0mmode\u001b[0m\u001b[0;34m=\u001b[0m\u001b[0;34m'r'\u001b[0m\u001b[0;34m)\u001b[0m \u001b[0;32mas\u001b[0m \u001b[0mf\u001b[0m\u001b[0;34m:\u001b[0m\u001b[0;34m\u001b[0m\u001b[0m\n\u001b[0m\u001b[1;32m    755\u001b[0m             \u001b[0;32mif\u001b[0m \u001b[0;34m'layer_names'\u001b[0m \u001b[0;32mnot\u001b[0m \u001b[0;32min\u001b[0m \u001b[0mf\u001b[0m\u001b[0;34m.\u001b[0m\u001b[0mattrs\u001b[0m \u001b[0;32mand\u001b[0m \u001b[0;34m'model_weights'\u001b[0m \u001b[0;32min\u001b[0m \u001b[0mf\u001b[0m\u001b[0;34m:\u001b[0m\u001b[0;34m\u001b[0m\u001b[0m\n\u001b[1;32m    756\u001b[0m                 \u001b[0mf\u001b[0m \u001b[0;34m=\u001b[0m \u001b[0mf\u001b[0m\u001b[0;34m[\u001b[0m\u001b[0;34m'model_weights'\u001b[0m\u001b[0;34m]\u001b[0m\u001b[0;34m\u001b[0m\u001b[0m\n",
            "\u001b[0;32m/usr/local/lib/python3.6/dist-packages/h5py/_hl/files.py\u001b[0m in \u001b[0;36m__init__\u001b[0;34m(self, name, mode, driver, libver, userblock_size, swmr, **kwds)\u001b[0m\n\u001b[1;32m    310\u001b[0m             \u001b[0;32mwith\u001b[0m \u001b[0mphil\u001b[0m\u001b[0;34m:\u001b[0m\u001b[0;34m\u001b[0m\u001b[0m\n\u001b[1;32m    311\u001b[0m                 \u001b[0mfapl\u001b[0m \u001b[0;34m=\u001b[0m \u001b[0mmake_fapl\u001b[0m\u001b[0;34m(\u001b[0m\u001b[0mdriver\u001b[0m\u001b[0;34m,\u001b[0m \u001b[0mlibver\u001b[0m\u001b[0;34m,\u001b[0m \u001b[0;34m**\u001b[0m\u001b[0mkwds\u001b[0m\u001b[0;34m)\u001b[0m\u001b[0;34m\u001b[0m\u001b[0m\n\u001b[0;32m--> 312\u001b[0;31m                 \u001b[0mfid\u001b[0m \u001b[0;34m=\u001b[0m \u001b[0mmake_fid\u001b[0m\u001b[0;34m(\u001b[0m\u001b[0mname\u001b[0m\u001b[0;34m,\u001b[0m \u001b[0mmode\u001b[0m\u001b[0;34m,\u001b[0m \u001b[0muserblock_size\u001b[0m\u001b[0;34m,\u001b[0m \u001b[0mfapl\u001b[0m\u001b[0;34m,\u001b[0m \u001b[0mswmr\u001b[0m\u001b[0;34m=\u001b[0m\u001b[0mswmr\u001b[0m\u001b[0;34m)\u001b[0m\u001b[0;34m\u001b[0m\u001b[0m\n\u001b[0m\u001b[1;32m    313\u001b[0m \u001b[0;34m\u001b[0m\u001b[0m\n\u001b[1;32m    314\u001b[0m                 \u001b[0;32mif\u001b[0m \u001b[0mswmr_support\u001b[0m\u001b[0;34m:\u001b[0m\u001b[0;34m\u001b[0m\u001b[0m\n",
            "\u001b[0;32m/usr/local/lib/python3.6/dist-packages/h5py/_hl/files.py\u001b[0m in \u001b[0;36mmake_fid\u001b[0;34m(name, mode, userblock_size, fapl, fcpl, swmr)\u001b[0m\n\u001b[1;32m    140\u001b[0m         \u001b[0;32mif\u001b[0m \u001b[0mswmr\u001b[0m \u001b[0;32mand\u001b[0m \u001b[0mswmr_support\u001b[0m\u001b[0;34m:\u001b[0m\u001b[0;34m\u001b[0m\u001b[0m\n\u001b[1;32m    141\u001b[0m             \u001b[0mflags\u001b[0m \u001b[0;34m|=\u001b[0m \u001b[0mh5f\u001b[0m\u001b[0;34m.\u001b[0m\u001b[0mACC_SWMR_READ\u001b[0m\u001b[0;34m\u001b[0m\u001b[0m\n\u001b[0;32m--> 142\u001b[0;31m         \u001b[0mfid\u001b[0m \u001b[0;34m=\u001b[0m \u001b[0mh5f\u001b[0m\u001b[0;34m.\u001b[0m\u001b[0mopen\u001b[0m\u001b[0;34m(\u001b[0m\u001b[0mname\u001b[0m\u001b[0;34m,\u001b[0m \u001b[0mflags\u001b[0m\u001b[0;34m,\u001b[0m \u001b[0mfapl\u001b[0m\u001b[0;34m=\u001b[0m\u001b[0mfapl\u001b[0m\u001b[0;34m)\u001b[0m\u001b[0;34m\u001b[0m\u001b[0m\n\u001b[0m\u001b[1;32m    143\u001b[0m     \u001b[0;32melif\u001b[0m \u001b[0mmode\u001b[0m \u001b[0;34m==\u001b[0m \u001b[0;34m'r+'\u001b[0m\u001b[0;34m:\u001b[0m\u001b[0;34m\u001b[0m\u001b[0m\n\u001b[1;32m    144\u001b[0m         \u001b[0mfid\u001b[0m \u001b[0;34m=\u001b[0m \u001b[0mh5f\u001b[0m\u001b[0;34m.\u001b[0m\u001b[0mopen\u001b[0m\u001b[0;34m(\u001b[0m\u001b[0mname\u001b[0m\u001b[0;34m,\u001b[0m \u001b[0mh5f\u001b[0m\u001b[0;34m.\u001b[0m\u001b[0mACC_RDWR\u001b[0m\u001b[0;34m,\u001b[0m \u001b[0mfapl\u001b[0m\u001b[0;34m=\u001b[0m\u001b[0mfapl\u001b[0m\u001b[0;34m)\u001b[0m\u001b[0;34m\u001b[0m\u001b[0m\n",
            "\u001b[0;32mh5py/_objects.pyx\u001b[0m in \u001b[0;36mh5py._objects.with_phil.wrapper\u001b[0;34m()\u001b[0m\n",
            "\u001b[0;32mh5py/_objects.pyx\u001b[0m in \u001b[0;36mh5py._objects.with_phil.wrapper\u001b[0;34m()\u001b[0m\n",
            "\u001b[0;32mh5py/h5f.pyx\u001b[0m in \u001b[0;36mh5py.h5f.open\u001b[0;34m()\u001b[0m\n",
            "\u001b[0;31mOSError\u001b[0m: Unable to open file (unable to open file: name = 'Model.best.hdf5', errno = 2, error message = 'No such file or directory', flags = 0, o_flags = 0)"
          ]
        }
      ]
    },
    {
      "metadata": {
        "id": "PB9jPqCQhXOg",
        "colab_type": "code",
        "colab": {}
      },
      "cell_type": "code",
      "source": [
        "# LReLU\n",
        "import time\n",
        "start_time = time.time()\n",
        "\n",
        "model.fit(train_x, train_y, epochs=50, batch_size=batch_size, validation_data=(val_x, val_y), callbacks=[checkpointer])\n",
        "print(\"--- %s seconds ---\" % (time.time() - start_time))"
      ],
      "execution_count": 0,
      "outputs": []
    },
    {
      "metadata": {
        "id": "bJiUe6bEgjHD",
        "colab_type": "code",
        "colab": {
          "base_uri": "https://localhost:8080/",
          "height": 10173
        },
        "outputId": "2e9dde87-5c65-4fe1-edb2-a01bdd26552d"
      },
      "cell_type": "code",
      "source": [
        "\n",
        "import time\n",
        "start_time = time.time()\n",
        "\n",
        "datagen = ImageDataGenerator(\n",
        "    featurewise_center=False,  # set input mean to 0 over the dataset\n",
        "    samplewise_center=False,  # set each sample mean to 0\n",
        "    featurewise_std_normalization=False,  # divide inputs by std of the dataset\n",
        "    samplewise_std_normalization=False,  # divide each input by its std\n",
        "    zca_whitening=False,  # apply ZCA whitening\n",
        "    rotation_range=30,  # randomly rotate images in the range (degrees, 0 to 180)\n",
        "    width_shift_range=0,  # randomly shift images horizontally (fraction of total width)\n",
        "    height_shift_range=0,  # randomly shift images vertically (fraction of total height)\n",
        "    horizontal_flip=False,  # randomly flip images\n",
        "    vertical_flip=False)  # randomly flip images\n",
        "\n",
        "datagen.fit(train_x)\n",
        "\n",
        "model.fit_generator(datagen.flow(train_x, train_y,\n",
        "                    batch_size=batch_size),\n",
        "                    steps_per_epoch=(train_x.shape[0]/batch_size),\n",
        "                    epochs=150,\n",
        "                    validation_data=(val_x, val_y),\n",
        "                    callbacks=[checkpointer])\n",
        "print(\"--- %s seconds ---\" % (time.time() - start_time))"
      ],
      "execution_count": 20,
      "outputs": [
        {
          "output_type": "stream",
          "text": [
            "Epoch 1/150\n",
            "224/223 [==============================] - 101s 453ms/step - loss: 1.7044 - acc: 0.3239 - val_loss: 3.0471 - val_acc: 0.2630\n",
            "\n",
            "Epoch 00001: val_acc improved from -inf to 0.26304, saving model to Model.best.hdf5\n",
            "Epoch 2/150\n",
            "224/223 [==============================] - 97s 434ms/step - loss: 1.5283 - acc: 0.4083 - val_loss: 1.6638 - val_acc: 0.3927\n",
            "\n",
            "Epoch 00002: val_acc improved from 0.26304 to 0.39275, saving model to Model.best.hdf5\n",
            "Epoch 3/150\n",
            " 14/223 [>.............................] - ETA: 1:28 - loss: 1.4641 - acc: 0.4369"
          ],
          "name": "stdout"
        },
        {
          "output_type": "stream",
          "text": [
            "224/223 [==============================] - 97s 433ms/step - loss: 1.4375 - acc: 0.4498 - val_loss: 1.4952 - val_acc: 0.4717\n",
            "\n",
            "Epoch 00003: val_acc improved from 0.39275 to 0.47169, saving model to Model.best.hdf5\n",
            "Epoch 4/150\n",
            "224/223 [==============================] - 97s 433ms/step - loss: 1.3623 - acc: 0.4783 - val_loss: 1.5423 - val_acc: 0.4642\n",
            "\n",
            "Epoch 00004: val_acc did not improve from 0.47169\n",
            "Epoch 5/150\n",
            " 28/223 [==>...........................] - ETA: 1:22 - loss: 1.3226 - acc: 0.4986"
          ],
          "name": "stdout"
        },
        {
          "output_type": "stream",
          "text": [
            "224/223 [==============================] - 97s 434ms/step - loss: 1.3189 - acc: 0.4972 - val_loss: 1.4529 - val_acc: 0.4934\n",
            "\n",
            "Epoch 00005: val_acc improved from 0.47169 to 0.49344, saving model to Model.best.hdf5\n",
            "Epoch 6/150\n",
            "224/223 [==============================] - 97s 433ms/step - loss: 1.2809 - acc: 0.5102 - val_loss: 1.3091 - val_acc: 0.5105\n",
            "\n",
            "Epoch 00006: val_acc improved from 0.49344 to 0.51046, saving model to Model.best.hdf5\n",
            "Epoch 7/150\n",
            " 28/223 [==>...........................] - ETA: 1:22 - loss: 1.2338 - acc: 0.5335"
          ],
          "name": "stdout"
        },
        {
          "output_type": "stream",
          "text": [
            "224/223 [==============================] - 97s 434ms/step - loss: 1.2459 - acc: 0.5253 - val_loss: 1.2865 - val_acc: 0.5300\n",
            "\n",
            "Epoch 00007: val_acc improved from 0.51046 to 0.52999, saving model to Model.best.hdf5\n",
            "Epoch 8/150\n",
            "224/223 [==============================] - 97s 433ms/step - loss: 1.2175 - acc: 0.5344 - val_loss: 1.2594 - val_acc: 0.5294\n",
            "\n",
            "Epoch 00008: val_acc did not improve from 0.52999\n",
            "Epoch 9/150\n",
            " 31/223 [===>..........................] - ETA: 1:21 - loss: 1.1895 - acc: 0.5481"
          ],
          "name": "stdout"
        },
        {
          "output_type": "stream",
          "text": [
            "224/223 [==============================] - 97s 433ms/step - loss: 1.1950 - acc: 0.5440 - val_loss: 1.3196 - val_acc: 0.5216\n",
            "\n",
            "Epoch 00009: val_acc did not improve from 0.52999\n",
            "Epoch 10/150\n",
            "224/223 [==============================] - 97s 433ms/step - loss: 1.1739 - acc: 0.5546 - val_loss: 1.1558 - val_acc: 0.5690\n",
            "\n",
            "Epoch 00010: val_acc improved from 0.52999 to 0.56904, saving model to Model.best.hdf5\n",
            "Epoch 11/150\n",
            " 47/223 [=====>........................] - ETA: 1:14 - loss: 1.1592 - acc: 0.5500"
          ],
          "name": "stdout"
        },
        {
          "output_type": "stream",
          "text": [
            "224/223 [==============================] - 97s 433ms/step - loss: 1.1568 - acc: 0.5586 - val_loss: 1.1759 - val_acc: 0.5651\n",
            "\n",
            "Epoch 00011: val_acc did not improve from 0.56904\n",
            "Epoch 12/150\n",
            "224/223 [==============================] - 97s 433ms/step - loss: 1.1418 - acc: 0.5635 - val_loss: 1.1396 - val_acc: 0.5766\n",
            "\n",
            "Epoch 00012: val_acc improved from 0.56904 to 0.57657, saving model to Model.best.hdf5\n",
            "Epoch 13/150\n",
            " 50/223 [=====>........................] - ETA: 1:13 - loss: 1.1273 - acc: 0.5722"
          ],
          "name": "stdout"
        },
        {
          "output_type": "stream",
          "text": [
            "224/223 [==============================] - 97s 434ms/step - loss: 1.1256 - acc: 0.5721 - val_loss: 1.1668 - val_acc: 0.5668\n",
            "\n",
            "Epoch 00013: val_acc did not improve from 0.57657\n",
            "Epoch 14/150\n",
            "224/223 [==============================] - 97s 433ms/step - loss: 1.1009 - acc: 0.5811 - val_loss: 1.1930 - val_acc: 0.5573\n",
            "\n",
            "Epoch 00014: val_acc did not improve from 0.57657\n",
            "Epoch 15/150\n",
            " 55/223 [======>.......................] - ETA: 1:10 - loss: 1.0854 - acc: 0.5797"
          ],
          "name": "stdout"
        },
        {
          "output_type": "stream",
          "text": [
            "224/223 [==============================] - 97s 434ms/step - loss: 1.0980 - acc: 0.5827 - val_loss: 1.1701 - val_acc: 0.5688\n",
            "\n",
            "Epoch 00015: val_acc did not improve from 0.57657\n",
            "Epoch 16/150\n",
            "224/223 [==============================] - 97s 433ms/step - loss: 1.0822 - acc: 0.5914 - val_loss: 1.1484 - val_acc: 0.5835\n",
            "\n",
            "Epoch 00016: val_acc improved from 0.57657 to 0.58354, saving model to Model.best.hdf5\n",
            "Epoch 17/150\n",
            " 51/223 [=====>........................] - ETA: 1:12 - loss: 1.0651 - acc: 0.5945"
          ],
          "name": "stdout"
        },
        {
          "output_type": "stream",
          "text": [
            "224/223 [==============================] - 97s 433ms/step - loss: 1.0660 - acc: 0.5960 - val_loss: 1.1198 - val_acc: 0.5891\n",
            "\n",
            "Epoch 00017: val_acc improved from 0.58354 to 0.58912, saving model to Model.best.hdf5\n",
            "Epoch 18/150\n",
            "224/223 [==============================] - 97s 433ms/step - loss: 1.0563 - acc: 0.5991 - val_loss: 1.1212 - val_acc: 0.5941\n",
            "\n",
            "Epoch 00018: val_acc improved from 0.58912 to 0.59414, saving model to Model.best.hdf5\n",
            "Epoch 19/150\n",
            " 31/223 [===>..........................] - ETA: 1:20 - loss: 1.0612 - acc: 0.6028"
          ],
          "name": "stdout"
        },
        {
          "output_type": "stream",
          "text": [
            "224/223 [==============================] - 97s 434ms/step - loss: 1.0430 - acc: 0.6069 - val_loss: 1.1609 - val_acc: 0.5838\n",
            "\n",
            "Epoch 00019: val_acc did not improve from 0.59414\n",
            "Epoch 20/150\n",
            "224/223 [==============================] - 97s 433ms/step - loss: 1.0289 - acc: 0.6129 - val_loss: 1.1641 - val_acc: 0.5799\n",
            "\n",
            "Epoch 00020: val_acc did not improve from 0.59414\n",
            "Epoch 21/150\n",
            " 51/223 [=====>........................] - ETA: 1:12 - loss: 1.0183 - acc: 0.6092"
          ],
          "name": "stdout"
        },
        {
          "output_type": "stream",
          "text": [
            "224/223 [==============================] - 97s 433ms/step - loss: 1.0268 - acc: 0.6136 - val_loss: 1.1091 - val_acc: 0.6028\n",
            "\n",
            "Epoch 00021: val_acc improved from 0.59414 to 0.60279, saving model to Model.best.hdf5\n",
            "Epoch 22/150\n",
            "224/223 [==============================] - 97s 434ms/step - loss: 1.0173 - acc: 0.6191 - val_loss: 1.1176 - val_acc: 0.5919\n",
            "\n",
            "Epoch 00022: val_acc did not improve from 0.60279\n",
            "Epoch 23/150\n",
            " 34/223 [===>..........................] - ETA: 1:19 - loss: 0.9601 - acc: 0.6406"
          ],
          "name": "stdout"
        },
        {
          "output_type": "stream",
          "text": [
            "224/223 [==============================] - 97s 433ms/step - loss: 0.9999 - acc: 0.6234 - val_loss: 1.1063 - val_acc: 0.5992\n",
            "\n",
            "Epoch 00023: val_acc did not improve from 0.60279\n",
            "Epoch 24/150\n",
            "224/223 [==============================] - 97s 433ms/step - loss: 0.9901 - acc: 0.6263 - val_loss: 1.1213 - val_acc: 0.5933\n",
            "\n",
            "Epoch 00024: val_acc did not improve from 0.60279\n",
            "Epoch 25/150\n",
            " 52/223 [=====>........................] - ETA: 1:11 - loss: 0.9564 - acc: 0.6422"
          ],
          "name": "stdout"
        },
        {
          "output_type": "stream",
          "text": [
            "224/223 [==============================] - 97s 434ms/step - loss: 0.9819 - acc: 0.6326 - val_loss: 1.0727 - val_acc: 0.6081\n",
            "\n",
            "Epoch 00025: val_acc improved from 0.60279 to 0.60809, saving model to Model.best.hdf5\n",
            "Epoch 26/150\n",
            "224/223 [==============================] - 97s 433ms/step - loss: 0.9745 - acc: 0.6334 - val_loss: 1.0705 - val_acc: 0.6123\n",
            "\n",
            "Epoch 00026: val_acc improved from 0.60809 to 0.61227, saving model to Model.best.hdf5\n",
            "Epoch 27/150\n",
            " 32/223 [===>..........................] - ETA: 1:20 - loss: 0.9476 - acc: 0.6462"
          ],
          "name": "stdout"
        },
        {
          "output_type": "stream",
          "text": [
            "224/223 [==============================] - 97s 433ms/step - loss: 0.9597 - acc: 0.6397 - val_loss: 1.1235 - val_acc: 0.5964\n",
            "\n",
            "Epoch 00027: val_acc did not improve from 0.61227\n",
            "Epoch 28/150\n",
            "224/223 [==============================] - 97s 433ms/step - loss: 0.9450 - acc: 0.6417 - val_loss: 1.0796 - val_acc: 0.6045\n",
            "\n",
            "Epoch 00028: val_acc did not improve from 0.61227\n",
            "Epoch 29/150\n",
            " 52/223 [=====>........................] - ETA: 1:12 - loss: 0.8962 - acc: 0.6575"
          ],
          "name": "stdout"
        },
        {
          "output_type": "stream",
          "text": [
            "224/223 [==============================] - 97s 434ms/step - loss: 0.9433 - acc: 0.6447 - val_loss: 1.0828 - val_acc: 0.6084\n",
            "\n",
            "Epoch 00029: val_acc did not improve from 0.61227\n",
            "Epoch 30/150\n",
            "224/223 [==============================] - 97s 433ms/step - loss: 0.9361 - acc: 0.6500 - val_loss: 1.1177 - val_acc: 0.6064\n",
            "\n",
            "Epoch 00030: val_acc did not improve from 0.61227\n",
            "Epoch 31/150\n",
            " 55/223 [======>.......................] - ETA: 1:10 - loss: 0.9211 - acc: 0.6503"
          ],
          "name": "stdout"
        },
        {
          "output_type": "stream",
          "text": [
            "224/223 [==============================] - 97s 433ms/step - loss: 0.9285 - acc: 0.6533 - val_loss: 1.1231 - val_acc: 0.6148\n",
            "\n",
            "Epoch 00031: val_acc improved from 0.61227 to 0.61478, saving model to Model.best.hdf5\n",
            "Epoch 32/150\n",
            "224/223 [==============================] - 97s 434ms/step - loss: 0.9157 - acc: 0.6569 - val_loss: 1.0536 - val_acc: 0.6237\n",
            "\n",
            "Epoch 00032: val_acc improved from 0.61478 to 0.62371, saving model to Model.best.hdf5\n",
            "Epoch 33/150\n",
            " 32/223 [===>..........................] - ETA: 1:20 - loss: 0.8796 - acc: 0.6626"
          ],
          "name": "stdout"
        },
        {
          "output_type": "stream",
          "text": [
            "224/223 [==============================] - 97s 433ms/step - loss: 0.9111 - acc: 0.6566 - val_loss: 1.0391 - val_acc: 0.6351\n",
            "\n",
            "Epoch 00033: val_acc improved from 0.62371 to 0.63515, saving model to Model.best.hdf5\n",
            "Epoch 34/150\n",
            "224/223 [==============================] - 97s 433ms/step - loss: 0.9000 - acc: 0.6607 - val_loss: 1.0769 - val_acc: 0.6279\n",
            "\n",
            "Epoch 00034: val_acc did not improve from 0.63515\n",
            "Epoch 35/150\n",
            " 31/223 [===>..........................] - ETA: 1:20 - loss: 0.8359 - acc: 0.6903"
          ],
          "name": "stdout"
        },
        {
          "output_type": "stream",
          "text": [
            "224/223 [==============================] - 97s 434ms/step - loss: 0.8856 - acc: 0.6718 - val_loss: 1.0248 - val_acc: 0.6237\n",
            "\n",
            "Epoch 00035: val_acc did not improve from 0.63515\n",
            "Epoch 36/150\n",
            "224/223 [==============================] - 97s 433ms/step - loss: 0.8776 - acc: 0.6734 - val_loss: 1.0656 - val_acc: 0.6332\n",
            "\n",
            "Epoch 00036: val_acc did not improve from 0.63515\n",
            "Epoch 37/150\n",
            " 51/223 [=====>........................] - ETA: 1:12 - loss: 0.8510 - acc: 0.6828"
          ],
          "name": "stdout"
        },
        {
          "output_type": "stream",
          "text": [
            "224/223 [==============================] - 97s 433ms/step - loss: 0.8752 - acc: 0.6730 - val_loss: 1.2167 - val_acc: 0.5958\n",
            "\n",
            "Epoch 00037: val_acc did not improve from 0.63515\n",
            "Epoch 38/150\n",
            "224/223 [==============================] - 97s 434ms/step - loss: 0.8652 - acc: 0.6772 - val_loss: 1.0447 - val_acc: 0.6257\n",
            "\n",
            "Epoch 00038: val_acc did not improve from 0.63515\n",
            "Epoch 39/150\n",
            " 55/223 [======>.......................] - ETA: 1:10 - loss: 0.8273 - acc: 0.6950"
          ],
          "name": "stdout"
        },
        {
          "output_type": "stream",
          "text": [
            "224/223 [==============================] - 97s 433ms/step - loss: 0.8513 - acc: 0.6826 - val_loss: 1.0505 - val_acc: 0.6310\n",
            "\n",
            "Epoch 00039: val_acc did not improve from 0.63515\n",
            "Epoch 40/150\n",
            "224/223 [==============================] - 97s 434ms/step - loss: 0.8567 - acc: 0.6800 - val_loss: 1.0786 - val_acc: 0.6301\n",
            "\n",
            "Epoch 00040: val_acc did not improve from 0.63515\n",
            "Epoch 41/150\n",
            " 56/223 [======>.......................] - ETA: 1:10 - loss: 0.8397 - acc: 0.6861"
          ],
          "name": "stdout"
        },
        {
          "output_type": "stream",
          "text": [
            "224/223 [==============================] - 97s 433ms/step - loss: 0.8445 - acc: 0.6865 - val_loss: 1.1278 - val_acc: 0.6273\n",
            "\n",
            "Epoch 00041: val_acc did not improve from 0.63515\n",
            "Epoch 42/150\n",
            "224/223 [==============================] - 97s 433ms/step - loss: 0.8359 - acc: 0.6904 - val_loss: 1.0880 - val_acc: 0.6234\n",
            "\n",
            "Epoch 00042: val_acc did not improve from 0.63515\n",
            "Epoch 43/150\n",
            " 56/223 [======>.......................] - ETA: 1:10 - loss: 0.8129 - acc: 0.6985"
          ],
          "name": "stdout"
        },
        {
          "output_type": "stream",
          "text": [
            "224/223 [==============================] - 97s 433ms/step - loss: 0.8261 - acc: 0.6927 - val_loss: 1.0326 - val_acc: 0.6393\n",
            "\n",
            "Epoch 00043: val_acc improved from 0.63515 to 0.63933, saving model to Model.best.hdf5\n",
            "Epoch 44/150\n",
            "224/223 [==============================] - 97s 433ms/step - loss: 0.8126 - acc: 0.7001 - val_loss: 1.0839 - val_acc: 0.6343\n",
            "\n",
            "Epoch 00044: val_acc did not improve from 0.63933\n",
            "Epoch 45/150\n",
            " 35/223 [===>..........................] - ETA: 1:17 - loss: 0.8110 - acc: 0.7008"
          ],
          "name": "stdout"
        },
        {
          "output_type": "stream",
          "text": [
            "224/223 [==============================] - 97s 434ms/step - loss: 0.8096 - acc: 0.7012 - val_loss: 1.0724 - val_acc: 0.6363\n",
            "\n",
            "Epoch 00045: val_acc did not improve from 0.63933\n",
            "Epoch 46/150\n",
            "224/223 [==============================] - 97s 433ms/step - loss: 0.8044 - acc: 0.6991 - val_loss: 1.0573 - val_acc: 0.6424\n",
            "\n",
            "Epoch 00046: val_acc improved from 0.63933 to 0.64240, saving model to Model.best.hdf5\n",
            "Epoch 47/150\n",
            " 48/223 [=====>........................] - ETA: 1:13 - loss: 0.7739 - acc: 0.7142"
          ],
          "name": "stdout"
        },
        {
          "output_type": "stream",
          "text": [
            "224/223 [==============================] - 97s 433ms/step - loss: 0.7967 - acc: 0.7027 - val_loss: 1.0671 - val_acc: 0.6363\n",
            "\n",
            "Epoch 00047: val_acc did not improve from 0.64240\n",
            "Epoch 48/150\n",
            "224/223 [==============================] - 97s 434ms/step - loss: 0.7874 - acc: 0.7069 - val_loss: 1.0598 - val_acc: 0.6382\n",
            "\n",
            "Epoch 00048: val_acc did not improve from 0.64240\n",
            "Epoch 49/150\n",
            " 54/223 [======>.......................] - ETA: 1:11 - loss: 0.7807 - acc: 0.7079"
          ],
          "name": "stdout"
        },
        {
          "output_type": "stream",
          "text": [
            "224/223 [==============================] - 97s 433ms/step - loss: 0.7791 - acc: 0.7062 - val_loss: 1.0654 - val_acc: 0.6365\n",
            "\n",
            "Epoch 00049: val_acc did not improve from 0.64240\n",
            "Epoch 50/150\n",
            "224/223 [==============================] - 97s 433ms/step - loss: 0.7809 - acc: 0.7122 - val_loss: 1.0528 - val_acc: 0.6474\n",
            "\n",
            "Epoch 00050: val_acc improved from 0.64240 to 0.64742, saving model to Model.best.hdf5\n",
            "Epoch 51/150\n",
            " 51/223 [=====>........................] - ETA: 1:12 - loss: 0.7413 - acc: 0.7253"
          ],
          "name": "stdout"
        },
        {
          "output_type": "stream",
          "text": [
            "224/223 [==============================] - 97s 433ms/step - loss: 0.7675 - acc: 0.7160 - val_loss: 1.0747 - val_acc: 0.6399\n",
            "\n",
            "Epoch 00051: val_acc did not improve from 0.64742\n",
            "Epoch 52/150\n",
            "224/223 [==============================] - 97s 433ms/step - loss: 0.7566 - acc: 0.7218 - val_loss: 1.0451 - val_acc: 0.6410\n",
            "\n",
            "Epoch 00052: val_acc did not improve from 0.64742\n",
            "Epoch 53/150\n",
            " 55/223 [======>.......................] - ETA: 1:10 - loss: 0.7224 - acc: 0.7250"
          ],
          "name": "stdout"
        },
        {
          "output_type": "stream",
          "text": [
            "224/223 [==============================] - 97s 434ms/step - loss: 0.7531 - acc: 0.7187 - val_loss: 1.0430 - val_acc: 0.6488\n",
            "\n",
            "Epoch 00053: val_acc improved from 0.64742 to 0.64881, saving model to Model.best.hdf5\n",
            "Epoch 54/150\n",
            "224/223 [==============================] - 97s 433ms/step - loss: 0.7414 - acc: 0.7243 - val_loss: 1.1460 - val_acc: 0.6257\n",
            "\n",
            "Epoch 00054: val_acc did not improve from 0.64881\n",
            "Epoch 55/150\n",
            " 35/223 [===>..........................] - ETA: 1:19 - loss: 0.7237 - acc: 0.7292"
          ],
          "name": "stdout"
        },
        {
          "output_type": "stream",
          "text": [
            "224/223 [==============================] - 97s 433ms/step - loss: 0.7444 - acc: 0.7224 - val_loss: 1.0851 - val_acc: 0.6382\n",
            "\n",
            "Epoch 00055: val_acc did not improve from 0.64881\n",
            "Epoch 56/150\n",
            "224/223 [==============================] - 97s 433ms/step - loss: 0.7387 - acc: 0.7255 - val_loss: 1.1013 - val_acc: 0.6404\n",
            "\n",
            "Epoch 00056: val_acc did not improve from 0.64881\n",
            "Epoch 57/150\n",
            " 52/223 [=====>........................] - ETA: 1:12 - loss: 0.7055 - acc: 0.7408"
          ],
          "name": "stdout"
        },
        {
          "output_type": "stream",
          "text": [
            "224/223 [==============================] - 97s 433ms/step - loss: 0.7281 - acc: 0.7301 - val_loss: 1.1183 - val_acc: 0.6259\n",
            "\n",
            "Epoch 00057: val_acc did not improve from 0.64881\n",
            "Epoch 58/150\n",
            "224/223 [==============================] - 97s 434ms/step - loss: 0.7234 - acc: 0.7323 - val_loss: 1.0582 - val_acc: 0.6519\n",
            "\n",
            "Epoch 00058: val_acc improved from 0.64881 to 0.65188, saving model to Model.best.hdf5\n",
            "Epoch 59/150\n",
            " 51/223 [=====>........................] - ETA: 1:11 - loss: 0.6826 - acc: 0.7517"
          ],
          "name": "stdout"
        },
        {
          "output_type": "stream",
          "text": [
            "224/223 [==============================] - 97s 433ms/step - loss: 0.7127 - acc: 0.7388 - val_loss: 1.1074 - val_acc: 0.6391\n",
            "\n",
            "Epoch 00059: val_acc did not improve from 0.65188\n",
            "Epoch 60/150\n",
            "224/223 [==============================] - 97s 433ms/step - loss: 0.7147 - acc: 0.7333 - val_loss: 1.0866 - val_acc: 0.6374\n",
            "\n",
            "Epoch 00060: val_acc did not improve from 0.65188\n",
            "Epoch 61/150\n",
            " 55/223 [======>.......................] - ETA: 1:10 - loss: 0.6607 - acc: 0.7582"
          ],
          "name": "stdout"
        },
        {
          "output_type": "stream",
          "text": [
            "224/223 [==============================] - 97s 433ms/step - loss: 0.6992 - acc: 0.7431 - val_loss: 1.0934 - val_acc: 0.6519\n",
            "\n",
            "Epoch 00061: val_acc did not improve from 0.65188\n",
            "Epoch 62/150\n",
            "224/223 [==============================] - 97s 433ms/step - loss: 0.6939 - acc: 0.7425 - val_loss: 1.1277 - val_acc: 0.6268\n",
            "\n",
            "Epoch 00062: val_acc did not improve from 0.65188\n",
            "Epoch 63/150\n",
            " 56/223 [======>.......................] - ETA: 1:10 - loss: 0.6721 - acc: 0.7528"
          ],
          "name": "stdout"
        },
        {
          "output_type": "stream",
          "text": [
            "224/223 [==============================] - 97s 433ms/step - loss: 0.6935 - acc: 0.7440 - val_loss: 1.0830 - val_acc: 0.6563\n",
            "\n",
            "Epoch 00063: val_acc improved from 0.65188 to 0.65635, saving model to Model.best.hdf5\n",
            "Epoch 64/150\n",
            "224/223 [==============================] - 97s 433ms/step - loss: 0.6882 - acc: 0.7476 - val_loss: 1.1098 - val_acc: 0.6438\n",
            "\n",
            "Epoch 00064: val_acc did not improve from 0.65635\n",
            "Epoch 65/150\n",
            " 35/223 [===>..........................] - ETA: 1:19 - loss: 0.6728 - acc: 0.7507"
          ],
          "name": "stdout"
        },
        {
          "output_type": "stream",
          "text": [
            "224/223 [==============================] - 97s 433ms/step - loss: 0.6738 - acc: 0.7492 - val_loss: 1.1160 - val_acc: 0.6444\n",
            "\n",
            "Epoch 00065: val_acc did not improve from 0.65635\n",
            "Epoch 66/150\n",
            "224/223 [==============================] - 97s 434ms/step - loss: 0.6793 - acc: 0.7507 - val_loss: 1.1155 - val_acc: 0.6374\n",
            "\n",
            "Epoch 00066: val_acc did not improve from 0.65635\n",
            "Epoch 67/150\n",
            " 52/223 [=====>........................] - ETA: 1:12 - loss: 0.6470 - acc: 0.7611"
          ],
          "name": "stdout"
        },
        {
          "output_type": "stream",
          "text": [
            "224/223 [==============================] - 97s 433ms/step - loss: 0.6664 - acc: 0.7540 - val_loss: 1.0919 - val_acc: 0.6435\n",
            "\n",
            "Epoch 00067: val_acc did not improve from 0.65635\n",
            "Epoch 68/150\n",
            "224/223 [==============================] - 97s 434ms/step - loss: 0.6684 - acc: 0.7555 - val_loss: 1.1153 - val_acc: 0.6421\n",
            "\n",
            "Epoch 00068: val_acc did not improve from 0.65635\n",
            "Epoch 69/150\n",
            " 55/223 [======>.......................] - ETA: 1:10 - loss: 0.6377 - acc: 0.7648"
          ],
          "name": "stdout"
        },
        {
          "output_type": "stream",
          "text": [
            "224/223 [==============================] - 97s 433ms/step - loss: 0.6563 - acc: 0.7575 - val_loss: 1.1080 - val_acc: 0.6552\n",
            "\n",
            "Epoch 00069: val_acc did not improve from 0.65635\n",
            "Epoch 70/150\n",
            "224/223 [==============================] - 97s 433ms/step - loss: 0.6604 - acc: 0.7556 - val_loss: 1.1621 - val_acc: 0.6282\n",
            "\n",
            "Epoch 00070: val_acc did not improve from 0.65635\n",
            "Epoch 71/150\n",
            " 56/223 [======>.......................] - ETA: 1:10 - loss: 0.6280 - acc: 0.7683"
          ],
          "name": "stdout"
        },
        {
          "output_type": "stream",
          "text": [
            "224/223 [==============================] - 97s 433ms/step - loss: 0.6545 - acc: 0.7585 - val_loss: 1.1653 - val_acc: 0.6245\n",
            "\n",
            "Epoch 00071: val_acc did not improve from 0.65635\n",
            "Epoch 72/150\n",
            "224/223 [==============================] - 97s 433ms/step - loss: 0.6438 - acc: 0.7629 - val_loss: 1.1192 - val_acc: 0.6449\n",
            "\n",
            "Epoch 00072: val_acc did not improve from 0.65635\n",
            "Epoch 73/150\n",
            " 56/223 [======>.......................] - ETA: 1:10 - loss: 0.6095 - acc: 0.7741"
          ],
          "name": "stdout"
        },
        {
          "output_type": "stream",
          "text": [
            "224/223 [==============================] - 97s 434ms/step - loss: 0.6396 - acc: 0.7644 - val_loss: 1.0807 - val_acc: 0.6449\n",
            "\n",
            "Epoch 00073: val_acc did not improve from 0.65635\n",
            "Epoch 74/150\n",
            "224/223 [==============================] - 97s 433ms/step - loss: 0.6311 - acc: 0.7700 - val_loss: 1.1574 - val_acc: 0.6399\n",
            "\n",
            "Epoch 00074: val_acc did not improve from 0.65635\n",
            "Epoch 75/150\n",
            " 56/223 [======>.......................] - ETA: 1:09 - loss: 0.6077 - acc: 0.7768"
          ],
          "name": "stdout"
        },
        {
          "output_type": "stream",
          "text": [
            "224/223 [==============================] - 97s 433ms/step - loss: 0.6194 - acc: 0.7709 - val_loss: 1.1302 - val_acc: 0.6505\n",
            "\n",
            "Epoch 00075: val_acc did not improve from 0.65635\n",
            "Epoch 76/150\n",
            "224/223 [==============================] - 97s 435ms/step - loss: 0.6205 - acc: 0.7693 - val_loss: 1.1807 - val_acc: 0.6374\n",
            "\n",
            "Epoch 00076: val_acc did not improve from 0.65635\n",
            "Epoch 77/150\n",
            " 56/223 [======>.......................] - ETA: 1:09 - loss: 0.6117 - acc: 0.7727"
          ],
          "name": "stdout"
        },
        {
          "output_type": "stream",
          "text": [
            "224/223 [==============================] - 97s 433ms/step - loss: 0.6191 - acc: 0.7710 - val_loss: 1.1086 - val_acc: 0.6555\n",
            "\n",
            "Epoch 00077: val_acc did not improve from 0.65635\n",
            "Epoch 78/150\n",
            "224/223 [==============================] - 97s 433ms/step - loss: 0.6149 - acc: 0.7737 - val_loss: 1.1275 - val_acc: 0.6491\n",
            "\n",
            "Epoch 00078: val_acc did not improve from 0.65635\n",
            "Epoch 79/150\n",
            " 56/223 [======>.......................] - ETA: 1:10 - loss: 0.5761 - acc: 0.7857"
          ],
          "name": "stdout"
        },
        {
          "output_type": "stream",
          "text": [
            "224/223 [==============================] - 97s 433ms/step - loss: 0.6089 - acc: 0.7739 - val_loss: 1.1165 - val_acc: 0.6552\n",
            "\n",
            "Epoch 00079: val_acc did not improve from 0.65635\n",
            "Epoch 80/150\n",
            "224/223 [==============================] - 97s 433ms/step - loss: 0.6023 - acc: 0.7787 - val_loss: 1.1182 - val_acc: 0.6533\n",
            "\n",
            "Epoch 00080: val_acc did not improve from 0.65635\n",
            "Epoch 81/150\n",
            " 56/223 [======>.......................] - ETA: 1:09 - loss: 0.5724 - acc: 0.7919"
          ],
          "name": "stdout"
        },
        {
          "output_type": "stream",
          "text": [
            "224/223 [==============================] - 97s 433ms/step - loss: 0.5985 - acc: 0.7791 - val_loss: 1.1229 - val_acc: 0.6505\n",
            "\n",
            "Epoch 00081: val_acc did not improve from 0.65635\n",
            "Epoch 82/150\n",
            "224/223 [==============================] - 97s 433ms/step - loss: 0.5936 - acc: 0.7825 - val_loss: 1.1926 - val_acc: 0.6474\n",
            "\n",
            "Epoch 00082: val_acc did not improve from 0.65635\n",
            "Epoch 83/150\n",
            " 56/223 [======>.......................] - ETA: 1:10 - loss: 0.5658 - acc: 0.7960"
          ],
          "name": "stdout"
        },
        {
          "output_type": "stream",
          "text": [
            "224/223 [==============================] - 97s 434ms/step - loss: 0.5874 - acc: 0.7840 - val_loss: 1.2097 - val_acc: 0.6374\n",
            "\n",
            "Epoch 00083: val_acc did not improve from 0.65635\n",
            "Epoch 84/150\n",
            "224/223 [==============================] - 97s 434ms/step - loss: 0.5905 - acc: 0.7808 - val_loss: 1.1377 - val_acc: 0.6527\n",
            "\n",
            "Epoch 00084: val_acc did not improve from 0.65635\n",
            "Epoch 85/150\n",
            " 56/223 [======>.......................] - ETA: 1:10 - loss: 0.5672 - acc: 0.7955"
          ],
          "name": "stdout"
        },
        {
          "output_type": "stream",
          "text": [
            "224/223 [==============================] - 97s 434ms/step - loss: 0.5816 - acc: 0.7873 - val_loss: 1.1802 - val_acc: 0.6416\n",
            "\n",
            "Epoch 00085: val_acc did not improve from 0.65635\n",
            "Epoch 86/150\n",
            "224/223 [==============================] - 97s 434ms/step - loss: 0.5769 - acc: 0.7882 - val_loss: 1.2120 - val_acc: 0.6427\n",
            "\n",
            "Epoch 00086: val_acc did not improve from 0.65635\n",
            "Epoch 87/150\n",
            " 56/223 [======>.......................] - ETA: 1:10 - loss: 0.5569 - acc: 0.7962"
          ],
          "name": "stdout"
        },
        {
          "output_type": "stream",
          "text": [
            "224/223 [==============================] - 97s 433ms/step - loss: 0.5706 - acc: 0.7909 - val_loss: 1.1822 - val_acc: 0.6410\n",
            "\n",
            "Epoch 00087: val_acc did not improve from 0.65635\n",
            "Epoch 88/150\n",
            "224/223 [==============================] - 97s 433ms/step - loss: 0.5698 - acc: 0.7903 - val_loss: 1.2227 - val_acc: 0.6357\n",
            "\n",
            "Epoch 00088: val_acc did not improve from 0.65635\n",
            "Epoch 89/150\n",
            " 56/223 [======>.......................] - ETA: 1:09 - loss: 0.5497 - acc: 0.7995"
          ],
          "name": "stdout"
        },
        {
          "output_type": "stream",
          "text": [
            "224/223 [==============================] - 97s 432ms/step - loss: 0.5681 - acc: 0.7925 - val_loss: 1.1880 - val_acc: 0.6477\n",
            "\n",
            "Epoch 00089: val_acc did not improve from 0.65635\n",
            "Epoch 90/150\n",
            "224/223 [==============================] - 97s 433ms/step - loss: 0.5597 - acc: 0.7921 - val_loss: 1.1521 - val_acc: 0.6469\n",
            "\n",
            "Epoch 00090: val_acc did not improve from 0.65635\n",
            "Epoch 91/150\n",
            " 56/223 [======>.......................] - ETA: 1:10 - loss: 0.5413 - acc: 0.8012"
          ],
          "name": "stdout"
        },
        {
          "output_type": "stream",
          "text": [
            "224/223 [==============================] - 97s 433ms/step - loss: 0.5527 - acc: 0.7957 - val_loss: 1.1886 - val_acc: 0.6483\n",
            "\n",
            "Epoch 00091: val_acc did not improve from 0.65635\n",
            "Epoch 92/150\n",
            "224/223 [==============================] - 97s 434ms/step - loss: 0.5587 - acc: 0.7938 - val_loss: 1.1519 - val_acc: 0.6550\n",
            "\n",
            "Epoch 00092: val_acc did not improve from 0.65635\n",
            "Epoch 93/150\n",
            " 56/223 [======>.......................] - ETA: 1:10 - loss: 0.5223 - acc: 0.8103"
          ],
          "name": "stdout"
        },
        {
          "output_type": "stream",
          "text": [
            "224/223 [==============================] - 97s 433ms/step - loss: 0.5459 - acc: 0.8010 - val_loss: 1.1978 - val_acc: 0.6407\n",
            "\n",
            "Epoch 00093: val_acc did not improve from 0.65635\n",
            "Epoch 94/150\n",
            "224/223 [==============================] - 97s 433ms/step - loss: 0.5545 - acc: 0.7935 - val_loss: 1.2554 - val_acc: 0.6298\n",
            "\n",
            "Epoch 00094: val_acc did not improve from 0.65635\n",
            "Epoch 95/150\n",
            " 56/223 [======>.......................] - ETA: 1:09 - loss: 0.5101 - acc: 0.8074"
          ],
          "name": "stdout"
        },
        {
          "output_type": "stream",
          "text": [
            "224/223 [==============================] - 97s 434ms/step - loss: 0.5387 - acc: 0.8014 - val_loss: 1.1957 - val_acc: 0.6463\n",
            "\n",
            "Epoch 00095: val_acc did not improve from 0.65635\n",
            "Epoch 96/150\n",
            "224/223 [==============================] - 97s 434ms/step - loss: 0.5339 - acc: 0.8051 - val_loss: 1.2470 - val_acc: 0.6416\n",
            "\n",
            "Epoch 00096: val_acc did not improve from 0.65635\n",
            "Epoch 97/150\n",
            " 56/223 [======>.......................] - ETA: 1:09 - loss: 0.5135 - acc: 0.8170"
          ],
          "name": "stdout"
        },
        {
          "output_type": "stream",
          "text": [
            "224/223 [==============================] - 97s 433ms/step - loss: 0.5342 - acc: 0.8070 - val_loss: 1.1967 - val_acc: 0.6586\n",
            "\n",
            "Epoch 00097: val_acc improved from 0.65635 to 0.65858, saving model to Model.best.hdf5\n",
            "Epoch 98/150\n",
            "224/223 [==============================] - 97s 433ms/step - loss: 0.5357 - acc: 0.8032 - val_loss: 1.1917 - val_acc: 0.6594\n",
            "\n",
            "Epoch 00098: val_acc improved from 0.65858 to 0.65941, saving model to Model.best.hdf5\n",
            "Epoch 99/150\n",
            " 32/223 [===>..........................] - ETA: 1:20 - loss: 0.5077 - acc: 0.8137"
          ],
          "name": "stdout"
        },
        {
          "output_type": "stream",
          "text": [
            "224/223 [==============================] - 97s 433ms/step - loss: 0.5263 - acc: 0.8079 - val_loss: 1.2191 - val_acc: 0.6639\n",
            "\n",
            "Epoch 00099: val_acc improved from 0.65941 to 0.66388, saving model to Model.best.hdf5\n",
            "Epoch 100/150\n",
            "224/223 [==============================] - 97s 433ms/step - loss: 0.5244 - acc: 0.8073 - val_loss: 1.2022 - val_acc: 0.6508\n",
            "\n",
            "Epoch 00100: val_acc did not improve from 0.66388\n",
            "Epoch 101/150\n",
            " 30/223 [===>..........................] - ETA: 1:20 - loss: 0.5125 - acc: 0.8161"
          ],
          "name": "stdout"
        },
        {
          "output_type": "stream",
          "text": [
            "224/223 [==============================] - 97s 433ms/step - loss: 0.5150 - acc: 0.8120 - val_loss: 1.2209 - val_acc: 0.6460\n",
            "\n",
            "Epoch 00101: val_acc did not improve from 0.66388\n",
            "Epoch 102/150\n",
            "224/223 [==============================] - 97s 434ms/step - loss: 0.5188 - acc: 0.8091 - val_loss: 1.1859 - val_acc: 0.6605\n",
            "\n",
            "Epoch 00102: val_acc did not improve from 0.66388\n",
            "Epoch 103/150\n",
            " 50/223 [=====>........................] - ETA: 1:12 - loss: 0.4816 - acc: 0.8269"
          ],
          "name": "stdout"
        },
        {
          "output_type": "stream",
          "text": [
            "224/223 [==============================] - 97s 433ms/step - loss: 0.5152 - acc: 0.8107 - val_loss: 1.2296 - val_acc: 0.6566\n",
            "\n",
            "Epoch 00103: val_acc did not improve from 0.66388\n",
            "Epoch 104/150\n",
            "224/223 [==============================] - 97s 433ms/step - loss: 0.5229 - acc: 0.8095 - val_loss: 1.2186 - val_acc: 0.6541\n",
            "\n",
            "Epoch 00104: val_acc did not improve from 0.66388\n",
            "Epoch 105/150\n",
            " 54/223 [======>.......................] - ETA: 1:11 - loss: 0.4736 - acc: 0.8267"
          ],
          "name": "stdout"
        },
        {
          "output_type": "stream",
          "text": [
            "224/223 [==============================] - 97s 433ms/step - loss: 0.5010 - acc: 0.8176 - val_loss: 1.2162 - val_acc: 0.6591\n",
            "\n",
            "Epoch 00105: val_acc did not improve from 0.66388\n",
            "Epoch 106/150\n",
            "224/223 [==============================] - 97s 433ms/step - loss: 0.5046 - acc: 0.8129 - val_loss: 1.2241 - val_acc: 0.6594\n",
            "\n",
            "Epoch 00106: val_acc did not improve from 0.66388\n",
            "Epoch 107/150\n",
            " 55/223 [======>.......................] - ETA: 1:11 - loss: 0.4678 - acc: 0.8291"
          ],
          "name": "stdout"
        },
        {
          "output_type": "stream",
          "text": [
            "224/223 [==============================] - 97s 433ms/step - loss: 0.5017 - acc: 0.8160 - val_loss: 1.2421 - val_acc: 0.6603\n",
            "\n",
            "Epoch 00107: val_acc did not improve from 0.66388\n",
            "Epoch 108/150\n",
            "224/223 [==============================] - 97s 433ms/step - loss: 0.4852 - acc: 0.8233 - val_loss: 1.3107 - val_acc: 0.6477\n",
            "\n",
            "Epoch 00108: val_acc did not improve from 0.66388\n",
            "Epoch 109/150\n",
            " 55/223 [======>.......................] - ETA: 1:10 - loss: 0.4624 - acc: 0.8324"
          ],
          "name": "stdout"
        },
        {
          "output_type": "stream",
          "text": [
            "224/223 [==============================] - 97s 433ms/step - loss: 0.4952 - acc: 0.8195 - val_loss: 1.2292 - val_acc: 0.6591\n",
            "\n",
            "Epoch 00109: val_acc did not improve from 0.66388\n",
            "Epoch 110/150\n",
            "224/223 [==============================] - 97s 434ms/step - loss: 0.4894 - acc: 0.8186 - val_loss: 1.2539 - val_acc: 0.6580\n",
            "\n",
            "Epoch 00110: val_acc did not improve from 0.66388\n",
            "Epoch 111/150\n",
            " 55/223 [======>.......................] - ETA: 1:10 - loss: 0.4944 - acc: 0.8213"
          ],
          "name": "stdout"
        },
        {
          "output_type": "stream",
          "text": [
            "224/223 [==============================] - 97s 433ms/step - loss: 0.4945 - acc: 0.8195 - val_loss: 1.2570 - val_acc: 0.6597\n",
            "\n",
            "Epoch 00111: val_acc did not improve from 0.66388\n",
            "Epoch 112/150\n",
            "224/223 [==============================] - 97s 433ms/step - loss: 0.4877 - acc: 0.8224 - val_loss: 1.2153 - val_acc: 0.6616\n",
            "\n",
            "Epoch 00112: val_acc did not improve from 0.66388\n",
            "Epoch 113/150\n",
            " 55/223 [======>.......................] - ETA: 1:10 - loss: 0.4586 - acc: 0.8266"
          ],
          "name": "stdout"
        },
        {
          "output_type": "stream",
          "text": [
            "224/223 [==============================] - 97s 433ms/step - loss: 0.4795 - acc: 0.8226 - val_loss: 1.2404 - val_acc: 0.6600\n",
            "\n",
            "Epoch 00113: val_acc did not improve from 0.66388\n",
            "Epoch 114/150\n",
            "224/223 [==============================] - 97s 432ms/step - loss: 0.4711 - acc: 0.8291 - val_loss: 1.2554 - val_acc: 0.6611\n",
            "\n",
            "Epoch 00114: val_acc did not improve from 0.66388\n",
            "Epoch 115/150\n",
            " 55/223 [======>.......................] - ETA: 1:10 - loss: 0.4584 - acc: 0.8283"
          ],
          "name": "stdout"
        },
        {
          "output_type": "stream",
          "text": [
            "224/223 [==============================] - 97s 433ms/step - loss: 0.4789 - acc: 0.8259 - val_loss: 1.2726 - val_acc: 0.6510\n",
            "\n",
            "Epoch 00115: val_acc did not improve from 0.66388\n",
            "Epoch 116/150\n",
            " 98/223 [============>.................] - ETA: 52s - loss: 0.4623 - acc: 0.8309"
          ],
          "name": "stdout"
        },
        {
          "output_type": "error",
          "ename": "KeyboardInterrupt",
          "evalue": "ignored",
          "traceback": [
            "\u001b[0;31m---------------------------------------------------------------------------\u001b[0m",
            "\u001b[0;31mKeyboardInterrupt\u001b[0m                         Traceback (most recent call last)",
            "\u001b[0;32m<ipython-input-20-807d5c5589c0>\u001b[0m in \u001b[0;36m<module>\u001b[0;34m()\u001b[0m\n\u001b[1;32m     22\u001b[0m                     \u001b[0mepochs\u001b[0m\u001b[0;34m=\u001b[0m\u001b[0;36m150\u001b[0m\u001b[0;34m,\u001b[0m\u001b[0;34m\u001b[0m\u001b[0m\n\u001b[1;32m     23\u001b[0m                     \u001b[0mvalidation_data\u001b[0m\u001b[0;34m=\u001b[0m\u001b[0;34m(\u001b[0m\u001b[0mval_x\u001b[0m\u001b[0;34m,\u001b[0m \u001b[0mval_y\u001b[0m\u001b[0;34m)\u001b[0m\u001b[0;34m,\u001b[0m\u001b[0;34m\u001b[0m\u001b[0m\n\u001b[0;32m---> 24\u001b[0;31m                     callbacks=[checkpointer])\n\u001b[0m\u001b[1;32m     25\u001b[0m \u001b[0mprint\u001b[0m\u001b[0;34m(\u001b[0m\u001b[0;34m\"--- %s seconds ---\"\u001b[0m \u001b[0;34m%\u001b[0m \u001b[0;34m(\u001b[0m\u001b[0mtime\u001b[0m\u001b[0;34m.\u001b[0m\u001b[0mtime\u001b[0m\u001b[0;34m(\u001b[0m\u001b[0;34m)\u001b[0m \u001b[0;34m-\u001b[0m \u001b[0mstart_time\u001b[0m\u001b[0;34m)\u001b[0m\u001b[0;34m)\u001b[0m\u001b[0;34m\u001b[0m\u001b[0m\n",
            "\u001b[0;32m/usr/local/lib/python3.6/dist-packages/keras/legacy/interfaces.py\u001b[0m in \u001b[0;36mwrapper\u001b[0;34m(*args, **kwargs)\u001b[0m\n\u001b[1;32m     89\u001b[0m                 warnings.warn('Update your `' + object_name +\n\u001b[1;32m     90\u001b[0m                               '` call to the Keras 2 API: ' + signature, stacklevel=2)\n\u001b[0;32m---> 91\u001b[0;31m             \u001b[0;32mreturn\u001b[0m \u001b[0mfunc\u001b[0m\u001b[0;34m(\u001b[0m\u001b[0;34m*\u001b[0m\u001b[0margs\u001b[0m\u001b[0;34m,\u001b[0m \u001b[0;34m**\u001b[0m\u001b[0mkwargs\u001b[0m\u001b[0;34m)\u001b[0m\u001b[0;34m\u001b[0m\u001b[0m\n\u001b[0m\u001b[1;32m     92\u001b[0m         \u001b[0mwrapper\u001b[0m\u001b[0;34m.\u001b[0m\u001b[0m_original_function\u001b[0m \u001b[0;34m=\u001b[0m \u001b[0mfunc\u001b[0m\u001b[0;34m\u001b[0m\u001b[0m\n\u001b[1;32m     93\u001b[0m         \u001b[0;32mreturn\u001b[0m \u001b[0mwrapper\u001b[0m\u001b[0;34m\u001b[0m\u001b[0m\n",
            "\u001b[0;32m/usr/local/lib/python3.6/dist-packages/keras/models.py\u001b[0m in \u001b[0;36mfit_generator\u001b[0;34m(self, generator, steps_per_epoch, epochs, verbose, callbacks, validation_data, validation_steps, class_weight, max_queue_size, workers, use_multiprocessing, shuffle, initial_epoch)\u001b[0m\n\u001b[1;32m   1313\u001b[0m                                         \u001b[0muse_multiprocessing\u001b[0m\u001b[0;34m=\u001b[0m\u001b[0muse_multiprocessing\u001b[0m\u001b[0;34m,\u001b[0m\u001b[0;34m\u001b[0m\u001b[0m\n\u001b[1;32m   1314\u001b[0m                                         \u001b[0mshuffle\u001b[0m\u001b[0;34m=\u001b[0m\u001b[0mshuffle\u001b[0m\u001b[0;34m,\u001b[0m\u001b[0;34m\u001b[0m\u001b[0m\n\u001b[0;32m-> 1315\u001b[0;31m                                         initial_epoch=initial_epoch)\n\u001b[0m\u001b[1;32m   1316\u001b[0m \u001b[0;34m\u001b[0m\u001b[0m\n\u001b[1;32m   1317\u001b[0m     \u001b[0;34m@\u001b[0m\u001b[0minterfaces\u001b[0m\u001b[0;34m.\u001b[0m\u001b[0mlegacy_generator_methods_support\u001b[0m\u001b[0;34m\u001b[0m\u001b[0m\n",
            "\u001b[0;32m/usr/local/lib/python3.6/dist-packages/keras/legacy/interfaces.py\u001b[0m in \u001b[0;36mwrapper\u001b[0;34m(*args, **kwargs)\u001b[0m\n\u001b[1;32m     89\u001b[0m                 warnings.warn('Update your `' + object_name +\n\u001b[1;32m     90\u001b[0m                               '` call to the Keras 2 API: ' + signature, stacklevel=2)\n\u001b[0;32m---> 91\u001b[0;31m             \u001b[0;32mreturn\u001b[0m \u001b[0mfunc\u001b[0m\u001b[0;34m(\u001b[0m\u001b[0;34m*\u001b[0m\u001b[0margs\u001b[0m\u001b[0;34m,\u001b[0m \u001b[0;34m**\u001b[0m\u001b[0mkwargs\u001b[0m\u001b[0;34m)\u001b[0m\u001b[0;34m\u001b[0m\u001b[0m\n\u001b[0m\u001b[1;32m     92\u001b[0m         \u001b[0mwrapper\u001b[0m\u001b[0;34m.\u001b[0m\u001b[0m_original_function\u001b[0m \u001b[0;34m=\u001b[0m \u001b[0mfunc\u001b[0m\u001b[0;34m\u001b[0m\u001b[0m\n\u001b[1;32m     93\u001b[0m         \u001b[0;32mreturn\u001b[0m \u001b[0mwrapper\u001b[0m\u001b[0;34m\u001b[0m\u001b[0m\n",
            "\u001b[0;32m/usr/local/lib/python3.6/dist-packages/keras/engine/training.py\u001b[0m in \u001b[0;36mfit_generator\u001b[0;34m(self, generator, steps_per_epoch, epochs, verbose, callbacks, validation_data, validation_steps, class_weight, max_queue_size, workers, use_multiprocessing, shuffle, initial_epoch)\u001b[0m\n\u001b[1;32m   2228\u001b[0m                     outs = self.train_on_batch(x, y,\n\u001b[1;32m   2229\u001b[0m                                                \u001b[0msample_weight\u001b[0m\u001b[0;34m=\u001b[0m\u001b[0msample_weight\u001b[0m\u001b[0;34m,\u001b[0m\u001b[0;34m\u001b[0m\u001b[0m\n\u001b[0;32m-> 2230\u001b[0;31m                                                class_weight=class_weight)\n\u001b[0m\u001b[1;32m   2231\u001b[0m \u001b[0;34m\u001b[0m\u001b[0m\n\u001b[1;32m   2232\u001b[0m                     \u001b[0;32mif\u001b[0m \u001b[0;32mnot\u001b[0m \u001b[0misinstance\u001b[0m\u001b[0;34m(\u001b[0m\u001b[0mouts\u001b[0m\u001b[0;34m,\u001b[0m \u001b[0mlist\u001b[0m\u001b[0;34m)\u001b[0m\u001b[0;34m:\u001b[0m\u001b[0;34m\u001b[0m\u001b[0m\n",
            "\u001b[0;32m/usr/local/lib/python3.6/dist-packages/keras/engine/training.py\u001b[0m in \u001b[0;36mtrain_on_batch\u001b[0;34m(self, x, y, sample_weight, class_weight)\u001b[0m\n\u001b[1;32m   1881\u001b[0m             \u001b[0mins\u001b[0m \u001b[0;34m=\u001b[0m \u001b[0mx\u001b[0m \u001b[0;34m+\u001b[0m \u001b[0my\u001b[0m \u001b[0;34m+\u001b[0m \u001b[0msample_weights\u001b[0m\u001b[0;34m\u001b[0m\u001b[0m\n\u001b[1;32m   1882\u001b[0m         \u001b[0mself\u001b[0m\u001b[0;34m.\u001b[0m\u001b[0m_make_train_function\u001b[0m\u001b[0;34m(\u001b[0m\u001b[0;34m)\u001b[0m\u001b[0;34m\u001b[0m\u001b[0m\n\u001b[0;32m-> 1883\u001b[0;31m         \u001b[0moutputs\u001b[0m \u001b[0;34m=\u001b[0m \u001b[0mself\u001b[0m\u001b[0;34m.\u001b[0m\u001b[0mtrain_function\u001b[0m\u001b[0;34m(\u001b[0m\u001b[0mins\u001b[0m\u001b[0;34m)\u001b[0m\u001b[0;34m\u001b[0m\u001b[0m\n\u001b[0m\u001b[1;32m   1884\u001b[0m         \u001b[0;32mif\u001b[0m \u001b[0mlen\u001b[0m\u001b[0;34m(\u001b[0m\u001b[0moutputs\u001b[0m\u001b[0;34m)\u001b[0m \u001b[0;34m==\u001b[0m \u001b[0;36m1\u001b[0m\u001b[0;34m:\u001b[0m\u001b[0;34m\u001b[0m\u001b[0m\n\u001b[1;32m   1885\u001b[0m             \u001b[0;32mreturn\u001b[0m \u001b[0moutputs\u001b[0m\u001b[0;34m[\u001b[0m\u001b[0;36m0\u001b[0m\u001b[0;34m]\u001b[0m\u001b[0;34m\u001b[0m\u001b[0m\n",
            "\u001b[0;32m/usr/local/lib/python3.6/dist-packages/keras/backend/tensorflow_backend.py\u001b[0m in \u001b[0;36m__call__\u001b[0;34m(self, inputs)\u001b[0m\n\u001b[1;32m   2480\u001b[0m         \u001b[0msession\u001b[0m \u001b[0;34m=\u001b[0m \u001b[0mget_session\u001b[0m\u001b[0;34m(\u001b[0m\u001b[0;34m)\u001b[0m\u001b[0;34m\u001b[0m\u001b[0m\n\u001b[1;32m   2481\u001b[0m         updated = session.run(fetches=fetches, feed_dict=feed_dict,\n\u001b[0;32m-> 2482\u001b[0;31m                               **self.session_kwargs)\n\u001b[0m\u001b[1;32m   2483\u001b[0m         \u001b[0;32mreturn\u001b[0m \u001b[0mupdated\u001b[0m\u001b[0;34m[\u001b[0m\u001b[0;34m:\u001b[0m\u001b[0mlen\u001b[0m\u001b[0;34m(\u001b[0m\u001b[0mself\u001b[0m\u001b[0;34m.\u001b[0m\u001b[0moutputs\u001b[0m\u001b[0;34m)\u001b[0m\u001b[0;34m]\u001b[0m\u001b[0;34m\u001b[0m\u001b[0m\n\u001b[1;32m   2484\u001b[0m \u001b[0;34m\u001b[0m\u001b[0m\n",
            "\u001b[0;32m/usr/local/lib/python3.6/dist-packages/tensorflow/python/client/session.py\u001b[0m in \u001b[0;36mrun\u001b[0;34m(self, fetches, feed_dict, options, run_metadata)\u001b[0m\n\u001b[1;32m    898\u001b[0m     \u001b[0;32mtry\u001b[0m\u001b[0;34m:\u001b[0m\u001b[0;34m\u001b[0m\u001b[0m\n\u001b[1;32m    899\u001b[0m       result = self._run(None, fetches, feed_dict, options_ptr,\n\u001b[0;32m--> 900\u001b[0;31m                          run_metadata_ptr)\n\u001b[0m\u001b[1;32m    901\u001b[0m       \u001b[0;32mif\u001b[0m \u001b[0mrun_metadata\u001b[0m\u001b[0;34m:\u001b[0m\u001b[0;34m\u001b[0m\u001b[0m\n\u001b[1;32m    902\u001b[0m         \u001b[0mproto_data\u001b[0m \u001b[0;34m=\u001b[0m \u001b[0mtf_session\u001b[0m\u001b[0;34m.\u001b[0m\u001b[0mTF_GetBuffer\u001b[0m\u001b[0;34m(\u001b[0m\u001b[0mrun_metadata_ptr\u001b[0m\u001b[0;34m)\u001b[0m\u001b[0;34m\u001b[0m\u001b[0m\n",
            "\u001b[0;32m/usr/local/lib/python3.6/dist-packages/tensorflow/python/client/session.py\u001b[0m in \u001b[0;36m_run\u001b[0;34m(self, handle, fetches, feed_dict, options, run_metadata)\u001b[0m\n\u001b[1;32m   1133\u001b[0m     \u001b[0;32mif\u001b[0m \u001b[0mfinal_fetches\u001b[0m \u001b[0;32mor\u001b[0m \u001b[0mfinal_targets\u001b[0m \u001b[0;32mor\u001b[0m \u001b[0;34m(\u001b[0m\u001b[0mhandle\u001b[0m \u001b[0;32mand\u001b[0m \u001b[0mfeed_dict_tensor\u001b[0m\u001b[0;34m)\u001b[0m\u001b[0;34m:\u001b[0m\u001b[0;34m\u001b[0m\u001b[0m\n\u001b[1;32m   1134\u001b[0m       results = self._do_run(handle, final_targets, final_fetches,\n\u001b[0;32m-> 1135\u001b[0;31m                              feed_dict_tensor, options, run_metadata)\n\u001b[0m\u001b[1;32m   1136\u001b[0m     \u001b[0;32melse\u001b[0m\u001b[0;34m:\u001b[0m\u001b[0;34m\u001b[0m\u001b[0m\n\u001b[1;32m   1137\u001b[0m       \u001b[0mresults\u001b[0m \u001b[0;34m=\u001b[0m \u001b[0;34m[\u001b[0m\u001b[0;34m]\u001b[0m\u001b[0;34m\u001b[0m\u001b[0m\n",
            "\u001b[0;32m/usr/local/lib/python3.6/dist-packages/tensorflow/python/client/session.py\u001b[0m in \u001b[0;36m_do_run\u001b[0;34m(self, handle, target_list, fetch_list, feed_dict, options, run_metadata)\u001b[0m\n\u001b[1;32m   1314\u001b[0m     \u001b[0;32mif\u001b[0m \u001b[0mhandle\u001b[0m \u001b[0;32mis\u001b[0m \u001b[0;32mNone\u001b[0m\u001b[0;34m:\u001b[0m\u001b[0;34m\u001b[0m\u001b[0m\n\u001b[1;32m   1315\u001b[0m       return self._do_call(_run_fn, feeds, fetches, targets, options,\n\u001b[0;32m-> 1316\u001b[0;31m                            run_metadata)\n\u001b[0m\u001b[1;32m   1317\u001b[0m     \u001b[0;32melse\u001b[0m\u001b[0;34m:\u001b[0m\u001b[0;34m\u001b[0m\u001b[0m\n\u001b[1;32m   1318\u001b[0m       \u001b[0;32mreturn\u001b[0m \u001b[0mself\u001b[0m\u001b[0;34m.\u001b[0m\u001b[0m_do_call\u001b[0m\u001b[0;34m(\u001b[0m\u001b[0m_prun_fn\u001b[0m\u001b[0;34m,\u001b[0m \u001b[0mhandle\u001b[0m\u001b[0;34m,\u001b[0m \u001b[0mfeeds\u001b[0m\u001b[0;34m,\u001b[0m \u001b[0mfetches\u001b[0m\u001b[0;34m)\u001b[0m\u001b[0;34m\u001b[0m\u001b[0m\n",
            "\u001b[0;32m/usr/local/lib/python3.6/dist-packages/tensorflow/python/client/session.py\u001b[0m in \u001b[0;36m_do_call\u001b[0;34m(self, fn, *args)\u001b[0m\n\u001b[1;32m   1320\u001b[0m   \u001b[0;32mdef\u001b[0m \u001b[0m_do_call\u001b[0m\u001b[0;34m(\u001b[0m\u001b[0mself\u001b[0m\u001b[0;34m,\u001b[0m \u001b[0mfn\u001b[0m\u001b[0;34m,\u001b[0m \u001b[0;34m*\u001b[0m\u001b[0margs\u001b[0m\u001b[0;34m)\u001b[0m\u001b[0;34m:\u001b[0m\u001b[0;34m\u001b[0m\u001b[0m\n\u001b[1;32m   1321\u001b[0m     \u001b[0;32mtry\u001b[0m\u001b[0;34m:\u001b[0m\u001b[0;34m\u001b[0m\u001b[0m\n\u001b[0;32m-> 1322\u001b[0;31m       \u001b[0;32mreturn\u001b[0m \u001b[0mfn\u001b[0m\u001b[0;34m(\u001b[0m\u001b[0;34m*\u001b[0m\u001b[0margs\u001b[0m\u001b[0;34m)\u001b[0m\u001b[0;34m\u001b[0m\u001b[0m\n\u001b[0m\u001b[1;32m   1323\u001b[0m     \u001b[0;32mexcept\u001b[0m \u001b[0merrors\u001b[0m\u001b[0;34m.\u001b[0m\u001b[0mOpError\u001b[0m \u001b[0;32mas\u001b[0m \u001b[0me\u001b[0m\u001b[0;34m:\u001b[0m\u001b[0;34m\u001b[0m\u001b[0m\n\u001b[1;32m   1324\u001b[0m       \u001b[0mmessage\u001b[0m \u001b[0;34m=\u001b[0m \u001b[0mcompat\u001b[0m\u001b[0;34m.\u001b[0m\u001b[0mas_text\u001b[0m\u001b[0;34m(\u001b[0m\u001b[0me\u001b[0m\u001b[0;34m.\u001b[0m\u001b[0mmessage\u001b[0m\u001b[0;34m)\u001b[0m\u001b[0;34m\u001b[0m\u001b[0m\n",
            "\u001b[0;32m/usr/local/lib/python3.6/dist-packages/tensorflow/python/client/session.py\u001b[0m in \u001b[0;36m_run_fn\u001b[0;34m(feed_dict, fetch_list, target_list, options, run_metadata)\u001b[0m\n\u001b[1;32m   1305\u001b[0m       \u001b[0mself\u001b[0m\u001b[0;34m.\u001b[0m\u001b[0m_extend_graph\u001b[0m\u001b[0;34m(\u001b[0m\u001b[0;34m)\u001b[0m\u001b[0;34m\u001b[0m\u001b[0m\n\u001b[1;32m   1306\u001b[0m       return self._call_tf_sessionrun(\n\u001b[0;32m-> 1307\u001b[0;31m           options, feed_dict, fetch_list, target_list, run_metadata)\n\u001b[0m\u001b[1;32m   1308\u001b[0m \u001b[0;34m\u001b[0m\u001b[0m\n\u001b[1;32m   1309\u001b[0m     \u001b[0;32mdef\u001b[0m \u001b[0m_prun_fn\u001b[0m\u001b[0;34m(\u001b[0m\u001b[0mhandle\u001b[0m\u001b[0;34m,\u001b[0m \u001b[0mfeed_dict\u001b[0m\u001b[0;34m,\u001b[0m \u001b[0mfetch_list\u001b[0m\u001b[0;34m)\u001b[0m\u001b[0;34m:\u001b[0m\u001b[0;34m\u001b[0m\u001b[0m\n",
            "\u001b[0;32m/usr/local/lib/python3.6/dist-packages/tensorflow/python/client/session.py\u001b[0m in \u001b[0;36m_call_tf_sessionrun\u001b[0;34m(self, options, feed_dict, fetch_list, target_list, run_metadata)\u001b[0m\n\u001b[1;32m   1407\u001b[0m       return tf_session.TF_SessionRun_wrapper(\n\u001b[1;32m   1408\u001b[0m           \u001b[0mself\u001b[0m\u001b[0;34m.\u001b[0m\u001b[0m_session\u001b[0m\u001b[0;34m,\u001b[0m \u001b[0moptions\u001b[0m\u001b[0;34m,\u001b[0m \u001b[0mfeed_dict\u001b[0m\u001b[0;34m,\u001b[0m \u001b[0mfetch_list\u001b[0m\u001b[0;34m,\u001b[0m \u001b[0mtarget_list\u001b[0m\u001b[0;34m,\u001b[0m\u001b[0;34m\u001b[0m\u001b[0m\n\u001b[0;32m-> 1409\u001b[0;31m           run_metadata)\n\u001b[0m\u001b[1;32m   1410\u001b[0m     \u001b[0;32melse\u001b[0m\u001b[0;34m:\u001b[0m\u001b[0;34m\u001b[0m\u001b[0m\n\u001b[1;32m   1411\u001b[0m       \u001b[0;32mwith\u001b[0m \u001b[0merrors\u001b[0m\u001b[0;34m.\u001b[0m\u001b[0mraise_exception_on_not_ok_status\u001b[0m\u001b[0;34m(\u001b[0m\u001b[0;34m)\u001b[0m \u001b[0;32mas\u001b[0m \u001b[0mstatus\u001b[0m\u001b[0;34m:\u001b[0m\u001b[0;34m\u001b[0m\u001b[0m\n",
            "\u001b[0;31mKeyboardInterrupt\u001b[0m: "
          ]
        }
      ]
    },
    {
      "metadata": {
        "id": "WMaPXKT8FSGf",
        "colab_type": "code",
        "colab": {
          "base_uri": "https://localhost:8080/",
          "height": 65
        },
        "outputId": "a0d5cdf5-008e-4b13-cf13-11adae5e0d85"
      },
      "cell_type": "code",
      "source": [
        "celebanger = Image.open(\"celeb_fer1.jpg\")\n",
        "\n",
        "celebanger = celebanger.convert('L')\n",
        "celebanger = celebanger.resize((48,48))\n",
        "from IPython.display import display\n",
        "display(celebanger)"
      ],
      "execution_count": 0,
      "outputs": [
        {
          "output_type": "display_data",
          "data": {
            "image/png": "[encoded data removed]",
            "text/plain": [
              "<PIL.Image.Image image mode=L size=48x48 at 0x7FACA5BBC668>"
            ]
          },
          "metadata": {
            "tags": []
          }
        }
      ]
    },
    {
      "metadata": {
        "id": "5AAzrfWFHGAP",
        "colab_type": "code",
        "colab": {
          "base_uri": "https://localhost:8080/",
          "height": 35
        },
        "outputId": "5450a033-4373-4e4e-ce27-c7df896f16d9"
      },
      "cell_type": "code",
      "source": [
        "celeb_img_np=np.asarray(celebanger)#.getdata()).reshape(48, 48, 1)\n",
        "celeb_img_np = celeb_img_np.reshape(48, 48, 1)\n",
        "print(celeb_img_np.shape)\n",
        "celeb_img_np = celeb_img_np / 255.0\n",
        "celeb_img_np = celeb_img_np - 0.5\n",
        "celeb_img_np = celeb_img_np * 2"
      ],
      "execution_count": 0,
      "outputs": [
        {
          "output_type": "stream",
          "text": [
            "(48, 48, 1)\n"
          ],
          "name": "stdout"
        }
      ]
    },
    {
      "metadata": {
        "id": "2LmFcuMmHfbr",
        "colab_type": "code",
        "colab": {
          "base_uri": "https://localhost:8080/",
          "height": 627
        },
        "outputId": "501e112b-6432-4e48-e550-b9a94dd29362"
      },
      "cell_type": "code",
      "source": [
        "print(celeb_img_np.shape)\n",
        "y = model.predict(celeb_img_np)\n",
        "print(y)"
      ],
      "execution_count": 0,
      "outputs": [
        {
          "output_type": "stream",
          "text": [
            "(48, 48, 1)\n"
          ],
          "name": "stdout"
        },
        {
          "output_type": "error",
          "ename": "ValueError",
          "evalue": "ignored",
          "traceback": [
            "\u001b[0;31m---------------------------------------------------------------------------\u001b[0m",
            "\u001b[0;31mValueError\u001b[0m                                Traceback (most recent call last)",
            "\u001b[0;32m<ipython-input-48-edcd21ba8eb8>\u001b[0m in \u001b[0;36m<module>\u001b[0;34m()\u001b[0m\n\u001b[1;32m      1\u001b[0m \u001b[0mprint\u001b[0m\u001b[0;34m(\u001b[0m\u001b[0mceleb_img_np\u001b[0m\u001b[0;34m.\u001b[0m\u001b[0mshape\u001b[0m\u001b[0;34m)\u001b[0m\u001b[0;34m\u001b[0m\u001b[0m\n\u001b[0;32m----> 2\u001b[0;31m \u001b[0my\u001b[0m \u001b[0;34m=\u001b[0m \u001b[0mmodel\u001b[0m\u001b[0;34m.\u001b[0m\u001b[0mpredict\u001b[0m\u001b[0;34m(\u001b[0m\u001b[0mceleb_img_np\u001b[0m\u001b[0;34m)\u001b[0m\u001b[0;34m\u001b[0m\u001b[0m\n\u001b[0m\u001b[1;32m      3\u001b[0m \u001b[0mprint\u001b[0m\u001b[0;34m(\u001b[0m\u001b[0my\u001b[0m\u001b[0;34m)\u001b[0m\u001b[0;34m\u001b[0m\u001b[0m\n",
            "\u001b[0;32m/usr/local/lib/python3.6/dist-packages/keras/models.py\u001b[0m in \u001b[0;36mpredict\u001b[0;34m(self, x, batch_size, verbose, steps)\u001b[0m\n\u001b[1;32m   1062\u001b[0m             \u001b[0mself\u001b[0m\u001b[0;34m.\u001b[0m\u001b[0mbuild\u001b[0m\u001b[0;34m(\u001b[0m\u001b[0;34m)\u001b[0m\u001b[0;34m\u001b[0m\u001b[0m\n\u001b[1;32m   1063\u001b[0m         return self.model.predict(x, batch_size=batch_size, verbose=verbose,\n\u001b[0;32m-> 1064\u001b[0;31m                                   steps=steps)\n\u001b[0m\u001b[1;32m   1065\u001b[0m \u001b[0;34m\u001b[0m\u001b[0m\n\u001b[1;32m   1066\u001b[0m     \u001b[0;32mdef\u001b[0m \u001b[0mpredict_on_batch\u001b[0m\u001b[0;34m(\u001b[0m\u001b[0mself\u001b[0m\u001b[0;34m,\u001b[0m \u001b[0mx\u001b[0m\u001b[0;34m)\u001b[0m\u001b[0;34m:\u001b[0m\u001b[0;34m\u001b[0m\u001b[0m\n",
            "\u001b[0;32m/usr/local/lib/python3.6/dist-packages/keras/engine/training.py\u001b[0m in \u001b[0;36mpredict\u001b[0;34m(self, x, batch_size, verbose, steps)\u001b[0m\n\u001b[1;32m   1815\u001b[0m         x = _standardize_input_data(x, self._feed_input_names,\n\u001b[1;32m   1816\u001b[0m                                     \u001b[0mself\u001b[0m\u001b[0;34m.\u001b[0m\u001b[0m_feed_input_shapes\u001b[0m\u001b[0;34m,\u001b[0m\u001b[0;34m\u001b[0m\u001b[0m\n\u001b[0;32m-> 1817\u001b[0;31m                                     check_batch_axis=False)\n\u001b[0m\u001b[1;32m   1818\u001b[0m         \u001b[0;32mif\u001b[0m \u001b[0mself\u001b[0m\u001b[0;34m.\u001b[0m\u001b[0mstateful\u001b[0m\u001b[0;34m:\u001b[0m\u001b[0;34m\u001b[0m\u001b[0m\n\u001b[1;32m   1819\u001b[0m             \u001b[0;32mif\u001b[0m \u001b[0mx\u001b[0m\u001b[0;34m[\u001b[0m\u001b[0;36m0\u001b[0m\u001b[0;34m]\u001b[0m\u001b[0;34m.\u001b[0m\u001b[0mshape\u001b[0m\u001b[0;34m[\u001b[0m\u001b[0;36m0\u001b[0m\u001b[0;34m]\u001b[0m \u001b[0;34m>\u001b[0m \u001b[0mbatch_size\u001b[0m \u001b[0;32mand\u001b[0m \u001b[0mx\u001b[0m\u001b[0;34m[\u001b[0m\u001b[0;36m0\u001b[0m\u001b[0;34m]\u001b[0m\u001b[0;34m.\u001b[0m\u001b[0mshape\u001b[0m\u001b[0;34m[\u001b[0m\u001b[0;36m0\u001b[0m\u001b[0;34m]\u001b[0m \u001b[0;34m%\u001b[0m \u001b[0mbatch_size\u001b[0m \u001b[0;34m!=\u001b[0m \u001b[0;36m0\u001b[0m\u001b[0;34m:\u001b[0m\u001b[0;34m\u001b[0m\u001b[0m\n",
            "\u001b[0;32m/usr/local/lib/python3.6/dist-packages/keras/engine/training.py\u001b[0m in \u001b[0;36m_standardize_input_data\u001b[0;34m(data, names, shapes, check_batch_axis, exception_prefix)\u001b[0m\n\u001b[1;32m    111\u001b[0m                         \u001b[0;34m': expected '\u001b[0m \u001b[0;34m+\u001b[0m \u001b[0mnames\u001b[0m\u001b[0;34m[\u001b[0m\u001b[0mi\u001b[0m\u001b[0;34m]\u001b[0m \u001b[0;34m+\u001b[0m \u001b[0;34m' to have '\u001b[0m \u001b[0;34m+\u001b[0m\u001b[0;34m\u001b[0m\u001b[0m\n\u001b[1;32m    112\u001b[0m                         \u001b[0mstr\u001b[0m\u001b[0;34m(\u001b[0m\u001b[0mlen\u001b[0m\u001b[0;34m(\u001b[0m\u001b[0mshape\u001b[0m\u001b[0;34m)\u001b[0m\u001b[0;34m)\u001b[0m \u001b[0;34m+\u001b[0m \u001b[0;34m' dimensions, but got array '\u001b[0m\u001b[0;34m\u001b[0m\u001b[0m\n\u001b[0;32m--> 113\u001b[0;31m                         'with shape ' + str(data_shape))\n\u001b[0m\u001b[1;32m    114\u001b[0m                 \u001b[0;32mif\u001b[0m \u001b[0;32mnot\u001b[0m \u001b[0mcheck_batch_axis\u001b[0m\u001b[0;34m:\u001b[0m\u001b[0;34m\u001b[0m\u001b[0m\n\u001b[1;32m    115\u001b[0m                     \u001b[0mdata_shape\u001b[0m \u001b[0;34m=\u001b[0m \u001b[0mdata_shape\u001b[0m\u001b[0;34m[\u001b[0m\u001b[0;36m1\u001b[0m\u001b[0;34m:\u001b[0m\u001b[0;34m]\u001b[0m\u001b[0;34m\u001b[0m\u001b[0m\n",
            "\u001b[0;31mValueError\u001b[0m: Error when checking : expected image_array_input to have 4 dimensions, but got array with shape (48, 48, 1)"
          ]
        }
      ]
    }
  ]
}