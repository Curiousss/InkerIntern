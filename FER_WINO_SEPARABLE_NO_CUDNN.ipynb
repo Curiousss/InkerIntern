{
  "nbformat": 4,
  "nbformat_minor": 0,
  "metadata": {
    "colab": {
      "name": "FER_WINO_SEPARABLE_NO_CUDNN.ipynb",
      "version": "0.3.2",
      "provenance": [],
      "collapsed_sections": []
    },
    "kernelspec": {
      "name": "python3",
      "display_name": "Python 3"
    },
    "accelerator": "GPU"
  },
  "cells": [
    {
      "cell_type": "markdown",
      "metadata": {
        "id": "view-in-github",
        "colab_type": "text"
      },
      "source": [
        "[View in Colaboratory](https://colab.research.google.com/github/Curiousss/InkerIntern/blob/master/FER_WINO_SEPARABLE_NO_CUDNN.ipynb)"
      ]
    },
    {
      "metadata": {
        "id": "FWp55WPDUsSy",
        "colab_type": "code",
        "colab": {
          "base_uri": "https://localhost:8080/",
          "height": 34
        },
        "outputId": "e9ade29b-c405-43be-d53e-e3ce92dc71ec"
      },
      "cell_type": "code",
      "source": [
        "import os\n",
        "!export TF_ENABLE_WINOGRAD_NONFUSED=1\n",
        "os.environ['TF_ENABLE_WINOGRAD_NONFUSED'] = '1'\n",
        "os.environ.pop('TF_ENABLE_WINOGRAD_NONFUSED', None)"
      ],
      "execution_count": 42,
      "outputs": [
        {
          "output_type": "execute_result",
          "data": {
            "text/plain": [
              "'1'"
            ]
          },
          "metadata": {
            "tags": []
          },
          "execution_count": 42
        }
      ]
    },
    {
      "metadata": {
        "id": "fcIA8sUGuRsY",
        "colab_type": "code",
        "colab": {
          "resources": {
            "http://localhost:8080/nbextensions/google.colab/files.js": {
              "data": "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",
              "ok": true,
              "headers": [
                [
                  "content-type",
                  "application/javascript"
                ]
              ],
              "status": 200,
              "status_text": ""
            }
          },
          "base_uri": "https://localhost:8080/",
          "height": 72
        },
        "outputId": "5f3594ce-611f-4b52-ee0a-42f07306db54"
      },
      "cell_type": "code",
      "source": [
        "from google.colab import files\n",
        "uploaded = files.upload()"
      ],
      "execution_count": 1,
      "outputs": [
        {
          "output_type": "display_data",
          "data": {
            "text/html": [
              "\n",
              "     <input type=\"file\" id=\"files-4a685450-e152-439a-a326-b31480653e57\" name=\"files[]\" multiple disabled />\n",
              "     <output id=\"result-4a685450-e152-439a-a326-b31480653e57\">\n",
              "      Upload widget is only available when the cell has been executed in the\n",
              "      current browser session. Please rerun this cell to enable.\n",
              "      </output>\n",
              "      <script src=\"/nbextensions/google.colab/files.js\"></script> "
            ],
            "text/plain": [
              "<IPython.core.display.HTML object>"
            ]
          },
          "metadata": {
            "tags": []
          }
        },
        {
          "output_type": "stream",
          "text": [
            "Saving fer2013.tar to fer2013.tar\n"
          ],
          "name": "stdout"
        }
      ]
    },
    {
      "metadata": {
        "id": "ldEdUzQbuQIi",
        "colab_type": "code",
        "colab": {}
      },
      "cell_type": "code",
      "source": [
        "!tar -xf fer2013.tar"
      ],
      "execution_count": 0,
      "outputs": []
    },
    {
      "metadata": {
        "id": "dTyUIGDeuAQf",
        "colab_type": "code",
        "colab": {}
      },
      "cell_type": "code",
      "source": [
        "\n",
        "import csv\n",
        "import numpy as np\n",
        "\n",
        "import keras\n",
        "from keras.models import Sequential\n",
        "from keras.layers import Dense, Dropout, Activation, Flatten \n",
        "from keras.layers import Convolution2D, MaxPooling2D, BatchNormalization \n",
        "from keras.utils import np_utils"
      ],
      "execution_count": 0,
      "outputs": []
    },
    {
      "metadata": {
        "id": "OqJCQeGxhq4x",
        "colab_type": "code",
        "colab": {}
      },
      "cell_type": "code",
      "source": [
        "img_rows, img_cols = 48, 48\n",
        "batch_size = 128\n",
        "nb_classes = 7\n",
        "nb_epoch = 1200\n",
        "img_channels = 1"
      ],
      "execution_count": 0,
      "outputs": []
    },
    {
      "metadata": {
        "id": "sq7nNsVmhsYX",
        "colab_type": "code",
        "colab": {}
      },
      "cell_type": "code",
      "source": [
        "\n",
        "f = open('fer2013/fer2013.csv')\n",
        "csv_f = csv.reader(f)\n",
        "\n",
        "train_x = []\n",
        "train_y = []\n",
        "val_x =[]\n",
        "val_y =[]\n"
      ],
      "execution_count": 0,
      "outputs": []
    },
    {
      "metadata": {
        "id": "ZhDydMh9h0_B",
        "colab_type": "code",
        "colab": {}
      },
      "cell_type": "code",
      "source": [
        "num=0\n",
        "for row in csv_f:\n",
        "  num = num +1\n",
        "  #print(num)\n",
        "  temp_list = []\n",
        "  for pixel in row[1].split( ):\n",
        "    temp_list.append(int(pixel))\n",
        "\n",
        "  if str(row[2]) == \"Training\":\n",
        "    train_y.append(int(row[0]))\n",
        "    train_x.append(temp_list) \n",
        "  elif str(row[2]) == \"PublicTest\":\n",
        "    val_y.append(int(row[0]))\n",
        "    val_x.append(temp_list) "
      ],
      "execution_count": 0,
      "outputs": []
    },
    {
      "metadata": {
        "id": "H6rDJXl4rUKS",
        "colab_type": "code",
        "colab": {}
      },
      "cell_type": "code",
      "source": [
        "\n",
        "train_x = np.asarray(train_x)\n",
        "train_y = np.asarray(train_y)\n",
        "val_x = np.asarray(val_x)\n",
        "val_y = np.asarray(val_y)"
      ],
      "execution_count": 0,
      "outputs": []
    },
    {
      "metadata": {
        "id": "lmXwV3InrVsQ",
        "colab_type": "code",
        "colab": {}
      },
      "cell_type": "code",
      "source": [
        "train_x = train_x.reshape(train_x.shape[0], 48, 48)\n",
        "train_x = train_x.reshape(train_x.shape[0], 1, 48, 48)\n",
        "train_y = np_utils.to_categorical(train_y, 7)"
      ],
      "execution_count": 0,
      "outputs": []
    },
    {
      "metadata": {
        "id": "s3iZUfL1ztRu",
        "colab_type": "code",
        "colab": {}
      },
      "cell_type": "code",
      "source": [
        "val_x = val_x.reshape(val_x.shape[0], 48, 48)\n",
        "val_x = val_x.reshape(val_x.shape[0], 1, 48, 48)\n",
        "val_y = np_utils.to_categorical(val_y, 7)"
      ],
      "execution_count": 0,
      "outputs": []
    },
    {
      "metadata": {
        "id": "jMKS1KOEGsB3",
        "colab_type": "code",
        "colab": {
          "base_uri": "https://localhost:8080/",
          "height": 34
        },
        "outputId": "6507f2ef-942e-4710-f869-27ae78eac6ad"
      },
      "cell_type": "code",
      "source": [
        "input_shape = (img_channels, img_rows, img_cols)\n",
        "model = Sequential()\n",
        "model.add(Convolution2D(filters=64, kernel_size=(3, 3), padding='same',\n",
        "                            name='image_array', input_shape=input_shape))\n",
        "model.add(BatchNormalization())\n",
        "model.add(Activation('relu'))\n",
        "model.add(Convolution2D(filters=64, kernel_size=(3, 3), padding='same'))\n",
        "model.add(BatchNormalization())\n",
        "model.add(Activation('relu'))\n",
        "model.add(MaxPooling2D(pool_size=(2, 2), padding='same'))\n",
        "#model.add(Dropout(.5))\n",
        "\n",
        "model.add(Convolution2D(filters=128, kernel_size=(3, 3), padding='same'))\n",
        "model.add(BatchNormalization())\n",
        "model.add(Activation('relu'))\n",
        "model.add(Convolution2D(filters=128, kernel_size=(3, 3), padding='same'))\n",
        "model.add(BatchNormalization())\n",
        "model.add(Activation('relu'))\n",
        "model.add(MaxPooling2D(pool_size=(2, 2), padding='same'))\n",
        "model.add(Dropout(.2))\n",
        "\n",
        "model.add(Convolution2D(filters=256, kernel_size=(3, 3), padding='same'))\n",
        "model.add(BatchNormalization())\n",
        "model.add(Activation('relu'))\n",
        "model.add(SeparableConv2D(filters=256, kernel_size=(3, 3), padding='same'))\n",
        "model.add(BatchNormalization())\n",
        "model.add(Activation('relu'))\n",
        "model.add(MaxPooling2D(pool_size=(2, 2), padding='same'))\n",
        "model.add(Dropout(.25))\n",
        "\n",
        "model.add(Convolution2D(filters=512, kernel_size=(3, 3), padding='same'))\n",
        "model.add(BatchNormalization())\n",
        "model.add(Activation('relu'))\n",
        "model.add(Convolution2D(filters=512, kernel_size=(3, 3), padding='same'))\n",
        "model.add(BatchNormalization())\n",
        "model.add(Activation('relu'))\n",
        "model.add(MaxPooling2D(pool_size=(2, 2), padding='same'))\n",
        "model.add(Dropout(.25))\n",
        "\n",
        "model.add(Flatten())\n",
        "\n",
        "model.add(Dense(1024))\n",
        "model.add(BatchNormalization())\n",
        "model.add(Activation('relu'))\n",
        "model.add(Dropout(.45))\n",
        "\n",
        "model.add(Dense(1024))\n",
        "model.add(BatchNormalization())\n",
        "model.add(Activation('relu'))\n",
        "model.add(Dropout(.45))\n",
        "\n",
        "model.add(Dense(output_dim=7))\n",
        "model.add(Activation('softmax'))"
      ],
      "execution_count": 44,
      "outputs": [
        {
          "output_type": "stream",
          "text": [
            "/usr/local/lib/python3.6/dist-packages/ipykernel_launcher.py:52: UserWarning: Update your `Dense` call to the Keras 2 API: `Dense(units=7)`\n"
          ],
          "name": "stderr"
        }
      ]
    },
    {
      "metadata": {
        "id": "tRsZspcA0uxT",
        "colab_type": "code",
        "colab": {
          "base_uri": "https://localhost:8080/",
          "height": 1564
        },
        "outputId": "d4ed04a5-56f3-46bd-915f-e0657449c2f3"
      },
      "cell_type": "code",
      "source": [
        "model.summary()"
      ],
      "execution_count": 49,
      "outputs": [
        {
          "output_type": "stream",
          "text": [
            "_________________________________________________________________\n",
            "Layer (type)                 Output Shape              Param #   \n",
            "=================================================================\n",
            "image_array (SeparableConv2D (None, 1, 48, 64)         3568      \n",
            "_________________________________________________________________\n",
            "batch_normalization_1 (Batch (None, 1, 48, 64)         256       \n",
            "_________________________________________________________________\n",
            "activation_1 (Activation)    (None, 1, 48, 64)         0         \n",
            "_________________________________________________________________\n",
            "separable_conv2d_1 (Separabl (None, 1, 48, 64)         4736      \n",
            "_________________________________________________________________\n",
            "batch_normalization_2 (Batch (None, 1, 48, 64)         256       \n",
            "_________________________________________________________________\n",
            "activation_2 (Activation)    (None, 1, 48, 64)         0         \n",
            "_________________________________________________________________\n",
            "max_pooling2d_1 (MaxPooling2 (None, 1, 24, 64)         0         \n",
            "_________________________________________________________________\n",
            "separable_conv2d_2 (Separabl (None, 1, 24, 128)        8896      \n",
            "_________________________________________________________________\n",
            "batch_normalization_3 (Batch (None, 1, 24, 128)        512       \n",
            "_________________________________________________________________\n",
            "activation_3 (Activation)    (None, 1, 24, 128)        0         \n",
            "_________________________________________________________________\n",
            "separable_conv2d_3 (Separabl (None, 1, 24, 128)        17664     \n",
            "_________________________________________________________________\n",
            "batch_normalization_4 (Batch (None, 1, 24, 128)        512       \n",
            "_________________________________________________________________\n",
            "activation_4 (Activation)    (None, 1, 24, 128)        0         \n",
            "_________________________________________________________________\n",
            "max_pooling2d_2 (MaxPooling2 (None, 1, 12, 128)        0         \n",
            "_________________________________________________________________\n",
            "dropout_1 (Dropout)          (None, 1, 12, 128)        0         \n",
            "_________________________________________________________________\n",
            "separable_conv2d_4 (Separabl (None, 1, 12, 256)        34176     \n",
            "_________________________________________________________________\n",
            "batch_normalization_5 (Batch (None, 1, 12, 256)        1024      \n",
            "_________________________________________________________________\n",
            "activation_5 (Activation)    (None, 1, 12, 256)        0         \n",
            "_________________________________________________________________\n",
            "separable_conv2d_5 (Separabl (None, 1, 12, 256)        68096     \n",
            "_________________________________________________________________\n",
            "batch_normalization_6 (Batch (None, 1, 12, 256)        1024      \n",
            "_________________________________________________________________\n",
            "activation_6 (Activation)    (None, 1, 12, 256)        0         \n",
            "_________________________________________________________________\n",
            "max_pooling2d_3 (MaxPooling2 (None, 1, 6, 256)         0         \n",
            "_________________________________________________________________\n",
            "dropout_2 (Dropout)          (None, 1, 6, 256)         0         \n",
            "_________________________________________________________________\n",
            "separable_conv2d_6 (Separabl (None, 1, 6, 512)         133888    \n",
            "_________________________________________________________________\n",
            "batch_normalization_7 (Batch (None, 1, 6, 512)         2048      \n",
            "_________________________________________________________________\n",
            "activation_7 (Activation)    (None, 1, 6, 512)         0         \n",
            "_________________________________________________________________\n",
            "separable_conv2d_7 (Separabl (None, 1, 6, 512)         267264    \n",
            "_________________________________________________________________\n",
            "batch_normalization_8 (Batch (None, 1, 6, 512)         2048      \n",
            "_________________________________________________________________\n",
            "activation_8 (Activation)    (None, 1, 6, 512)         0         \n",
            "_________________________________________________________________\n",
            "max_pooling2d_4 (MaxPooling2 (None, 1, 3, 512)         0         \n",
            "_________________________________________________________________\n",
            "dropout_3 (Dropout)          (None, 1, 3, 512)         0         \n",
            "_________________________________________________________________\n",
            "flatten_1 (Flatten)          (None, 1536)              0         \n",
            "_________________________________________________________________\n",
            "dense_1 (Dense)              (None, 1024)              1573888   \n",
            "_________________________________________________________________\n",
            "batch_normalization_9 (Batch (None, 1024)              4096      \n",
            "_________________________________________________________________\n",
            "activation_9 (Activation)    (None, 1024)              0         \n",
            "_________________________________________________________________\n",
            "dropout_4 (Dropout)          (None, 1024)              0         \n",
            "_________________________________________________________________\n",
            "dense_2 (Dense)              (None, 1024)              1049600   \n",
            "_________________________________________________________________\n",
            "batch_normalization_10 (Batc (None, 1024)              4096      \n",
            "_________________________________________________________________\n",
            "activation_10 (Activation)   (None, 1024)              0         \n",
            "_________________________________________________________________\n",
            "dropout_5 (Dropout)          (None, 1024)              0         \n",
            "_________________________________________________________________\n",
            "dense_3 (Dense)              (None, 7)                 7175      \n",
            "_________________________________________________________________\n",
            "activation_11 (Activation)   (None, 7)                 0         \n",
            "=================================================================\n",
            "Total params: 3,184,823\n",
            "Trainable params: 3,176,887\n",
            "Non-trainable params: 7,936\n",
            "_________________________________________________________________\n"
          ],
          "name": "stdout"
        }
      ]
    },
    {
      "metadata": {
        "id": "Hy0FyCcc2li0",
        "colab_type": "code",
        "colab": {}
      },
      "cell_type": "code",
      "source": [
        "model.compile(optimizer='Adam',\n",
        "                 loss='categorical_crossentropy',\n",
        "                 metrics=['accuracy'])"
      ],
      "execution_count": 0,
      "outputs": []
    },
    {
      "metadata": {
        "id": "PB9jPqCQhXOg",
        "colab_type": "code",
        "colab": {
          "base_uri": "https://localhost:8080/",
          "height": 411
        },
        "outputId": "50f4e4de-3b13-4e2e-d316-0342f55d04f2"
      },
      "cell_type": "code",
      "source": [
        "# Wino 1 Separable\n",
        "import time\n",
        "start_time = time.time()\n",
        "\n",
        "model.fit(train_x, train_y, epochs=10, batch_size=batch_size, validation_data=(val_x, val_y))\n",
        "print(\"--- %s seconds ---\" % (time.time() - start_time))"
      ],
      "execution_count": 18,
      "outputs": [
        {
          "output_type": "stream",
          "text": [
            "Train on 28709 samples, validate on 3589 samples\n",
            "Epoch 1/10\n",
            "28709/28709 [==============================] - 10s 351us/step - loss: 1.7963 - acc: 0.3183 - val_loss: 2.9346 - val_acc: 0.2817\n",
            "Epoch 2/10\n",
            "28709/28709 [==============================] - 10s 347us/step - loss: 1.6831 - acc: 0.3589 - val_loss: 1.6419 - val_acc: 0.3717\n",
            "Epoch 3/10\n",
            "28709/28709 [==============================] - 10s 342us/step - loss: 1.5985 - acc: 0.3851 - val_loss: 1.5624 - val_acc: 0.3901\n",
            "Epoch 4/10\n",
            "  640/28709 [..............................] - ETA: 9s - loss: 1.5430 - acc: 0.4125"
          ],
          "name": "stdout"
        },
        {
          "output_type": "stream",
          "text": [
            "28709/28709 [==============================] - 10s 342us/step - loss: 1.5402 - acc: 0.4061 - val_loss: 1.5583 - val_acc: 0.4168\n",
            "Epoch 5/10\n",
            "28709/28709 [==============================] - 10s 343us/step - loss: 1.4875 - acc: 0.4281 - val_loss: 1.4518 - val_acc: 0.4347\n",
            "Epoch 6/10\n",
            "28709/28709 [==============================] - 10s 344us/step - loss: 1.4373 - acc: 0.4457 - val_loss: 1.5184 - val_acc: 0.4271\n",
            "Epoch 7/10\n",
            "12160/28709 [===========>..................] - ETA: 5s - loss: 1.3944 - acc: 0.4608"
          ],
          "name": "stdout"
        },
        {
          "output_type": "stream",
          "text": [
            "28709/28709 [==============================] - 10s 344us/step - loss: 1.4016 - acc: 0.4594 - val_loss: 1.4820 - val_acc: 0.4302\n",
            "Epoch 8/10\n",
            "28709/28709 [==============================] - 10s 342us/step - loss: 1.3703 - acc: 0.4740 - val_loss: 1.3949 - val_acc: 0.4661\n",
            "Epoch 9/10\n",
            "28709/28709 [==============================] - 10s 339us/step - loss: 1.3437 - acc: 0.4833 - val_loss: 1.4676 - val_acc: 0.4570\n",
            "Epoch 10/10\n",
            "14208/28709 [=============>................] - ETA: 4s - loss: 1.3064 - acc: 0.4942"
          ],
          "name": "stdout"
        },
        {
          "output_type": "stream",
          "text": [
            "28709/28709 [==============================] - 10s 342us/step - loss: 1.3101 - acc: 0.4956 - val_loss: 1.3927 - val_acc: 0.4553\n",
            "--- 98.65123987197876 seconds ---\n"
          ],
          "name": "stdout"
        }
      ]
    },
    {
      "metadata": {
        "id": "rCSCjxwP6eMQ",
        "colab_type": "code",
        "colab": {
          "base_uri": "https://localhost:8080/",
          "height": 411
        },
        "outputId": "c643e750-f2dd-4085-da7c-18f78e27701e"
      },
      "cell_type": "code",
      "source": [
        "# Wino 0 Separable\n",
        "import time\n",
        "start_time = time.time()\n",
        "\n",
        "model.fit(train_x, train_y, epochs=10, batch_size=batch_size, validation_data=(val_x, val_y))\n",
        "print(\"--- %s seconds ---\" % (time.time() - start_time))"
      ],
      "execution_count": 23,
      "outputs": [
        {
          "output_type": "stream",
          "text": [
            "Train on 28709 samples, validate on 3589 samples\n",
            "Epoch 1/10\n",
            "28709/28709 [==============================] - 13s 446us/step - loss: 1.9749 - acc: 0.2584 - val_loss: 1.7371 - val_acc: 0.3118\n",
            "Epoch 2/10\n",
            "28709/28709 [==============================] - 10s 344us/step - loss: 1.7895 - acc: 0.3117 - val_loss: 1.7548 - val_acc: 0.3302\n",
            "Epoch 3/10\n",
            "28709/28709 [==============================] - 10s 345us/step - loss: 1.7097 - acc: 0.3491 - val_loss: 1.7328 - val_acc: 0.3845\n",
            "Epoch 4/10\n",
            "  768/28709 [..............................] - ETA: 9s - loss: 1.6740 - acc: 0.3984 "
          ],
          "name": "stdout"
        },
        {
          "output_type": "stream",
          "text": [
            "28709/28709 [==============================] - 10s 345us/step - loss: 1.6410 - acc: 0.3794 - val_loss: 1.5763 - val_acc: 0.3770\n",
            "Epoch 5/10\n",
            "28709/28709 [==============================] - 10s 344us/step - loss: 1.5694 - acc: 0.4035 - val_loss: 1.5746 - val_acc: 0.4093\n",
            "Epoch 6/10\n",
            "28709/28709 [==============================] - 10s 340us/step - loss: 1.5182 - acc: 0.4233 - val_loss: 1.4626 - val_acc: 0.4330\n",
            "Epoch 7/10\n",
            "11648/28709 [===========>..................] - ETA: 5s - loss: 1.4980 - acc: 0.4377"
          ],
          "name": "stdout"
        },
        {
          "output_type": "stream",
          "text": [
            "28709/28709 [==============================] - 10s 342us/step - loss: 1.4779 - acc: 0.4400 - val_loss: 1.4774 - val_acc: 0.4380\n",
            "Epoch 8/10\n",
            "28709/28709 [==============================] - 10s 347us/step - loss: 1.4255 - acc: 0.4600 - val_loss: 1.4522 - val_acc: 0.4525\n",
            "Epoch 9/10\n",
            "28709/28709 [==============================] - 10s 349us/step - loss: 1.3819 - acc: 0.4730 - val_loss: 1.4560 - val_acc: 0.4388\n",
            "Epoch 10/10\n",
            "13440/28709 [=============>................] - ETA: 5s - loss: 1.3400 - acc: 0.4885"
          ],
          "name": "stdout"
        },
        {
          "output_type": "stream",
          "text": [
            "28709/28709 [==============================] - 10s 344us/step - loss: 1.3509 - acc: 0.4842 - val_loss: 1.4344 - val_acc: 0.4508\n",
            "--- 104.47879362106323 seconds ---\n"
          ],
          "name": "stdout"
        }
      ]
    },
    {
      "metadata": {
        "id": "YnxxDPRDW8sA",
        "colab_type": "code",
        "colab": {
          "base_uri": "https://localhost:8080/",
          "height": 411
        },
        "outputId": "3c76fc68-ff94-4ecb-fcc7-7c841c3928ec"
      },
      "cell_type": "code",
      "source": [
        "# Wino 1 Separable\n",
        "import time\n",
        "start_time = time.time()\n",
        "\n",
        "model.fit(train_x, train_y, epochs=10, batch_size=batch_size, validation_data=(val_x, val_y))\n",
        "print(\"--- %s seconds ---\" % (time.time() - start_time))"
      ],
      "execution_count": 29,
      "outputs": [
        {
          "output_type": "stream",
          "text": [
            "Train on 28709 samples, validate on 3589 samples\n",
            "Epoch 1/10\n",
            "28709/28709 [==============================] - 13s 459us/step - loss: 2.0133 - acc: 0.2504 - val_loss: 1.7558 - val_acc: 0.2931\n",
            "Epoch 2/10\n",
            "28709/28709 [==============================] - 10s 350us/step - loss: 1.8040 - acc: 0.3142 - val_loss: 1.7831 - val_acc: 0.3232\n",
            "Epoch 3/10\n",
            "28709/28709 [==============================] - 10s 345us/step - loss: 1.6975 - acc: 0.3585 - val_loss: 1.7235 - val_acc: 0.3709\n",
            "Epoch 4/10\n",
            "  128/28709 [..............................] - ETA: 9s - loss: 1.8020 - acc: 0.3828"
          ],
          "name": "stdout"
        },
        {
          "output_type": "stream",
          "text": [
            "28709/28709 [==============================] - 10s 347us/step - loss: 1.6248 - acc: 0.3901 - val_loss: 1.6815 - val_acc: 0.3837\n",
            "Epoch 5/10\n",
            "28709/28709 [==============================] - 10s 346us/step - loss: 1.5606 - acc: 0.4072 - val_loss: 1.6298 - val_acc: 0.4107\n",
            "Epoch 6/10\n",
            "28709/28709 [==============================] - 10s 345us/step - loss: 1.5046 - acc: 0.4302 - val_loss: 1.5186 - val_acc: 0.4185\n",
            "Epoch 7/10\n",
            "10624/28709 [==========>...................] - ETA: 6s - loss: 1.4488 - acc: 0.4547"
          ],
          "name": "stdout"
        },
        {
          "output_type": "stream",
          "text": [
            "28709/28709 [==============================] - 10s 350us/step - loss: 1.4610 - acc: 0.4486 - val_loss: 1.5716 - val_acc: 0.4269\n",
            "Epoch 8/10\n",
            "28709/28709 [==============================] - 10s 350us/step - loss: 1.4148 - acc: 0.4682 - val_loss: 1.4896 - val_acc: 0.4366\n",
            "Epoch 9/10\n",
            "28709/28709 [==============================] - 10s 348us/step - loss: 1.3785 - acc: 0.4808 - val_loss: 1.4299 - val_acc: 0.4425\n",
            "Epoch 10/10\n",
            "12800/28709 [============>.................] - ETA: 5s - loss: 1.3371 - acc: 0.4895"
          ],
          "name": "stdout"
        },
        {
          "output_type": "stream",
          "text": [
            "28709/28709 [==============================] - 10s 349us/step - loss: 1.3455 - acc: 0.4874 - val_loss: 1.4069 - val_acc: 0.4595\n",
            "--- 105.74680256843567 seconds ---\n"
          ],
          "name": "stdout"
        }
      ]
    },
    {
      "metadata": {
        "id": "Ui05mKxjYDFJ",
        "colab_type": "code",
        "colab": {
          "base_uri": "https://localhost:8080/",
          "height": 241
        },
        "outputId": "802e6a10-ca9c-452c-d990-93e46055dc5f"
      },
      "cell_type": "code",
      "source": [
        "# Wino 1 Regular\n",
        "import time\n",
        "start_time = time.time()\n",
        "\n",
        "model.fit(train_x, train_y, epochs=5, batch_size=batch_size, validation_data=(val_x, val_y))\n",
        "print(\"--- %s seconds ---\" % (time.time() - start_time))"
      ],
      "execution_count": 36,
      "outputs": [
        {
          "output_type": "stream",
          "text": [
            "Train on 28709 samples, validate on 3589 samples\n",
            "Epoch 1/5\n",
            "28709/28709 [==============================] - 21s 715us/step - loss: 1.9565 - acc: 0.2723 - val_loss: 1.7349 - val_acc: 0.3266\n",
            "Epoch 2/5\n",
            "27648/28709 [===========================>..] - ETA: 0s - loss: 1.7632 - acc: 0.3394"
          ],
          "name": "stdout"
        },
        {
          "output_type": "stream",
          "text": [
            "28709/28709 [==============================] - 15s 533us/step - loss: 1.7624 - acc: 0.3405 - val_loss: 2.6360 - val_acc: 0.2577\n",
            "Epoch 3/5\n",
            "28709/28709 [==============================] - 15s 536us/step - loss: 1.6694 - acc: 0.3788 - val_loss: 1.7269 - val_acc: 0.3901\n",
            "Epoch 4/5\n",
            "15360/28709 [===============>..............] - ETA: 6s - loss: 1.6046 - acc: 0.4005"
          ],
          "name": "stdout"
        },
        {
          "output_type": "stream",
          "text": [
            "28709/28709 [==============================] - 15s 531us/step - loss: 1.6014 - acc: 0.3990 - val_loss: 1.6849 - val_acc: 0.3650\n",
            "Epoch 5/5\n",
            "28709/28709 [==============================] - 15s 536us/step - loss: 1.5383 - acc: 0.4241 - val_loss: 1.5914 - val_acc: 0.4004\n",
            "--- 84.23344898223877 seconds ---\n"
          ],
          "name": "stdout"
        }
      ]
    },
    {
      "metadata": {
        "id": "RRDR79EUZAMY",
        "colab_type": "code",
        "colab": {
          "base_uri": "https://localhost:8080/",
          "height": 241
        },
        "outputId": "3add34f8-dbba-4577-ec43-fa5911c3163f"
      },
      "cell_type": "code",
      "source": [
        "# Wino 0 Regular\n",
        "import time\n",
        "start_time = time.time()\n",
        "\n",
        "model.fit(train_x, train_y, epochs=5, batch_size=batch_size, validation_data=(val_x, val_y))\n",
        "print(\"--- %s seconds ---\" % (time.time() - start_time))"
      ],
      "execution_count": 41,
      "outputs": [
        {
          "output_type": "stream",
          "text": [
            "Train on 28709 samples, validate on 3589 samples\n",
            "Epoch 1/5\n",
            "28709/28709 [==============================] - 19s 666us/step - loss: 1.9578 - acc: 0.2694 - val_loss: 1.7939 - val_acc: 0.3073\n",
            "Epoch 2/5\n",
            "28544/28709 [============================>.] - ETA: 0s - loss: 1.7300 - acc: 0.3487"
          ],
          "name": "stdout"
        },
        {
          "output_type": "stream",
          "text": [
            "28709/28709 [==============================] - 15s 536us/step - loss: 1.7292 - acc: 0.3488 - val_loss: 1.6637 - val_acc: 0.3452\n",
            "Epoch 3/5\n",
            "28709/28709 [==============================] - 15s 535us/step - loss: 1.6358 - acc: 0.3831 - val_loss: 2.1404 - val_acc: 0.2792\n",
            "Epoch 4/5\n",
            "15104/28709 [==============>...............] - ETA: 7s - loss: 1.6028 - acc: 0.4033"
          ],
          "name": "stdout"
        },
        {
          "output_type": "stream",
          "text": [
            "28709/28709 [==============================] - 15s 533us/step - loss: 1.5859 - acc: 0.4056 - val_loss: 1.6214 - val_acc: 0.3773\n",
            "Epoch 5/5\n",
            "28709/28709 [==============================] - 15s 534us/step - loss: 1.5197 - acc: 0.4234 - val_loss: 1.5772 - val_acc: 0.3996\n",
            "--- 82.82288789749146 seconds ---\n"
          ],
          "name": "stdout"
        }
      ]
    },
    {
      "metadata": {
        "id": "SMi7iOeHaJiv",
        "colab_type": "code",
        "colab": {
          "base_uri": "https://localhost:8080/",
          "height": 241
        },
        "outputId": "14a08d31-356a-40a2-cbe7-06a84b935ba4"
      },
      "cell_type": "code",
      "source": [
        "# Wino 1 Regular\n",
        "import time\n",
        "start_time = time.time()\n",
        "\n",
        "model.fit(train_x, train_y, epochs=5, batch_size=batch_size, validation_data=(val_x, val_y))\n",
        "print(\"--- %s seconds ---\" % (time.time() - start_time))"
      ],
      "execution_count": 46,
      "outputs": [
        {
          "output_type": "stream",
          "text": [
            "Train on 28709 samples, validate on 3589 samples\n",
            "Epoch 1/5\n",
            "28709/28709 [==============================] - 20s 681us/step - loss: 1.9462 - acc: 0.2755 - val_loss: 1.7434 - val_acc: 0.3266\n",
            "Epoch 2/5\n",
            "27648/28709 [===========================>..] - ETA: 0s - loss: 1.7649 - acc: 0.3430"
          ],
          "name": "stdout"
        },
        {
          "output_type": "stream",
          "text": [
            "28709/28709 [==============================] - 15s 538us/step - loss: 1.7648 - acc: 0.3434 - val_loss: 1.9530 - val_acc: 0.3380\n",
            "Epoch 3/5\n",
            "28709/28709 [==============================] - 15s 537us/step - loss: 1.6668 - acc: 0.3793 - val_loss: 1.5976 - val_acc: 0.3639\n",
            "Epoch 4/5\n",
            "15360/28709 [===============>..............] - ETA: 6s - loss: 1.6099 - acc: 0.4033"
          ],
          "name": "stdout"
        },
        {
          "output_type": "stream",
          "text": [
            "28709/28709 [==============================] - 15s 534us/step - loss: 1.5981 - acc: 0.4060 - val_loss: 1.6072 - val_acc: 0.3915\n",
            "Epoch 5/5\n",
            "28709/28709 [==============================] - 15s 536us/step - loss: 1.5397 - acc: 0.4279 - val_loss: 1.6131 - val_acc: 0.4115\n",
            "--- 83.71084761619568 seconds ---\n"
          ],
          "name": "stdout"
        }
      ]
    }
  ]
}