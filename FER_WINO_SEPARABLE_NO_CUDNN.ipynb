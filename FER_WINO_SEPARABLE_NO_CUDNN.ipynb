{
  "nbformat": 4,
  "nbformat_minor": 0,
  "metadata": {
    "colab": {
      "name": "FER_WINO_SEPARABLE_NO_CUDNN.ipynb",
      "version": "0.3.2",
      "provenance": [],
      "collapsed_sections": []
    },
    "kernelspec": {
      "name": "python3",
      "display_name": "Python 3"
    },
    "accelerator": "GPU"
  },
  "cells": [
    {
      "cell_type": "markdown",
      "metadata": {
        "id": "view-in-github",
        "colab_type": "text"
      },
      "source": [
        "[View in Colaboratory](https://colab.research.google.com/github/Curiousss/InkerIntern/blob/master/FER_WINO_SEPARABLE_NO_CUDNN.ipynb)"
      ]
    },
    {
      "metadata": {
        "id": "TLXfmtMTnNAM",
        "colab_type": "code",
        "colab": {
          "base_uri": "https://localhost:8080/",
          "height": 292
        },
        "outputId": "fb06fc77-ca3a-45da-eec1-c32861277ebc"
      },
      "cell_type": "code",
      "source": [
        "!wget https://www.kaggle.com/c/challenges-in-representation-learning-facial-expression-recognition-challenge/download/fer2013.tar.gz"
      ],
      "execution_count": 3,
      "outputs": [
        {
          "output_type": "stream",
          "text": [
            "--2018-06-18 14:58:07--  https://www.kaggle.com/c/challenges-in-representation-learning-facial-expression-recognition-challenge/download/fer2013.tar.gz\r\n",
            "Resolving www.kaggle.com (www.kaggle.com)... 168.62.224.124\n",
            "Connecting to www.kaggle.com (www.kaggle.com)|168.62.224.124|:443... connected.\n",
            "HTTP request sent, awaiting response... 302 Found\n",
            "Location: /account/login?ReturnUrl=%2fc%2fchallenges-in-representation-learning-facial-expression-recognition-challenge%2fdownload%2ffer2013.tar.gz [following]\n",
            "--2018-06-18 14:58:07--  https://www.kaggle.com/account/login?ReturnUrl=%2fc%2fchallenges-in-representation-learning-facial-expression-recognition-challenge%2fdownload%2ffer2013.tar.gz\n",
            "Reusing existing connection to www.kaggle.com:443.\n",
            "HTTP request sent, awaiting response... 200 OK\n",
            "Length: 8229 (8.0K) [text/html]\n",
            "Saving to: ‘fer2013.tar.gz.1’\n",
            "\n",
            "fer2013.tar.gz.1    100%[===================>]   8.04K  --.-KB/s    in 0s      \n",
            "\n",
            "2018-06-18 14:58:08 (125 MB/s) - ‘fer2013.tar.gz.1’ saved [8229/8229]\n",
            "\n"
          ],
          "name": "stdout"
        }
      ]
    },
    {
      "metadata": {
        "id": "Q9eNowMGaO_J",
        "colab_type": "code",
        "colab": {
          "resources": {
            "http://localhost:8080/nbextensions/google.colab/files.js": {
              "data": "Ly8gQ29weXJpZ2h0IDIwMTcgR29vZ2xlIExMQwovLwovLyBMaWNlbnNlZCB1bmRlciB0aGUgQXBhY2hlIExpY2Vuc2UsIFZlcnNpb24gMi4wICh0aGUgIkxpY2Vuc2UiKTsKLy8geW91IG1heSBub3QgdXNlIHRoaXMgZmlsZSBleGNlcHQgaW4gY29tcGxpYW5jZSB3aXRoIHRoZSBMaWNlbnNlLgovLyBZb3UgbWF5IG9idGFpbiBhIGNvcHkgb2YgdGhlIExpY2Vuc2UgYXQKLy8KLy8gICAgICBodHRwOi8vd3d3LmFwYWNoZS5vcmcvbGljZW5zZXMvTElDRU5TRS0yLjAKLy8KLy8gVW5sZXNzIHJlcXVpcmVkIGJ5IGFwcGxpY2FibGUgbGF3IG9yIGFncmVlZCB0byBpbiB3cml0aW5nLCBzb2Z0d2FyZQovLyBkaXN0cmlidXRlZCB1bmRlciB0aGUgTGljZW5zZSBpcyBkaXN0cmlidXRlZCBvbiBhbiAiQVMgSVMiIEJBU0lTLAovLyBXSVRIT1VUIFdBUlJBTlRJRVMgT1IgQ09ORElUSU9OUyBPRiBBTlkgS0lORCwgZWl0aGVyIGV4cHJlc3Mgb3IgaW1wbGllZC4KLy8gU2VlIHRoZSBMaWNlbnNlIGZvciB0aGUgc3BlY2lmaWMgbGFuZ3VhZ2UgZ292ZXJuaW5nIHBlcm1pc3Npb25zIGFuZAovLyBsaW1pdGF0aW9ucyB1bmRlciB0aGUgTGljZW5zZS4KCi8qKgogKiBAZmlsZW92ZXJ2aWV3IEhlbHBlcnMgZm9yIGdvb2dsZS5jb2xhYiBQeXRob24gbW9kdWxlLgogKi8KKGZ1bmN0aW9uKHNjb3BlKSB7CmZ1bmN0aW9uIHNwYW4odGV4dCwgc3R5bGVBdHRyaWJ1dGVzID0ge30pIHsKICBjb25zdCBlbGVtZW50ID0gZG9jdW1lbnQuY3JlYXRlRWxlbWVudCgnc3BhbicpOwogIGVsZW1lbnQudGV4dENvbnRlbnQgPSB0ZXh0OwogIGZvciAoY29uc3Qga2V5IG9mIE9iamVjdC5rZXlzKHN0eWxlQXR0cmlidXRlcykpIHsKICAgIGVsZW1lbnQuc3R5bGVba2V5XSA9IHN0eWxlQXR0cmlidXRlc1trZXldOwogIH0KICByZXR1cm4gZWxlbWVudDsKfQoKLy8gTWF4IG51bWJlciBvZiBieXRlcyB3aGljaCB3aWxsIGJlIHVwbG9hZGVkIGF0IGEgdGltZS4KY29uc3QgTUFYX1BBWUxPQURfU0laRSA9IDEwMCAqIDEwMjQ7Ci8vIE1heCBhbW91bnQgb2YgdGltZSB0byBibG9jayB3YWl0aW5nIGZvciB0aGUgdXNlci4KY29uc3QgRklMRV9DSEFOR0VfVElNRU9VVF9NUyA9IDMwICogMTAwMDsKCmZ1bmN0aW9uIF91cGxvYWRGaWxlcyhpbnB1dElkLCBvdXRwdXRJZCkgewogIGNvbnN0IHN0ZXBzID0gdXBsb2FkRmlsZXNTdGVwKGlucHV0SWQsIG91dHB1dElkKTsKICBjb25zdCBvdXRwdXRFbGVtZW50ID0gZG9jdW1lbnQuZ2V0RWxlbWVudEJ5SWQob3V0cHV0SWQpOwogIC8vIENhY2hlIHN0ZXBzIG9uIHRoZSBvdXRwdXRFbGVtZW50IHRvIG1ha2UgaXQgYXZhaWxhYmxlIGZvciB0aGUgbmV4dCBjYWxsCiAgLy8gdG8gdXBsb2FkRmlsZXNDb250aW51ZSBmcm9tIFB5dGhvbi4KICBvdXRwdXRFbGVtZW50LnN0ZXBzID0gc3RlcHM7CgogIHJldHVybiBfdXBsb2FkRmlsZXNDb250aW51ZShvdXRwdXRJZCk7Cn0KCi8vIFRoaXMgaXMgcm91Z2hseSBhbiBhc3luYyBnZW5lcmF0b3IgKG5vdCBzdXBwb3J0ZWQgaW4gdGhlIGJyb3dzZXIgeWV0KSwKLy8gd2hlcmUgdGhlcmUgYXJlIG11bHRpcGxlIGFzeW5jaHJvbm91cyBzdGVwcyBhbmQgdGhlIFB5dGhvbiBzaWRlIGlzIGdvaW5nCi8vIHRvIHBvbGwgZm9yIGNvbXBsZXRpb24gb2YgZWFjaCBzdGVwLgovLyBUaGlzIHVzZXMgYSBQcm9taXNlIHRvIGJsb2NrIHRoZSBweXRob24gc2lkZSBvbiBjb21wbGV0aW9uIG9mIGVhY2ggc3RlcCwKLy8gdGhlbiBwYXNzZXMgdGhlIHJlc3VsdCBvZiB0aGUgcHJldmlvdXMgc3RlcCBhcyB0aGUgaW5wdXQgdG8gdGhlIG5leHQgc3RlcC4KZnVuY3Rpb24gX3VwbG9hZEZpbGVzQ29udGludWUob3V0cHV0SWQpIHsKICBjb25zdCBvdXRwdXRFbGVtZW50ID0gZG9jdW1lbnQuZ2V0RWxlbWVudEJ5SWQob3V0cHV0SWQpOwogIGNvbnN0IHN0ZXBzID0gb3V0cHV0RWxlbWVudC5zdGVwczsKCiAgY29uc3QgbmV4dCA9IHN0ZXBzLm5leHQob3V0cHV0RWxlbWVudC5sYXN0UHJvbWlzZVZhbHVlKTsKICByZXR1cm4gUHJvbWlzZS5yZXNvbHZlKG5leHQudmFsdWUucHJvbWlzZSkudGhlbigodmFsdWUpID0+IHsKICAgIC8vIENhY2hlIHRoZSBsYXN0IHByb21pc2UgdmFsdWUgdG8gbWFrZSBpdCBhdmFpbGFibGUgdG8gdGhlIG5leHQKICAgIC8vIHN0ZXAgb2YgdGhlIGdlbmVyYXRvci4KICAgIG91dHB1dEVsZW1lbnQubGFzdFByb21pc2VWYWx1ZSA9IHZhbHVlOwogICAgcmV0dXJuIG5leHQudmFsdWUucmVzcG9uc2U7CiAgfSk7Cn0KCi8qKgogKiBHZW5lcmF0b3IgZnVuY3Rpb24gd2hpY2ggaXMgY2FsbGVkIGJldHdlZW4gZWFjaCBhc3luYyBzdGVwIG9mIHRoZSB1cGxvYWQKICogcHJvY2Vzcy4KICogQHBhcmFtIHtzdHJpbmd9IGlucHV0SWQgRWxlbWVudCBJRCBvZiB0aGUgaW5wdXQgZmlsZSBwaWNrZXIgZWxlbWVudC4KICogQHBhcmFtIHtzdHJpbmd9IG91dHB1dElkIEVsZW1lbnQgSUQgb2YgdGhlIG91dHB1dCBkaXNwbGF5LgogKiBAcmV0dXJuIHshSXRlcmFibGU8IU9iamVjdD59IEl0ZXJhYmxlIG9mIG5leHQgc3RlcHMuCiAqLwpmdW5jdGlvbiogdXBsb2FkRmlsZXNTdGVwKGlucHV0SWQsIG91dHB1dElkKSB7CiAgY29uc3QgaW5wdXRFbGVtZW50ID0gZG9jdW1lbnQuZ2V0RWxlbWVudEJ5SWQoaW5wdXRJZCk7CiAgaW5wdXRFbGVtZW50LmRpc2FibGVkID0gZmFsc2U7CgogIGNvbnN0IG91dHB1dEVsZW1lbnQgPSBkb2N1bWVudC5nZXRFbGVtZW50QnlJZChvdXRwdXRJZCk7CiAgb3V0cHV0RWxlbWVudC5pbm5lckhUTUwgPSAnJzsKCiAgY29uc3QgcGlja2VkUHJvbWlzZSA9IG5ldyBQcm9taXNlKChyZXNvbHZlKSA9PiB7CiAgICBpbnB1dEVsZW1lbnQuYWRkRXZlbnRMaXN0ZW5lcignY2hhbmdlJywgKGUpID0+IHsKICAgICAgcmVzb2x2ZShlLnRhcmdldC5maWxlcyk7CiAgICB9KTsKICB9KTsKCiAgY29uc3QgY2FuY2VsID0gZG9jdW1lbnQuY3JlYXRlRWxlbWVudCgnYnV0dG9uJyk7CiAgaW5wdXRFbGVtZW50LnBhcmVudEVsZW1lbnQuYXBwZW5kQ2hpbGQoY2FuY2VsKTsKICBjYW5jZWwudGV4dENvbnRlbnQgPSAnQ2FuY2VsIHVwbG9hZCc7CiAgY29uc3QgY2FuY2VsUHJvbWlzZSA9IG5ldyBQcm9taXNlKChyZXNvbHZlKSA9PiB7CiAgICBjYW5jZWwub25jbGljayA9ICgpID0+IHsKICAgICAgcmVzb2x2ZShudWxsKTsKICAgIH07CiAgfSk7CgogIC8vIENhbmNlbCB1cGxvYWQgaWYgdXNlciBoYXNuJ3QgcGlja2VkIGFueXRoaW5nIGluIHRpbWVvdXQuCiAgY29uc3QgdGltZW91dFByb21pc2UgPSBuZXcgUHJvbWlzZSgocmVzb2x2ZSkgPT4gewogICAgc2V0VGltZW91dCgoKSA9PiB7CiAgICAgIHJlc29sdmUobnVsbCk7CiAgICB9LCBGSUxFX0NIQU5HRV9USU1FT1VUX01TKTsKICB9KTsKCiAgLy8gV2FpdCBmb3IgdGhlIHVzZXIgdG8gcGljayB0aGUgZmlsZXMuCiAgY29uc3QgZmlsZXMgPSB5aWVsZCB7CiAgICBwcm9taXNlOiBQcm9taXNlLnJhY2UoW3BpY2tlZFByb21pc2UsIHRpbWVvdXRQcm9taXNlLCBjYW5jZWxQcm9taXNlXSksCiAgICByZXNwb25zZTogewogICAgICBhY3Rpb246ICdzdGFydGluZycsCiAgICB9CiAgfTsKCiAgaWYgKCFmaWxlcykgewogICAgcmV0dXJuIHsKICAgICAgcmVzcG9uc2U6IHsKICAgICAgICBhY3Rpb246ICdjb21wbGV0ZScsCiAgICAgIH0KICAgIH07CiAgfQoKICBjYW5jZWwucmVtb3ZlKCk7CgogIC8vIERpc2FibGUgdGhlIGlucHV0IGVsZW1lbnQgc2luY2UgZnVydGhlciBwaWNrcyBhcmUgbm90IGFsbG93ZWQuCiAgaW5wdXRFbGVtZW50LmRpc2FibGVkID0gdHJ1ZTsKCiAgZm9yIChjb25zdCBmaWxlIG9mIGZpbGVzKSB7CiAgICBjb25zdCBsaSA9IGRvY3VtZW50LmNyZWF0ZUVsZW1lbnQoJ2xpJyk7CiAgICBsaS5hcHBlbmQoc3BhbihmaWxlLm5hbWUsIHtmb250V2VpZ2h0OiAnYm9sZCd9KSk7CiAgICBsaS5hcHBlbmQoc3BhbigKICAgICAgICBgKCR7ZmlsZS50eXBlIHx8ICduL2EnfSkgLSAke2ZpbGUuc2l6ZX0gYnl0ZXMsIGAgKwogICAgICAgIGBsYXN0IG1vZGlmaWVkOiAkewogICAgICAgICAgICBmaWxlLmxhc3RNb2RpZmllZERhdGUgPyBmaWxlLmxhc3RNb2RpZmllZERhdGUudG9Mb2NhbGVEYXRlU3RyaW5nKCkgOgogICAgICAgICAgICAgICAgICAgICAgICAgICAgICAgICAgICAnbi9hJ30gLSBgKSk7CiAgICBjb25zdCBwZXJjZW50ID0gc3BhbignMCUgZG9uZScpOwogICAgbGkuYXBwZW5kQ2hpbGQocGVyY2VudCk7CgogICAgb3V0cHV0RWxlbWVudC5hcHBlbmRDaGlsZChsaSk7CgogICAgY29uc3QgZmlsZURhdGFQcm9taXNlID0gbmV3IFByb21pc2UoKHJlc29sdmUpID0+IHsKICAgICAgY29uc3QgcmVhZGVyID0gbmV3IEZpbGVSZWFkZXIoKTsKICAgICAgcmVhZGVyLm9ubG9hZCA9IChlKSA9PiB7CiAgICAgICAgcmVzb2x2ZShlLnRhcmdldC5yZXN1bHQpOwogICAgICB9OwogICAgICByZWFkZXIucmVhZEFzQXJyYXlCdWZmZXIoZmlsZSk7CiAgICB9KTsKICAgIC8vIFdhaXQgZm9yIHRoZSBkYXRhIHRvIGJlIHJlYWR5LgogICAgbGV0IGZpbGVEYXRhID0geWllbGQgewogICAgICBwcm9taXNlOiBmaWxlRGF0YVByb21pc2UsCiAgICAgIHJlc3BvbnNlOiB7CiAgICAgICAgYWN0aW9uOiAnY29udGludWUnLAogICAgICB9CiAgICB9OwoKICAgIC8vIFVzZSBhIGNodW5rZWQgc2VuZGluZyB0byBhdm9pZCBtZXNzYWdlIHNpemUgbGltaXRzLiBTZWUgYi82MjExNTY2MC4KICAgIGxldCBwb3NpdGlvbiA9IDA7CiAgICB3aGlsZSAocG9zaXRpb24gPCBmaWxlRGF0YS5ieXRlTGVuZ3RoKSB7CiAgICAgIGNvbnN0IGxlbmd0aCA9IE1hdGgubWluKGZpbGVEYXRhLmJ5dGVMZW5ndGggLSBwb3NpdGlvbiwgTUFYX1BBWUxPQURfU0laRSk7CiAgICAgIGNvbnN0IGNodW5rID0gbmV3IFVpbnQ4QXJyYXkoZmlsZURhdGEsIHBvc2l0aW9uLCBsZW5ndGgpOwogICAgICBwb3NpdGlvbiArPSBsZW5ndGg7CgogICAgICBjb25zdCBiYXNlNjQgPSBidG9hKFN0cmluZy5mcm9tQ2hhckNvZGUuYXBwbHkobnVsbCwgY2h1bmspKTsKICAgICAgeWllbGQgewogICAgICAgIHJlc3BvbnNlOiB7CiAgICAgICAgICBhY3Rpb246ICdhcHBlbmQnLAogICAgICAgICAgZmlsZTogZmlsZS5uYW1lLAogICAgICAgICAgZGF0YTogYmFzZTY0LAogICAgICAgIH0sCiAgICAgIH07CiAgICAgIHBlcmNlbnQudGV4dENvbnRlbnQgPQogICAgICAgICAgYCR7TWF0aC5yb3VuZCgocG9zaXRpb24gLyBmaWxlRGF0YS5ieXRlTGVuZ3RoKSAqIDEwMCl9JSBkb25lYDsKICAgIH0KICB9CgogIC8vIEFsbCBkb25lLgogIHlpZWxkIHsKICAgIHJlc3BvbnNlOiB7CiAgICAgIGFjdGlvbjogJ2NvbXBsZXRlJywKICAgIH0KICB9Owp9CgpzY29wZS5nb29nbGUgPSBzY29wZS5nb29nbGUgfHwge307CnNjb3BlLmdvb2dsZS5jb2xhYiA9IHNjb3BlLmdvb2dsZS5jb2xhYiB8fCB7fTsKc2NvcGUuZ29vZ2xlLmNvbGFiLl9maWxlcyA9IHsKICBfdXBsb2FkRmlsZXMsCiAgX3VwbG9hZEZpbGVzQ29udGludWUsCn07Cn0pKHNlbGYpOwo=",
              "ok": true,
              "headers": [
                [
                  "content-type",
                  "application/javascript"
                ]
              ],
              "status": 200,
              "status_text": ""
            }
          },
          "base_uri": "https://localhost:8080/",
          "height": 72
        },
        "outputId": "035a6cef-91d6-4742-9be3-94b788663b94"
      },
      "cell_type": "code",
      "source": [
        "from google.colab import files\n",
        "uploaded = files.upload()"
      ],
      "execution_count": 4,
      "outputs": [
        {
          "output_type": "display_data",
          "data": {
            "text/html": [
              "\n",
              "     <input type=\"file\" id=\"files-176a65a5-4e4c-4969-ba63-3f1f02275d14\" name=\"files[]\" multiple disabled />\n",
              "     <output id=\"result-176a65a5-4e4c-4969-ba63-3f1f02275d14\">\n",
              "      Upload widget is only available when the cell has been executed in the\n",
              "      current browser session. Please rerun this cell to enable.\n",
              "      </output>\n",
              "      <script src=\"/nbextensions/google.colab/files.js\"></script> "
            ],
            "text/plain": [
              "<IPython.core.display.HTML object>"
            ]
          },
          "metadata": {
            "tags": []
          }
        },
        {
          "output_type": "stream",
          "text": [
            "Saving fer2013.tar to fer2013.tar\n"
          ],
          "name": "stdout"
        }
      ]
    },
    {
      "metadata": {
        "id": "BEb9SWJUV8T2",
        "colab_type": "code",
        "colab": {
          "base_uri": "https://localhost:8080/",
          "height": 34
        },
        "outputId": "82b283fa-eab3-4eff-de24-166bcc34a54c"
      },
      "cell_type": "code",
      "source": [
        "#!pip uninstall tensorflow-gpu -y\n",
        "#!pip install tensorflow\n",
        "!rm fer2013*\n",
        "!ls"
      ],
      "execution_count": 1,
      "outputs": [
        {
          "output_type": "stream",
          "text": [
            "datalab\r\n"
          ],
          "name": "stdout"
        }
      ]
    },
    {
      "metadata": {
        "id": "FWp55WPDUsSy",
        "colab_type": "code",
        "colab": {
          "base_uri": "https://localhost:8080/",
          "height": 34
        },
        "outputId": "e9ade29b-c405-43be-d53e-e3ce92dc71ec"
      },
      "cell_type": "code",
      "source": [
        "import os\n",
        "!export TF_ENABLE_WINOGRAD_NONFUSED=1\n",
        "os.environ['TF_ENABLE_WINOGRAD_NONFUSED'] = '1'\n",
        "os.environ.pop('TF_ENABLE_WINOGRAD_NONFUSED', None)"
      ],
      "execution_count": 42,
      "outputs": [
        {
          "output_type": "execute_result",
          "data": {
            "text/plain": [
              "'1'"
            ]
          },
          "metadata": {
            "tags": []
          },
          "execution_count": 42
        }
      ]
    },
    {
      "metadata": {
        "id": "ldEdUzQbuQIi",
        "colab_type": "code",
        "colab": {
          "base_uri": "https://localhost:8080/",
          "height": 102
        },
        "outputId": "1ca62bfa-a284-454e-cad9-fc10ee0fbe99"
      },
      "cell_type": "code",
      "source": [
        "!tar xvf fer2013.tar\n",
        "!ls"
      ],
      "execution_count": 5,
      "outputs": [
        {
          "output_type": "stream",
          "text": [
            "fer2013/fer2013.csv\n",
            "fer2013/README\n",
            "fer2013/fer2013.bib\n",
            "fer2013/\n",
            "datalab  fer2013  fer2013.tar  fer2013.tar.gz  fer2013.tar.gz.1\n"
          ],
          "name": "stdout"
        }
      ]
    },
    {
      "metadata": {
        "id": "dTyUIGDeuAQf",
        "colab_type": "code",
        "colab": {
          "base_uri": "https://localhost:8080/",
          "height": 34
        },
        "outputId": "fc464749-971b-49c1-93c3-20f168bae571"
      },
      "cell_type": "code",
      "source": [
        "\n",
        "import csv\n",
        "import numpy as np\n",
        "\n",
        "import keras\n",
        "from keras.models import Sequential\n",
        "from keras.layers import Dense, Dropout, Activation, Flatten \n",
        "from keras.layers import SeparableConv2D, MaxPooling2D, BatchNormalization \n",
        "from keras.utils import np_utils\n",
        "from keras.preprocessing.image import ImageDataGenerator"
      ],
      "execution_count": 6,
      "outputs": [
        {
          "output_type": "stream",
          "text": [
            "Using TensorFlow backend.\n"
          ],
          "name": "stderr"
        }
      ]
    },
    {
      "metadata": {
        "id": "OqJCQeGxhq4x",
        "colab_type": "code",
        "colab": {}
      },
      "cell_type": "code",
      "source": [
        "img_rows, img_cols = 48, 48\n",
        "batch_size = 128\n",
        "nb_classes = 7\n",
        "nb_epoch = 1200\n",
        "img_channels = 1"
      ],
      "execution_count": 0,
      "outputs": []
    },
    {
      "metadata": {
        "id": "sq7nNsVmhsYX",
        "colab_type": "code",
        "colab": {}
      },
      "cell_type": "code",
      "source": [
        "import csv\n",
        "f = open('fer2013/fer2013.csv')\n",
        "csv_f = csv.reader(f)\n",
        "\n",
        "train_x = []\n",
        "train_y = []\n",
        "val_x =[]\n",
        "val_y =[]\n"
      ],
      "execution_count": 0,
      "outputs": []
    },
    {
      "metadata": {
        "id": "yQSDhHZ3tKqk",
        "colab_type": "code",
        "colab": {
          "base_uri": "https://localhost:8080/",
          "height": 34
        },
        "outputId": "80edb833-41e5-4fe9-a9db-df68ce75623f"
      },
      "cell_type": "code",
      "source": [
        "print(csv_f)"
      ],
      "execution_count": 9,
      "outputs": [
        {
          "output_type": "stream",
          "text": [
            "<_csv.reader object at 0x7fc63a4f6908>\n"
          ],
          "name": "stdout"
        }
      ]
    },
    {
      "metadata": {
        "id": "HmmgpkTpiWyS",
        "colab_type": "code",
        "colab": {}
      },
      "cell_type": "code",
      "source": [
        "num=0\n",
        "for row in csv_f:\n",
        "  #print(row)\n",
        "  num = num +1\n",
        "  #print(num)\n",
        "  temp_list = []\n",
        "  for pixel in row[1].split( ):\n",
        "    temp_list.append(int(pixel))\n",
        "\n",
        "  if str(row[2]) == \"Training\":\n",
        "    train_y.append(int(row[0]))\n",
        "    train_x.append(temp_list) \n",
        "  elif str(row[2]) == \"PublicTest\":\n",
        "    val_y.append(int(row[0]))\n",
        "    val_x.append(temp_list)"
      ],
      "execution_count": 0,
      "outputs": []
    },
    {
      "metadata": {
        "id": "H6rDJXl4rUKS",
        "colab_type": "code",
        "colab": {}
      },
      "cell_type": "code",
      "source": [
        "train_x = np.asarray(train_x)\n",
        "train_y = np.asarray(train_y)\n",
        "val_x = np.asarray(val_x)\n",
        "val_y = np.asarray(val_y)"
      ],
      "execution_count": 0,
      "outputs": []
    },
    {
      "metadata": {
        "id": "lmXwV3InrVsQ",
        "colab_type": "code",
        "colab": {}
      },
      "cell_type": "code",
      "source": [
        "train_x = train_x.reshape(train_x.shape[0], 48, 48)\n",
        "train_x = train_x.reshape(train_x.shape[0], 1, 48, 48)\n",
        "train_y = np_utils.to_categorical(train_y, 7)"
      ],
      "execution_count": 0,
      "outputs": []
    },
    {
      "metadata": {
        "id": "s3iZUfL1ztRu",
        "colab_type": "code",
        "colab": {}
      },
      "cell_type": "code",
      "source": [
        "val_x = val_x.reshape(val_x.shape[0], 48, 48)\n",
        "val_x = val_x.reshape(val_x.shape[0], 1, 48, 48)\n",
        "val_y = np_utils.to_categorical(val_y, 7)"
      ],
      "execution_count": 0,
      "outputs": []
    },
    {
      "metadata": {
        "id": "bkb-p1BXzBrI",
        "colab_type": "code",
        "colab": {}
      },
      "cell_type": "code",
      "source": [
        "train_x = train_x.astype('float32')\n",
        "train_x = train_x / 255.0\n",
        "val_x = val_x.astype('float32')\n",
        "val_x = val_x / 255.0\n"
      ],
      "execution_count": 0,
      "outputs": []
    },
    {
      "metadata": {
        "id": "jMKS1KOEGsB3",
        "colab_type": "code",
        "colab": {}
      },
      "cell_type": "code",
      "source": [
        "input_shape = (img_channels, img_rows, img_cols)\n",
        "model = Sequential()\n",
        "model.add(SeparableConv2D(filters=64, kernel_size=(3, 3), padding='same',\n",
        "                            name='image_array', input_shape=input_shape))\n",
        "model.add(BatchNormalization())\n",
        "model.add(Activation('relu'))\n",
        "model.add(SeparableConv2D(filters=64, kernel_size=(3, 3), padding='same'))\n",
        "model.add(BatchNormalization())\n",
        "model.add(Activation('relu'))\n",
        "model.add(MaxPooling2D(pool_size=(2, 2), padding='same'))\n",
        "model.add(Dropout(.5))\n",
        "\n",
        "model.add(SeparableConv2D(filters=128, kernel_size=(3, 3), padding='same'))\n",
        "model.add(BatchNormalization())\n",
        "model.add(Activation('relu'))\n",
        "model.add(SeparableConv2D(filters=128, kernel_size=(3, 3), padding='same'))\n",
        "model.add(BatchNormalization())\n",
        "model.add(Activation('relu'))\n",
        "model.add(MaxPooling2D(pool_size=(2, 2), padding='same'))\n",
        "model.add(Dropout(.2))\n",
        "\n",
        "model.add(SeparableConv2D(filters=256, kernel_size=(3, 3), padding='same'))\n",
        "model.add(BatchNormalization())\n",
        "model.add(Activation('relu'))\n",
        "model.add(SeparableConv2D(filters=256, kernel_size=(3, 3), padding='same'))\n",
        "model.add(BatchNormalization())\n",
        "model.add(Activation('relu'))\n",
        "model.add(MaxPooling2D(pool_size=(2, 2), padding='same'))\n",
        "model.add(Dropout(.25))\n",
        "\n",
        "model.add(SeparableConv2D(filters=512, kernel_size=(3, 3), padding='same'))\n",
        "model.add(BatchNormalization())\n",
        "model.add(Activation('relu'))\n",
        "model.add(SeparableConv2D(filters=512, kernel_size=(3, 3), padding='same'))\n",
        "model.add(BatchNormalization())\n",
        "model.add(Activation('relu'))\n",
        "model.add(MaxPooling2D(pool_size=(2, 2), padding='same'))\n",
        "model.add(Dropout(.25))\n",
        "\n",
        "model.add(Flatten())\n",
        "\n",
        "model.add(Dense(1024))\n",
        "model.add(BatchNormalization())\n",
        "model.add(Activation('relu'))\n",
        "model.add(Dropout(.45))\n",
        "\n",
        "model.add(Dense(1024))\n",
        "model.add(BatchNormalization())\n",
        "model.add(Activation('relu'))\n",
        "model.add(Dropout(.45))\n",
        "\n",
        "model.add(Dense(7))\n",
        "model.add(Activation('softmax'))"
      ],
      "execution_count": 0,
      "outputs": []
    },
    {
      "metadata": {
        "id": "tRsZspcA0uxT",
        "colab_type": "code",
        "colab": {
          "base_uri": "https://localhost:8080/",
          "height": 1598
        },
        "outputId": "a76258a4-49ac-4e22-daba-b37cb14d9a8f"
      },
      "cell_type": "code",
      "source": [
        "model.summary()"
      ],
      "execution_count": 36,
      "outputs": [
        {
          "output_type": "stream",
          "text": [
            "_________________________________________________________________\n",
            "Layer (type)                 Output Shape              Param #   \n",
            "=================================================================\n",
            "image_array (SeparableConv2D (None, 1, 48, 64)         3568      \n",
            "_________________________________________________________________\n",
            "batch_normalization_41 (Batc (None, 1, 48, 64)         256       \n",
            "_________________________________________________________________\n",
            "activation_45 (Activation)   (None, 1, 48, 64)         0         \n",
            "_________________________________________________________________\n",
            "separable_conv2d_29 (Separab (None, 1, 48, 64)         4736      \n",
            "_________________________________________________________________\n",
            "batch_normalization_42 (Batc (None, 1, 48, 64)         256       \n",
            "_________________________________________________________________\n",
            "activation_46 (Activation)   (None, 1, 48, 64)         0         \n",
            "_________________________________________________________________\n",
            "max_pooling2d_17 (MaxPooling (None, 1, 24, 64)         0         \n",
            "_________________________________________________________________\n",
            "dropout_24 (Dropout)         (None, 1, 24, 64)         0         \n",
            "_________________________________________________________________\n",
            "separable_conv2d_30 (Separab (None, 1, 24, 128)        8896      \n",
            "_________________________________________________________________\n",
            "batch_normalization_43 (Batc (None, 1, 24, 128)        512       \n",
            "_________________________________________________________________\n",
            "activation_47 (Activation)   (None, 1, 24, 128)        0         \n",
            "_________________________________________________________________\n",
            "separable_conv2d_31 (Separab (None, 1, 24, 128)        17664     \n",
            "_________________________________________________________________\n",
            "batch_normalization_44 (Batc (None, 1, 24, 128)        512       \n",
            "_________________________________________________________________\n",
            "activation_48 (Activation)   (None, 1, 24, 128)        0         \n",
            "_________________________________________________________________\n",
            "max_pooling2d_18 (MaxPooling (None, 1, 12, 128)        0         \n",
            "_________________________________________________________________\n",
            "dropout_25 (Dropout)         (None, 1, 12, 128)        0         \n",
            "_________________________________________________________________\n",
            "separable_conv2d_32 (Separab (None, 1, 12, 256)        34176     \n",
            "_________________________________________________________________\n",
            "batch_normalization_45 (Batc (None, 1, 12, 256)        1024      \n",
            "_________________________________________________________________\n",
            "activation_49 (Activation)   (None, 1, 12, 256)        0         \n",
            "_________________________________________________________________\n",
            "separable_conv2d_33 (Separab (None, 1, 12, 256)        68096     \n",
            "_________________________________________________________________\n",
            "batch_normalization_46 (Batc (None, 1, 12, 256)        1024      \n",
            "_________________________________________________________________\n",
            "activation_50 (Activation)   (None, 1, 12, 256)        0         \n",
            "_________________________________________________________________\n",
            "max_pooling2d_19 (MaxPooling (None, 1, 6, 256)         0         \n",
            "_________________________________________________________________\n",
            "dropout_26 (Dropout)         (None, 1, 6, 256)         0         \n",
            "_________________________________________________________________\n",
            "separable_conv2d_34 (Separab (None, 1, 6, 512)         133888    \n",
            "_________________________________________________________________\n",
            "batch_normalization_47 (Batc (None, 1, 6, 512)         2048      \n",
            "_________________________________________________________________\n",
            "activation_51 (Activation)   (None, 1, 6, 512)         0         \n",
            "_________________________________________________________________\n",
            "separable_conv2d_35 (Separab (None, 1, 6, 512)         267264    \n",
            "_________________________________________________________________\n",
            "batch_normalization_48 (Batc (None, 1, 6, 512)         2048      \n",
            "_________________________________________________________________\n",
            "activation_52 (Activation)   (None, 1, 6, 512)         0         \n",
            "_________________________________________________________________\n",
            "max_pooling2d_20 (MaxPooling (None, 1, 3, 512)         0         \n",
            "_________________________________________________________________\n",
            "dropout_27 (Dropout)         (None, 1, 3, 512)         0         \n",
            "_________________________________________________________________\n",
            "flatten_5 (Flatten)          (None, 1536)              0         \n",
            "_________________________________________________________________\n",
            "dense_13 (Dense)             (None, 1024)              1573888   \n",
            "_________________________________________________________________\n",
            "batch_normalization_49 (Batc (None, 1024)              4096      \n",
            "_________________________________________________________________\n",
            "activation_53 (Activation)   (None, 1024)              0         \n",
            "_________________________________________________________________\n",
            "dropout_28 (Dropout)         (None, 1024)              0         \n",
            "_________________________________________________________________\n",
            "dense_14 (Dense)             (None, 1024)              1049600   \n",
            "_________________________________________________________________\n",
            "batch_normalization_50 (Batc (None, 1024)              4096      \n",
            "_________________________________________________________________\n",
            "activation_54 (Activation)   (None, 1024)              0         \n",
            "_________________________________________________________________\n",
            "dropout_29 (Dropout)         (None, 1024)              0         \n",
            "_________________________________________________________________\n",
            "dense_15 (Dense)             (None, 7)                 7175      \n",
            "_________________________________________________________________\n",
            "activation_55 (Activation)   (None, 7)                 0         \n",
            "=================================================================\n",
            "Total params: 3,184,823\n",
            "Trainable params: 3,176,887\n",
            "Non-trainable params: 7,936\n",
            "_________________________________________________________________\n"
          ],
          "name": "stdout"
        }
      ]
    },
    {
      "metadata": {
        "id": "Hy0FyCcc2li0",
        "colab_type": "code",
        "colab": {}
      },
      "cell_type": "code",
      "source": [
        "model.compile(optimizer='Adam',\n",
        "                 loss='categorical_crossentropy',\n",
        "                 metrics=['accuracy'])"
      ],
      "execution_count": 0,
      "outputs": []
    },
    {
      "metadata": {
        "id": "PB9jPqCQhXOg",
        "colab_type": "code",
        "colab": {
          "base_uri": "https://localhost:8080/",
          "height": 411
        },
        "outputId": "7197d9a9-69d4-45ca-ec8f-8f82d8362947"
      },
      "cell_type": "code",
      "source": [
        "# Wino 1 Separable\n",
        "import time\n",
        "start_time = time.time()\n",
        "\n",
        "model.fit(train_x, train_y, epochs=10, batch_size=batch_size, validation_data=(val_x, val_y))\n",
        "print(\"--- %s seconds ---\" % (time.time() - start_time))"
      ],
      "execution_count": 46,
      "outputs": [
        {
          "output_type": "stream",
          "text": [
            "Train on 28709 samples, validate on 3589 samples\n",
            "Epoch 1/10\n",
            "28709/28709 [==============================] - 162s 6ms/step - loss: 2.0319 - acc: 0.2314 - val_loss: 1.7890 - val_acc: 0.2611\n",
            "Epoch 2/10\n",
            "28709/28709 [==============================] - 157s 5ms/step - loss: 1.8674 - acc: 0.2725 - val_loss: 1.9301 - val_acc: 0.2909\n",
            "Epoch 3/10\n",
            "  896/28709 [..............................] - ETA: 2:26 - loss: 1.8165 - acc: 0.2846"
          ],
          "name": "stdout"
        },
        {
          "output_type": "stream",
          "text": [
            "28709/28709 [==============================] - 157s 5ms/step - loss: 1.7964 - acc: 0.3042 - val_loss: 1.9084 - val_acc: 0.3305\n",
            "Epoch 4/10\n",
            "28709/28709 [==============================] - 158s 6ms/step - loss: 1.7450 - acc: 0.3279 - val_loss: 3.7197 - val_acc: 0.2956\n",
            "Epoch 5/10\n",
            "10880/28709 [==========>...................] - ETA: 1:34 - loss: 1.7126 - acc: 0.3461"
          ],
          "name": "stdout"
        },
        {
          "output_type": "stream",
          "text": [
            "28709/28709 [==============================] - 158s 6ms/step - loss: 1.7074 - acc: 0.3482 - val_loss: 1.6456 - val_acc: 0.3586\n",
            "Epoch 6/10\n",
            "28709/28709 [==============================] - 158s 6ms/step - loss: 1.6646 - acc: 0.3627 - val_loss: 1.7632 - val_acc: 0.3402\n",
            "Epoch 7/10\n",
            "13184/28709 [============>.................] - ETA: 1:22 - loss: 1.6483 - acc: 0.3651"
          ],
          "name": "stdout"
        },
        {
          "output_type": "stream",
          "text": [
            "28709/28709 [==============================] - 158s 6ms/step - loss: 1.6387 - acc: 0.3711 - val_loss: 1.6552 - val_acc: 0.3650\n",
            "Epoch 8/10\n",
            "28709/28709 [==============================] - 157s 5ms/step - loss: 1.6062 - acc: 0.3847 - val_loss: 1.5471 - val_acc: 0.3892\n",
            "Epoch 9/10\n",
            "13824/28709 [=============>................] - ETA: 1:19 - loss: 1.5900 - acc: 0.3901"
          ],
          "name": "stdout"
        },
        {
          "output_type": "stream",
          "text": [
            "28709/28709 [==============================] - 157s 5ms/step - loss: 1.5774 - acc: 0.3942 - val_loss: 1.5438 - val_acc: 0.4057\n",
            "Epoch 10/10\n",
            "28709/28709 [==============================] - 156s 5ms/step - loss: 1.5582 - acc: 0.4022 - val_loss: 1.5518 - val_acc: 0.3976\n",
            "--- 1581.2885239124298 seconds ---\n"
          ],
          "name": "stdout"
        }
      ]
    },
    {
      "metadata": {
        "id": "rCSCjxwP6eMQ",
        "colab_type": "code",
        "colab": {
          "base_uri": "https://localhost:8080/",
          "height": 411
        },
        "outputId": "a5fad5cd-f021-43c1-d084-eb9fd7e0f8a6"
      },
      "cell_type": "code",
      "source": [
        "# input normalized\n",
        "import time\n",
        "start_time = time.time()\n",
        "\n",
        "model.fit(train_x, train_y, epochs=10, batch_size=batch_size, validation_data=(val_x, val_y))\n",
        "print(\"--- %s seconds ---\" % (time.time() - start_time))"
      ],
      "execution_count": 50,
      "outputs": [
        {
          "output_type": "stream",
          "text": [
            "Train on 28709 samples, validate on 3589 samples\n",
            "Epoch 1/10\n",
            "28709/28709 [==============================] - 162s 6ms/step - loss: 2.0189 - acc: 0.2407 - val_loss: 1.8390 - val_acc: 0.2856\n",
            "Epoch 2/10\n",
            "28709/28709 [==============================] - 156s 5ms/step - loss: 1.8329 - acc: 0.2909 - val_loss: 1.7546 - val_acc: 0.3391\n",
            "Epoch 3/10\n",
            "  896/28709 [..............................] - ETA: 2:27 - loss: 1.7662 - acc: 0.3058"
          ],
          "name": "stdout"
        },
        {
          "output_type": "stream",
          "text": [
            "28709/28709 [==============================] - 157s 5ms/step - loss: 1.7695 - acc: 0.3230 - val_loss: 1.8986 - val_acc: 0.3093\n",
            "Epoch 4/10\n",
            "28709/28709 [==============================] - 157s 5ms/step - loss: 1.7122 - acc: 0.3484 - val_loss: 1.6657 - val_acc: 0.3611\n",
            "Epoch 5/10\n",
            "10880/28709 [==========>...................] - ETA: 1:34 - loss: 1.6901 - acc: 0.3509"
          ],
          "name": "stdout"
        },
        {
          "output_type": "stream",
          "text": [
            "28709/28709 [==============================] - 156s 5ms/step - loss: 1.6773 - acc: 0.3604 - val_loss: 1.7014 - val_acc: 0.3494\n",
            "Epoch 6/10\n",
            "28709/28709 [==============================] - 156s 5ms/step - loss: 1.6553 - acc: 0.3702 - val_loss: 1.6194 - val_acc: 0.3859\n",
            "Epoch 7/10\n",
            "13312/28709 [============>.................] - ETA: 1:20 - loss: 1.6141 - acc: 0.3857"
          ],
          "name": "stdout"
        },
        {
          "output_type": "stream",
          "text": [
            "28709/28709 [==============================] - 156s 5ms/step - loss: 1.6129 - acc: 0.3857 - val_loss: 1.6001 - val_acc: 0.3923\n",
            "Epoch 8/10\n",
            "28709/28709 [==============================] - 156s 5ms/step - loss: 1.5920 - acc: 0.3924 - val_loss: 1.6594 - val_acc: 0.4035\n",
            "Epoch 9/10\n",
            "13824/28709 [=============>................] - ETA: 1:18 - loss: 1.5641 - acc: 0.4065"
          ],
          "name": "stdout"
        },
        {
          "output_type": "stream",
          "text": [
            "28709/28709 [==============================] - 157s 5ms/step - loss: 1.5559 - acc: 0.4044 - val_loss: 1.5507 - val_acc: 0.4113\n",
            "Epoch 10/10\n",
            "28709/28709 [==============================] - 157s 5ms/step - loss: 1.5341 - acc: 0.4100 - val_loss: 1.5732 - val_acc: 0.4068\n",
            "--- 1574.3259291648865 seconds ---\n"
          ],
          "name": "stdout"
        }
      ]
    },
    {
      "metadata": {
        "id": "bJiUe6bEgjHD",
        "colab_type": "code",
        "colab": {}
      },
      "cell_type": "code",
      "source": [
        "filepath='Model.{epoch:02d}-{val_acc:.4f}.hdf5'\n",
        "checkpointer = keras.callbacks.ModelCheckpoint(filepath, monitor='val_loss', verbose=1, save_best_only=False, mode='auto')\n",
        "\n",
        "import time\n",
        "start_time = time.time()\n",
        "\n",
        "datagen = ImageDataGenerator(\n",
        "    featurewise_center=True,  # set input mean to 0 over the dataset\n",
        "    samplewise_center=True,  # set each sample mean to 0\n",
        "    featurewise_std_normalization=True,  # divide inputs by std of the dataset\n",
        "    samplewise_std_normalization=True,  # divide each input by its std\n",
        "    zca_whitening=True,  # apply ZCA whitening\n",
        "    rotation_range=40,  # randomly rotate images in the range (degrees, 0 to 180)\n",
        "    width_shift_range=0.2,  # randomly shift images horizontally (fraction of total width)\n",
        "    height_shift_range=0.2,  # randomly shift images vertically (fraction of total height)\n",
        "    horizontal_flip=True,  # randomly flip images\n",
        "    vertical_flip=True)  # randomly flip images\n",
        "\n",
        "datagen.fit(train_x)\n",
        "\n",
        "model.fit_generator(datagen.flow(train_x, train_y,\n",
        "                    batch_size=batch_size),\n",
        "                    steps_per_epoch=(train_x.shape[0]/batch_size),\n",
        "                    epochs=10,\n",
        "                    validation_data=(val_x, val_y),\n",
        "                    callbacks=[checkpointer])\n",
        "print(\"--- %s seconds ---\" % (time.time() - start_time))"
      ],
      "execution_count": 0,
      "outputs": []
    },
    {
      "metadata": {
        "id": "YnxxDPRDW8sA",
        "colab_type": "code",
        "colab": {
          "base_uri": "https://localhost:8080/",
          "height": 411
        },
        "outputId": "3c76fc68-ff94-4ecb-fcc7-7c841c3928ec"
      },
      "cell_type": "code",
      "source": [
        "# Wino 1 Separable\n",
        "import time\n",
        "start_time = time.time()\n",
        "\n",
        "model.fit(train_x, train_y, epochs=10, batch_size=batch_size, validation_data=(val_x, val_y))\n",
        "print(\"--- %s seconds ---\" % (time.time() - start_time))"
      ],
      "execution_count": 29,
      "outputs": [
        {
          "output_type": "stream",
          "text": [
            "Train on 28709 samples, validate on 3589 samples\n",
            "Epoch 1/10\n",
            "28709/28709 [==============================] - 13s 459us/step - loss: 2.0133 - acc: 0.2504 - val_loss: 1.7558 - val_acc: 0.2931\n",
            "Epoch 2/10\n",
            "28709/28709 [==============================] - 10s 350us/step - loss: 1.8040 - acc: 0.3142 - val_loss: 1.7831 - val_acc: 0.3232\n",
            "Epoch 3/10\n",
            "28709/28709 [==============================] - 10s 345us/step - loss: 1.6975 - acc: 0.3585 - val_loss: 1.7235 - val_acc: 0.3709\n",
            "Epoch 4/10\n",
            "  128/28709 [..............................] - ETA: 9s - loss: 1.8020 - acc: 0.3828"
          ],
          "name": "stdout"
        },
        {
          "output_type": "stream",
          "text": [
            "28709/28709 [==============================] - 10s 347us/step - loss: 1.6248 - acc: 0.3901 - val_loss: 1.6815 - val_acc: 0.3837\n",
            "Epoch 5/10\n",
            "28709/28709 [==============================] - 10s 346us/step - loss: 1.5606 - acc: 0.4072 - val_loss: 1.6298 - val_acc: 0.4107\n",
            "Epoch 6/10\n",
            "28709/28709 [==============================] - 10s 345us/step - loss: 1.5046 - acc: 0.4302 - val_loss: 1.5186 - val_acc: 0.4185\n",
            "Epoch 7/10\n",
            "10624/28709 [==========>...................] - ETA: 6s - loss: 1.4488 - acc: 0.4547"
          ],
          "name": "stdout"
        },
        {
          "output_type": "stream",
          "text": [
            "28709/28709 [==============================] - 10s 350us/step - loss: 1.4610 - acc: 0.4486 - val_loss: 1.5716 - val_acc: 0.4269\n",
            "Epoch 8/10\n",
            "28709/28709 [==============================] - 10s 350us/step - loss: 1.4148 - acc: 0.4682 - val_loss: 1.4896 - val_acc: 0.4366\n",
            "Epoch 9/10\n",
            "28709/28709 [==============================] - 10s 348us/step - loss: 1.3785 - acc: 0.4808 - val_loss: 1.4299 - val_acc: 0.4425\n",
            "Epoch 10/10\n",
            "12800/28709 [============>.................] - ETA: 5s - loss: 1.3371 - acc: 0.4895"
          ],
          "name": "stdout"
        },
        {
          "output_type": "stream",
          "text": [
            "28709/28709 [==============================] - 10s 349us/step - loss: 1.3455 - acc: 0.4874 - val_loss: 1.4069 - val_acc: 0.4595\n",
            "--- 105.74680256843567 seconds ---\n"
          ],
          "name": "stdout"
        }
      ]
    },
    {
      "metadata": {
        "id": "Ui05mKxjYDFJ",
        "colab_type": "code",
        "colab": {
          "base_uri": "https://localhost:8080/",
          "height": 241
        },
        "outputId": "802e6a10-ca9c-452c-d990-93e46055dc5f"
      },
      "cell_type": "code",
      "source": [
        "# Wino 1 Regular\n",
        "import time\n",
        "start_time = time.time()\n",
        "\n",
        "model.fit(train_x, train_y, epochs=5, batch_size=batch_size, validation_data=(val_x, val_y))\n",
        "print(\"--- %s seconds ---\" % (time.time() - start_time))"
      ],
      "execution_count": 36,
      "outputs": [
        {
          "output_type": "stream",
          "text": [
            "Train on 28709 samples, validate on 3589 samples\n",
            "Epoch 1/5\n",
            "28709/28709 [==============================] - 21s 715us/step - loss: 1.9565 - acc: 0.2723 - val_loss: 1.7349 - val_acc: 0.3266\n",
            "Epoch 2/5\n",
            "27648/28709 [===========================>..] - ETA: 0s - loss: 1.7632 - acc: 0.3394"
          ],
          "name": "stdout"
        },
        {
          "output_type": "stream",
          "text": [
            "28709/28709 [==============================] - 15s 533us/step - loss: 1.7624 - acc: 0.3405 - val_loss: 2.6360 - val_acc: 0.2577\n",
            "Epoch 3/5\n",
            "28709/28709 [==============================] - 15s 536us/step - loss: 1.6694 - acc: 0.3788 - val_loss: 1.7269 - val_acc: 0.3901\n",
            "Epoch 4/5\n",
            "15360/28709 [===============>..............] - ETA: 6s - loss: 1.6046 - acc: 0.4005"
          ],
          "name": "stdout"
        },
        {
          "output_type": "stream",
          "text": [
            "28709/28709 [==============================] - 15s 531us/step - loss: 1.6014 - acc: 0.3990 - val_loss: 1.6849 - val_acc: 0.3650\n",
            "Epoch 5/5\n",
            "28709/28709 [==============================] - 15s 536us/step - loss: 1.5383 - acc: 0.4241 - val_loss: 1.5914 - val_acc: 0.4004\n",
            "--- 84.23344898223877 seconds ---\n"
          ],
          "name": "stdout"
        }
      ]
    },
    {
      "metadata": {
        "id": "RRDR79EUZAMY",
        "colab_type": "code",
        "colab": {
          "base_uri": "https://localhost:8080/",
          "height": 241
        },
        "outputId": "3add34f8-dbba-4577-ec43-fa5911c3163f"
      },
      "cell_type": "code",
      "source": [
        "# Wino 0 Regular\n",
        "import time\n",
        "start_time = time.time()\n",
        "\n",
        "model.fit(train_x, train_y, epochs=5, batch_size=batch_size, validation_data=(val_x, val_y))\n",
        "print(\"--- %s seconds ---\" % (time.time() - start_time))"
      ],
      "execution_count": 41,
      "outputs": [
        {
          "output_type": "stream",
          "text": [
            "Train on 28709 samples, validate on 3589 samples\n",
            "Epoch 1/5\n",
            "28709/28709 [==============================] - 19s 666us/step - loss: 1.9578 - acc: 0.2694 - val_loss: 1.7939 - val_acc: 0.3073\n",
            "Epoch 2/5\n",
            "28544/28709 [============================>.] - ETA: 0s - loss: 1.7300 - acc: 0.3487"
          ],
          "name": "stdout"
        },
        {
          "output_type": "stream",
          "text": [
            "28709/28709 [==============================] - 15s 536us/step - loss: 1.7292 - acc: 0.3488 - val_loss: 1.6637 - val_acc: 0.3452\n",
            "Epoch 3/5\n",
            "28709/28709 [==============================] - 15s 535us/step - loss: 1.6358 - acc: 0.3831 - val_loss: 2.1404 - val_acc: 0.2792\n",
            "Epoch 4/5\n",
            "15104/28709 [==============>...............] - ETA: 7s - loss: 1.6028 - acc: 0.4033"
          ],
          "name": "stdout"
        },
        {
          "output_type": "stream",
          "text": [
            "28709/28709 [==============================] - 15s 533us/step - loss: 1.5859 - acc: 0.4056 - val_loss: 1.6214 - val_acc: 0.3773\n",
            "Epoch 5/5\n",
            "28709/28709 [==============================] - 15s 534us/step - loss: 1.5197 - acc: 0.4234 - val_loss: 1.5772 - val_acc: 0.3996\n",
            "--- 82.82288789749146 seconds ---\n"
          ],
          "name": "stdout"
        }
      ]
    },
    {
      "metadata": {
        "id": "SMi7iOeHaJiv",
        "colab_type": "code",
        "colab": {
          "base_uri": "https://localhost:8080/",
          "height": 241
        },
        "outputId": "14a08d31-356a-40a2-cbe7-06a84b935ba4"
      },
      "cell_type": "code",
      "source": [
        "# Wino 1 Regular\n",
        "import time\n",
        "start_time = time.time()\n",
        "\n",
        "model.fit(train_x, train_y, epochs=5, batch_size=batch_size, validation_data=(val_x, val_y))\n",
        "print(\"--- %s seconds ---\" % (time.time() - start_time))"
      ],
      "execution_count": 46,
      "outputs": [
        {
          "output_type": "stream",
          "text": [
            "Train on 28709 samples, validate on 3589 samples\n",
            "Epoch 1/5\n",
            "28709/28709 [==============================] - 20s 681us/step - loss: 1.9462 - acc: 0.2755 - val_loss: 1.7434 - val_acc: 0.3266\n",
            "Epoch 2/5\n",
            "27648/28709 [===========================>..] - ETA: 0s - loss: 1.7649 - acc: 0.3430"
          ],
          "name": "stdout"
        },
        {
          "output_type": "stream",
          "text": [
            "28709/28709 [==============================] - 15s 538us/step - loss: 1.7648 - acc: 0.3434 - val_loss: 1.9530 - val_acc: 0.3380\n",
            "Epoch 3/5\n",
            "28709/28709 [==============================] - 15s 537us/step - loss: 1.6668 - acc: 0.3793 - val_loss: 1.5976 - val_acc: 0.3639\n",
            "Epoch 4/5\n",
            "15360/28709 [===============>..............] - ETA: 6s - loss: 1.6099 - acc: 0.4033"
          ],
          "name": "stdout"
        },
        {
          "output_type": "stream",
          "text": [
            "28709/28709 [==============================] - 15s 534us/step - loss: 1.5981 - acc: 0.4060 - val_loss: 1.6072 - val_acc: 0.3915\n",
            "Epoch 5/5\n",
            "28709/28709 [==============================] - 15s 536us/step - loss: 1.5397 - acc: 0.4279 - val_loss: 1.6131 - val_acc: 0.4115\n",
            "--- 83.71084761619568 seconds ---\n"
          ],
          "name": "stdout"
        }
      ]
    },
    {
      "metadata": {
        "id": "a0-FkLercEHj",
        "colab_type": "code",
        "colab": {
          "base_uri": "https://localhost:8080/",
          "height": 411
        },
        "outputId": "a4021d2e-c4fc-4562-de4c-9c14f568d474"
      },
      "cell_type": "code",
      "source": [
        "# Wino 1 Regular 1x3 3x1\n",
        "import time\n",
        "start_time = time.time()\n",
        "\n",
        "model.fit(train_x, train_y, epochs=10, batch_size=batch_size, validation_data=(val_x, val_y))\n",
        "print(\"--- %s seconds ---\" % (time.time() - start_time))"
      ],
      "execution_count": 50,
      "outputs": [
        {
          "output_type": "stream",
          "text": [
            "Train on 28709 samples, validate on 3589 samples\n",
            "Epoch 1/10\n",
            "28709/28709 [==============================] - 12s 403us/step - loss: 1.6001 - acc: 0.3919 - val_loss: 1.8056 - val_acc: 0.3633\n",
            "Epoch 2/10\n",
            "28709/28709 [==============================] - 12s 404us/step - loss: 1.5769 - acc: 0.4010 - val_loss: 1.5454 - val_acc: 0.3968\n",
            "Epoch 3/10\n",
            " 8320/28709 [=======>......................] - ETA: 8s - loss: 1.5557 - acc: 0.4109"
          ],
          "name": "stdout"
        },
        {
          "output_type": "stream",
          "text": [
            "28709/28709 [==============================] - 12s 408us/step - loss: 1.5528 - acc: 0.4049 - val_loss: 1.5312 - val_acc: 0.3945\n",
            "Epoch 4/10\n",
            "28709/28709 [==============================] - 12s 409us/step - loss: 1.5132 - acc: 0.4224 - val_loss: 1.5086 - val_acc: 0.4068\n",
            "Epoch 5/10\n",
            "17920/28709 [=================>............] - ETA: 4s - loss: 1.4812 - acc: 0.4359"
          ],
          "name": "stdout"
        },
        {
          "output_type": "stream",
          "text": [
            "28709/28709 [==============================] - 12s 409us/step - loss: 1.4866 - acc: 0.4333 - val_loss: 1.4970 - val_acc: 0.4099\n",
            "Epoch 6/10\n",
            "28709/28709 [==============================] - 12s 409us/step - loss: 1.4692 - acc: 0.4366 - val_loss: 1.4706 - val_acc: 0.4361\n",
            "Epoch 7/10\n",
            "21120/28709 [=====================>........] - ETA: 2s - loss: 1.4426 - acc: 0.4434"
          ],
          "name": "stdout"
        },
        {
          "output_type": "stream",
          "text": [
            "28709/28709 [==============================] - 12s 406us/step - loss: 1.4473 - acc: 0.4439 - val_loss: 1.4631 - val_acc: 0.4330\n",
            "Epoch 8/10\n",
            "28709/28709 [==============================] - 12s 410us/step - loss: 1.4302 - acc: 0.4500 - val_loss: 1.4582 - val_acc: 0.4405\n",
            "Epoch 9/10\n",
            "22272/28709 [======================>.......] - ETA: 2s - loss: 1.4148 - acc: 0.4572"
          ],
          "name": "stdout"
        },
        {
          "output_type": "stream",
          "text": [
            "28709/28709 [==============================] - 12s 408us/step - loss: 1.4161 - acc: 0.4561 - val_loss: 1.4536 - val_acc: 0.4327\n",
            "Epoch 10/10\n",
            "28709/28709 [==============================] - 12s 402us/step - loss: 1.3887 - acc: 0.4660 - val_loss: 1.4843 - val_acc: 0.4372\n",
            "--- 116.78946256637573 seconds ---\n"
          ],
          "name": "stdout"
        }
      ]
    }
  ]
}