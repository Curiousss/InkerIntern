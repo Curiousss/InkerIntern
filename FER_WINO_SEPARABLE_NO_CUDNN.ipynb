{
  "nbformat": 4,
  "nbformat_minor": 0,
  "metadata": {
    "colab": {
      "name": "FER_WINO_SEPARABLE_NO_CUDNN.ipynb",
      "version": "0.3.2",
      "provenance": [],
      "collapsed_sections": []
    },
    "kernelspec": {
      "name": "python3",
      "display_name": "Python 3"
    },
    "accelerator": "GPU"
  },
  "cells": [
    {
      "cell_type": "markdown",
      "metadata": {
        "id": "view-in-github",
        "colab_type": "text"
      },
      "source": [
        "[View in Colaboratory](https://colab.research.google.com/github/Curiousss/InkerIntern/blob/master/FER_WINO_SEPARABLE_NO_CUDNN.ipynb)"
      ]
    },
    {
      "metadata": {
        "id": "TLXfmtMTnNAM",
        "colab_type": "code",
        "colab": {
          "base_uri": "https://localhost:8080/",
          "height": 310
        },
        "outputId": "6454085a-138a-430f-c1e9-de17b94e8ffb"
      },
      "cell_type": "code",
      "source": [
        "!wget https://www.kaggle.com/c/challenges-in-representation-learning-facial-expression-recognition-challenge/download/fer2013.tar.gz"
      ],
      "execution_count": 1,
      "outputs": [
        {
          "output_type": "stream",
          "text": [
            "--2018-06-19 05:32:15--  https://www.kaggle.com/c/challenges-in-representation-learning-facial-expression-recognition-challenge/download/fer2013.tar.gz\n",
            "Resolving www.kaggle.com (www.kaggle.com)... 168.62.224.124\n",
            "Connecting to www.kaggle.com (www.kaggle.com)|168.62.224.124|:443... connected.\n",
            "HTTP request sent, awaiting response... 302 Found\n",
            "Location: /account/login?ReturnUrl=%2fc%2fchallenges-in-representation-learning-facial-expression-recognition-challenge%2fdownload%2ffer2013.tar.gz [following]\n",
            "--2018-06-19 05:32:15--  https://www.kaggle.com/account/login?ReturnUrl=%2fc%2fchallenges-in-representation-learning-facial-expression-recognition-challenge%2fdownload%2ffer2013.tar.gz\n",
            "Reusing existing connection to www.kaggle.com:443.\n",
            "HTTP request sent, awaiting response... 200 OK\n",
            "Length: 8229 (8.0K) [text/html]\n",
            "Saving to: ‘fer2013.tar.gz’\n",
            "\n",
            "fer2013.tar.gz      100%[===================>]   8.04K  --.-KB/s    in 0s      \n",
            "\n",
            "2018-06-19 05:32:15 (149 MB/s) - ‘fer2013.tar.gz’ saved [8229/8229]\n",
            "\n"
          ],
          "name": "stdout"
        }
      ]
    },
    {
      "metadata": {
        "id": "Q9eNowMGaO_J",
        "colab_type": "code",
        "colab": {
          "resources": {
            "http://localhost:8080/nbextensions/google.colab/files.js": {
              "data": "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",
              "ok": true,
              "headers": [
                [
                  "content-type",
                  "application/javascript"
                ]
              ],
              "status": 200,
              "status_text": ""
            }
          },
          "base_uri": "https://localhost:8080/",
          "height": 73
        },
        "outputId": "4cff0e06-c286-4359-ad84-ebac05b59250"
      },
      "cell_type": "code",
      "source": [
        "from google.colab import files\n",
        "uploaded = files.upload()"
      ],
      "execution_count": 1,
      "outputs": [
        {
          "output_type": "display_data",
          "data": {
            "text/html": [
              "\n",
              "     <input type=\"file\" id=\"files-5492da07-2c0b-4d03-acb1-493e8b00914a\" name=\"files[]\" multiple disabled />\n",
              "     <output id=\"result-5492da07-2c0b-4d03-acb1-493e8b00914a\">\n",
              "      Upload widget is only available when the cell has been executed in the\n",
              "      current browser session. Please rerun this cell to enable.\n",
              "      </output>\n",
              "      <script src=\"/nbextensions/google.colab/files.js\"></script> "
            ],
            "text/plain": [
              "<IPython.core.display.HTML object>"
            ]
          },
          "metadata": {
            "tags": []
          }
        },
        {
          "output_type": "stream",
          "text": [
            "Saving fer2013.tar to fer2013.tar\n"
          ],
          "name": "stdout"
        }
      ]
    },
    {
      "metadata": {
        "id": "BEb9SWJUV8T2",
        "colab_type": "code",
        "colab": {
          "base_uri": "https://localhost:8080/",
          "height": 35
        },
        "outputId": "b6bf9b9e-9b08-442c-b7c8-1fa42cb29e45"
      },
      "cell_type": "code",
      "source": [
        "!ls"
      ],
      "execution_count": 3,
      "outputs": [
        {
          "output_type": "stream",
          "text": [
            "datalab  fer2013.tar  fer2013.tar.gz\r\n"
          ],
          "name": "stdout"
        }
      ]
    },
    {
      "metadata": {
        "id": "FWp55WPDUsSy",
        "colab_type": "code",
        "colab": {
          "base_uri": "https://localhost:8080/",
          "height": 34
        },
        "outputId": "e9ade29b-c405-43be-d53e-e3ce92dc71ec"
      },
      "cell_type": "code",
      "source": [
        "import os\n",
        "!export TF_ENABLE_WINOGRAD_NONFUSED=1\n",
        "os.environ['TF_ENABLE_WINOGRAD_NONFUSED'] = '1'\n",
        "os.environ.pop('TF_ENABLE_WINOGRAD_NONFUSED', None)"
      ],
      "execution_count": 42,
      "outputs": [
        {
          "output_type": "execute_result",
          "data": {
            "text/plain": [
              "'1'"
            ]
          },
          "metadata": {
            "tags": []
          },
          "execution_count": 42
        }
      ]
    },
    {
      "metadata": {
        "id": "ldEdUzQbuQIi",
        "colab_type": "code",
        "colab": {
          "base_uri": "https://localhost:8080/",
          "height": 108
        },
        "outputId": "fe45500b-1d8f-439f-ff24-8b19dce68e6a"
      },
      "cell_type": "code",
      "source": [
        "!tar xvf fer2013.tar\n",
        "!ls"
      ],
      "execution_count": 2,
      "outputs": [
        {
          "output_type": "stream",
          "text": [
            "fer2013/fer2013.csv\n",
            "fer2013/README\n",
            "fer2013/fer2013.bib\n",
            "fer2013/\n",
            "datalab  fer2013  fer2013.tar\n"
          ],
          "name": "stdout"
        }
      ]
    },
    {
      "metadata": {
        "id": "dTyUIGDeuAQf",
        "colab_type": "code",
        "colab": {}
      },
      "cell_type": "code",
      "source": [
        "\n",
        "import csv\n",
        "import numpy as np\n",
        "\n",
        "import keras\n",
        "from keras.models import Sequential\n",
        "from keras.layers import Dense, Dropout, Activation, Flatten, GlobalAveragePooling2D, InputLayer\n",
        "from keras.layers import Convolution2D, SeparableConv2D, MaxPooling2D, BatchNormalization \n",
        "from keras.layers.advanced_activations import PReLU\n",
        "from keras.utils import np_utils\n",
        "from keras.preprocessing.image import ImageDataGenerator"
      ],
      "execution_count": 0,
      "outputs": []
    },
    {
      "metadata": {
        "id": "OqJCQeGxhq4x",
        "colab_type": "code",
        "colab": {}
      },
      "cell_type": "code",
      "source": [
        "img_rows, img_cols = 48, 48\n",
        "batch_size = 128\n",
        "classes = 7\n",
        "epoch = 100\n",
        "img_channels = 1"
      ],
      "execution_count": 0,
      "outputs": []
    },
    {
      "metadata": {
        "id": "sq7nNsVmhsYX",
        "colab_type": "code",
        "colab": {}
      },
      "cell_type": "code",
      "source": [
        "import csv\n",
        "f = open('fer2013/fer2013.csv')\n",
        "csv_f = csv.reader(f)\n",
        "\n",
        "train_x = []\n",
        "train_y = []\n",
        "val_x =[]\n",
        "val_y =[]\n"
      ],
      "execution_count": 0,
      "outputs": []
    },
    {
      "metadata": {
        "id": "yQSDhHZ3tKqk",
        "colab_type": "code",
        "colab": {
          "base_uri": "https://localhost:8080/",
          "height": 35
        },
        "outputId": "80edb833-41e5-4fe9-a9db-df68ce75623f"
      },
      "cell_type": "code",
      "source": [
        "print(csv_f)"
      ],
      "execution_count": 9,
      "outputs": [
        {
          "output_type": "stream",
          "text": [
            "<_csv.reader object at 0x7fc63a4f6908>\n"
          ],
          "name": "stdout"
        }
      ]
    },
    {
      "metadata": {
        "id": "HmmgpkTpiWyS",
        "colab_type": "code",
        "colab": {}
      },
      "cell_type": "code",
      "source": [
        "num=0\n",
        "for row in csv_f:\n",
        "  #print(row)\n",
        "  num = num +1\n",
        "  #print(num)\n",
        "  temp_list = []\n",
        "  for pixel in row[1].split( ):\n",
        "    temp_list.append(int(pixel))\n",
        "\n",
        "  if str(row[2]) == \"Training\":\n",
        "    train_y.append(int(row[0]))\n",
        "    train_x.append(temp_list) \n",
        "  elif str(row[2]) == \"PublicTest\":\n",
        "    val_y.append(int(row[0]))\n",
        "    val_x.append(temp_list)"
      ],
      "execution_count": 0,
      "outputs": []
    },
    {
      "metadata": {
        "id": "H6rDJXl4rUKS",
        "colab_type": "code",
        "colab": {}
      },
      "cell_type": "code",
      "source": [
        "train_x = np.asarray(train_x)\n",
        "train_y = np.asarray(train_y)\n",
        "val_x = np.asarray(val_x)\n",
        "val_y = np.asarray(val_y)"
      ],
      "execution_count": 0,
      "outputs": []
    },
    {
      "metadata": {
        "id": "lmXwV3InrVsQ",
        "colab_type": "code",
        "colab": {}
      },
      "cell_type": "code",
      "source": [
        "train_x = train_x.reshape(train_x.shape[0], 48, 48)\n",
        "train_x = train_x.reshape(train_x.shape[0], 1, 48, 48)\n",
        "train_y = np_utils.to_categorical(train_y, 7)"
      ],
      "execution_count": 0,
      "outputs": []
    },
    {
      "metadata": {
        "id": "s3iZUfL1ztRu",
        "colab_type": "code",
        "colab": {}
      },
      "cell_type": "code",
      "source": [
        "val_x = val_x.reshape(val_x.shape[0], 48, 48)\n",
        "val_x = val_x.reshape(val_x.shape[0], 1, 48, 48)\n",
        "val_y = np_utils.to_categorical(val_y, 7)"
      ],
      "execution_count": 0,
      "outputs": []
    },
    {
      "metadata": {
        "id": "bkb-p1BXzBrI",
        "colab_type": "code",
        "colab": {}
      },
      "cell_type": "code",
      "source": [
        "train_x = train_x.astype('float32')\n",
        "train_x = train_x / 255.0\n",
        "val_x = val_x.astype('float32')\n",
        "val_x = val_x / 255.0\n"
      ],
      "execution_count": 0,
      "outputs": []
    },
    {
      "metadata": {
        "id": "jMKS1KOEGsB3",
        "colab_type": "code",
        "colab": {}
      },
      "cell_type": "code",
      "source": [
        "input_shape = (img_channels, img_rows, img_cols)\n",
        "model = Sequential()\n",
        "model.add(SeparableConv2D(filters=64, kernel_size=(3, 3), padding='same',\n",
        "                            name='image_array', input_shape=input_shape))\n",
        "model.add(BatchNormalization())\n",
        "model.add(PReLU())\n",
        "model.add(SeparableConv2D(filters=64, kernel_size=(3, 3), padding='same'))\n",
        "model.add(BatchNormalization())\n",
        "model.add(PReLU())\n",
        "model.add(MaxPooling2D(pool_size=(2, 2), padding='same'))\n",
        "model.add(Dropout(.25))\n",
        "\n",
        "model.add(SeparableConv2D(filters=128, kernel_size=(3, 3), padding='same'))\n",
        "model.add(BatchNormalization())\n",
        "model.add(PReLU())\n",
        "model.add(SeparableConv2D(filters=128, kernel_size=(3, 3), padding='same'))\n",
        "model.add(BatchNormalization())\n",
        "model.add(PReLU())\n",
        "model.add(MaxPooling2D(pool_size=(2, 2), padding='same'))\n",
        "model.add(Dropout(.25))\n",
        "\n",
        "model.add(SeparableConv2D(filters=256, kernel_size=(3, 3), padding='same'))\n",
        "model.add(BatchNormalization())\n",
        "model.add(PReLU())\n",
        "model.add(SeparableConv2D(filters=256, kernel_size=(3, 3), padding='same'))\n",
        "model.add(BatchNormalization())\n",
        "model.add(PReLU())\n",
        "model.add(MaxPooling2D(pool_size=(2, 2), padding='same'))\n",
        "model.add(Dropout(.25))\n",
        "\n",
        "model.add(SeparableConv2D(filters=512, kernel_size=(3, 3), padding='same'))\n",
        "model.add(BatchNormalization())\n",
        "model.add(PReLU())\n",
        "model.add(SeparableConv2D(filters=512, kernel_size=(3, 3), padding='same'))\n",
        "model.add(BatchNormalization())\n",
        "model.add(PReLU())\n",
        "model.add(MaxPooling2D(pool_size=(2, 2), padding='same'))\n",
        "model.add(Dropout(.25))\n",
        "\n",
        "model.add(SeparableConv2D(filters=1024, kernel_size=(3, 3), padding='same'))\n",
        "model.add(BatchNormalization())\n",
        "model.add(PReLU())\n",
        "model.add(SeparableConv2D(filters=1024, kernel_size=(3, 3), padding='same'))\n",
        "model.add(BatchNormalization())\n",
        "model.add(PReLU())\n",
        "model.add(MaxPooling2D(pool_size=(2, 2), padding='same'))\n",
        "model.add(Dropout(.25))\n",
        "\n",
        "model.add(Flatten())\n",
        "\n",
        "model.add(Dense(2048))\n",
        "model.add(BatchNormalization())\n",
        "model.add(PReLU())\n",
        "model.add(Dropout(.5))\n",
        "\n",
        "model.add(Dense(2048))\n",
        "model.add(BatchNormalization())\n",
        "model.add(PReLU())\n",
        "model.add(Dropout(.5))\n",
        "\n",
        "#model.add(InputLayer(input_shape=(1, 2, 2014)))\n",
        "#model.add(GlobalAveragePooling2D())\n",
        "model.add(Dense(7))\n",
        "model.add(Activation('softmax'))"
      ],
      "execution_count": 0,
      "outputs": []
    },
    {
      "metadata": {
        "id": "tRsZspcA0uxT",
        "colab_type": "code",
        "colab": {
          "base_uri": "https://localhost:8080/",
          "height": 1999
        },
        "outputId": "64ac0ec1-11e8-436e-e78a-d20f0912d94f"
      },
      "cell_type": "code",
      "source": [
        "model.summary()"
      ],
      "execution_count": 77,
      "outputs": [
        {
          "output_type": "stream",
          "text": [
            "_________________________________________________________________\n",
            "Layer (type)                 Output Shape              Param #   \n",
            "=================================================================\n",
            "image_array (SeparableConv2D (None, 1, 48, 64)         3568      \n",
            "_________________________________________________________________\n",
            "batch_normalization_207 (Bat (None, 1, 48, 64)         256       \n",
            "_________________________________________________________________\n",
            "p_re_lu_180 (PReLU)          (None, 1, 48, 64)         3072      \n",
            "_________________________________________________________________\n",
            "separable_conv2d_146 (Separa (None, 1, 48, 64)         4736      \n",
            "_________________________________________________________________\n",
            "batch_normalization_208 (Bat (None, 1, 48, 64)         256       \n",
            "_________________________________________________________________\n",
            "p_re_lu_181 (PReLU)          (None, 1, 48, 64)         3072      \n",
            "_________________________________________________________________\n",
            "max_pooling2d_84 (MaxPooling (None, 1, 24, 64)         0         \n",
            "_________________________________________________________________\n",
            "dropout_121 (Dropout)        (None, 1, 24, 64)         0         \n",
            "_________________________________________________________________\n",
            "separable_conv2d_147 (Separa (None, 1, 24, 128)        8896      \n",
            "_________________________________________________________________\n",
            "batch_normalization_209 (Bat (None, 1, 24, 128)        512       \n",
            "_________________________________________________________________\n",
            "p_re_lu_182 (PReLU)          (None, 1, 24, 128)        3072      \n",
            "_________________________________________________________________\n",
            "separable_conv2d_148 (Separa (None, 1, 24, 128)        17664     \n",
            "_________________________________________________________________\n",
            "batch_normalization_210 (Bat (None, 1, 24, 128)        512       \n",
            "_________________________________________________________________\n",
            "p_re_lu_183 (PReLU)          (None, 1, 24, 128)        3072      \n",
            "_________________________________________________________________\n",
            "max_pooling2d_85 (MaxPooling (None, 1, 12, 128)        0         \n",
            "_________________________________________________________________\n",
            "dropout_122 (Dropout)        (None, 1, 12, 128)        0         \n",
            "_________________________________________________________________\n",
            "separable_conv2d_149 (Separa (None, 1, 12, 256)        34176     \n",
            "_________________________________________________________________\n",
            "batch_normalization_211 (Bat (None, 1, 12, 256)        1024      \n",
            "_________________________________________________________________\n",
            "p_re_lu_184 (PReLU)          (None, 1, 12, 256)        3072      \n",
            "_________________________________________________________________\n",
            "separable_conv2d_150 (Separa (None, 1, 12, 256)        68096     \n",
            "_________________________________________________________________\n",
            "batch_normalization_212 (Bat (None, 1, 12, 256)        1024      \n",
            "_________________________________________________________________\n",
            "p_re_lu_185 (PReLU)          (None, 1, 12, 256)        3072      \n",
            "_________________________________________________________________\n",
            "max_pooling2d_86 (MaxPooling (None, 1, 6, 256)         0         \n",
            "_________________________________________________________________\n",
            "dropout_123 (Dropout)        (None, 1, 6, 256)         0         \n",
            "_________________________________________________________________\n",
            "separable_conv2d_151 (Separa (None, 1, 6, 512)         133888    \n",
            "_________________________________________________________________\n",
            "batch_normalization_213 (Bat (None, 1, 6, 512)         2048      \n",
            "_________________________________________________________________\n",
            "p_re_lu_186 (PReLU)          (None, 1, 6, 512)         3072      \n",
            "_________________________________________________________________\n",
            "separable_conv2d_152 (Separa (None, 1, 6, 512)         267264    \n",
            "_________________________________________________________________\n",
            "batch_normalization_214 (Bat (None, 1, 6, 512)         2048      \n",
            "_________________________________________________________________\n",
            "p_re_lu_187 (PReLU)          (None, 1, 6, 512)         3072      \n",
            "_________________________________________________________________\n",
            "max_pooling2d_87 (MaxPooling (None, 1, 3, 512)         0         \n",
            "_________________________________________________________________\n",
            "dropout_124 (Dropout)        (None, 1, 3, 512)         0         \n",
            "_________________________________________________________________\n",
            "separable_conv2d_153 (Separa (None, 1, 3, 1024)        529920    \n",
            "_________________________________________________________________\n",
            "batch_normalization_215 (Bat (None, 1, 3, 1024)        4096      \n",
            "_________________________________________________________________\n",
            "p_re_lu_188 (PReLU)          (None, 1, 3, 1024)        3072      \n",
            "_________________________________________________________________\n",
            "separable_conv2d_154 (Separa (None, 1, 3, 2014)        2073566   \n",
            "_________________________________________________________________\n",
            "batch_normalization_216 (Bat (None, 1, 3, 2014)        8056      \n",
            "_________________________________________________________________\n",
            "p_re_lu_189 (PReLU)          (None, 1, 3, 2014)        6042      \n",
            "_________________________________________________________________\n",
            "max_pooling2d_88 (MaxPooling (None, 1, 2, 2014)        0         \n",
            "_________________________________________________________________\n",
            "dropout_125 (Dropout)        (None, 1, 2, 2014)        0         \n",
            "_________________________________________________________________\n",
            "flatten_21 (Flatten)         (None, 4028)              0         \n",
            "_________________________________________________________________\n",
            "dense_57 (Dense)             (None, 2048)              8251392   \n",
            "_________________________________________________________________\n",
            "batch_normalization_217 (Bat (None, 2048)              8192      \n",
            "_________________________________________________________________\n",
            "p_re_lu_190 (PReLU)          (None, 2048)              2048      \n",
            "_________________________________________________________________\n",
            "dropout_126 (Dropout)        (None, 2048)              0         \n",
            "_________________________________________________________________\n",
            "dense_58 (Dense)             (None, 2048)              4196352   \n",
            "_________________________________________________________________\n",
            "batch_normalization_218 (Bat (None, 2048)              8192      \n",
            "_________________________________________________________________\n",
            "p_re_lu_191 (PReLU)          (None, 2048)              2048      \n",
            "_________________________________________________________________\n",
            "dropout_127 (Dropout)        (None, 2048)              0         \n",
            "_________________________________________________________________\n",
            "dense_59 (Dense)             (None, 7)                 14343     \n",
            "_________________________________________________________________\n",
            "activation_162 (Activation)  (None, 7)                 0         \n",
            "=================================================================\n",
            "Total params: 15,677,863\n",
            "Trainable params: 15,659,755\n",
            "Non-trainable params: 18,108\n",
            "_________________________________________________________________\n"
          ],
          "name": "stdout"
        }
      ]
    },
    {
      "metadata": {
        "id": "Hy0FyCcc2li0",
        "colab_type": "code",
        "colab": {}
      },
      "cell_type": "code",
      "source": [
        "model.compile(optimizer='nadam',\n",
        "                 loss='categorical_crossentropy',\n",
        "                 metrics=['accuracy'])\n",
        "filepath='Model.{epoch:02d}.hdf5'\n",
        "checkpointer = keras.callbacks.ModelCheckpoint(filepath, monitor='val_loss', verbose=1, save_best_only=False, mode='auto')\n"
      ],
      "execution_count": 0,
      "outputs": []
    },
    {
      "metadata": {
        "id": "rZYe0RPXn4O_",
        "colab_type": "code",
        "colab": {}
      },
      "cell_type": "code",
      "source": [
        "model.load_weights('Model.49-0.4960.hdf5')"
      ],
      "execution_count": 0,
      "outputs": []
    },
    {
      "metadata": {
        "id": "PB9jPqCQhXOg",
        "colab_type": "code",
        "colab": {
          "base_uri": "https://localhost:8080/",
          "height": 3710
        },
        "outputId": "009a3216-1047-4da8-d320-ce9e0450765f"
      },
      "cell_type": "code",
      "source": [
        "# PReLU\n",
        "import time\n",
        "start_time = time.time()\n",
        "\n",
        "model.fit(train_x, train_y, epochs=50, batch_size=batch_size, validation_data=(val_x, val_y), callbacks=[checkpointer])\n",
        "print(\"--- %s seconds ---\" % (time.time() - start_time))"
      ],
      "execution_count": 73,
      "outputs": [
        {
          "output_type": "stream",
          "text": [
            "Train on 28709 samples, validate on 3589 samples\n",
            "Epoch 1/50\n",
            "28709/28709 [==============================] - 34s 1ms/step - loss: 2.0557 - acc: 0.2439 - val_loss: 12.0170 - val_acc: 0.2497\n",
            "\n",
            "Epoch 00001: saving model to Model.01.hdf5\n",
            "Epoch 2/50\n",
            "26368/28709 [==========================>...] - ETA: 1s - loss: 2.0282 - acc: 0.2418"
          ],
          "name": "stdout"
        },
        {
          "output_type": "stream",
          "text": [
            "28709/28709 [==============================] - 21s 733us/step - loss: 2.0266 - acc: 0.2429 - val_loss: 10.3507 - val_acc: 0.2488\n",
            "\n",
            "Epoch 00002: saving model to Model.02.hdf5\n",
            "Epoch 3/50\n",
            "28709/28709 [==============================] - 21s 726us/step - loss: 1.9263 - acc: 0.2712 - val_loss: 2.1679 - val_acc: 0.2586\n",
            "\n",
            "Epoch 00003: saving model to Model.03.hdf5\n",
            "Epoch 4/50\n",
            "10624/28709 [==========>...................] - ETA: 12s - loss: 1.9367 - acc: 0.2775"
          ],
          "name": "stdout"
        },
        {
          "output_type": "stream",
          "text": [
            "28709/28709 [==============================] - 21s 726us/step - loss: 1.8957 - acc: 0.2869 - val_loss: 1.9084 - val_acc: 0.1950\n",
            "\n",
            "Epoch 00004: saving model to Model.04.hdf5\n",
            "Epoch 5/50\n",
            "28709/28709 [==============================] - 21s 732us/step - loss: 1.9289 - acc: 0.2989 - val_loss: 2.0679 - val_acc: 0.2926\n",
            "\n",
            "Epoch 00005: saving model to Model.05.hdf5\n",
            "Epoch 6/50\n",
            " 7808/28709 [=======>......................] - ETA: 15s - loss: 1.8489 - acc: 0.3051"
          ],
          "name": "stdout"
        },
        {
          "output_type": "stream",
          "text": [
            "28709/28709 [==============================] - 21s 736us/step - loss: 1.8734 - acc: 0.3097 - val_loss: 1.9956 - val_acc: 0.3031\n",
            "\n",
            "Epoch 00006: saving model to Model.06.hdf5\n",
            "Epoch 7/50\n",
            "28709/28709 [==============================] - 21s 734us/step - loss: 1.8495 - acc: 0.3175 - val_loss: 2.0653 - val_acc: 0.3380\n",
            "\n",
            "Epoch 00007: saving model to Model.07.hdf5\n",
            "Epoch 8/50\n",
            " 7296/28709 [======>.......................] - ETA: 15s - loss: 1.8555 - acc: 0.3159"
          ],
          "name": "stdout"
        },
        {
          "output_type": "stream",
          "text": [
            "28709/28709 [==============================] - 21s 735us/step - loss: 1.8655 - acc: 0.3051 - val_loss: 1.7540 - val_acc: 0.3149\n",
            "\n",
            "Epoch 00008: saving model to Model.08.hdf5\n",
            "Epoch 9/50\n",
            "28709/28709 [==============================] - 21s 729us/step - loss: 1.8347 - acc: 0.3156 - val_loss: 1.9117 - val_acc: 0.3544\n",
            "\n",
            "Epoch 00009: saving model to Model.09.hdf5\n",
            "Epoch 10/50\n",
            " 7168/28709 [======>.......................] - ETA: 15s - loss: 1.8249 - acc: 0.3117"
          ],
          "name": "stdout"
        },
        {
          "output_type": "stream",
          "text": [
            "28709/28709 [==============================] - 21s 729us/step - loss: 1.8094 - acc: 0.3257 - val_loss: 1.9375 - val_acc: 0.2845\n",
            "\n",
            "Epoch 00010: saving model to Model.10.hdf5\n",
            "Epoch 11/50\n",
            "28709/28709 [==============================] - 21s 731us/step - loss: 1.8388 - acc: 0.3211 - val_loss: 2.0108 - val_acc: 0.3224\n",
            "\n",
            "Epoch 00011: saving model to Model.11.hdf5\n",
            "Epoch 12/50\n",
            " 7040/28709 [======>.......................] - ETA: 15s - loss: 1.8024 - acc: 0.3466"
          ],
          "name": "stdout"
        },
        {
          "output_type": "stream",
          "text": [
            "28709/28709 [==============================] - 21s 730us/step - loss: 1.8049 - acc: 0.3375 - val_loss: 1.8305 - val_acc: 0.3263\n",
            "\n",
            "Epoch 00012: saving model to Model.12.hdf5\n",
            "Epoch 13/50\n",
            "28709/28709 [==============================] - 21s 731us/step - loss: 1.7748 - acc: 0.3362 - val_loss: 2.4894 - val_acc: 0.3388\n",
            "\n",
            "Epoch 00013: saving model to Model.13.hdf5\n",
            "Epoch 14/50\n",
            " 7040/28709 [======>.......................] - ETA: 15s - loss: 1.7721 - acc: 0.3516"
          ],
          "name": "stdout"
        },
        {
          "output_type": "stream",
          "text": [
            "28709/28709 [==============================] - 21s 732us/step - loss: 1.7938 - acc: 0.3388 - val_loss: 9.6460 - val_acc: 0.1981\n",
            "\n",
            "Epoch 00014: saving model to Model.14.hdf5\n",
            "Epoch 15/50\n",
            "28709/28709 [==============================] - 21s 730us/step - loss: 1.7973 - acc: 0.3437 - val_loss: 1.8262 - val_acc: 0.3642\n",
            "\n",
            "Epoch 00015: saving model to Model.15.hdf5\n",
            "Epoch 16/50\n",
            " 6912/28709 [======>.......................] - ETA: 15s - loss: 1.7669 - acc: 0.3555"
          ],
          "name": "stdout"
        },
        {
          "output_type": "stream",
          "text": [
            "28709/28709 [==============================] - 21s 728us/step - loss: 1.7725 - acc: 0.3479 - val_loss: 1.6654 - val_acc: 0.3689\n",
            "\n",
            "Epoch 00016: saving model to Model.16.hdf5\n",
            "Epoch 17/50\n",
            "28709/28709 [==============================] - 21s 725us/step - loss: 1.7398 - acc: 0.3570 - val_loss: 1.6425 - val_acc: 0.3622\n",
            "\n",
            "Epoch 00017: saving model to Model.17.hdf5\n",
            "Epoch 18/50\n",
            " 6912/28709 [======>.......................] - ETA: 15s - loss: 1.7217 - acc: 0.3644"
          ],
          "name": "stdout"
        },
        {
          "output_type": "stream",
          "text": [
            "28709/28709 [==============================] - 21s 727us/step - loss: 1.7359 - acc: 0.3665 - val_loss: 1.7351 - val_acc: 0.3483\n",
            "\n",
            "Epoch 00018: saving model to Model.18.hdf5\n",
            "Epoch 19/50\n",
            "28709/28709 [==============================] - 21s 734us/step - loss: 1.7363 - acc: 0.3645 - val_loss: 1.7368 - val_acc: 0.3773\n",
            "\n",
            "Epoch 00019: saving model to Model.19.hdf5\n",
            "Epoch 20/50\n",
            " 6912/28709 [======>.......................] - ETA: 15s - loss: 1.7173 - acc: 0.3647"
          ],
          "name": "stdout"
        },
        {
          "output_type": "stream",
          "text": [
            "28709/28709 [==============================] - 21s 727us/step - loss: 1.6902 - acc: 0.3735 - val_loss: 1.6680 - val_acc: 0.3943\n",
            "\n",
            "Epoch 00020: saving model to Model.20.hdf5\n",
            "Epoch 21/50\n",
            "28709/28709 [==============================] - 21s 726us/step - loss: 1.7201 - acc: 0.3700 - val_loss: 3.3602 - val_acc: 0.3296\n",
            "\n",
            "Epoch 00021: saving model to Model.21.hdf5\n",
            "Epoch 22/50\n",
            " 6912/28709 [======>.......................] - ETA: 15s - loss: 1.7203 - acc: 0.3669"
          ],
          "name": "stdout"
        },
        {
          "output_type": "stream",
          "text": [
            "28709/28709 [==============================] - 21s 730us/step - loss: 1.7052 - acc: 0.3726 - val_loss: 1.5356 - val_acc: 0.3976\n",
            "\n",
            "Epoch 00022: saving model to Model.22.hdf5\n",
            "Epoch 23/50\n",
            "28709/28709 [==============================] - 21s 728us/step - loss: 1.6744 - acc: 0.3663 - val_loss: 1.6698 - val_acc: 0.3934\n",
            "\n",
            "Epoch 00023: saving model to Model.23.hdf5\n",
            "Epoch 24/50\n",
            " 6912/28709 [======>.......................] - ETA: 15s - loss: 1.6416 - acc: 0.3782"
          ],
          "name": "stdout"
        },
        {
          "output_type": "stream",
          "text": [
            "28709/28709 [==============================] - 21s 729us/step - loss: 1.6344 - acc: 0.3799 - val_loss: 1.5973 - val_acc: 0.3954\n",
            "\n",
            "Epoch 00024: saving model to Model.24.hdf5\n",
            "Epoch 25/50\n",
            "28709/28709 [==============================] - 21s 728us/step - loss: 1.6285 - acc: 0.3774 - val_loss: 1.5827 - val_acc: 0.3996\n",
            "\n",
            "Epoch 00025: saving model to Model.25.hdf5\n",
            "Epoch 26/50\n",
            " 6912/28709 [======>.......................] - ETA: 15s - loss: 1.5917 - acc: 0.3931"
          ],
          "name": "stdout"
        },
        {
          "output_type": "stream",
          "text": [
            "28709/28709 [==============================] - 21s 725us/step - loss: 1.6001 - acc: 0.3911 - val_loss: 1.5325 - val_acc: 0.4113\n",
            "\n",
            "Epoch 00026: saving model to Model.26.hdf5\n",
            "Epoch 27/50\n",
            "28709/28709 [==============================] - 21s 726us/step - loss: 1.5938 - acc: 0.3932 - val_loss: 1.5110 - val_acc: 0.4199\n",
            "\n",
            "Epoch 00027: saving model to Model.27.hdf5\n",
            "Epoch 28/50\n",
            " 6912/28709 [======>.......................] - ETA: 15s - loss: 1.5836 - acc: 0.3929"
          ],
          "name": "stdout"
        },
        {
          "output_type": "stream",
          "text": [
            "28709/28709 [==============================] - 21s 730us/step - loss: 1.5950 - acc: 0.3920 - val_loss: 1.6068 - val_acc: 0.3940\n",
            "\n",
            "Epoch 00028: saving model to Model.28.hdf5\n",
            "Epoch 29/50\n",
            "28709/28709 [==============================] - 21s 731us/step - loss: 1.5888 - acc: 0.3970 - val_loss: 1.5583 - val_acc: 0.4076\n",
            "\n",
            "Epoch 00029: saving model to Model.29.hdf5\n",
            "Epoch 30/50\n",
            " 6912/28709 [======>.......................] - ETA: 15s - loss: 1.5623 - acc: 0.4086"
          ],
          "name": "stdout"
        },
        {
          "output_type": "stream",
          "text": [
            "28709/28709 [==============================] - 21s 728us/step - loss: 1.5679 - acc: 0.4065 - val_loss: 1.5533 - val_acc: 0.4057\n",
            "\n",
            "Epoch 00030: saving model to Model.30.hdf5\n",
            "Epoch 31/50\n",
            "28709/28709 [==============================] - 21s 731us/step - loss: 1.5735 - acc: 0.4088 - val_loss: 1.5102 - val_acc: 0.4188\n",
            "\n",
            "Epoch 00031: saving model to Model.31.hdf5\n",
            "Epoch 32/50\n",
            " 6912/28709 [======>.......................] - ETA: 15s - loss: 1.5687 - acc: 0.4106"
          ],
          "name": "stdout"
        },
        {
          "output_type": "stream",
          "text": [
            "28709/28709 [==============================] - 21s 731us/step - loss: 1.5515 - acc: 0.4090 - val_loss: 1.5251 - val_acc: 0.4207\n",
            "\n",
            "Epoch 00032: saving model to Model.32.hdf5\n",
            "Epoch 33/50\n",
            "28709/28709 [==============================] - 21s 736us/step - loss: 1.5604 - acc: 0.4075 - val_loss: 1.5633 - val_acc: 0.3920\n",
            "\n",
            "Epoch 00033: saving model to Model.33.hdf5\n",
            "Epoch 34/50\n",
            " 6912/28709 [======>.......................] - ETA: 15s - loss: 1.5465 - acc: 0.4113"
          ],
          "name": "stdout"
        },
        {
          "output_type": "stream",
          "text": [
            "28709/28709 [==============================] - 21s 731us/step - loss: 1.5650 - acc: 0.4096 - val_loss: 1.5058 - val_acc: 0.4107\n",
            "\n",
            "Epoch 00034: saving model to Model.34.hdf5\n",
            "Epoch 35/50\n",
            "28709/28709 [==============================] - 21s 730us/step - loss: 1.5875 - acc: 0.3992 - val_loss: 1.5390 - val_acc: 0.4071\n",
            "\n",
            "Epoch 00035: saving model to Model.35.hdf5\n",
            "Epoch 36/50\n",
            " 6912/28709 [======>.......................] - ETA: 15s - loss: 1.5653 - acc: 0.4135"
          ],
          "name": "stdout"
        },
        {
          "output_type": "stream",
          "text": [
            "28709/28709 [==============================] - 21s 732us/step - loss: 1.5426 - acc: 0.4105 - val_loss: 1.4868 - val_acc: 0.4277\n",
            "\n",
            "Epoch 00036: saving model to Model.36.hdf5\n",
            "Epoch 37/50\n",
            "28709/28709 [==============================] - 21s 728us/step - loss: 1.5162 - acc: 0.4199 - val_loss: 1.4722 - val_acc: 0.4408\n",
            "\n",
            "Epoch 00037: saving model to Model.37.hdf5\n",
            "Epoch 38/50\n",
            " 6912/28709 [======>.......................] - ETA: 15s - loss: 1.5003 - acc: 0.4268"
          ],
          "name": "stdout"
        },
        {
          "output_type": "stream",
          "text": [
            "28709/28709 [==============================] - 21s 733us/step - loss: 1.5099 - acc: 0.4243 - val_loss: 1.5336 - val_acc: 0.4171\n",
            "\n",
            "Epoch 00038: saving model to Model.38.hdf5\n",
            "Epoch 39/50\n",
            "28709/28709 [==============================] - 21s 733us/step - loss: 1.5361 - acc: 0.4215 - val_loss: 1.5058 - val_acc: 0.4313\n",
            "\n",
            "Epoch 00039: saving model to Model.39.hdf5\n",
            "Epoch 40/50\n",
            " 6912/28709 [======>.......................] - ETA: 15s - loss: 1.5191 - acc: 0.4345"
          ],
          "name": "stdout"
        },
        {
          "output_type": "stream",
          "text": [
            "28709/28709 [==============================] - 21s 730us/step - loss: 1.5277 - acc: 0.4203 - val_loss: 1.7410 - val_acc: 0.4023\n",
            "\n",
            "Epoch 00040: saving model to Model.40.hdf5\n",
            "Epoch 41/50\n",
            "28709/28709 [==============================] - 21s 730us/step - loss: 1.5109 - acc: 0.4239 - val_loss: 1.5139 - val_acc: 0.4115\n",
            "\n",
            "Epoch 00041: saving model to Model.41.hdf5\n",
            "Epoch 42/50\n",
            " 6912/28709 [======>.......................] - ETA: 15s - loss: 1.5111 - acc: 0.4213"
          ],
          "name": "stdout"
        },
        {
          "output_type": "stream",
          "text": [
            "28709/28709 [==============================] - 21s 732us/step - loss: 1.5206 - acc: 0.4226 - val_loss: 1.4719 - val_acc: 0.4425\n",
            "\n",
            "Epoch 00042: saving model to Model.42.hdf5\n",
            "Epoch 43/50\n",
            "28709/28709 [==============================] - 21s 731us/step - loss: 1.5063 - acc: 0.4290 - val_loss: 1.5562 - val_acc: 0.4099\n",
            "\n",
            "Epoch 00043: saving model to Model.43.hdf5\n",
            "Epoch 44/50\n",
            " 6912/28709 [======>.......................] - ETA: 15s - loss: 1.4717 - acc: 0.4361"
          ],
          "name": "stdout"
        },
        {
          "output_type": "stream",
          "text": [
            "28709/28709 [==============================] - 21s 733us/step - loss: 1.4788 - acc: 0.4384 - val_loss: 1.4797 - val_acc: 0.4369\n",
            "\n",
            "Epoch 00044: saving model to Model.44.hdf5\n",
            "Epoch 45/50\n",
            "28709/28709 [==============================] - 21s 732us/step - loss: 1.4928 - acc: 0.4331 - val_loss: 1.7750 - val_acc: 0.4230\n",
            "\n",
            "Epoch 00045: saving model to Model.45.hdf5\n",
            "Epoch 46/50\n",
            " 6912/28709 [======>.......................] - ETA: 15s - loss: 1.5120 - acc: 0.4333"
          ],
          "name": "stdout"
        },
        {
          "output_type": "stream",
          "text": [
            "28709/28709 [==============================] - 21s 734us/step - loss: 1.5064 - acc: 0.4353 - val_loss: 1.6163 - val_acc: 0.3990\n",
            "\n",
            "Epoch 00046: saving model to Model.46.hdf5\n",
            "Epoch 47/50\n",
            "28709/28709 [==============================] - 21s 736us/step - loss: 1.5124 - acc: 0.4315 - val_loss: 1.4717 - val_acc: 0.4369\n",
            "\n",
            "Epoch 00047: saving model to Model.47.hdf5\n",
            "Epoch 48/50\n",
            " 6912/28709 [======>.......................] - ETA: 15s - loss: 1.4713 - acc: 0.4439"
          ],
          "name": "stdout"
        },
        {
          "output_type": "stream",
          "text": [
            "28709/28709 [==============================] - 21s 732us/step - loss: 1.4698 - acc: 0.4415 - val_loss: 1.4558 - val_acc: 0.4347\n",
            "\n",
            "Epoch 00048: saving model to Model.48.hdf5\n",
            "Epoch 49/50\n",
            "28709/28709 [==============================] - 21s 733us/step - loss: 1.4594 - acc: 0.4448 - val_loss: 1.4554 - val_acc: 0.4433\n",
            "\n",
            "Epoch 00049: saving model to Model.49.hdf5\n",
            "Epoch 50/50\n",
            " 6912/28709 [======>.......................] - ETA: 15s - loss: 1.4271 - acc: 0.4528"
          ],
          "name": "stdout"
        },
        {
          "output_type": "stream",
          "text": [
            "28709/28709 [==============================] - 21s 729us/step - loss: 1.4260 - acc: 0.4547 - val_loss: 1.4508 - val_acc: 0.4466\n",
            "\n",
            "Epoch 00050: saving model to Model.50.hdf5\n",
            "--- 1141.6047801971436 seconds ---\n"
          ],
          "name": "stdout"
        }
      ]
    },
    {
      "metadata": {
        "id": "rCSCjxwP6eMQ",
        "colab_type": "code",
        "colab": {
          "base_uri": "https://localhost:8080/",
          "height": 437
        },
        "outputId": "a5fad5cd-f021-43c1-d084-eb9fd7e0f8a6"
      },
      "cell_type": "code",
      "source": [
        "# input normalized\n",
        "import time\n",
        "start_time = time.time()\n",
        "\n",
        "model.fit(train_x, train_y, epochs=10, batch_size=batch_size, validation_data=(val_x, val_y))\n",
        "print(\"--- %s seconds ---\" % (time.time() - start_time))"
      ],
      "execution_count": 50,
      "outputs": [
        {
          "output_type": "stream",
          "text": [
            "Train on 28709 samples, validate on 3589 samples\n",
            "Epoch 1/10\n",
            "28709/28709 [==============================] - 162s 6ms/step - loss: 2.0189 - acc: 0.2407 - val_loss: 1.8390 - val_acc: 0.2856\n",
            "Epoch 2/10\n",
            "28709/28709 [==============================] - 156s 5ms/step - loss: 1.8329 - acc: 0.2909 - val_loss: 1.7546 - val_acc: 0.3391\n",
            "Epoch 3/10\n",
            "  896/28709 [..............................] - ETA: 2:27 - loss: 1.7662 - acc: 0.3058"
          ],
          "name": "stdout"
        },
        {
          "output_type": "stream",
          "text": [
            "28709/28709 [==============================] - 157s 5ms/step - loss: 1.7695 - acc: 0.3230 - val_loss: 1.8986 - val_acc: 0.3093\n",
            "Epoch 4/10\n",
            "28709/28709 [==============================] - 157s 5ms/step - loss: 1.7122 - acc: 0.3484 - val_loss: 1.6657 - val_acc: 0.3611\n",
            "Epoch 5/10\n",
            "10880/28709 [==========>...................] - ETA: 1:34 - loss: 1.6901 - acc: 0.3509"
          ],
          "name": "stdout"
        },
        {
          "output_type": "stream",
          "text": [
            "28709/28709 [==============================] - 156s 5ms/step - loss: 1.6773 - acc: 0.3604 - val_loss: 1.7014 - val_acc: 0.3494\n",
            "Epoch 6/10\n",
            "28709/28709 [==============================] - 156s 5ms/step - loss: 1.6553 - acc: 0.3702 - val_loss: 1.6194 - val_acc: 0.3859\n",
            "Epoch 7/10\n",
            "13312/28709 [============>.................] - ETA: 1:20 - loss: 1.6141 - acc: 0.3857"
          ],
          "name": "stdout"
        },
        {
          "output_type": "stream",
          "text": [
            "28709/28709 [==============================] - 156s 5ms/step - loss: 1.6129 - acc: 0.3857 - val_loss: 1.6001 - val_acc: 0.3923\n",
            "Epoch 8/10\n",
            "28709/28709 [==============================] - 156s 5ms/step - loss: 1.5920 - acc: 0.3924 - val_loss: 1.6594 - val_acc: 0.4035\n",
            "Epoch 9/10\n",
            "13824/28709 [=============>................] - ETA: 1:18 - loss: 1.5641 - acc: 0.4065"
          ],
          "name": "stdout"
        },
        {
          "output_type": "stream",
          "text": [
            "28709/28709 [==============================] - 157s 5ms/step - loss: 1.5559 - acc: 0.4044 - val_loss: 1.5507 - val_acc: 0.4113\n",
            "Epoch 10/10\n",
            "28709/28709 [==============================] - 157s 5ms/step - loss: 1.5341 - acc: 0.4100 - val_loss: 1.5732 - val_acc: 0.4068\n",
            "--- 1574.3259291648865 seconds ---\n"
          ],
          "name": "stdout"
        }
      ]
    },
    {
      "metadata": {
        "id": "bJiUe6bEgjHD",
        "colab_type": "code",
        "colab": {}
      },
      "cell_type": "code",
      "source": [
        "\n",
        "import time\n",
        "start_time = time.time()\n",
        "\n",
        "datagen = ImageDataGenerator(\n",
        "    featurewise_center=True,  # set input mean to 0 over the dataset\n",
        "    samplewise_center=True,  # set each sample mean to 0\n",
        "    featurewise_std_normalization=True,  # divide inputs by std of the dataset\n",
        "    samplewise_std_normalization=True,  # divide each input by its std\n",
        "    zca_whitening=True,  # apply ZCA whitening\n",
        "    rotation_range=40,  # randomly rotate images in the range (degrees, 0 to 180)\n",
        "    width_shift_range=0.2,  # randomly shift images horizontally (fraction of total width)\n",
        "    height_shift_range=0.2,  # randomly shift images vertically (fraction of total height)\n",
        "    horizontal_flip=True,  # randomly flip images\n",
        "    vertical_flip=True)  # randomly flip images\n",
        "\n",
        "datagen.fit(train_x)\n",
        "\n",
        "model.fit_generator(datagen.flow(train_x, train_y,\n",
        "                    batch_size=batch_size),\n",
        "                    steps_per_epoch=(train_x.shape[0]/batch_size),\n",
        "                    epochs=10,\n",
        "                    validation_data=(val_x, val_y),\n",
        "                    callbacks=[checkpointer])\n",
        "print(\"--- %s seconds ---\" % (time.time() - start_time))"
      ],
      "execution_count": 0,
      "outputs": []
    }
  ]
}