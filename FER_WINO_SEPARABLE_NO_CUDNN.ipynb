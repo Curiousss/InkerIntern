{
  "nbformat": 4,
  "nbformat_minor": 0,
  "metadata": {
    "colab": {
      "name": "FER_WINO_SEPARABLE_NO_CUDNN.ipynb",
      "version": "0.3.2",
      "provenance": [],
      "collapsed_sections": []
    },
    "kernelspec": {
      "name": "python3",
      "display_name": "Python 3"
    },
    "accelerator": "GPU"
  },
  "cells": [
    {
      "cell_type": "markdown",
      "metadata": {
        "id": "view-in-github",
        "colab_type": "text"
      },
      "source": [
        "[View in Colaboratory](https://colab.research.google.com/github/Curiousss/InkerIntern/blob/master/FER_WINO_SEPARABLE_NO_CUDNN.ipynb)"
      ]
    },
    {
      "metadata": {
        "id": "TLXfmtMTnNAM",
        "colab_type": "code",
        "colab": {
          "base_uri": "https://localhost:8080/",
          "height": 217
        },
        "outputId": "7de261a0-4d9d-4f25-ce2b-7e93d2a3e85e"
      },
      "cell_type": "code",
      "source": [
        "!wget https://github.com/LamUong/FacialExpressionRecognition/blob/master/badtrainingdata.txt"
      ],
      "execution_count": 1,
      "outputs": [
        {
          "output_type": "stream",
          "text": [
            "--2018-06-22 10:35:21--  https://github.com/LamUong/FacialExpressionRecognition/blob/master/badtrainingdata.txt\n",
            "Resolving github.com (github.com)... 192.30.253.112, 192.30.253.113\n",
            "Connecting to github.com (github.com)|192.30.253.112|:443... connected.\n",
            "HTTP request sent, awaiting response... 200 OK\n",
            "Length: unspecified [text/html]\n",
            "Saving to: ‘badtrainingdata.txt’\n",
            "\n",
            "badtrainingdata.txt     [ <=>                ]  61.91K   378KB/s    in 0.2s    \n",
            "\n",
            "2018-06-22 10:35:21 (378 KB/s) - ‘badtrainingdata.txt’ saved [63395]\n",
            "\n"
          ],
          "name": "stdout"
        }
      ]
    },
    {
      "metadata": {
        "id": "Q9eNowMGaO_J",
        "colab_type": "code",
        "colab": {
          "resources": {
            "http://localhost:8080/nbextensions/google.colab/files.js": {
              "data": "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",
              "ok": true,
              "headers": [
                [
                  "content-type",
                  "application/javascript"
                ]
              ],
              "status": 200,
              "status_text": ""
            }
          },
          "base_uri": "https://localhost:8080/",
          "height": 73
        },
        "outputId": "01b4b8ab-664e-46a2-bf80-b50ddf2837c6"
      },
      "cell_type": "code",
      "source": [
        "from google.colab import files\n",
        "uploaded = files.upload()"
      ],
      "execution_count": 3,
      "outputs": [
        {
          "output_type": "display_data",
          "data": {
            "text/html": [
              "\n",
              "     <input type=\"file\" id=\"files-5dfdb45b-81c7-4540-9ca0-a99075f2a5c4\" name=\"files[]\" multiple disabled />\n",
              "     <output id=\"result-5dfdb45b-81c7-4540-9ca0-a99075f2a5c4\">\n",
              "      Upload widget is only available when the cell has been executed in the\n",
              "      current browser session. Please rerun this cell to enable.\n",
              "      </output>\n",
              "      <script src=\"/nbextensions/google.colab/files.js\"></script> "
            ],
            "text/plain": [
              "<IPython.core.display.HTML object>"
            ]
          },
          "metadata": {
            "tags": []
          }
        },
        {
          "output_type": "stream",
          "text": [
            "Saving fer2013.tar to fer2013.tar\n"
          ],
          "name": "stdout"
        }
      ]
    },
    {
      "metadata": {
        "id": "BEb9SWJUV8T2",
        "colab_type": "code",
        "colab": {
          "base_uri": "https://localhost:8080/",
          "height": 35
        },
        "outputId": "b6bf9b9e-9b08-442c-b7c8-1fa42cb29e45"
      },
      "cell_type": "code",
      "source": [
        "!ls"
      ],
      "execution_count": 3,
      "outputs": [
        {
          "output_type": "stream",
          "text": [
            "datalab  fer2013.tar  fer2013.tar.gz\r\n"
          ],
          "name": "stdout"
        }
      ]
    },
    {
      "metadata": {
        "id": "FWp55WPDUsSy",
        "colab_type": "code",
        "colab": {
          "base_uri": "https://localhost:8080/",
          "height": 34
        },
        "outputId": "e9ade29b-c405-43be-d53e-e3ce92dc71ec"
      },
      "cell_type": "code",
      "source": [
        "import os\n",
        "!export TF_ENABLE_WINOGRAD_NONFUSED=1\n",
        "os.environ['TF_ENABLE_WINOGRAD_NONFUSED'] = '1'\n",
        "os.environ.pop('TF_ENABLE_WINOGRAD_NONFUSED', None)"
      ],
      "execution_count": 42,
      "outputs": [
        {
          "output_type": "execute_result",
          "data": {
            "text/plain": [
              "'1'"
            ]
          },
          "metadata": {
            "tags": []
          },
          "execution_count": 42
        }
      ]
    },
    {
      "metadata": {
        "id": "ldEdUzQbuQIi",
        "colab_type": "code",
        "colab": {
          "base_uri": "https://localhost:8080/",
          "height": 108
        },
        "outputId": "ed67b1ec-c00e-406f-bac1-7aeb516bf1f8"
      },
      "cell_type": "code",
      "source": [
        "!tar xvf fer2013.tar\n",
        "!ls"
      ],
      "execution_count": 4,
      "outputs": [
        {
          "output_type": "stream",
          "text": [
            "fer2013/fer2013.csv\n",
            "fer2013/README\n",
            "fer2013/fer2013.bib\n",
            "fer2013/\n",
            "badtrainingdata.txt  datalab  fer2013  fer2013.tar\n"
          ],
          "name": "stdout"
        }
      ]
    },
    {
      "metadata": {
        "id": "dTyUIGDeuAQf",
        "colab_type": "code",
        "colab": {
          "base_uri": "https://localhost:8080/",
          "height": 35
        },
        "outputId": "93c6f7d8-50c5-4d35-b548-b672123d03fd"
      },
      "cell_type": "code",
      "source": [
        "\n",
        "import csv\n",
        "import numpy as np\n",
        "\n",
        "import keras\n",
        "from keras.models import Sequential\n",
        "from keras.layers import Dense, Dropout, Activation, Flatten, GlobalAveragePooling2D, InputLayer\n",
        "from keras.layers import Convolution2D, SeparableConv2D, MaxPooling2D, BatchNormalization \n",
        "from keras.layers.advanced_activations import LeakyReLU\n",
        "from keras.utils import np_utils\n",
        "from keras.preprocessing.image import ImageDataGenerator"
      ],
      "execution_count": 5,
      "outputs": [
        {
          "output_type": "stream",
          "text": [
            "Using TensorFlow backend.\n"
          ],
          "name": "stderr"
        }
      ]
    },
    {
      "metadata": {
        "id": "OqJCQeGxhq4x",
        "colab_type": "code",
        "colab": {}
      },
      "cell_type": "code",
      "source": [
        "img_rows, img_cols = 48, 48\n",
        "batch_size = 128\n",
        "classes = 7\n",
        "epoch = 100\n",
        "img_channels = 1"
      ],
      "execution_count": 0,
      "outputs": []
    },
    {
      "metadata": {
        "id": "sq7nNsVmhsYX",
        "colab_type": "code",
        "colab": {}
      },
      "cell_type": "code",
      "source": [
        "import csv\n",
        "f = open('fer2013/fer2013.csv')\n",
        "csv_f = csv.reader(f)\n"
      ],
      "execution_count": 0,
      "outputs": []
    },
    {
      "metadata": {
        "id": "yQSDhHZ3tKqk",
        "colab_type": "code",
        "colab": {}
      },
      "cell_type": "code",
      "source": [
        "train_x = []\n",
        "train_y = []\n",
        "val_x =[]\n",
        "val_y =[]"
      ],
      "execution_count": 0,
      "outputs": []
    },
    {
      "metadata": {
        "id": "HmmgpkTpiWyS",
        "colab_type": "code",
        "colab": {}
      },
      "cell_type": "code",
      "source": [
        "num=0\n",
        "for row in csv_f:\n",
        "  #print(row)\n",
        "  num = num +1\n",
        "  #print(num)\n",
        "  temp_list = []\n",
        "  for pixel in row[1].split( ):\n",
        "    temp_list.append(int(pixel))\n",
        "\n",
        "  if str(row[2]) == \"Training\":\n",
        "    train_y.append(int(row[0]))\n",
        "    train_x.append(temp_list) \n",
        "  elif str(row[2]) == \"PublicTest\":\n",
        "    val_y.append(int(row[0]))\n",
        "    val_x.append(temp_list)"
      ],
      "execution_count": 0,
      "outputs": []
    },
    {
      "metadata": {
        "id": "H6rDJXl4rUKS",
        "colab_type": "code",
        "colab": {}
      },
      "cell_type": "code",
      "source": [
        "train_x = np.asarray(train_x)\n",
        "train_y = np.asarray(train_y)\n",
        "val_x = np.asarray(val_x)\n",
        "val_y = np.asarray(val_y)"
      ],
      "execution_count": 0,
      "outputs": []
    },
    {
      "metadata": {
        "id": "lmXwV3InrVsQ",
        "colab_type": "code",
        "colab": {}
      },
      "cell_type": "code",
      "source": [
        "train_x = train_x.reshape(train_x.shape[0], 48, 48)\n",
        "train_x = train_x.reshape(train_x.shape[0], 48, 48, 1 )\n",
        "train_y = np_utils.to_categorical(train_y, 7)"
      ],
      "execution_count": 0,
      "outputs": []
    },
    {
      "metadata": {
        "id": "s3iZUfL1ztRu",
        "colab_type": "code",
        "colab": {}
      },
      "cell_type": "code",
      "source": [
        "val_x = val_x.reshape(val_x.shape[0], 48, 48)\n",
        "val_x = val_x.reshape(val_x.shape[0], 48, 48, 1)\n",
        "val_y = np_utils.to_categorical(val_y, 7)"
      ],
      "execution_count": 0,
      "outputs": []
    },
    {
      "metadata": {
        "id": "FAWueVKKI0CR",
        "colab_type": "code",
        "colab": {
          "base_uri": "https://localhost:8080/",
          "height": 35
        },
        "outputId": "3a8ed1a2-dc6c-4663-a9d0-6e4e8bfae940"
      },
      "cell_type": "code",
      "source": [
        "#print(train_x[1].shape)\n",
        "#train_x_pil = train_x.reshape(train_x.shape[0], 48, 48)\n",
        "#from PIL import Image\n",
        "#from numpy import array\n",
        "#img = Image.fromarray(train_x[1])\n",
        "#img.save(\"output.png\")\n",
        "print(train_x.shape)"
      ],
      "execution_count": 15,
      "outputs": [
        {
          "output_type": "stream",
          "text": [
            "(28709, 48, 48, 1)\n"
          ],
          "name": "stdout"
        }
      ]
    },
    {
      "metadata": {
        "id": "bkb-p1BXzBrI",
        "colab_type": "code",
        "colab": {}
      },
      "cell_type": "code",
      "source": [
        "train_x = train_x.astype('float32')\n",
        "train_x = train_x / 255.0\n",
        "val_x = val_x.astype('float32')\n",
        "val_x = val_x / 255.0\n",
        "train_x = train_x - 0.5\n",
        "train_x = train_x * 2\n",
        "val_x = val_x - 0.5\n",
        "val_x = val_x * 2\n"
      ],
      "execution_count": 0,
      "outputs": []
    },
    {
      "metadata": {
        "id": "jMKS1KOEGsB3",
        "colab_type": "code",
        "colab": {}
      },
      "cell_type": "code",
      "source": [
        "input_shape = (img_rows, img_cols, img_channels)\n",
        "model = Sequential()\n",
        "model.add(SeparableConv2D(filters=64, kernel_size=(3, 3), padding='same',\n",
        "                            name='image_array', input_shape=input_shape))\n",
        "model.add(BatchNormalization())\n",
        "model.add(LeakyReLU())\n",
        "model.add(SeparableConv2D(filters=64, kernel_size=(3, 3), padding='same'))\n",
        "model.add(BatchNormalization())\n",
        "model.add(LeakyReLU())\n",
        "model.add(MaxPooling2D(pool_size=(2, 2), padding='same'))\n",
        "model.add(Dropout(.25))\n",
        "\n",
        "model.add(SeparableConv2D(filters=128, kernel_size=(3, 3), padding='same'))\n",
        "model.add(BatchNormalization())\n",
        "model.add(LeakyReLU())\n",
        "model.add(SeparableConv2D(filters=128, kernel_size=(3, 3), padding='same'))\n",
        "model.add(BatchNormalization())\n",
        "model.add(LeakyReLU())\n",
        "model.add(MaxPooling2D(pool_size=(2, 2), padding='same'))\n",
        "model.add(Dropout(.25))\n",
        "\n",
        "model.add(SeparableConv2D(filters=256, kernel_size=(3, 3), padding='same'))\n",
        "model.add(BatchNormalization())\n",
        "model.add(LeakyReLU())\n",
        "model.add(SeparableConv2D(filters=256, kernel_size=(3, 3), padding='same'))\n",
        "model.add(BatchNormalization())\n",
        "model.add(LeakyReLU())\n",
        "model.add(MaxPooling2D(pool_size=(2, 2), padding='same'))\n",
        "model.add(Dropout(.25))\n",
        "\n",
        "model.add(SeparableConv2D(filters=512, kernel_size=(3, 3), padding='same'))\n",
        "model.add(BatchNormalization())\n",
        "model.add(LeakyReLU())\n",
        "model.add(SeparableConv2D(filters=512, kernel_size=(3, 3), padding='same'))\n",
        "model.add(BatchNormalization())\n",
        "model.add(LeakyReLU())\n",
        "model.add(MaxPooling2D(pool_size=(2, 2), padding='same'))\n",
        "model.add(Dropout(.25))\n",
        "\n",
        "#model.add(Flatten())\n",
        "'''\n",
        "model.add(Dense(1024))\n",
        "model.add(BatchNormalization())\n",
        "model.add(LeakyReLU())\n",
        "model.add(Dropout(.5))\n",
        "\n",
        "model.add(Dense(2048))\n",
        "model.add(BatchNormalization())\n",
        "model.add(LeakyReLU())\n",
        "model.add(Dropout(.5))\n",
        "'''\n",
        "model.add(InputLayer(input_shape=(3, 3, 1024)))\n",
        "model.add(GlobalAveragePooling2D())\n",
        "model.add(Dense(7))\n",
        "model.add(Activation('softmax'))"
      ],
      "execution_count": 0,
      "outputs": []
    },
    {
      "metadata": {
        "id": "tRsZspcA0uxT",
        "colab_type": "code",
        "colab": {
          "base_uri": "https://localhost:8080/",
          "height": 1454
        },
        "outputId": "468fc168-0b67-4fd0-8619-35326ded403f"
      },
      "cell_type": "code",
      "source": [
        "model.summary()"
      ],
      "execution_count": 51,
      "outputs": [
        {
          "output_type": "stream",
          "text": [
            "_________________________________________________________________\n",
            "Layer (type)                 Output Shape              Param #   \n",
            "=================================================================\n",
            "image_array (SeparableConv2D (None, 48, 48, 64)        137       \n",
            "_________________________________________________________________\n",
            "batch_normalization_27 (Batc (None, 48, 48, 64)        256       \n",
            "_________________________________________________________________\n",
            "leaky_re_lu_27 (LeakyReLU)   (None, 48, 48, 64)        0         \n",
            "_________________________________________________________________\n",
            "separable_conv2d_22 (Separab (None, 48, 48, 64)        4736      \n",
            "_________________________________________________________________\n",
            "batch_normalization_28 (Batc (None, 48, 48, 64)        256       \n",
            "_________________________________________________________________\n",
            "leaky_re_lu_28 (LeakyReLU)   (None, 48, 48, 64)        0         \n",
            "_________________________________________________________________\n",
            "max_pooling2d_13 (MaxPooling (None, 24, 24, 64)        0         \n",
            "_________________________________________________________________\n",
            "dropout_15 (Dropout)         (None, 24, 24, 64)        0         \n",
            "_________________________________________________________________\n",
            "separable_conv2d_23 (Separab (None, 24, 24, 128)       8896      \n",
            "_________________________________________________________________\n",
            "batch_normalization_29 (Batc (None, 24, 24, 128)       512       \n",
            "_________________________________________________________________\n",
            "leaky_re_lu_29 (LeakyReLU)   (None, 24, 24, 128)       0         \n",
            "_________________________________________________________________\n",
            "separable_conv2d_24 (Separab (None, 24, 24, 128)       17664     \n",
            "_________________________________________________________________\n",
            "batch_normalization_30 (Batc (None, 24, 24, 128)       512       \n",
            "_________________________________________________________________\n",
            "leaky_re_lu_30 (LeakyReLU)   (None, 24, 24, 128)       0         \n",
            "_________________________________________________________________\n",
            "max_pooling2d_14 (MaxPooling (None, 12, 12, 128)       0         \n",
            "_________________________________________________________________\n",
            "dropout_16 (Dropout)         (None, 12, 12, 128)       0         \n",
            "_________________________________________________________________\n",
            "separable_conv2d_25 (Separab (None, 12, 12, 256)       34176     \n",
            "_________________________________________________________________\n",
            "batch_normalization_31 (Batc (None, 12, 12, 256)       1024      \n",
            "_________________________________________________________________\n",
            "leaky_re_lu_31 (LeakyReLU)   (None, 12, 12, 256)       0         \n",
            "_________________________________________________________________\n",
            "separable_conv2d_26 (Separab (None, 12, 12, 256)       68096     \n",
            "_________________________________________________________________\n",
            "batch_normalization_32 (Batc (None, 12, 12, 256)       1024      \n",
            "_________________________________________________________________\n",
            "leaky_re_lu_32 (LeakyReLU)   (None, 12, 12, 256)       0         \n",
            "_________________________________________________________________\n",
            "max_pooling2d_15 (MaxPooling (None, 6, 6, 256)         0         \n",
            "_________________________________________________________________\n",
            "dropout_17 (Dropout)         (None, 6, 6, 256)         0         \n",
            "_________________________________________________________________\n",
            "separable_conv2d_27 (Separab (None, 6, 6, 512)         133888    \n",
            "_________________________________________________________________\n",
            "batch_normalization_33 (Batc (None, 6, 6, 512)         2048      \n",
            "_________________________________________________________________\n",
            "leaky_re_lu_33 (LeakyReLU)   (None, 6, 6, 512)         0         \n",
            "_________________________________________________________________\n",
            "separable_conv2d_28 (Separab (None, 6, 6, 512)         267264    \n",
            "_________________________________________________________________\n",
            "batch_normalization_34 (Batc (None, 6, 6, 512)         2048      \n",
            "_________________________________________________________________\n",
            "leaky_re_lu_34 (LeakyReLU)   (None, 6, 6, 512)         0         \n",
            "_________________________________________________________________\n",
            "max_pooling2d_16 (MaxPooling (None, 3, 3, 512)         0         \n",
            "_________________________________________________________________\n",
            "dropout_18 (Dropout)         (None, 3, 3, 512)         0         \n",
            "_________________________________________________________________\n",
            "input_2 (InputLayer)         multiple                  0         \n",
            "_________________________________________________________________\n",
            "global_average_pooling2d_3 ( (None, 512)               0         \n",
            "_________________________________________________________________\n",
            "dense_4 (Dense)              (None, 7)                 3591      \n",
            "_________________________________________________________________\n",
            "activation_2 (Activation)    (None, 7)                 0         \n",
            "=================================================================\n",
            "Total params: 546,128\n",
            "Trainable params: 542,288\n",
            "Non-trainable params: 3,840\n",
            "_________________________________________________________________\n"
          ],
          "name": "stdout"
        }
      ]
    },
    {
      "metadata": {
        "id": "Hy0FyCcc2li0",
        "colab_type": "code",
        "colab": {}
      },
      "cell_type": "code",
      "source": [
        "model.compile(optimizer='Adam',\n",
        "                 loss='categorical_crossentropy',\n",
        "                 metrics=['accuracy'])\n",
        "filepath='Model.best.hdf5'\n",
        "checkpointer = keras.callbacks.ModelCheckpoint(filepath, monitor='val_acc', verbose=1, save_best_only=True, mode='auto')\n"
      ],
      "execution_count": 0,
      "outputs": []
    },
    {
      "metadata": {
        "id": "rZYe0RPXn4O_",
        "colab_type": "code",
        "colab": {}
      },
      "cell_type": "code",
      "source": [
        "model.load_weights('Model.best.hdf5')"
      ],
      "execution_count": 0,
      "outputs": []
    },
    {
      "metadata": {
        "id": "PB9jPqCQhXOg",
        "colab_type": "code",
        "colab": {
          "base_uri": "https://localhost:8080/",
          "height": 3710
        },
        "outputId": "1bf82c50-a4c3-444d-a436-315296ceaad3"
      },
      "cell_type": "code",
      "source": [
        "# LReLU\n",
        "import time\n",
        "start_time = time.time()\n",
        "\n",
        "model.fit(train_x, train_y, epochs=50, batch_size=batch_size, validation_data=(val_x, val_y), callbacks=[checkpointer])\n",
        "print(\"--- %s seconds ---\" % (time.time() - start_time))"
      ],
      "execution_count": 22,
      "outputs": [
        {
          "output_type": "stream",
          "text": [
            "Train on 28709 samples, validate on 3589 samples\n",
            "Epoch 1/50\n",
            "28709/28709 [==============================] - 53s 2ms/step - loss: 0.4090 - acc: 0.8515 - val_loss: 1.2423 - val_acc: 0.6330\n",
            "\n",
            "Epoch 00001: val_acc did not improve from 0.63918\n",
            "Epoch 2/50\n",
            "25856/28709 [==========================>...] - ETA: 5s - loss: 0.4142 - acc: 0.8503"
          ],
          "name": "stdout"
        },
        {
          "output_type": "stream",
          "text": [
            "28709/28709 [==============================] - 53s 2ms/step - loss: 0.4188 - acc: 0.8481 - val_loss: 1.2831 - val_acc: 0.6325\n",
            "\n",
            "Epoch 00002: val_acc did not improve from 0.63918\n",
            "Epoch 3/50\n",
            "28709/28709 [==============================] - 53s 2ms/step - loss: 0.4061 - acc: 0.8503 - val_loss: 1.3161 - val_acc: 0.6364\n",
            "\n",
            "Epoch 00003: val_acc did not improve from 0.63918\n",
            "Epoch 4/50\n",
            " 9984/28709 [=========>....................] - ETA: 33s - loss: 0.3785 - acc: 0.8617"
          ],
          "name": "stdout"
        },
        {
          "output_type": "stream",
          "text": [
            "28709/28709 [==============================] - 53s 2ms/step - loss: 0.3902 - acc: 0.8598 - val_loss: 1.2826 - val_acc: 0.6459\n",
            "\n",
            "Epoch 00004: val_acc improved from 0.63918 to 0.64586, saving model to Model.best.hdf5\n",
            "Epoch 5/50\n",
            "28709/28709 [==============================] - 53s 2ms/step - loss: 0.3885 - acc: 0.8585 - val_loss: 1.3070 - val_acc: 0.6400\n",
            "\n",
            "Epoch 00005: val_acc did not improve from 0.64586\n",
            "Epoch 6/50\n",
            " 4480/28709 [===>..........................] - ETA: 43s - loss: 0.3332 - acc: 0.8835"
          ],
          "name": "stdout"
        },
        {
          "output_type": "stream",
          "text": [
            "28709/28709 [==============================] - 53s 2ms/step - loss: 0.3873 - acc: 0.8579 - val_loss: 1.2978 - val_acc: 0.6428\n",
            "\n",
            "Epoch 00006: val_acc did not improve from 0.64586\n",
            "Epoch 7/50\n",
            "28709/28709 [==============================] - 53s 2ms/step - loss: 0.3801 - acc: 0.8630 - val_loss: 1.3513 - val_acc: 0.6233\n",
            "\n",
            "Epoch 00007: val_acc did not improve from 0.64586\n",
            "Epoch 8/50\n",
            " 6144/28709 [=====>........................] - ETA: 40s - loss: 0.3556 - acc: 0.8722"
          ],
          "name": "stdout"
        },
        {
          "output_type": "stream",
          "text": [
            "28709/28709 [==============================] - 54s 2ms/step - loss: 0.3744 - acc: 0.8636 - val_loss: 1.2889 - val_acc: 0.6261\n",
            "\n",
            "Epoch 00008: val_acc did not improve from 0.64586\n",
            "Epoch 9/50\n",
            "28709/28709 [==============================] - 53s 2ms/step - loss: 0.3630 - acc: 0.8674 - val_loss: 1.3062 - val_acc: 0.6286\n",
            "\n",
            "Epoch 00009: val_acc did not improve from 0.64586\n",
            "Epoch 10/50\n",
            " 6400/28709 [=====>........................] - ETA: 39s - loss: 0.3345 - acc: 0.8784"
          ],
          "name": "stdout"
        },
        {
          "output_type": "stream",
          "text": [
            "28709/28709 [==============================] - 53s 2ms/step - loss: 0.3601 - acc: 0.8684 - val_loss: 1.3542 - val_acc: 0.6317\n",
            "\n",
            "Epoch 00010: val_acc did not improve from 0.64586\n",
            "Epoch 11/50\n",
            "28709/28709 [==============================] - 53s 2ms/step - loss: 0.3534 - acc: 0.8725 - val_loss: 1.2838 - val_acc: 0.6305\n",
            "\n",
            "Epoch 00011: val_acc did not improve from 0.64586\n",
            "Epoch 12/50\n",
            " 6400/28709 [=====>........................] - ETA: 39s - loss: 0.3247 - acc: 0.8833"
          ],
          "name": "stdout"
        },
        {
          "output_type": "stream",
          "text": [
            "28709/28709 [==============================] - 53s 2ms/step - loss: 0.3509 - acc: 0.8736 - val_loss: 1.3151 - val_acc: 0.6361\n",
            "\n",
            "Epoch 00012: val_acc did not improve from 0.64586\n",
            "Epoch 13/50\n",
            "28709/28709 [==============================] - 53s 2ms/step - loss: 0.3357 - acc: 0.8792 - val_loss: 1.3200 - val_acc: 0.6322\n",
            "\n",
            "Epoch 00013: val_acc did not improve from 0.64586\n",
            "Epoch 14/50\n",
            " 6400/28709 [=====>........................] - ETA: 39s - loss: 0.3117 - acc: 0.8888"
          ],
          "name": "stdout"
        },
        {
          "output_type": "stream",
          "text": [
            "28709/28709 [==============================] - 53s 2ms/step - loss: 0.3392 - acc: 0.8783 - val_loss: 1.3274 - val_acc: 0.6347\n",
            "\n",
            "Epoch 00014: val_acc did not improve from 0.64586\n",
            "Epoch 15/50\n",
            "28709/28709 [==============================] - 53s 2ms/step - loss: 0.3302 - acc: 0.8816 - val_loss: 1.3517 - val_acc: 0.6330\n",
            "\n",
            "Epoch 00015: val_acc did not improve from 0.64586\n",
            "Epoch 16/50\n",
            " 6400/28709 [=====>........................] - ETA: 39s - loss: 0.3312 - acc: 0.8833"
          ],
          "name": "stdout"
        },
        {
          "output_type": "stream",
          "text": [
            "28709/28709 [==============================] - 53s 2ms/step - loss: 0.3355 - acc: 0.8774 - val_loss: 1.3069 - val_acc: 0.6378\n",
            "\n",
            "Epoch 00016: val_acc did not improve from 0.64586\n",
            "Epoch 17/50\n",
            "28709/28709 [==============================] - 53s 2ms/step - loss: 0.3313 - acc: 0.8793 - val_loss: 1.4117 - val_acc: 0.6116\n",
            "\n",
            "Epoch 00017: val_acc did not improve from 0.64586\n",
            "Epoch 18/50\n",
            " 6400/28709 [=====>........................] - ETA: 39s - loss: 0.2993 - acc: 0.8980"
          ],
          "name": "stdout"
        },
        {
          "output_type": "stream",
          "text": [
            "28709/28709 [==============================] - 53s 2ms/step - loss: 0.3222 - acc: 0.8853 - val_loss: 1.3283 - val_acc: 0.6319\n",
            "\n",
            "Epoch 00018: val_acc did not improve from 0.64586\n",
            "Epoch 19/50\n",
            "28709/28709 [==============================] - 53s 2ms/step - loss: 0.3185 - acc: 0.8866 - val_loss: 1.3535 - val_acc: 0.6417\n",
            "\n",
            "Epoch 00019: val_acc did not improve from 0.64586\n",
            "Epoch 20/50\n",
            " 6400/28709 [=====>........................] - ETA: 39s - loss: 0.3040 - acc: 0.8945"
          ],
          "name": "stdout"
        },
        {
          "output_type": "stream",
          "text": [
            "28709/28709 [==============================] - 53s 2ms/step - loss: 0.3123 - acc: 0.8881 - val_loss: 1.3593 - val_acc: 0.6280\n",
            "\n",
            "Epoch 00020: val_acc did not improve from 0.64586\n",
            "Epoch 21/50\n",
            "28709/28709 [==============================] - 53s 2ms/step - loss: 0.3069 - acc: 0.8906 - val_loss: 1.3849 - val_acc: 0.6317\n",
            "\n",
            "Epoch 00021: val_acc did not improve from 0.64586\n",
            "Epoch 22/50\n",
            " 6400/28709 [=====>........................] - ETA: 39s - loss: 0.2814 - acc: 0.8989"
          ],
          "name": "stdout"
        },
        {
          "output_type": "stream",
          "text": [
            "28709/28709 [==============================] - 53s 2ms/step - loss: 0.3052 - acc: 0.8898 - val_loss: 1.5325 - val_acc: 0.6269\n",
            "\n",
            "Epoch 00022: val_acc did not improve from 0.64586\n",
            "Epoch 23/50\n",
            "28709/28709 [==============================] - 53s 2ms/step - loss: 0.2980 - acc: 0.8939 - val_loss: 1.3976 - val_acc: 0.6308\n",
            "\n",
            "Epoch 00023: val_acc did not improve from 0.64586\n",
            "Epoch 24/50\n",
            " 6400/28709 [=====>........................] - ETA: 40s - loss: 0.2782 - acc: 0.9005"
          ],
          "name": "stdout"
        },
        {
          "output_type": "stream",
          "text": [
            "28709/28709 [==============================] - 53s 2ms/step - loss: 0.2977 - acc: 0.8935 - val_loss: 1.3619 - val_acc: 0.6255\n",
            "\n",
            "Epoch 00024: val_acc did not improve from 0.64586\n",
            "Epoch 25/50\n",
            "28709/28709 [==============================] - 53s 2ms/step - loss: 0.2933 - acc: 0.8940 - val_loss: 1.3774 - val_acc: 0.6344\n",
            "\n",
            "Epoch 00025: val_acc did not improve from 0.64586\n",
            "Epoch 26/50\n",
            " 6400/28709 [=====>........................] - ETA: 39s - loss: 0.2701 - acc: 0.9034"
          ],
          "name": "stdout"
        },
        {
          "output_type": "stream",
          "text": [
            "28709/28709 [==============================] - 53s 2ms/step - loss: 0.2896 - acc: 0.8944 - val_loss: 1.4898 - val_acc: 0.6289\n",
            "\n",
            "Epoch 00026: val_acc did not improve from 0.64586\n",
            "Epoch 27/50\n",
            "28709/28709 [==============================] - 53s 2ms/step - loss: 0.2816 - acc: 0.8966 - val_loss: 1.4039 - val_acc: 0.6403\n",
            "\n",
            "Epoch 00027: val_acc did not improve from 0.64586\n",
            "Epoch 28/50\n",
            " 6400/28709 [=====>........................] - ETA: 39s - loss: 0.2799 - acc: 0.8989"
          ],
          "name": "stdout"
        },
        {
          "output_type": "stream",
          "text": [
            "28709/28709 [==============================] - 53s 2ms/step - loss: 0.2898 - acc: 0.8969 - val_loss: 1.4466 - val_acc: 0.6333\n",
            "\n",
            "Epoch 00028: val_acc did not improve from 0.64586\n",
            "Epoch 29/50\n",
            "28709/28709 [==============================] - 53s 2ms/step - loss: 0.2924 - acc: 0.8942 - val_loss: 1.4032 - val_acc: 0.6367\n",
            "\n",
            "Epoch 00029: val_acc did not improve from 0.64586\n",
            "Epoch 30/50\n",
            " 6400/28709 [=====>........................] - ETA: 39s - loss: 0.2715 - acc: 0.9012"
          ],
          "name": "stdout"
        },
        {
          "output_type": "stream",
          "text": [
            "28709/28709 [==============================] - 53s 2ms/step - loss: 0.2839 - acc: 0.8981 - val_loss: 1.3977 - val_acc: 0.6408\n",
            "\n",
            "Epoch 00030: val_acc did not improve from 0.64586\n",
            "Epoch 31/50\n",
            "28709/28709 [==============================] - 53s 2ms/step - loss: 0.2837 - acc: 0.8972 - val_loss: 1.4155 - val_acc: 0.6428\n",
            "\n",
            "Epoch 00031: val_acc did not improve from 0.64586\n",
            "Epoch 32/50\n",
            " 6400/28709 [=====>........................] - ETA: 39s - loss: 0.2496 - acc: 0.9128"
          ],
          "name": "stdout"
        },
        {
          "output_type": "stream",
          "text": [
            "28709/28709 [==============================] - 53s 2ms/step - loss: 0.2702 - acc: 0.9049 - val_loss: 1.4398 - val_acc: 0.6330\n",
            "\n",
            "Epoch 00032: val_acc did not improve from 0.64586\n",
            "Epoch 33/50\n",
            "28709/28709 [==============================] - 54s 2ms/step - loss: 0.2656 - acc: 0.9044 - val_loss: 1.4292 - val_acc: 0.6297\n",
            "\n",
            "Epoch 00033: val_acc did not improve from 0.64586\n",
            "Epoch 34/50\n",
            " 6400/28709 [=====>........................] - ETA: 40s - loss: 0.2417 - acc: 0.9113"
          ],
          "name": "stdout"
        },
        {
          "output_type": "stream",
          "text": [
            "28709/28709 [==============================] - 53s 2ms/step - loss: 0.2696 - acc: 0.9019 - val_loss: 1.4091 - val_acc: 0.6286\n",
            "\n",
            "Epoch 00034: val_acc did not improve from 0.64586\n",
            "Epoch 35/50\n",
            "28709/28709 [==============================] - 53s 2ms/step - loss: 0.2707 - acc: 0.9033 - val_loss: 1.4092 - val_acc: 0.6425\n",
            "\n",
            "Epoch 00035: val_acc did not improve from 0.64586\n",
            "Epoch 36/50\n",
            " 6400/28709 [=====>........................] - ETA: 39s - loss: 0.2490 - acc: 0.9137"
          ],
          "name": "stdout"
        },
        {
          "output_type": "stream",
          "text": [
            "28709/28709 [==============================] - 53s 2ms/step - loss: 0.2628 - acc: 0.9056 - val_loss: 1.5396 - val_acc: 0.6216\n",
            "\n",
            "Epoch 00036: val_acc did not improve from 0.64586\n",
            "Epoch 37/50\n",
            "28709/28709 [==============================] - 53s 2ms/step - loss: 0.2667 - acc: 0.9033 - val_loss: 1.4604 - val_acc: 0.6314\n",
            "\n",
            "Epoch 00037: val_acc did not improve from 0.64586\n",
            "Epoch 38/50\n",
            " 6400/28709 [=====>........................] - ETA: 39s - loss: 0.2448 - acc: 0.9144"
          ],
          "name": "stdout"
        },
        {
          "output_type": "stream",
          "text": [
            "28709/28709 [==============================] - 53s 2ms/step - loss: 0.2574 - acc: 0.9082 - val_loss: 1.4655 - val_acc: 0.6386\n",
            "\n",
            "Epoch 00038: val_acc did not improve from 0.64586\n",
            "Epoch 39/50\n",
            "28709/28709 [==============================] - 53s 2ms/step - loss: 0.2571 - acc: 0.9091 - val_loss: 1.5333 - val_acc: 0.6378\n",
            "\n",
            "Epoch 00039: val_acc did not improve from 0.64586\n",
            "Epoch 40/50\n",
            " 6400/28709 [=====>........................] - ETA: 39s - loss: 0.2526 - acc: 0.9069"
          ],
          "name": "stdout"
        },
        {
          "output_type": "stream",
          "text": [
            "28709/28709 [==============================] - 53s 2ms/step - loss: 0.2545 - acc: 0.9086 - val_loss: 1.4744 - val_acc: 0.6358\n",
            "\n",
            "Epoch 00040: val_acc did not improve from 0.64586\n",
            "Epoch 41/50\n",
            "28709/28709 [==============================] - 53s 2ms/step - loss: 0.2510 - acc: 0.9101 - val_loss: 1.4976 - val_acc: 0.6319\n",
            "\n",
            "Epoch 00041: val_acc did not improve from 0.64586\n",
            "Epoch 42/50\n",
            " 6400/28709 [=====>........................] - ETA: 39s - loss: 0.2374 - acc: 0.9178"
          ],
          "name": "stdout"
        },
        {
          "output_type": "stream",
          "text": [
            "28709/28709 [==============================] - 53s 2ms/step - loss: 0.2501 - acc: 0.9110 - val_loss: 1.4443 - val_acc: 0.6358\n",
            "\n",
            "Epoch 00042: val_acc did not improve from 0.64586\n",
            "Epoch 43/50\n",
            "28709/28709 [==============================] - 53s 2ms/step - loss: 0.2474 - acc: 0.9130 - val_loss: 1.5598 - val_acc: 0.6291\n",
            "\n",
            "Epoch 00043: val_acc did not improve from 0.64586\n",
            "Epoch 44/50\n",
            " 6400/28709 [=====>........................] - ETA: 39s - loss: 0.2251 - acc: 0.9223"
          ],
          "name": "stdout"
        },
        {
          "output_type": "stream",
          "text": [
            "28709/28709 [==============================] - 53s 2ms/step - loss: 0.2428 - acc: 0.9138 - val_loss: 1.4691 - val_acc: 0.6339\n",
            "\n",
            "Epoch 00044: val_acc did not improve from 0.64586\n",
            "Epoch 45/50\n",
            "28709/28709 [==============================] - 53s 2ms/step - loss: 0.2435 - acc: 0.9140 - val_loss: 1.5082 - val_acc: 0.6378\n",
            "\n",
            "Epoch 00045: val_acc did not improve from 0.64586\n",
            "Epoch 46/50\n",
            " 6400/28709 [=====>........................] - ETA: 39s - loss: 0.2304 - acc: 0.9177"
          ],
          "name": "stdout"
        },
        {
          "output_type": "stream",
          "text": [
            "28709/28709 [==============================] - 53s 2ms/step - loss: 0.2380 - acc: 0.9154 - val_loss: 1.4654 - val_acc: 0.6411\n",
            "\n",
            "Epoch 00046: val_acc did not improve from 0.64586\n",
            "Epoch 47/50\n",
            "28709/28709 [==============================] - 53s 2ms/step - loss: 0.2344 - acc: 0.9168 - val_loss: 1.4999 - val_acc: 0.6406\n",
            "\n",
            "Epoch 00047: val_acc did not improve from 0.64586\n",
            "Epoch 48/50\n",
            " 6400/28709 [=====>........................] - ETA: 39s - loss: 0.2232 - acc: 0.9225"
          ],
          "name": "stdout"
        },
        {
          "output_type": "stream",
          "text": [
            "28709/28709 [==============================] - 53s 2ms/step - loss: 0.2366 - acc: 0.9157 - val_loss: 1.4765 - val_acc: 0.6453\n",
            "\n",
            "Epoch 00048: val_acc did not improve from 0.64586\n",
            "Epoch 49/50\n",
            "28709/28709 [==============================] - 53s 2ms/step - loss: 0.2402 - acc: 0.9148 - val_loss: 1.5056 - val_acc: 0.6417\n",
            "\n",
            "Epoch 00049: val_acc did not improve from 0.64586\n",
            "Epoch 50/50\n",
            " 6400/28709 [=====>........................] - ETA: 39s - loss: 0.2144 - acc: 0.9259"
          ],
          "name": "stdout"
        },
        {
          "output_type": "stream",
          "text": [
            "28709/28709 [==============================] - 53s 2ms/step - loss: 0.2343 - acc: 0.9174 - val_loss: 1.5180 - val_acc: 0.6333\n",
            "\n",
            "Epoch 00050: val_acc did not improve from 0.64586\n",
            "--- 2664.325827598572 seconds ---\n"
          ],
          "name": "stdout"
        }
      ]
    },
    {
      "metadata": {
        "id": "rCSCjxwP6eMQ",
        "colab_type": "code",
        "colab": {
          "base_uri": "https://localhost:8080/",
          "height": 437
        },
        "outputId": "a5fad5cd-f021-43c1-d084-eb9fd7e0f8a6"
      },
      "cell_type": "code",
      "source": [
        "# input normalized\n",
        "import time\n",
        "start_time = time.time()\n",
        "\n",
        "model.fit(train_x, train_y, epochs=10, batch_size=batch_size, validation_data=(val_x, val_y))\n",
        "print(\"--- %s seconds ---\" % (time.time() - start_time))"
      ],
      "execution_count": 50,
      "outputs": [
        {
          "output_type": "stream",
          "text": [
            "Train on 28709 samples, validate on 3589 samples\n",
            "Epoch 1/10\n",
            "28709/28709 [==============================] - 162s 6ms/step - loss: 2.0189 - acc: 0.2407 - val_loss: 1.8390 - val_acc: 0.2856\n",
            "Epoch 2/10\n",
            "28709/28709 [==============================] - 156s 5ms/step - loss: 1.8329 - acc: 0.2909 - val_loss: 1.7546 - val_acc: 0.3391\n",
            "Epoch 3/10\n",
            "  896/28709 [..............................] - ETA: 2:27 - loss: 1.7662 - acc: 0.3058"
          ],
          "name": "stdout"
        },
        {
          "output_type": "stream",
          "text": [
            "28709/28709 [==============================] - 157s 5ms/step - loss: 1.7695 - acc: 0.3230 - val_loss: 1.8986 - val_acc: 0.3093\n",
            "Epoch 4/10\n",
            "28709/28709 [==============================] - 157s 5ms/step - loss: 1.7122 - acc: 0.3484 - val_loss: 1.6657 - val_acc: 0.3611\n",
            "Epoch 5/10\n",
            "10880/28709 [==========>...................] - ETA: 1:34 - loss: 1.6901 - acc: 0.3509"
          ],
          "name": "stdout"
        },
        {
          "output_type": "stream",
          "text": [
            "28709/28709 [==============================] - 156s 5ms/step - loss: 1.6773 - acc: 0.3604 - val_loss: 1.7014 - val_acc: 0.3494\n",
            "Epoch 6/10\n",
            "28709/28709 [==============================] - 156s 5ms/step - loss: 1.6553 - acc: 0.3702 - val_loss: 1.6194 - val_acc: 0.3859\n",
            "Epoch 7/10\n",
            "13312/28709 [============>.................] - ETA: 1:20 - loss: 1.6141 - acc: 0.3857"
          ],
          "name": "stdout"
        },
        {
          "output_type": "stream",
          "text": [
            "28709/28709 [==============================] - 156s 5ms/step - loss: 1.6129 - acc: 0.3857 - val_loss: 1.6001 - val_acc: 0.3923\n",
            "Epoch 8/10\n",
            "28709/28709 [==============================] - 156s 5ms/step - loss: 1.5920 - acc: 0.3924 - val_loss: 1.6594 - val_acc: 0.4035\n",
            "Epoch 9/10\n",
            "13824/28709 [=============>................] - ETA: 1:18 - loss: 1.5641 - acc: 0.4065"
          ],
          "name": "stdout"
        },
        {
          "output_type": "stream",
          "text": [
            "28709/28709 [==============================] - 157s 5ms/step - loss: 1.5559 - acc: 0.4044 - val_loss: 1.5507 - val_acc: 0.4113\n",
            "Epoch 10/10\n",
            "28709/28709 [==============================] - 157s 5ms/step - loss: 1.5341 - acc: 0.4100 - val_loss: 1.5732 - val_acc: 0.4068\n",
            "--- 1574.3259291648865 seconds ---\n"
          ],
          "name": "stdout"
        }
      ]
    },
    {
      "metadata": {
        "id": "bJiUe6bEgjHD",
        "colab_type": "code",
        "colab": {}
      },
      "cell_type": "code",
      "source": [
        "\n",
        "import time\n",
        "start_time = time.time()\n",
        "\n",
        "datagen = ImageDataGenerator(\n",
        "    featurewise_center=True,  # set input mean to 0 over the dataset\n",
        "    samplewise_center=True,  # set each sample mean to 0\n",
        "    featurewise_std_normalization=True,  # divide inputs by std of the dataset\n",
        "    samplewise_std_normalization=True,  # divide each input by its std\n",
        "    zca_whitening=True,  # apply ZCA whitening\n",
        "    rotation_range=40,  # randomly rotate images in the range (degrees, 0 to 180)\n",
        "    width_shift_range=0.2,  # randomly shift images horizontally (fraction of total width)\n",
        "    height_shift_range=0.2,  # randomly shift images vertically (fraction of total height)\n",
        "    horizontal_flip=True,  # randomly flip images\n",
        "    vertical_flip=True)  # randomly flip images\n",
        "\n",
        "datagen.fit(train_x)\n",
        "\n",
        "model.fit_generator(datagen.flow(train_x, train_y,\n",
        "                    batch_size=batch_size),\n",
        "                    steps_per_epoch=(train_x.shape[0]/batch_size),\n",
        "                    epochs=10,\n",
        "                    validation_data=(val_x, val_y),\n",
        "                    callbacks=[checkpointer])\n",
        "print(\"--- %s seconds ---\" % (time.time() - start_time))"
      ],
      "execution_count": 0,
      "outputs": []
    }
  ]
}