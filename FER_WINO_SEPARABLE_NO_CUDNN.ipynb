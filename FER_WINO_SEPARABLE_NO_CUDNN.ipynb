{
  "nbformat": 4,
  "nbformat_minor": 0,
  "metadata": {
    "colab": {
      "name": "FER_WINO_SEPARABLE_NO_CUDNN (1).ipynb",
      "version": "0.3.2",
      "provenance": [],
      "collapsed_sections": [],
      "include_colab_link": true
    },
    "kernelspec": {
      "name": "python3",
      "display_name": "Python 3"
    },
    "accelerator": "GPU"
  },
  "cells": [
    {
      "cell_type": "markdown",
      "metadata": {
        "id": "view-in-github",
        "colab_type": "text"
      },
      "source": [
        "[View in Colaboratory](https://colab.research.google.com/github/Curiousss/InkerIntern/blob/master/FER_WINO_SEPARABLE_NO_CUDNN.ipynb)"
      ]
    },
    {
      "metadata": {
        "id": "Q9eNowMGaO_J",
        "colab_type": "code",
        "colab": {
          "resources": {
            "http://localhost:8080/nbextensions/google.colab/files.js": {
              "data": "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",
              "ok": true,
              "headers": [
                [
                  "content-type",
                  "application/javascript"
                ]
              ],
              "status": 200,
              "status_text": ""
            }
          },
          "base_uri": "https://localhost:8080/",
          "height": 626
        },
        "outputId": "a3a87222-84b1-46ee-cd53-a612a6c16f61"
      },
      "cell_type": "code",
      "source": [
        "from google.colab import files\n",
        "uploaded = files.upload()"
      ],
      "execution_count": 1,
      "outputs": [
        {
          "output_type": "display_data",
          "data": {
            "text/html": [
              "\n",
              "     <input type=\"file\" id=\"files-2e8d2f4b-a1cd-41f1-bf1b-1324f7b2d5c3\" name=\"files[]\" multiple disabled />\n",
              "     <output id=\"result-2e8d2f4b-a1cd-41f1-bf1b-1324f7b2d5c3\">\n",
              "      Upload widget is only available when the cell has been executed in the\n",
              "      current browser session. Please rerun this cell to enable.\n",
              "      </output>\n",
              "      <script src=\"/nbextensions/google.colab/files.js\"></script> "
            ],
            "text/plain": [
              "<IPython.core.display.HTML object>"
            ]
          },
          "metadata": {
            "tags": []
          }
        },
        {
          "output_type": "stream",
          "text": [
            "Saving fer2013.tar to fer2013 (1).tar\n"
          ],
          "name": "stdout"
        },
        {
          "output_type": "error",
          "ename": "KeyboardInterrupt",
          "evalue": "ignored",
          "traceback": [
            "\u001b[0;31m---------------------------------------------------------------------------\u001b[0m",
            "\u001b[0;31mKeyboardInterrupt\u001b[0m                         Traceback (most recent call last)",
            "\u001b[0;32m<ipython-input-1-21dc3c638f66>\u001b[0m in \u001b[0;36m<module>\u001b[0;34m()\u001b[0m\n\u001b[1;32m      1\u001b[0m \u001b[0;32mfrom\u001b[0m \u001b[0mgoogle\u001b[0m\u001b[0;34m.\u001b[0m\u001b[0mcolab\u001b[0m \u001b[0;32mimport\u001b[0m \u001b[0mfiles\u001b[0m\u001b[0;34m\u001b[0m\u001b[0m\n\u001b[0;32m----> 2\u001b[0;31m \u001b[0muploaded\u001b[0m \u001b[0;34m=\u001b[0m \u001b[0mfiles\u001b[0m\u001b[0;34m.\u001b[0m\u001b[0mupload\u001b[0m\u001b[0;34m(\u001b[0m\u001b[0;34m)\u001b[0m\u001b[0;34m\u001b[0m\u001b[0m\n\u001b[0m",
            "\u001b[0;32m/usr/local/lib/python3.6/dist-packages/google/colab/files.py\u001b[0m in \u001b[0;36mupload\u001b[0;34m()\u001b[0m\n\u001b[1;32m     68\u001b[0m     result = output.eval_js(\n\u001b[1;32m     69\u001b[0m         'google.colab._files._uploadFilesContinue(\"{output_id}\")'.format(\n\u001b[0;32m---> 70\u001b[0;31m             output_id=output_id))\n\u001b[0m\u001b[1;32m     71\u001b[0m     \u001b[0;32mif\u001b[0m \u001b[0mresult\u001b[0m\u001b[0;34m[\u001b[0m\u001b[0;34m'action'\u001b[0m\u001b[0;34m]\u001b[0m \u001b[0;34m!=\u001b[0m \u001b[0;34m'append'\u001b[0m\u001b[0;34m:\u001b[0m\u001b[0;34m\u001b[0m\u001b[0m\n\u001b[1;32m     72\u001b[0m       \u001b[0;31m# JS side uses a generator of promises to process all of the files- some\u001b[0m\u001b[0;34m\u001b[0m\u001b[0;34m\u001b[0m\u001b[0m\n",
            "\u001b[0;32m/usr/local/lib/python3.6/dist-packages/google/colab/output/_js.py\u001b[0m in \u001b[0;36meval_js\u001b[0;34m(script, ignore_result)\u001b[0m\n\u001b[1;32m     37\u001b[0m   \u001b[0;32mif\u001b[0m \u001b[0mignore_result\u001b[0m\u001b[0;34m:\u001b[0m\u001b[0;34m\u001b[0m\u001b[0m\n\u001b[1;32m     38\u001b[0m     \u001b[0;32mreturn\u001b[0m\u001b[0;34m\u001b[0m\u001b[0m\n\u001b[0;32m---> 39\u001b[0;31m   \u001b[0;32mreturn\u001b[0m \u001b[0m_message\u001b[0m\u001b[0;34m.\u001b[0m\u001b[0mread_reply_from_input\u001b[0m\u001b[0;34m(\u001b[0m\u001b[0mrequest_id\u001b[0m\u001b[0;34m)\u001b[0m\u001b[0;34m\u001b[0m\u001b[0m\n\u001b[0m\u001b[1;32m     40\u001b[0m \u001b[0;34m\u001b[0m\u001b[0m\n\u001b[1;32m     41\u001b[0m \u001b[0;34m\u001b[0m\u001b[0m\n",
            "\u001b[0;32m/usr/local/lib/python3.6/dist-packages/google/colab/_message.py\u001b[0m in \u001b[0;36mread_reply_from_input\u001b[0;34m(message_id, timeout_sec)\u001b[0m\n\u001b[1;32m     79\u001b[0m     \u001b[0mreply\u001b[0m \u001b[0;34m=\u001b[0m \u001b[0m_read_next_input_message\u001b[0m\u001b[0;34m(\u001b[0m\u001b[0;34m)\u001b[0m\u001b[0;34m\u001b[0m\u001b[0m\n\u001b[1;32m     80\u001b[0m     \u001b[0;32mif\u001b[0m \u001b[0mreply\u001b[0m \u001b[0;34m==\u001b[0m \u001b[0m_NOT_READY\u001b[0m \u001b[0;32mor\u001b[0m \u001b[0;32mnot\u001b[0m \u001b[0misinstance\u001b[0m\u001b[0;34m(\u001b[0m\u001b[0mreply\u001b[0m\u001b[0;34m,\u001b[0m \u001b[0mdict\u001b[0m\u001b[0;34m)\u001b[0m\u001b[0;34m:\u001b[0m\u001b[0;34m\u001b[0m\u001b[0m\n\u001b[0;32m---> 81\u001b[0;31m       \u001b[0mtime\u001b[0m\u001b[0;34m.\u001b[0m\u001b[0msleep\u001b[0m\u001b[0;34m(\u001b[0m\u001b[0;36m0.025\u001b[0m\u001b[0;34m)\u001b[0m\u001b[0;34m\u001b[0m\u001b[0m\n\u001b[0m\u001b[1;32m     82\u001b[0m       \u001b[0;32mcontinue\u001b[0m\u001b[0;34m\u001b[0m\u001b[0m\n\u001b[1;32m     83\u001b[0m     if (reply.get('type') == 'colab_reply' and\n",
            "\u001b[0;31mKeyboardInterrupt\u001b[0m: "
          ]
        }
      ]
    },
    {
      "metadata": {
        "id": "BEb9SWJUV8T2",
        "colab_type": "code",
        "colab": {
          "base_uri": "https://localhost:8080/",
          "height": 35
        },
        "outputId": "0f3eccb7-ac4a-4d83-b850-32527e4b1eef"
      },
      "cell_type": "code",
      "source": [
        "!ls"
      ],
      "execution_count": 2,
      "outputs": [
        {
          "output_type": "stream",
          "text": [
            "baddata.txt  datalab  fer2013  fer2013 (1).tar\tfer2013.tar\r\n"
          ],
          "name": "stdout"
        }
      ]
    },
    {
      "metadata": {
        "id": "ldEdUzQbuQIi",
        "colab_type": "code",
        "colab": {
          "base_uri": "https://localhost:8080/",
          "height": 108
        },
        "outputId": "fa1f7c30-c8b0-4725-b742-3500ee1754bb"
      },
      "cell_type": "code",
      "source": [
        "!tar xvf fer2013.tar\n",
        "!ls"
      ],
      "execution_count": 0,
      "outputs": [
        {
          "output_type": "stream",
          "text": [
            "fer2013/fer2013.csv\n",
            "fer2013/README\n",
            "fer2013/fer2013.bib\n",
            "fer2013/\n",
            "datalab  fer2013  fer2013.tar\n"
          ],
          "name": "stdout"
        }
      ]
    },
    {
      "metadata": {
        "id": "dTyUIGDeuAQf",
        "colab_type": "code",
        "colab": {
          "base_uri": "https://localhost:8080/",
          "height": 35
        },
        "outputId": "3d4cb354-340e-4675-85b1-51748bfa2c93"
      },
      "cell_type": "code",
      "source": [
        "\n",
        "import csv\n",
        "import numpy as np\n",
        "\n",
        "import keras\n",
        "from keras.models import Sequential\n",
        "from keras.layers import Dense, Dropout, Activation, Flatten, GlobalAveragePooling2D, InputLayer\n",
        "from keras.layers import Convolution2D, SeparableConv2D, MaxPooling2D, BatchNormalization \n",
        "from keras.layers.advanced_activations import LeakyReLU\n",
        "from keras.utils import np_utils\n",
        "from keras.preprocessing.image import ImageDataGenerator"
      ],
      "execution_count": 3,
      "outputs": [
        {
          "output_type": "stream",
          "text": [
            "Using TensorFlow backend.\n"
          ],
          "name": "stderr"
        }
      ]
    },
    {
      "metadata": {
        "id": "OqJCQeGxhq4x",
        "colab_type": "code",
        "colab": {}
      },
      "cell_type": "code",
      "source": [
        "img_rows, img_cols = 48, 48\n",
        "batch_size = 64\n",
        "classes = 7\n",
        "epoch = 100\n",
        "img_channels = 1"
      ],
      "execution_count": 0,
      "outputs": []
    },
    {
      "metadata": {
        "id": "sq7nNsVmhsYX",
        "colab_type": "code",
        "colab": {}
      },
      "cell_type": "code",
      "source": [
        "import csv\n",
        "f = open('fer2013/fer2013.csv')\n",
        "csv_f = csv.reader(f)\n"
      ],
      "execution_count": 0,
      "outputs": []
    },
    {
      "metadata": {
        "id": "yQSDhHZ3tKqk",
        "colab_type": "code",
        "colab": {}
      },
      "cell_type": "code",
      "source": [
        "train_x = []\n",
        "train_y = []\n",
        "val_x =[]\n",
        "val_y =[]"
      ],
      "execution_count": 0,
      "outputs": []
    },
    {
      "metadata": {
        "id": "eWmuGFqNF5Ds",
        "colab_type": "code",
        "colab": {}
      },
      "cell_type": "code",
      "source": [
        "ToBeRemovedTrainingData = []\n",
        "with open(\"baddata.txt\", \"r\") as text:\n",
        "  for line in text:\n",
        "    ToBeRemovedTrainingData.append(int(line))"
      ],
      "execution_count": 0,
      "outputs": []
    },
    {
      "metadata": {
        "id": "HmmgpkTpiWyS",
        "colab_type": "code",
        "colab": {}
      },
      "cell_type": "code",
      "source": [
        "num=0\n",
        "for row in csv_f:\n",
        "  num = num +1\n",
        "  if num in ToBeRemovedTrainingData or num==1:\n",
        "    continue\n",
        "  #print(row)\n",
        "  #print(num)\n",
        "  temp_list = []\n",
        "  for pixel in row[1].split( ):\n",
        "    temp_list.append(int(pixel))\n",
        "\n",
        "  if str(row[2]) == \"Training\":\n",
        "    train_y.append(int(row[0]))\n",
        "    train_x.append(temp_list) \n",
        "  elif str(row[2]) == \"PublicTest\":\n",
        "    val_y.append(int(row[0]))\n",
        "    val_x.append(temp_list)"
      ],
      "execution_count": 0,
      "outputs": []
    },
    {
      "metadata": {
        "id": "H6rDJXl4rUKS",
        "colab_type": "code",
        "colab": {}
      },
      "cell_type": "code",
      "source": [
        "train_x = np.asarray(train_x)\n",
        "train_y = np.asarray(train_y)\n",
        "val_x = np.asarray(val_x)\n",
        "val_y = np.asarray(val_y)"
      ],
      "execution_count": 0,
      "outputs": []
    },
    {
      "metadata": {
        "id": "lmXwV3InrVsQ",
        "colab_type": "code",
        "colab": {}
      },
      "cell_type": "code",
      "source": [
        "train_x = train_x.reshape(train_x.shape[0], 48, 48)\n",
        "train_x = train_x.reshape(train_x.shape[0], 48, 48, 1 )\n",
        "train_y = np_utils.to_categorical(train_y, 7)"
      ],
      "execution_count": 0,
      "outputs": []
    },
    {
      "metadata": {
        "id": "s3iZUfL1ztRu",
        "colab_type": "code",
        "colab": {}
      },
      "cell_type": "code",
      "source": [
        "val_x = val_x.reshape(val_x.shape[0], 48, 48)\n",
        "val_x = val_x.reshape(val_x.shape[0], 48, 48, 1)\n",
        "val_y = np_utils.to_categorical(val_y, 7)"
      ],
      "execution_count": 0,
      "outputs": []
    },
    {
      "metadata": {
        "id": "FAWueVKKI0CR",
        "colab_type": "code",
        "colab": {
          "base_uri": "https://localhost:8080/",
          "height": 65
        },
        "outputId": "adef5ce2-57d8-4c8c-bcba-0eb0de1267dc"
      },
      "cell_type": "code",
      "source": [
        "from PIL import Image\n",
        "\n",
        "#print(train_x.shape)\n",
        "\n",
        "showimg = train_x[1].reshape(48,48)\n",
        "img = Image.fromarray(showimg.astype('uint8'))\n",
        "from IPython.display import display\n",
        "display(img)"
      ],
      "execution_count": 12,
      "outputs": [
        {
          "output_type": "display_data",
          "data": {
            "image/png": "[encoded data removed]",
            "text/plain": [
              "<PIL.Image.Image image mode=L size=48x48 at 0x7FBC2865C4A8>"
            ]
          },
          "metadata": {
            "tags": []
          }
        }
      ]
    },
    {
      "metadata": {
        "id": "bkb-p1BXzBrI",
        "colab_type": "code",
        "colab": {}
      },
      "cell_type": "code",
      "source": [
        "train_x = train_x.astype('float32')\n",
        "train_x = train_x / 255.0\n",
        "val_x = val_x.astype('float32')\n",
        "val_x = val_x / 255.0\n",
        "train_x = train_x - 0.5\n",
        "train_x = train_x * 2\n",
        "val_x = val_x - 0.5\n",
        "val_x = val_x * 2\n"
      ],
      "execution_count": 0,
      "outputs": []
    },
    {
      "metadata": {
        "id": "jMKS1KOEGsB3",
        "colab_type": "code",
        "colab": {}
      },
      "cell_type": "code",
      "source": [
        "input_shape = (img_rows, img_cols, img_channels)\n",
        "model = Sequential()\n",
        "model.add(SeparableConv2D(filters=64, kernel_size=(3, 3), padding='same',\n",
        "                            name='image_array', input_shape=input_shape))\n",
        "model.add(BatchNormalization())\n",
        "model.add(LeakyReLU())\n",
        "model.add(SeparableConv2D(filters=64, kernel_size=(3, 3), padding='same'))\n",
        "model.add(BatchNormalization())\n",
        "model.add(LeakyReLU())\n",
        "model.add(MaxPooling2D(pool_size=(2, 2), padding='same'))\n",
        "#model.add(Dropout(.3))\n",
        "\n",
        "model.add(SeparableConv2D(filters=128, kernel_size=(3, 3), padding='same'))\n",
        "model.add(BatchNormalization())\n",
        "model.add(LeakyReLU())\n",
        "model.add(SeparableConv2D(filters=128, kernel_size=(3, 3), padding='same'))\n",
        "model.add(BatchNormalization())\n",
        "model.add(LeakyReLU())\n",
        "model.add(MaxPooling2D(pool_size=(2, 2), padding='same'))\n",
        "#model.add(Dropout(.3))\n",
        "\n",
        "model.add(SeparableConv2D(filters=256, kernel_size=(3, 3), padding='same'))\n",
        "model.add(BatchNormalization())\n",
        "model.add(LeakyReLU())\n",
        "model.add(SeparableConv2D(filters=256, kernel_size=(3, 3), padding='same'))\n",
        "model.add(BatchNormalization())\n",
        "model.add(LeakyReLU())\n",
        "model.add(MaxPooling2D(pool_size=(2, 2), padding='same'))\n",
        "#model.add(Dropout(.3))\n",
        "\n",
        "model.add(SeparableConv2D(filters=512, kernel_size=(3, 3), padding='same'))\n",
        "model.add(BatchNormalization())\n",
        "model.add(LeakyReLU())\n",
        "model.add(SeparableConv2D(filters=512, kernel_size=(3, 3), padding='same'))\n",
        "model.add(BatchNormalization())\n",
        "model.add(LeakyReLU())\n",
        "model.add(MaxPooling2D(pool_size=(2, 2), padding='same'))\n",
        "#model.add(Dropout(.3))\n",
        "'''\n",
        "model.add(SeparableConv2D(filters=1024, kernel_size=(3, 3), padding='same'))\n",
        "model.add(BatchNormalization())\n",
        "model.add(LeakyReLU())\n",
        "model.add(SeparableConv2D(filters=1024, kernel_size=(3, 3), padding='same'))\n",
        "model.add(BatchNormalization())\n",
        "model.add(LeakyReLU())\n",
        "model.add(MaxPooling2D(pool_size=(2, 2), padding='same'))\n",
        "'''\n",
        "#model.add(Flatten())\n",
        "'''\n",
        "model.add(Dense(1024))\n",
        "model.add(BatchNormalization())\n",
        "model.add(LeakyReLU())\n",
        "model.add(Dropout(.5))\n",
        "\n",
        "model.add(Dense(2048))\n",
        "model.add(BatchNormalization())\n",
        "model.add(LeakyReLU())\n",
        "model.add(Dropout(.5))\n",
        "'''\n",
        "model.add(InputLayer(input_shape=(3, 3, 1024)))\n",
        "model.add(GlobalAveragePooling2D())\n",
        "\n",
        "\n",
        "model.add(Dense(1024))\n",
        "model.add(BatchNormalization())\n",
        "model.add(LeakyReLU())\n",
        "model.add(Dropout(.3))\n",
        "\n",
        "model.add(Dense(7))\n",
        "model.add(Activation('softmax'))"
      ],
      "execution_count": 0,
      "outputs": []
    },
    {
      "metadata": {
        "id": "tRsZspcA0uxT",
        "colab_type": "code",
        "colab": {
          "base_uri": "https://localhost:8080/",
          "height": 1454
        },
        "outputId": "6791d992-92ec-4353-d472-853ff3592c09"
      },
      "cell_type": "code",
      "source": [
        "model.summary()"
      ],
      "execution_count": 0,
      "outputs": [
        {
          "output_type": "stream",
          "text": [
            "_________________________________________________________________\n",
            "Layer (type)                 Output Shape              Param #   \n",
            "=================================================================\n",
            "image_array (SeparableConv2D (None, 48, 48, 64)        153       \n",
            "_________________________________________________________________\n",
            "batch_normalization_1 (Batch (None, 48, 48, 64)        256       \n",
            "_________________________________________________________________\n",
            "leaky_re_lu_1 (LeakyReLU)    (None, 48, 48, 64)        0         \n",
            "_________________________________________________________________\n",
            "separable_conv2d_1 (Separabl (None, 48, 48, 64)        5760      \n",
            "_________________________________________________________________\n",
            "batch_normalization_2 (Batch (None, 48, 48, 64)        256       \n",
            "_________________________________________________________________\n",
            "leaky_re_lu_2 (LeakyReLU)    (None, 48, 48, 64)        0         \n",
            "_________________________________________________________________\n",
            "max_pooling2d_1 (MaxPooling2 (None, 24, 24, 64)        0         \n",
            "_________________________________________________________________\n",
            "dropout_1 (Dropout)          (None, 24, 24, 64)        0         \n",
            "_________________________________________________________________\n",
            "separable_conv2d_2 (Separabl (None, 24, 24, 128)       9920      \n",
            "_________________________________________________________________\n",
            "batch_normalization_3 (Batch (None, 24, 24, 128)       512       \n",
            "_________________________________________________________________\n",
            "leaky_re_lu_3 (LeakyReLU)    (None, 24, 24, 128)       0         \n",
            "_________________________________________________________________\n",
            "separable_conv2d_3 (Separabl (None, 24, 24, 128)       19712     \n",
            "_________________________________________________________________\n",
            "batch_normalization_4 (Batch (None, 24, 24, 128)       512       \n",
            "_________________________________________________________________\n",
            "leaky_re_lu_4 (LeakyReLU)    (None, 24, 24, 128)       0         \n",
            "_________________________________________________________________\n",
            "max_pooling2d_2 (MaxPooling2 (None, 12, 12, 128)       0         \n",
            "_________________________________________________________________\n",
            "dropout_2 (Dropout)          (None, 12, 12, 128)       0         \n",
            "_________________________________________________________________\n",
            "separable_conv2d_4 (Separabl (None, 12, 12, 256)       36224     \n",
            "_________________________________________________________________\n",
            "batch_normalization_5 (Batch (None, 12, 12, 256)       1024      \n",
            "_________________________________________________________________\n",
            "leaky_re_lu_5 (LeakyReLU)    (None, 12, 12, 256)       0         \n",
            "_________________________________________________________________\n",
            "separable_conv2d_5 (Separabl (None, 12, 12, 256)       72192     \n",
            "_________________________________________________________________\n",
            "batch_normalization_6 (Batch (None, 12, 12, 256)       1024      \n",
            "_________________________________________________________________\n",
            "leaky_re_lu_6 (LeakyReLU)    (None, 12, 12, 256)       0         \n",
            "_________________________________________________________________\n",
            "max_pooling2d_3 (MaxPooling2 (None, 6, 6, 256)         0         \n",
            "_________________________________________________________________\n",
            "dropout_3 (Dropout)          (None, 6, 6, 256)         0         \n",
            "_________________________________________________________________\n",
            "separable_conv2d_6 (Separabl (None, 6, 6, 512)         137984    \n",
            "_________________________________________________________________\n",
            "batch_normalization_7 (Batch (None, 6, 6, 512)         2048      \n",
            "_________________________________________________________________\n",
            "leaky_re_lu_7 (LeakyReLU)    (None, 6, 6, 512)         0         \n",
            "_________________________________________________________________\n",
            "separable_conv2d_7 (Separabl (None, 6, 6, 512)         275456    \n",
            "_________________________________________________________________\n",
            "batch_normalization_8 (Batch (None, 6, 6, 512)         2048      \n",
            "_________________________________________________________________\n",
            "leaky_re_lu_8 (LeakyReLU)    (None, 6, 6, 512)         0         \n",
            "_________________________________________________________________\n",
            "max_pooling2d_4 (MaxPooling2 (None, 3, 3, 512)         0         \n",
            "_________________________________________________________________\n",
            "dropout_4 (Dropout)          (None, 3, 3, 512)         0         \n",
            "_________________________________________________________________\n",
            "input_1 (InputLayer)         multiple                  0         \n",
            "_________________________________________________________________\n",
            "global_average_pooling2d_1 ( (None, 512)               0         \n",
            "_________________________________________________________________\n",
            "dense_1 (Dense)              (None, 7)                 3591      \n",
            "_________________________________________________________________\n",
            "activation_1 (Activation)    (None, 7)                 0         \n",
            "=================================================================\n",
            "Total params: 568,672\n",
            "Trainable params: 564,832\n",
            "Non-trainable params: 3,840\n",
            "_________________________________________________________________\n"
          ],
          "name": "stdout"
        }
      ]
    },
    {
      "metadata": {
        "id": "Hy0FyCcc2li0",
        "colab_type": "code",
        "colab": {}
      },
      "cell_type": "code",
      "source": [
        "model.compile(optimizer='Adam',\n",
        "                 loss='categorical_crossentropy',\n",
        "                 metrics=['accuracy'])\n",
        "filepath='Model.best.hdf5'\n",
        "checkpointer = keras.callbacks.ModelCheckpoint(filepath, monitor='val_acc', verbose=1, save_best_only=True, mode='auto')\n"
      ],
      "execution_count": 0,
      "outputs": []
    },
    {
      "metadata": {
        "id": "rZYe0RPXn4O_",
        "colab_type": "code",
        "colab": {}
      },
      "cell_type": "code",
      "source": [
        "model.load_weights('Model.best.hdf5')"
      ],
      "execution_count": 0,
      "outputs": []
    },
    {
      "metadata": {
        "id": "bJiUe6bEgjHD",
        "colab_type": "code",
        "colab": {
          "base_uri": "https://localhost:8080/",
          "height": 3692
        },
        "outputId": "2e0f721f-75ed-49dc-9257-771da35e185a"
      },
      "cell_type": "code",
      "source": [
        "\n",
        "import time\n",
        "start_time = time.time()\n",
        "\n",
        "datagen = ImageDataGenerator(\n",
        "    featurewise_center=False,  # set input mean to 0 over the dataset\n",
        "    samplewise_center=False,  # set each sample mean to 0\n",
        "    featurewise_std_normalization=False,  # divide inputs by std of the dataset\n",
        "    samplewise_std_normalization=False,  # divide each input by its std\n",
        "    zca_whitening=False,  # apply ZCA whitening\n",
        "    rotation_range=30,  # randomly rotate images in the range (degrees, 0 to 180)\n",
        "    width_shift_range=0.1,  # randomly shift images horizontally (fraction of total width)\n",
        "    height_shift_range=0.1,  # randomly shift images vertically (fraction of total height)\n",
        "    horizontal_flip=True,  # randomly flip images\n",
        "    vertical_flip=False,\n",
        "    shear_range=0.2,\n",
        "    zoom_range=0.2)  # randomly flip images\n",
        "\n",
        "datagen.fit(train_x)\n",
        "\n",
        "model.fit_generator(datagen.flow(train_x, train_y,\n",
        "                    batch_size=batch_size),\n",
        "                    steps_per_epoch=(train_x.shape[0]/batch_size),\n",
        "                    epochs=50,\n",
        "                    validation_data=(val_x, val_y),\n",
        "                    callbacks=[checkpointer])\n",
        "print(\"--- %s seconds ---\" % (time.time() - start_time))"
      ],
      "execution_count": 25,
      "outputs": [
        {
          "output_type": "stream",
          "text": [
            "Epoch 1/50\n",
            "447/446 [==============================] - 60s 134ms/step - loss: 0.6143 - acc: 0.7719 - val_loss: 1.0913 - val_acc: 0.6689\n",
            "\n",
            "Epoch 00001: val_acc improved from 0.66360 to 0.66890, saving model to Model.best.hdf5\n",
            "Epoch 2/50\n",
            "188/446 [===========>..................] - ETA: 33s - loss: 0.6089 - acc: 0.7759"
          ],
          "name": "stdout"
        },
        {
          "output_type": "stream",
          "text": [
            "447/446 [==============================] - 60s 135ms/step - loss: 0.6119 - acc: 0.7727 - val_loss: 1.1278 - val_acc: 0.6533\n",
            "\n",
            "Epoch 00002: val_acc did not improve from 0.66890\n",
            "Epoch 3/50\n",
            "297/446 [==================>...........] - ETA: 19s - loss: 0.6054 - acc: 0.7721"
          ],
          "name": "stdout"
        },
        {
          "output_type": "stream",
          "text": [
            "447/446 [==============================] - 60s 135ms/step - loss: 0.6100 - acc: 0.7712 - val_loss: 1.1009 - val_acc: 0.6552\n",
            "\n",
            "Epoch 00003: val_acc did not improve from 0.66890\n",
            "Epoch 4/50\n",
            "330/446 [=====================>........] - ETA: 15s - loss: 0.6091 - acc: 0.7726"
          ],
          "name": "stdout"
        },
        {
          "output_type": "stream",
          "text": [
            "447/446 [==============================] - 60s 134ms/step - loss: 0.6110 - acc: 0.7739 - val_loss: 1.1480 - val_acc: 0.6603\n",
            "\n",
            "Epoch 00004: val_acc did not improve from 0.66890\n",
            "Epoch 5/50\n",
            "340/446 [=====================>........] - ETA: 13s - loss: 0.6022 - acc: 0.7765"
          ],
          "name": "stdout"
        },
        {
          "output_type": "stream",
          "text": [
            "447/446 [==============================] - 60s 135ms/step - loss: 0.6058 - acc: 0.7732 - val_loss: 1.1031 - val_acc: 0.6642\n",
            "\n",
            "Epoch 00005: val_acc did not improve from 0.66890\n",
            "Epoch 6/50\n",
            "343/446 [======================>.......] - ETA: 13s - loss: 0.6037 - acc: 0.7742"
          ],
          "name": "stdout"
        },
        {
          "output_type": "stream",
          "text": [
            "447/446 [==============================] - 60s 135ms/step - loss: 0.6087 - acc: 0.7726 - val_loss: 1.1528 - val_acc: 0.6444\n",
            "\n",
            "Epoch 00006: val_acc did not improve from 0.66890\n",
            "Epoch 7/50\n",
            "344/446 [======================>.......] - ETA: 13s - loss: 0.6054 - acc: 0.7739"
          ],
          "name": "stdout"
        },
        {
          "output_type": "stream",
          "text": [
            "447/446 [==============================] - 60s 135ms/step - loss: 0.6098 - acc: 0.7729 - val_loss: 1.1239 - val_acc: 0.6508\n",
            "\n",
            "Epoch 00007: val_acc did not improve from 0.66890\n",
            "Epoch 8/50\n",
            "344/446 [======================>.......] - ETA: 13s - loss: 0.5963 - acc: 0.7763"
          ],
          "name": "stdout"
        },
        {
          "output_type": "stream",
          "text": [
            "447/446 [==============================] - 60s 134ms/step - loss: 0.5987 - acc: 0.7775 - val_loss: 1.1266 - val_acc: 0.6471\n",
            "\n",
            "Epoch 00008: val_acc did not improve from 0.66890\n",
            "Epoch 9/50\n",
            "344/446 [======================>.......] - ETA: 13s - loss: 0.5896 - acc: 0.7792"
          ],
          "name": "stdout"
        },
        {
          "output_type": "stream",
          "text": [
            "447/446 [==============================] - 60s 135ms/step - loss: 0.5943 - acc: 0.7773 - val_loss: 1.1887 - val_acc: 0.6446\n",
            "\n",
            "Epoch 00009: val_acc did not improve from 0.66890\n",
            "Epoch 10/50\n",
            "343/446 [======================>.......] - ETA: 13s - loss: 0.5956 - acc: 0.7780"
          ],
          "name": "stdout"
        },
        {
          "output_type": "stream",
          "text": [
            "447/446 [==============================] - 60s 135ms/step - loss: 0.5980 - acc: 0.7770 - val_loss: 1.1506 - val_acc: 0.6505\n",
            "\n",
            "Epoch 00010: val_acc did not improve from 0.66890\n",
            "Epoch 11/50\n",
            "343/446 [======================>.......] - ETA: 13s - loss: 0.5900 - acc: 0.7814"
          ],
          "name": "stdout"
        },
        {
          "output_type": "stream",
          "text": [
            "447/446 [==============================] - 60s 135ms/step - loss: 0.5964 - acc: 0.7784 - val_loss: 1.2169 - val_acc: 0.6335\n",
            "\n",
            "Epoch 00011: val_acc did not improve from 0.66890\n",
            "Epoch 12/50\n",
            "343/446 [======================>.......] - ETA: 13s - loss: 0.5821 - acc: 0.7842"
          ],
          "name": "stdout"
        },
        {
          "output_type": "stream",
          "text": [
            "447/446 [==============================] - 60s 135ms/step - loss: 0.5879 - acc: 0.7813 - val_loss: 1.1711 - val_acc: 0.6566\n",
            "\n",
            "Epoch 00012: val_acc did not improve from 0.66890\n",
            "Epoch 13/50\n",
            "343/446 [======================>.......] - ETA: 13s - loss: 0.5887 - acc: 0.7789"
          ],
          "name": "stdout"
        },
        {
          "output_type": "stream",
          "text": [
            "447/446 [==============================] - 60s 135ms/step - loss: 0.5878 - acc: 0.7795 - val_loss: 1.1820 - val_acc: 0.6522\n",
            "\n",
            "Epoch 00013: val_acc did not improve from 0.66890\n",
            "Epoch 14/50\n",
            "343/446 [======================>.......] - ETA: 13s - loss: 0.5796 - acc: 0.7831"
          ],
          "name": "stdout"
        },
        {
          "output_type": "stream",
          "text": [
            "447/446 [==============================] - 60s 135ms/step - loss: 0.5888 - acc: 0.7811 - val_loss: 1.1494 - val_acc: 0.6575\n",
            "\n",
            "Epoch 00014: val_acc did not improve from 0.66890\n",
            "Epoch 15/50\n",
            "343/446 [======================>.......] - ETA: 13s - loss: 0.5812 - acc: 0.7842"
          ],
          "name": "stdout"
        },
        {
          "output_type": "stream",
          "text": [
            "447/446 [==============================] - 60s 135ms/step - loss: 0.5826 - acc: 0.7838 - val_loss: 1.1710 - val_acc: 0.6614\n",
            "\n",
            "Epoch 00015: val_acc did not improve from 0.66890\n",
            "Epoch 16/50\n",
            "343/446 [======================>.......] - ETA: 13s - loss: 0.5750 - acc: 0.7840"
          ],
          "name": "stdout"
        },
        {
          "output_type": "stream",
          "text": [
            "447/446 [==============================] - 60s 135ms/step - loss: 0.5850 - acc: 0.7807 - val_loss: 1.1587 - val_acc: 0.6508\n",
            "\n",
            "Epoch 00016: val_acc did not improve from 0.66890\n",
            "Epoch 17/50\n",
            "343/446 [======================>.......] - ETA: 13s - loss: 0.5824 - acc: 0.7797"
          ],
          "name": "stdout"
        },
        {
          "output_type": "stream",
          "text": [
            "447/446 [==============================] - 60s 134ms/step - loss: 0.5884 - acc: 0.7769 - val_loss: 1.1200 - val_acc: 0.6639\n",
            "\n",
            "Epoch 00017: val_acc did not improve from 0.66890\n",
            "Epoch 18/50\n",
            "343/446 [======================>.......] - ETA: 13s - loss: 0.5809 - acc: 0.7818"
          ],
          "name": "stdout"
        },
        {
          "output_type": "stream",
          "text": [
            "447/446 [==============================] - 60s 135ms/step - loss: 0.5825 - acc: 0.7822 - val_loss: 1.1736 - val_acc: 0.6589\n",
            "\n",
            "Epoch 00018: val_acc did not improve from 0.66890\n",
            "Epoch 19/50\n",
            "343/446 [======================>.......] - ETA: 13s - loss: 0.5840 - acc: 0.7810"
          ],
          "name": "stdout"
        },
        {
          "output_type": "stream",
          "text": [
            "447/446 [==============================] - 60s 135ms/step - loss: 0.5867 - acc: 0.7792 - val_loss: 1.1761 - val_acc: 0.6541\n",
            "\n",
            "Epoch 00019: val_acc did not improve from 0.66890\n",
            "Epoch 20/50\n",
            "343/446 [======================>.......] - ETA: 13s - loss: 0.5684 - acc: 0.7885"
          ],
          "name": "stdout"
        },
        {
          "output_type": "stream",
          "text": [
            "447/446 [==============================] - 60s 134ms/step - loss: 0.5713 - acc: 0.7868 - val_loss: 1.1476 - val_acc: 0.6463\n",
            "\n",
            "Epoch 00020: val_acc did not improve from 0.66890\n",
            "Epoch 21/50\n",
            "343/446 [======================>.......] - ETA: 13s - loss: 0.5801 - acc: 0.7840"
          ],
          "name": "stdout"
        },
        {
          "output_type": "stream",
          "text": [
            "447/446 [==============================] - 60s 135ms/step - loss: 0.5781 - acc: 0.7844 - val_loss: 1.1254 - val_acc: 0.6686\n",
            "\n",
            "Epoch 00021: val_acc did not improve from 0.66890\n",
            "Epoch 22/50\n",
            "343/446 [======================>.......] - ETA: 13s - loss: 0.5697 - acc: 0.7867"
          ],
          "name": "stdout"
        },
        {
          "output_type": "stream",
          "text": [
            "447/446 [==============================] - 60s 135ms/step - loss: 0.5733 - acc: 0.7856 - val_loss: 1.1761 - val_acc: 0.6541\n",
            "\n",
            "Epoch 00022: val_acc did not improve from 0.66890\n",
            "Epoch 23/50\n",
            "343/446 [======================>.......] - ETA: 13s - loss: 0.5724 - acc: 0.7894"
          ],
          "name": "stdout"
        },
        {
          "output_type": "stream",
          "text": [
            "447/446 [==============================] - 60s 135ms/step - loss: 0.5727 - acc: 0.7890 - val_loss: 1.1858 - val_acc: 0.6460\n",
            "\n",
            "Epoch 00023: val_acc did not improve from 0.66890\n",
            "Epoch 24/50\n",
            "343/446 [======================>.......] - ETA: 13s - loss: 0.5600 - acc: 0.7920"
          ],
          "name": "stdout"
        },
        {
          "output_type": "stream",
          "text": [
            "447/446 [==============================] - 60s 135ms/step - loss: 0.5694 - acc: 0.7882 - val_loss: 1.1185 - val_acc: 0.6600\n",
            "\n",
            "Epoch 00024: val_acc did not improve from 0.66890\n",
            "Epoch 25/50\n",
            "343/446 [======================>.......] - ETA: 13s - loss: 0.5711 - acc: 0.7885"
          ],
          "name": "stdout"
        },
        {
          "output_type": "stream",
          "text": [
            "447/446 [==============================] - 60s 135ms/step - loss: 0.5739 - acc: 0.7862 - val_loss: 1.2377 - val_acc: 0.6416\n",
            "\n",
            "Epoch 00025: val_acc did not improve from 0.66890\n",
            "Epoch 26/50\n",
            "343/446 [======================>.......] - ETA: 13s - loss: 0.5613 - acc: 0.7927"
          ],
          "name": "stdout"
        },
        {
          "output_type": "stream",
          "text": [
            "447/446 [==============================] - 60s 135ms/step - loss: 0.5700 - acc: 0.7881 - val_loss: 1.1748 - val_acc: 0.6561\n",
            "\n",
            "Epoch 00026: val_acc did not improve from 0.66890\n",
            "Epoch 27/50\n",
            "343/446 [======================>.......] - ETA: 13s - loss: 0.5597 - acc: 0.7919"
          ],
          "name": "stdout"
        },
        {
          "output_type": "stream",
          "text": [
            "447/446 [==============================] - 60s 135ms/step - loss: 0.5637 - acc: 0.7907 - val_loss: 1.2131 - val_acc: 0.6410\n",
            "\n",
            "Epoch 00027: val_acc did not improve from 0.66890\n",
            "Epoch 28/50\n",
            "343/446 [======================>.......] - ETA: 13s - loss: 0.5589 - acc: 0.7917"
          ],
          "name": "stdout"
        },
        {
          "output_type": "stream",
          "text": [
            "447/446 [==============================] - 60s 134ms/step - loss: 0.5621 - acc: 0.7905 - val_loss: 1.1514 - val_acc: 0.6678\n",
            "\n",
            "Epoch 00028: val_acc did not improve from 0.66890\n",
            "Epoch 29/50\n",
            "343/446 [======================>.......] - ETA: 13s - loss: 0.5665 - acc: 0.7908"
          ],
          "name": "stdout"
        },
        {
          "output_type": "stream",
          "text": [
            "447/446 [==============================] - 60s 134ms/step - loss: 0.5676 - acc: 0.7896 - val_loss: 1.1681 - val_acc: 0.6591\n",
            "\n",
            "Epoch 00029: val_acc did not improve from 0.66890\n",
            "Epoch 30/50\n",
            "343/446 [======================>.......] - ETA: 13s - loss: 0.5536 - acc: 0.7941"
          ],
          "name": "stdout"
        },
        {
          "output_type": "stream",
          "text": [
            "447/446 [==============================] - 60s 135ms/step - loss: 0.5583 - acc: 0.7927 - val_loss: 1.2053 - val_acc: 0.6538\n",
            "\n",
            "Epoch 00030: val_acc did not improve from 0.66890\n",
            "Epoch 31/50\n",
            "343/446 [======================>.......] - ETA: 13s - loss: 0.5478 - acc: 0.7991"
          ],
          "name": "stdout"
        },
        {
          "output_type": "stream",
          "text": [
            "447/446 [==============================] - 60s 135ms/step - loss: 0.5560 - acc: 0.7958 - val_loss: 1.2157 - val_acc: 0.6502\n",
            "\n",
            "Epoch 00031: val_acc did not improve from 0.66890\n",
            "Epoch 32/50\n",
            "343/446 [======================>.......] - ETA: 13s - loss: 0.5467 - acc: 0.7985"
          ],
          "name": "stdout"
        },
        {
          "output_type": "stream",
          "text": [
            "447/446 [==============================] - 60s 135ms/step - loss: 0.5504 - acc: 0.7970 - val_loss: 1.1654 - val_acc: 0.6650\n",
            "\n",
            "Epoch 00032: val_acc did not improve from 0.66890\n",
            "Epoch 33/50\n",
            "343/446 [======================>.......] - ETA: 13s - loss: 0.5605 - acc: 0.7915"
          ],
          "name": "stdout"
        },
        {
          "output_type": "stream",
          "text": [
            "447/446 [==============================] - 60s 134ms/step - loss: 0.5649 - acc: 0.7888 - val_loss: 1.1955 - val_acc: 0.6561\n",
            "\n",
            "Epoch 00033: val_acc did not improve from 0.66890\n",
            "Epoch 34/50\n",
            "343/446 [======================>.......] - ETA: 13s - loss: 0.5523 - acc: 0.7935"
          ],
          "name": "stdout"
        },
        {
          "output_type": "stream",
          "text": [
            "447/446 [==============================] - 60s 135ms/step - loss: 0.5544 - acc: 0.7927 - val_loss: 1.2220 - val_acc: 0.6418\n",
            "\n",
            "Epoch 00034: val_acc did not improve from 0.66890\n",
            "Epoch 35/50\n",
            "343/446 [======================>.......] - ETA: 13s - loss: 0.5602 - acc: 0.7905"
          ],
          "name": "stdout"
        },
        {
          "output_type": "stream",
          "text": [
            "447/446 [==============================] - 60s 135ms/step - loss: 0.5566 - acc: 0.7920 - val_loss: 1.1879 - val_acc: 0.6586\n",
            "\n",
            "Epoch 00035: val_acc did not improve from 0.66890\n",
            "Epoch 36/50\n",
            "343/446 [======================>.......] - ETA: 13s - loss: 0.5450 - acc: 0.7954"
          ],
          "name": "stdout"
        },
        {
          "output_type": "stream",
          "text": [
            "447/446 [==============================] - 60s 135ms/step - loss: 0.5510 - acc: 0.7934 - val_loss: 1.1584 - val_acc: 0.6709\n",
            "\n",
            "Epoch 00036: val_acc improved from 0.66890 to 0.67085, saving model to Model.best.hdf5\n",
            "Epoch 37/50\n",
            "300/446 [===================>..........] - ETA: 19s - loss: 0.5452 - acc: 0.7974"
          ],
          "name": "stdout"
        },
        {
          "output_type": "stream",
          "text": [
            "447/446 [==============================] - 60s 134ms/step - loss: 0.5506 - acc: 0.7949 - val_loss: 1.1955 - val_acc: 0.6555\n",
            "\n",
            "Epoch 00037: val_acc did not improve from 0.67085\n",
            "Epoch 38/50\n",
            "330/446 [=====================>........] - ETA: 15s - loss: 0.5516 - acc: 0.7952"
          ],
          "name": "stdout"
        },
        {
          "output_type": "stream",
          "text": [
            "447/446 [==============================] - 60s 135ms/step - loss: 0.5502 - acc: 0.7959 - val_loss: 1.1943 - val_acc: 0.6603\n",
            "\n",
            "Epoch 00038: val_acc did not improve from 0.67085\n",
            "Epoch 39/50\n",
            "339/446 [=====================>........] - ETA: 13s - loss: 0.5390 - acc: 0.7991"
          ],
          "name": "stdout"
        },
        {
          "output_type": "stream",
          "text": [
            "447/446 [==============================] - 60s 134ms/step - loss: 0.5433 - acc: 0.7976 - val_loss: 1.1471 - val_acc: 0.6600\n",
            "\n",
            "Epoch 00039: val_acc did not improve from 0.67085\n",
            "Epoch 40/50\n",
            "341/446 [=====================>........] - ETA: 13s - loss: 0.5455 - acc: 0.7968"
          ],
          "name": "stdout"
        },
        {
          "output_type": "stream",
          "text": [
            "447/446 [==============================] - 60s 134ms/step - loss: 0.5452 - acc: 0.7964 - val_loss: 1.2316 - val_acc: 0.6589\n",
            "\n",
            "Epoch 00040: val_acc did not improve from 0.67085\n",
            "Epoch 41/50\n",
            "342/446 [=====================>........] - ETA: 13s - loss: 0.5413 - acc: 0.7995"
          ],
          "name": "stdout"
        },
        {
          "output_type": "stream",
          "text": [
            "447/446 [==============================] - 60s 135ms/step - loss: 0.5432 - acc: 0.7985 - val_loss: 1.1713 - val_acc: 0.6675\n",
            "\n",
            "Epoch 00041: val_acc did not improve from 0.67085\n",
            "Epoch 42/50\n",
            "342/446 [=====================>........] - ETA: 13s - loss: 0.5379 - acc: 0.7972"
          ],
          "name": "stdout"
        },
        {
          "output_type": "stream",
          "text": [
            "447/446 [==============================] - 60s 134ms/step - loss: 0.5382 - acc: 0.7974 - val_loss: 1.3050 - val_acc: 0.6379\n",
            "\n",
            "Epoch 00042: val_acc did not improve from 0.67085\n",
            "Epoch 43/50\n",
            "342/446 [=====================>........] - ETA: 13s - loss: 0.5363 - acc: 0.7998"
          ],
          "name": "stdout"
        },
        {
          "output_type": "stream",
          "text": [
            "447/446 [==============================] - 60s 134ms/step - loss: 0.5409 - acc: 0.7984 - val_loss: 1.1680 - val_acc: 0.6577\n",
            "\n",
            "Epoch 00043: val_acc did not improve from 0.67085\n",
            "Epoch 44/50\n",
            "342/446 [=====================>........] - ETA: 13s - loss: 0.5362 - acc: 0.8003"
          ],
          "name": "stdout"
        },
        {
          "output_type": "stream",
          "text": [
            "447/446 [==============================] - 60s 135ms/step - loss: 0.5370 - acc: 0.7997 - val_loss: 1.1974 - val_acc: 0.6460\n",
            "\n",
            "Epoch 00044: val_acc did not improve from 0.67085\n",
            "Epoch 45/50\n",
            "342/446 [=====================>........] - ETA: 13s - loss: 0.5278 - acc: 0.8034"
          ],
          "name": "stdout"
        },
        {
          "output_type": "stream",
          "text": [
            "447/446 [==============================] - 60s 135ms/step - loss: 0.5369 - acc: 0.8000 - val_loss: 1.2847 - val_acc: 0.6469\n",
            "\n",
            "Epoch 00045: val_acc did not improve from 0.67085\n",
            "Epoch 46/50\n",
            "342/446 [=====================>........] - ETA: 13s - loss: 0.5351 - acc: 0.8018"
          ],
          "name": "stdout"
        },
        {
          "output_type": "stream",
          "text": [
            "447/446 [==============================] - 60s 135ms/step - loss: 0.5399 - acc: 0.7995 - val_loss: 1.2214 - val_acc: 0.6636\n",
            "\n",
            "Epoch 00046: val_acc did not improve from 0.67085\n",
            "Epoch 47/50\n",
            "342/446 [=====================>........] - ETA: 13s - loss: 0.5234 - acc: 0.8067"
          ],
          "name": "stdout"
        },
        {
          "output_type": "stream",
          "text": [
            "447/446 [==============================] - 60s 134ms/step - loss: 0.5266 - acc: 0.8049 - val_loss: 1.1964 - val_acc: 0.6614\n",
            "\n",
            "Epoch 00047: val_acc did not improve from 0.67085\n",
            "Epoch 48/50\n",
            "342/446 [=====================>........] - ETA: 13s - loss: 0.5337 - acc: 0.7995"
          ],
          "name": "stdout"
        },
        {
          "output_type": "stream",
          "text": [
            "447/446 [==============================] - 60s 135ms/step - loss: 0.5365 - acc: 0.7991 - val_loss: 1.2317 - val_acc: 0.6438\n",
            "\n",
            "Epoch 00048: val_acc did not improve from 0.67085\n",
            "Epoch 49/50\n",
            "342/446 [=====================>........] - ETA: 13s - loss: 0.5294 - acc: 0.8009"
          ],
          "name": "stdout"
        },
        {
          "output_type": "stream",
          "text": [
            "447/446 [==============================] - 60s 134ms/step - loss: 0.5337 - acc: 0.7990 - val_loss: 1.1384 - val_acc: 0.6616\n",
            "\n",
            "Epoch 00049: val_acc did not improve from 0.67085\n",
            "Epoch 50/50\n",
            "342/446 [=====================>........] - ETA: 13s - loss: 0.5155 - acc: 0.8092"
          ],
          "name": "stdout"
        },
        {
          "output_type": "stream",
          "text": [
            "447/446 [==============================] - 60s 135ms/step - loss: 0.5213 - acc: 0.8066 - val_loss: 1.2234 - val_acc: 0.6563\n",
            "\n",
            "Epoch 00050: val_acc did not improve from 0.67085\n",
            "--- 3010.157532930374 seconds ---\n"
          ],
          "name": "stdout"
        }
      ]
    },
    {
      "metadata": {
        "id": "WMaPXKT8FSGf",
        "colab_type": "code",
        "colab": {
          "base_uri": "https://localhost:8080/",
          "height": 65
        },
        "outputId": "a0d5cdf5-008e-4b13-cf13-11adae5e0d85"
      },
      "cell_type": "code",
      "source": [
        "def predict_emotion(model, pic):\n",
        "  pic = pic.convert('L')\n",
        "  pic = pic.resize((48,48))\n",
        "  \n",
        "  from IPython.display import display\n",
        "  display(pic)\n",
        "  pic_np=np.asarray(pic)#.getdata()).reshape(48, 48, 1)\n",
        "  pic_np = pic_np.reshape(1, 48, 48, 1)\n",
        "  print(pic_np.shape)\n",
        "  pic_np = pic_np / 255.0\n",
        "  pic_np = pic_np - 0.5\n",
        "  pic_np = pic_np * 2\n",
        "  \n",
        "  print(pic_np.shape)\n",
        "  y = model.predict(pic_np)\n",
        "  print(\"0=Angry, 1=Disgust, 2=Fear, 3=Happy, 4=Sad, 5=Surprise, 6=Neutral\")\n",
        "  print(y)"
      ],
      "execution_count": 0,
      "outputs": [
        {
          "output_type": "display_data",
          "data": {
            "image/png": "[encoded data removed]",
            "text/plain": [
              "<PIL.Image.Image image mode=L size=48x48 at 0x7FACA5BBC668>"
            ]
          },
          "metadata": {
            "tags": []
          }
        }
      ]
    },
    {
      "metadata": {
        "id": "5AAzrfWFHGAP",
        "colab_type": "code",
        "colab": {
          "base_uri": "https://localhost:8080/",
          "height": 35
        },
        "outputId": "5450a033-4373-4e4e-ce27-c7df896f16d9"
      },
      "cell_type": "code",
      "source": [
        "from google.colab import files\n",
        "uploaded = files.upload()"
      ],
      "execution_count": 0,
      "outputs": [
        {
          "output_type": "stream",
          "text": [
            "(48, 48, 1)\n"
          ],
          "name": "stdout"
        }
      ]
    },
    {
      "metadata": {
        "id": "2LmFcuMmHfbr",
        "colab_type": "code",
        "colab": {
          "base_uri": "https://localhost:8080/",
          "height": 627
        },
        "outputId": "501e112b-6432-4e48-e550-b9a94dd29362"
      },
      "cell_type": "code",
      "source": [
        "celebanger = Image.open(\"celeb_fer1.jpg\")\n",
        "predict_emotion(model, celebanger)"
      ],
      "execution_count": 0,
      "outputs": [
        {
          "output_type": "stream",
          "text": [
            "(48, 48, 1)\n"
          ],
          "name": "stdout"
        },
        {
          "output_type": "error",
          "ename": "ValueError",
          "evalue": "ignored",
          "traceback": [
            "\u001b[0;31m---------------------------------------------------------------------------\u001b[0m",
            "\u001b[0;31mValueError\u001b[0m                                Traceback (most recent call last)",
            "\u001b[0;32m<ipython-input-48-edcd21ba8eb8>\u001b[0m in \u001b[0;36m<module>\u001b[0;34m()\u001b[0m\n\u001b[1;32m      1\u001b[0m \u001b[0mprint\u001b[0m\u001b[0;34m(\u001b[0m\u001b[0mceleb_img_np\u001b[0m\u001b[0;34m.\u001b[0m\u001b[0mshape\u001b[0m\u001b[0;34m)\u001b[0m\u001b[0;34m\u001b[0m\u001b[0m\n\u001b[0;32m----> 2\u001b[0;31m \u001b[0my\u001b[0m \u001b[0;34m=\u001b[0m \u001b[0mmodel\u001b[0m\u001b[0;34m.\u001b[0m\u001b[0mpredict\u001b[0m\u001b[0;34m(\u001b[0m\u001b[0mceleb_img_np\u001b[0m\u001b[0;34m)\u001b[0m\u001b[0;34m\u001b[0m\u001b[0m\n\u001b[0m\u001b[1;32m      3\u001b[0m \u001b[0mprint\u001b[0m\u001b[0;34m(\u001b[0m\u001b[0my\u001b[0m\u001b[0;34m)\u001b[0m\u001b[0;34m\u001b[0m\u001b[0m\n",
            "\u001b[0;32m/usr/local/lib/python3.6/dist-packages/keras/models.py\u001b[0m in \u001b[0;36mpredict\u001b[0;34m(self, x, batch_size, verbose, steps)\u001b[0m\n\u001b[1;32m   1062\u001b[0m             \u001b[0mself\u001b[0m\u001b[0;34m.\u001b[0m\u001b[0mbuild\u001b[0m\u001b[0;34m(\u001b[0m\u001b[0;34m)\u001b[0m\u001b[0;34m\u001b[0m\u001b[0m\n\u001b[1;32m   1063\u001b[0m         return self.model.predict(x, batch_size=batch_size, verbose=verbose,\n\u001b[0;32m-> 1064\u001b[0;31m                                   steps=steps)\n\u001b[0m\u001b[1;32m   1065\u001b[0m \u001b[0;34m\u001b[0m\u001b[0m\n\u001b[1;32m   1066\u001b[0m     \u001b[0;32mdef\u001b[0m \u001b[0mpredict_on_batch\u001b[0m\u001b[0;34m(\u001b[0m\u001b[0mself\u001b[0m\u001b[0;34m,\u001b[0m \u001b[0mx\u001b[0m\u001b[0;34m)\u001b[0m\u001b[0;34m:\u001b[0m\u001b[0;34m\u001b[0m\u001b[0m\n",
            "\u001b[0;32m/usr/local/lib/python3.6/dist-packages/keras/engine/training.py\u001b[0m in \u001b[0;36mpredict\u001b[0;34m(self, x, batch_size, verbose, steps)\u001b[0m\n\u001b[1;32m   1815\u001b[0m         x = _standardize_input_data(x, self._feed_input_names,\n\u001b[1;32m   1816\u001b[0m                                     \u001b[0mself\u001b[0m\u001b[0;34m.\u001b[0m\u001b[0m_feed_input_shapes\u001b[0m\u001b[0;34m,\u001b[0m\u001b[0;34m\u001b[0m\u001b[0m\n\u001b[0;32m-> 1817\u001b[0;31m                                     check_batch_axis=False)\n\u001b[0m\u001b[1;32m   1818\u001b[0m         \u001b[0;32mif\u001b[0m \u001b[0mself\u001b[0m\u001b[0;34m.\u001b[0m\u001b[0mstateful\u001b[0m\u001b[0;34m:\u001b[0m\u001b[0;34m\u001b[0m\u001b[0m\n\u001b[1;32m   1819\u001b[0m             \u001b[0;32mif\u001b[0m \u001b[0mx\u001b[0m\u001b[0;34m[\u001b[0m\u001b[0;36m0\u001b[0m\u001b[0;34m]\u001b[0m\u001b[0;34m.\u001b[0m\u001b[0mshape\u001b[0m\u001b[0;34m[\u001b[0m\u001b[0;36m0\u001b[0m\u001b[0;34m]\u001b[0m \u001b[0;34m>\u001b[0m \u001b[0mbatch_size\u001b[0m \u001b[0;32mand\u001b[0m \u001b[0mx\u001b[0m\u001b[0;34m[\u001b[0m\u001b[0;36m0\u001b[0m\u001b[0;34m]\u001b[0m\u001b[0;34m.\u001b[0m\u001b[0mshape\u001b[0m\u001b[0;34m[\u001b[0m\u001b[0;36m0\u001b[0m\u001b[0;34m]\u001b[0m \u001b[0;34m%\u001b[0m \u001b[0mbatch_size\u001b[0m \u001b[0;34m!=\u001b[0m \u001b[0;36m0\u001b[0m\u001b[0;34m:\u001b[0m\u001b[0;34m\u001b[0m\u001b[0m\n",
            "\u001b[0;32m/usr/local/lib/python3.6/dist-packages/keras/engine/training.py\u001b[0m in \u001b[0;36m_standardize_input_data\u001b[0;34m(data, names, shapes, check_batch_axis, exception_prefix)\u001b[0m\n\u001b[1;32m    111\u001b[0m                         \u001b[0;34m': expected '\u001b[0m \u001b[0;34m+\u001b[0m \u001b[0mnames\u001b[0m\u001b[0;34m[\u001b[0m\u001b[0mi\u001b[0m\u001b[0;34m]\u001b[0m \u001b[0;34m+\u001b[0m \u001b[0;34m' to have '\u001b[0m \u001b[0;34m+\u001b[0m\u001b[0;34m\u001b[0m\u001b[0m\n\u001b[1;32m    112\u001b[0m                         \u001b[0mstr\u001b[0m\u001b[0;34m(\u001b[0m\u001b[0mlen\u001b[0m\u001b[0;34m(\u001b[0m\u001b[0mshape\u001b[0m\u001b[0;34m)\u001b[0m\u001b[0;34m)\u001b[0m \u001b[0;34m+\u001b[0m \u001b[0;34m' dimensions, but got array '\u001b[0m\u001b[0;34m\u001b[0m\u001b[0m\n\u001b[0;32m--> 113\u001b[0;31m                         'with shape ' + str(data_shape))\n\u001b[0m\u001b[1;32m    114\u001b[0m                 \u001b[0;32mif\u001b[0m \u001b[0;32mnot\u001b[0m \u001b[0mcheck_batch_axis\u001b[0m\u001b[0;34m:\u001b[0m\u001b[0;34m\u001b[0m\u001b[0m\n\u001b[1;32m    115\u001b[0m                     \u001b[0mdata_shape\u001b[0m \u001b[0;34m=\u001b[0m \u001b[0mdata_shape\u001b[0m\u001b[0;34m[\u001b[0m\u001b[0;36m1\u001b[0m\u001b[0;34m:\u001b[0m\u001b[0;34m]\u001b[0m\u001b[0;34m\u001b[0m\u001b[0m\n",
            "\u001b[0;31mValueError\u001b[0m: Error when checking : expected image_array_input to have 4 dimensions, but got array with shape (48, 48, 1)"
          ]
        }
      ]
    }
  ]
}