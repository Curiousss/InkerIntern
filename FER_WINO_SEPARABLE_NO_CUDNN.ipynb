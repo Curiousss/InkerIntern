{
  "nbformat": 4,
  "nbformat_minor": 0,
  "metadata": {
    "colab": {
      "name": "FER_WINO_SEPARABLE_NO_CUDNN.ipynb",
      "version": "0.3.2",
      "provenance": [],
      "collapsed_sections": [],
      "include_colab_link": true
    },
    "kernelspec": {
      "name": "python3",
      "display_name": "Python 3"
    },
    "accelerator": "GPU"
  },
  "cells": [
    {
      "cell_type": "markdown",
      "metadata": {
        "id": "view-in-github",
        "colab_type": "text"
      },
      "source": [
        "[View in Colaboratory](https://colab.research.google.com/github/Curiousss/InkerIntern/blob/master/FER_WINO_SEPARABLE_NO_CUDNN.ipynb)"
      ]
    },
    {
      "metadata": {
        "id": "Q9eNowMGaO_J",
        "colab_type": "code",
        "colab": {
          "resources": {
            "http://localhost:8080/nbextensions/google.colab/files.js": {
              "data": "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",
              "ok": true,
              "headers": [
                [
                  "content-type",
                  "application/javascript"
                ]
              ],
              "status": 200,
              "status_text": ""
            }
          },
          "base_uri": "https://localhost:8080/",
          "height": 73
        },
        "outputId": "b9048331-98e5-44a8-a1fa-bbc3d6394b02"
      },
      "cell_type": "code",
      "source": [
        "from google.colab import files\n",
        "uploaded = files.upload()"
      ],
      "execution_count": 8,
      "outputs": [
        {
          "output_type": "display_data",
          "data": {
            "text/html": [
              "\n",
              "     <input type=\"file\" id=\"files-1b1efd9d-c79b-4d61-abb2-db12aeada273\" name=\"files[]\" multiple disabled />\n",
              "     <output id=\"result-1b1efd9d-c79b-4d61-abb2-db12aeada273\">\n",
              "      Upload widget is only available when the cell has been executed in the\n",
              "      current browser session. Please rerun this cell to enable.\n",
              "      </output>\n",
              "      <script src=\"/nbextensions/google.colab/files.js\"></script> "
            ],
            "text/plain": [
              "<IPython.core.display.HTML object>"
            ]
          },
          "metadata": {
            "tags": []
          }
        },
        {
          "output_type": "stream",
          "text": [
            "Saving baddata.txt to baddata.txt\n"
          ],
          "name": "stdout"
        }
      ]
    },
    {
      "metadata": {
        "id": "BEb9SWJUV8T2",
        "colab_type": "code",
        "colab": {
          "base_uri": "https://localhost:8080/",
          "height": 35
        },
        "outputId": "9ffa41dc-4daa-4369-cbde-9c539ddb3237"
      },
      "cell_type": "code",
      "source": [
        "!ls"
      ],
      "execution_count": 2,
      "outputs": [
        {
          "output_type": "stream",
          "text": [
            "datalab  fer2013.tar\r\n"
          ],
          "name": "stdout"
        }
      ]
    },
    {
      "metadata": {
        "id": "FWp55WPDUsSy",
        "colab_type": "code",
        "colab": {
          "base_uri": "https://localhost:8080/",
          "height": 34
        },
        "outputId": "e9ade29b-c405-43be-d53e-e3ce92dc71ec"
      },
      "cell_type": "code",
      "source": [
        "import os\n",
        "!export TF_ENABLE_WINOGRAD_NONFUSED=1\n",
        "os.environ['TF_ENABLE_WINOGRAD_NONFUSED'] = '1'\n",
        "os.environ.pop('TF_ENABLE_WINOGRAD_NONFUSED', None)"
      ],
      "execution_count": 42,
      "outputs": [
        {
          "output_type": "execute_result",
          "data": {
            "text/plain": [
              "'1'"
            ]
          },
          "metadata": {
            "tags": []
          },
          "execution_count": 42
        }
      ]
    },
    {
      "metadata": {
        "id": "ldEdUzQbuQIi",
        "colab_type": "code",
        "colab": {
          "base_uri": "https://localhost:8080/",
          "height": 108
        },
        "outputId": "e58472c2-d1c8-4437-f0b9-86b3f1b16d40"
      },
      "cell_type": "code",
      "source": [
        "!tar xvf fer2013.tar\n",
        "!ls"
      ],
      "execution_count": 3,
      "outputs": [
        {
          "output_type": "stream",
          "text": [
            "fer2013/fer2013.csv\n",
            "fer2013/README\n",
            "fer2013/fer2013.bib\n",
            "fer2013/\n",
            "datalab  fer2013  fer2013.tar\n"
          ],
          "name": "stdout"
        }
      ]
    },
    {
      "metadata": {
        "id": "dTyUIGDeuAQf",
        "colab_type": "code",
        "colab": {
          "base_uri": "https://localhost:8080/",
          "height": 35
        },
        "outputId": "6b12c63e-80e0-473f-94fc-4191d8efb842"
      },
      "cell_type": "code",
      "source": [
        "\n",
        "import csv\n",
        "import numpy as np\n",
        "\n",
        "import keras\n",
        "from keras.models import Sequential\n",
        "from keras.layers import Dense, Dropout, Activation, Flatten, GlobalAveragePooling2D, InputLayer\n",
        "from keras.layers import Convolution2D, SeparableConv2D, MaxPooling2D, BatchNormalization \n",
        "from keras.layers.advanced_activations import LeakyReLU\n",
        "from keras.utils import np_utils\n",
        "from keras.preprocessing.image import ImageDataGenerator"
      ],
      "execution_count": 4,
      "outputs": [
        {
          "output_type": "stream",
          "text": [
            "Using TensorFlow backend.\n"
          ],
          "name": "stderr"
        }
      ]
    },
    {
      "metadata": {
        "id": "OqJCQeGxhq4x",
        "colab_type": "code",
        "colab": {}
      },
      "cell_type": "code",
      "source": [
        "img_rows, img_cols = 48, 48\n",
        "batch_size = 64\n",
        "classes = 7\n",
        "epoch = 100\n",
        "img_channels = 1"
      ],
      "execution_count": 0,
      "outputs": []
    },
    {
      "metadata": {
        "id": "sq7nNsVmhsYX",
        "colab_type": "code",
        "colab": {}
      },
      "cell_type": "code",
      "source": [
        "import csv\n",
        "f = open('fer2013/fer2013.csv')\n",
        "csv_f = csv.reader(f)\n"
      ],
      "execution_count": 0,
      "outputs": []
    },
    {
      "metadata": {
        "id": "yQSDhHZ3tKqk",
        "colab_type": "code",
        "colab": {}
      },
      "cell_type": "code",
      "source": [
        "train_x = []\n",
        "train_y = []\n",
        "val_x =[]\n",
        "val_y =[]"
      ],
      "execution_count": 0,
      "outputs": []
    },
    {
      "metadata": {
        "id": "eWmuGFqNF5Ds",
        "colab_type": "code",
        "colab": {}
      },
      "cell_type": "code",
      "source": [
        "ToBeRemovedTrainingData = []\n",
        "with open(\"baddata.txt\", \"r\") as text:\n",
        "  for line in text:\n",
        "    ToBeRemovedTrainingData.append(int(line))"
      ],
      "execution_count": 0,
      "outputs": []
    },
    {
      "metadata": {
        "id": "HmmgpkTpiWyS",
        "colab_type": "code",
        "colab": {}
      },
      "cell_type": "code",
      "source": [
        "num=0\n",
        "for row in csv_f:\n",
        "  num = num +1\n",
        "  if num in ToBeRemovedTrainingData or num==1:\n",
        "    continue\n",
        "  #print(row)\n",
        "  #print(num)\n",
        "  temp_list = []\n",
        "  for pixel in row[1].split( ):\n",
        "    temp_list.append(int(pixel))\n",
        "\n",
        "  if str(row[2]) == \"Training\":\n",
        "    train_y.append(int(row[0]))\n",
        "    train_x.append(temp_list) \n",
        "  elif str(row[2]) == \"PublicTest\":\n",
        "    val_y.append(int(row[0]))\n",
        "    val_x.append(temp_list)"
      ],
      "execution_count": 0,
      "outputs": []
    },
    {
      "metadata": {
        "id": "H6rDJXl4rUKS",
        "colab_type": "code",
        "colab": {}
      },
      "cell_type": "code",
      "source": [
        "train_x = np.asarray(train_x)\n",
        "train_y = np.asarray(train_y)\n",
        "val_x = np.asarray(val_x)\n",
        "val_y = np.asarray(val_y)"
      ],
      "execution_count": 0,
      "outputs": []
    },
    {
      "metadata": {
        "id": "lmXwV3InrVsQ",
        "colab_type": "code",
        "colab": {}
      },
      "cell_type": "code",
      "source": [
        "train_x = train_x.reshape(train_x.shape[0], 48, 48)\n",
        "train_x = train_x.reshape(train_x.shape[0], 48, 48, 1 )\n",
        "train_y = np_utils.to_categorical(train_y, 7)"
      ],
      "execution_count": 0,
      "outputs": []
    },
    {
      "metadata": {
        "id": "s3iZUfL1ztRu",
        "colab_type": "code",
        "colab": {}
      },
      "cell_type": "code",
      "source": [
        "val_x = val_x.reshape(val_x.shape[0], 48, 48)\n",
        "val_x = val_x.reshape(val_x.shape[0], 48, 48, 1)\n",
        "val_y = np_utils.to_categorical(val_y, 7)"
      ],
      "execution_count": 0,
      "outputs": []
    },
    {
      "metadata": {
        "id": "FAWueVKKI0CR",
        "colab_type": "code",
        "colab": {
          "base_uri": "https://localhost:8080/",
          "height": 65
        },
        "outputId": "c08949f6-781d-4e33-a548-67121f01a1e2"
      },
      "cell_type": "code",
      "source": [
        "from PIL import Image\n",
        "\n",
        "#print(train_x.shape)\n",
        "\n",
        "showimg = train_x[1].reshape(48,48)\n",
        "img = Image.fromarray(showimg.astype('uint8'))\n",
        "from IPython.display import display\n",
        "display(img)"
      ],
      "execution_count": 14,
      "outputs": [
        {
          "output_type": "display_data",
          "data": {
            "image/png": "[encoded data removed]",
            "text/plain": [
              "<PIL.Image.Image image mode=L size=48x48 at 0x7FCF5FB44FD0>"
            ]
          },
          "metadata": {
            "tags": []
          }
        }
      ]
    },
    {
      "metadata": {
        "id": "bkb-p1BXzBrI",
        "colab_type": "code",
        "colab": {}
      },
      "cell_type": "code",
      "source": [
        "train_x = train_x.astype('float32')\n",
        "train_x = train_x / 255.0\n",
        "val_x = val_x.astype('float32')\n",
        "val_x = val_x / 255.0\n",
        "train_x = train_x - 0.5\n",
        "train_x = train_x * 2\n",
        "val_x = val_x - 0.5\n",
        "val_x = val_x * 2\n"
      ],
      "execution_count": 0,
      "outputs": []
    },
    {
      "metadata": {
        "id": "jMKS1KOEGsB3",
        "colab_type": "code",
        "colab": {}
      },
      "cell_type": "code",
      "source": [
        "input_shape = (img_rows, img_cols, img_channels)\n",
        "model = Sequential()\n",
        "model.add(SeparableConv2D(filters=64, kernel_size=(3, 3), padding='same',\n",
        "                            name='image_array', input_shape=input_shape))\n",
        "model.add(BatchNormalization())\n",
        "model.add(LeakyReLU())\n",
        "model.add(SeparableConv2D(filters=64, kernel_size=(3, 3), padding='same'))\n",
        "model.add(BatchNormalization())\n",
        "model.add(LeakyReLU())\n",
        "model.add(MaxPooling2D(pool_size=(2, 2), padding='same'))\n",
        "#model.add(Dropout(.3))\n",
        "\n",
        "model.add(SeparableConv2D(filters=128, kernel_size=(3, 3), padding='same'))\n",
        "model.add(BatchNormalization())\n",
        "model.add(LeakyReLU())\n",
        "model.add(SeparableConv2D(filters=128, kernel_size=(3, 3), padding='same'))\n",
        "model.add(BatchNormalization())\n",
        "model.add(LeakyReLU())\n",
        "model.add(MaxPooling2D(pool_size=(2, 2), padding='same'))\n",
        "#model.add(Dropout(.3))\n",
        "\n",
        "model.add(SeparableConv2D(filters=256, kernel_size=(3, 3), padding='same'))\n",
        "model.add(BatchNormalization())\n",
        "model.add(LeakyReLU())\n",
        "model.add(SeparableConv2D(filters=256, kernel_size=(3, 3), padding='same'))\n",
        "model.add(BatchNormalization())\n",
        "model.add(LeakyReLU())\n",
        "model.add(MaxPooling2D(pool_size=(2, 2), padding='same'))\n",
        "#model.add(Dropout(.3))\n",
        "\n",
        "model.add(SeparableConv2D(filters=512, kernel_size=(3, 3), padding='same'))\n",
        "model.add(BatchNormalization())\n",
        "model.add(LeakyReLU())\n",
        "model.add(SeparableConv2D(filters=512, kernel_size=(3, 3), padding='same'))\n",
        "model.add(BatchNormalization())\n",
        "model.add(LeakyReLU())\n",
        "model.add(MaxPooling2D(pool_size=(2, 2), padding='same'))\n",
        "#model.add(Dropout(.3))\n",
        "\n",
        "'''\n",
        "model.add(SeparableConv2D(filters=1024, kernel_size=(3, 3), padding='same'))\n",
        "model.add(BatchNormalization())\n",
        "model.add(LeakyReLU())\n",
        "model.add(SeparableConv2D(filters=1024, kernel_size=(3, 3), padding='same'))\n",
        "model.add(BatchNormalization())\n",
        "model.add(LeakyReLU())\n",
        "model.add(MaxPooling2D(pool_size=(2, 2), padding='same'))\n",
        "'''\n",
        "\n",
        "#model.add(Flatten())\n",
        "'''\n",
        "\n",
        "model.add(Dense(2048))\n",
        "model.add(BatchNormalization())\n",
        "model.add(LeakyReLU())\n",
        "model.add(Dropout(.5))\n",
        "'''\n",
        "model.add(InputLayer(input_shape=(3, 3, 1024)))\n",
        "model.add(GlobalAveragePooling2D())\n",
        "'''\n",
        "model.add(Dense(1024))\n",
        "model.add(BatchNormalization())\n",
        "model.add(LeakyReLU())\n",
        "model.add(Dropout(.5))\n",
        "'''\n",
        "model.add(Dense(7))\n",
        "model.add(Activation('softmax'))"
      ],
      "execution_count": 0,
      "outputs": []
    },
    {
      "metadata": {
        "id": "tRsZspcA0uxT",
        "colab_type": "code",
        "colab": {
          "base_uri": "https://localhost:8080/",
          "height": 1563
        },
        "outputId": "fc51ce6c-3d5e-4b91-b4e3-2a0643586c3b"
      },
      "cell_type": "code",
      "source": [
        "model.summary()"
      ],
      "execution_count": 31,
      "outputs": [
        {
          "output_type": "stream",
          "text": [
            "_________________________________________________________________\n",
            "Layer (type)                 Output Shape              Param #   \n",
            "=================================================================\n",
            "image_array (SeparableConv2D (None, 48, 48, 64)        137       \n",
            "_________________________________________________________________\n",
            "batch_normalization_35 (Batc (None, 48, 48, 64)        256       \n",
            "_________________________________________________________________\n",
            "leaky_re_lu_35 (LeakyReLU)   (None, 48, 48, 64)        0         \n",
            "_________________________________________________________________\n",
            "separable_conv2d_31 (Separab (None, 48, 48, 64)        4736      \n",
            "_________________________________________________________________\n",
            "batch_normalization_36 (Batc (None, 48, 48, 64)        256       \n",
            "_________________________________________________________________\n",
            "leaky_re_lu_36 (LeakyReLU)   (None, 48, 48, 64)        0         \n",
            "_________________________________________________________________\n",
            "max_pooling2d_18 (MaxPooling (None, 24, 24, 64)        0         \n",
            "_________________________________________________________________\n",
            "separable_conv2d_32 (Separab (None, 24, 24, 128)       8896      \n",
            "_________________________________________________________________\n",
            "batch_normalization_37 (Batc (None, 24, 24, 128)       512       \n",
            "_________________________________________________________________\n",
            "leaky_re_lu_37 (LeakyReLU)   (None, 24, 24, 128)       0         \n",
            "_________________________________________________________________\n",
            "separable_conv2d_33 (Separab (None, 24, 24, 128)       17664     \n",
            "_________________________________________________________________\n",
            "batch_normalization_38 (Batc (None, 24, 24, 128)       512       \n",
            "_________________________________________________________________\n",
            "leaky_re_lu_38 (LeakyReLU)   (None, 24, 24, 128)       0         \n",
            "_________________________________________________________________\n",
            "max_pooling2d_19 (MaxPooling (None, 12, 12, 128)       0         \n",
            "_________________________________________________________________\n",
            "separable_conv2d_34 (Separab (None, 12, 12, 256)       34176     \n",
            "_________________________________________________________________\n",
            "batch_normalization_39 (Batc (None, 12, 12, 256)       1024      \n",
            "_________________________________________________________________\n",
            "leaky_re_lu_39 (LeakyReLU)   (None, 12, 12, 256)       0         \n",
            "_________________________________________________________________\n",
            "separable_conv2d_35 (Separab (None, 12, 12, 256)       68096     \n",
            "_________________________________________________________________\n",
            "batch_normalization_40 (Batc (None, 12, 12, 256)       1024      \n",
            "_________________________________________________________________\n",
            "leaky_re_lu_40 (LeakyReLU)   (None, 12, 12, 256)       0         \n",
            "_________________________________________________________________\n",
            "max_pooling2d_20 (MaxPooling (None, 6, 6, 256)         0         \n",
            "_________________________________________________________________\n",
            "separable_conv2d_36 (Separab (None, 6, 6, 512)         133888    \n",
            "_________________________________________________________________\n",
            "batch_normalization_41 (Batc (None, 6, 6, 512)         2048      \n",
            "_________________________________________________________________\n",
            "leaky_re_lu_41 (LeakyReLU)   (None, 6, 6, 512)         0         \n",
            "_________________________________________________________________\n",
            "separable_conv2d_37 (Separab (None, 6, 6, 512)         267264    \n",
            "_________________________________________________________________\n",
            "batch_normalization_42 (Batc (None, 6, 6, 512)         2048      \n",
            "_________________________________________________________________\n",
            "leaky_re_lu_42 (LeakyReLU)   (None, 6, 6, 512)         0         \n",
            "_________________________________________________________________\n",
            "max_pooling2d_21 (MaxPooling (None, 3, 3, 512)         0         \n",
            "_________________________________________________________________\n",
            "separable_conv2d_38 (Separab (None, 3, 3, 1024)        529920    \n",
            "_________________________________________________________________\n",
            "batch_normalization_43 (Batc (None, 3, 3, 1024)        4096      \n",
            "_________________________________________________________________\n",
            "leaky_re_lu_43 (LeakyReLU)   (None, 3, 3, 1024)        0         \n",
            "_________________________________________________________________\n",
            "separable_conv2d_39 (Separab (None, 3, 3, 1024)        1058816   \n",
            "_________________________________________________________________\n",
            "batch_normalization_44 (Batc (None, 3, 3, 1024)        4096      \n",
            "_________________________________________________________________\n",
            "leaky_re_lu_44 (LeakyReLU)   (None, 3, 3, 1024)        0         \n",
            "_________________________________________________________________\n",
            "max_pooling2d_22 (MaxPooling (None, 2, 2, 1024)        0         \n",
            "_________________________________________________________________\n",
            "input_5 (InputLayer)         multiple                  0         \n",
            "_________________________________________________________________\n",
            "global_average_pooling2d_5 ( (None, 1024)              0         \n",
            "_________________________________________________________________\n",
            "dense_5 (Dense)              (None, 7)                 7175      \n",
            "_________________________________________________________________\n",
            "activation_5 (Activation)    (None, 7)                 0         \n",
            "=================================================================\n",
            "Total params: 2,146,640\n",
            "Trainable params: 2,138,704\n",
            "Non-trainable params: 7,936\n",
            "_________________________________________________________________\n"
          ],
          "name": "stdout"
        }
      ]
    },
    {
      "metadata": {
        "id": "Hy0FyCcc2li0",
        "colab_type": "code",
        "colab": {}
      },
      "cell_type": "code",
      "source": [
        "model.compile(optimizer='Adam',\n",
        "                 loss='categorical_crossentropy',\n",
        "                 metrics=['accuracy'])\n",
        "filepath='Model.best.hdf5'\n",
        "checkpointer = keras.callbacks.ModelCheckpoint(filepath, monitor='val_acc', verbose=1, save_best_only=True, mode='auto')\n"
      ],
      "execution_count": 0,
      "outputs": []
    },
    {
      "metadata": {
        "id": "rZYe0RPXn4O_",
        "colab_type": "code",
        "colab": {}
      },
      "cell_type": "code",
      "source": [
        "model.load_weights('Model.best.hdf5')"
      ],
      "execution_count": 0,
      "outputs": []
    },
    {
      "metadata": {
        "id": "bJiUe6bEgjHD",
        "colab_type": "code",
        "colab": {
          "base_uri": "https://localhost:8080/",
          "height": 3692
        },
        "outputId": "c8bc4737-b7bb-4867-b0af-a3a04717b7c9"
      },
      "cell_type": "code",
      "source": [
        "\n",
        "import time\n",
        "start_time = time.time()\n",
        "\n",
        "datagen = ImageDataGenerator(\n",
        "    featurewise_center=False,  # set input mean to 0 over the dataset\n",
        "    samplewise_center=False,  # set each sample mean to 0\n",
        "    featurewise_std_normalization=False,  # divide inputs by std of the dataset\n",
        "    samplewise_std_normalization=False,  # divide each input by its std\n",
        "    zca_whitening=False,  # apply ZCA whitening\n",
        "    rotation_range=30,  # randomly rotate images in the range (degrees, 0 to 180)\n",
        "    width_shift_range=0.1,  # randomly shift images horizontally (fraction of total width)\n",
        "    height_shift_range=0.1,  # randomly shift images vertically (fraction of total height)\n",
        "    horizontal_flip=True,  # randomly flip images\n",
        "    vertical_flip=False,\n",
        "    shear_range=0.2,\n",
        "    zoom_range=0.2)  # randomly flip images\n",
        "\n",
        "datagen.fit(train_x)\n",
        "\n",
        "model.fit_generator(datagen.flow(train_x, train_y,\n",
        "                    batch_size=batch_size),\n",
        "                    steps_per_epoch=(train_x.shape[0]/batch_size),\n",
        "                    epochs=50,\n",
        "                    validation_data=(val_x, val_y),\n",
        "                    callbacks=[checkpointer])\n",
        "print(\"--- %s seconds ---\" % (time.time() - start_time))"
      ],
      "execution_count": 31,
      "outputs": [
        {
          "output_type": "stream",
          "text": [
            "Epoch 1/50\n",
            "447/446 [==============================] - 58s 130ms/step - loss: 0.7366 - acc: 0.7244 - val_loss: 1.0384 - val_acc: 0.6494\n",
            "\n",
            "Epoch 00001: val_acc did not improve from 0.66806\n",
            "Epoch 2/50\n",
            "214/446 [=============>................] - ETA: 29s - loss: 0.7330 - acc: 0.7278"
          ],
          "name": "stdout"
        },
        {
          "output_type": "stream",
          "text": [
            "447/446 [==============================] - 58s 130ms/step - loss: 0.7403 - acc: 0.7270 - val_loss: 1.0104 - val_acc: 0.6605\n",
            "\n",
            "Epoch 00002: val_acc did not improve from 0.66806\n",
            "Epoch 3/50\n",
            "305/446 [===================>..........] - ETA: 17s - loss: 0.7287 - acc: 0.7264"
          ],
          "name": "stdout"
        },
        {
          "output_type": "stream",
          "text": [
            "447/446 [==============================] - 58s 130ms/step - loss: 0.7369 - acc: 0.7266 - val_loss: 1.0407 - val_acc: 0.6566\n",
            "\n",
            "Epoch 00003: val_acc did not improve from 0.66806\n",
            "Epoch 4/50\n",
            "333/446 [=====================>........] - ETA: 14s - loss: 0.7336 - acc: 0.7294"
          ],
          "name": "stdout"
        },
        {
          "output_type": "stream",
          "text": [
            "447/446 [==============================] - 58s 130ms/step - loss: 0.7389 - acc: 0.7273 - val_loss: 1.0573 - val_acc: 0.6502\n",
            "\n",
            "Epoch 00004: val_acc did not improve from 0.66806\n",
            "Epoch 5/50\n",
            "341/446 [=====================>........] - ETA: 13s - loss: 0.7294 - acc: 0.7287"
          ],
          "name": "stdout"
        },
        {
          "output_type": "stream",
          "text": [
            "447/446 [==============================] - 58s 130ms/step - loss: 0.7338 - acc: 0.7264 - val_loss: 1.0269 - val_acc: 0.6530\n",
            "\n",
            "Epoch 00005: val_acc did not improve from 0.66806\n",
            "Epoch 6/50\n",
            "343/446 [======================>.......] - ETA: 12s - loss: 0.7377 - acc: 0.7255"
          ],
          "name": "stdout"
        },
        {
          "output_type": "stream",
          "text": [
            "447/446 [==============================] - 58s 130ms/step - loss: 0.7350 - acc: 0.7253 - val_loss: 1.0282 - val_acc: 0.6589\n",
            "\n",
            "Epoch 00006: val_acc did not improve from 0.66806\n",
            "Epoch 7/50\n",
            "344/446 [======================>.......] - ETA: 12s - loss: 0.7346 - acc: 0.7278"
          ],
          "name": "stdout"
        },
        {
          "output_type": "stream",
          "text": [
            "447/446 [==============================] - 58s 130ms/step - loss: 0.7343 - acc: 0.7271 - val_loss: 1.0568 - val_acc: 0.6413\n",
            "\n",
            "Epoch 00007: val_acc did not improve from 0.66806\n",
            "Epoch 8/50\n",
            "344/446 [======================>.......] - ETA: 12s - loss: 0.7259 - acc: 0.7310"
          ],
          "name": "stdout"
        },
        {
          "output_type": "stream",
          "text": [
            "447/446 [==============================] - 58s 130ms/step - loss: 0.7259 - acc: 0.7313 - val_loss: 1.0434 - val_acc: 0.6628\n",
            "\n",
            "Epoch 00008: val_acc did not improve from 0.66806\n",
            "Epoch 9/50\n",
            "344/446 [======================>.......] - ETA: 12s - loss: 0.7376 - acc: 0.7277"
          ],
          "name": "stdout"
        },
        {
          "output_type": "stream",
          "text": [
            "447/446 [==============================] - 58s 130ms/step - loss: 0.7328 - acc: 0.7293 - val_loss: 1.0500 - val_acc: 0.6530\n",
            "\n",
            "Epoch 00009: val_acc did not improve from 0.66806\n",
            "Epoch 10/50\n",
            "343/446 [======================>.......] - ETA: 13s - loss: 0.7247 - acc: 0.7315"
          ],
          "name": "stdout"
        },
        {
          "output_type": "stream",
          "text": [
            "447/446 [==============================] - 58s 130ms/step - loss: 0.7262 - acc: 0.7307 - val_loss: 1.0310 - val_acc: 0.6455\n",
            "\n",
            "Epoch 00010: val_acc did not improve from 0.66806\n",
            "Epoch 11/50\n",
            "343/446 [======================>.......] - ETA: 13s - loss: 0.7121 - acc: 0.7367"
          ],
          "name": "stdout"
        },
        {
          "output_type": "stream",
          "text": [
            "447/446 [==============================] - 58s 130ms/step - loss: 0.7156 - acc: 0.7370 - val_loss: 1.0401 - val_acc: 0.6580\n",
            "\n",
            "Epoch 00011: val_acc did not improve from 0.66806\n",
            "Epoch 12/50\n",
            "343/446 [======================>.......] - ETA: 13s - loss: 0.7108 - acc: 0.7350"
          ],
          "name": "stdout"
        },
        {
          "output_type": "stream",
          "text": [
            "447/446 [==============================] - 58s 130ms/step - loss: 0.7137 - acc: 0.7342 - val_loss: 1.0789 - val_acc: 0.6577\n",
            "\n",
            "Epoch 00012: val_acc did not improve from 0.66806\n",
            "Epoch 13/50\n",
            "343/446 [======================>.......] - ETA: 13s - loss: 0.7084 - acc: 0.7387"
          ],
          "name": "stdout"
        },
        {
          "output_type": "stream",
          "text": [
            "447/446 [==============================] - 58s 130ms/step - loss: 0.7143 - acc: 0.7354 - val_loss: 1.0407 - val_acc: 0.6552\n",
            "\n",
            "Epoch 00013: val_acc did not improve from 0.66806\n",
            "Epoch 14/50\n",
            "343/446 [======================>.......] - ETA: 13s - loss: 0.7205 - acc: 0.7353"
          ],
          "name": "stdout"
        },
        {
          "output_type": "stream",
          "text": [
            "447/446 [==============================] - 58s 130ms/step - loss: 0.7145 - acc: 0.7347 - val_loss: 1.0414 - val_acc: 0.6603\n",
            "\n",
            "Epoch 00014: val_acc did not improve from 0.66806\n",
            "Epoch 15/50\n",
            "343/446 [======================>.......] - ETA: 13s - loss: 0.7049 - acc: 0.7367"
          ],
          "name": "stdout"
        },
        {
          "output_type": "stream",
          "text": [
            "447/446 [==============================] - 58s 130ms/step - loss: 0.7086 - acc: 0.7353 - val_loss: 1.0522 - val_acc: 0.6524\n",
            "\n",
            "Epoch 00015: val_acc did not improve from 0.66806\n",
            "Epoch 16/50\n",
            "343/446 [======================>.......] - ETA: 13s - loss: 0.7025 - acc: 0.7379"
          ],
          "name": "stdout"
        },
        {
          "output_type": "stream",
          "text": [
            "447/446 [==============================] - 58s 130ms/step - loss: 0.7046 - acc: 0.7380 - val_loss: 1.0414 - val_acc: 0.6563\n",
            "\n",
            "Epoch 00016: val_acc did not improve from 0.66806\n",
            "Epoch 17/50\n",
            "343/446 [======================>.......] - ETA: 13s - loss: 0.7012 - acc: 0.7427"
          ],
          "name": "stdout"
        },
        {
          "output_type": "stream",
          "text": [
            "447/446 [==============================] - 58s 130ms/step - loss: 0.7017 - acc: 0.7408 - val_loss: 1.0970 - val_acc: 0.6536\n",
            "\n",
            "Epoch 00017: val_acc did not improve from 0.66806\n",
            "Epoch 18/50\n",
            "343/446 [======================>.......] - ETA: 13s - loss: 0.7038 - acc: 0.7370"
          ],
          "name": "stdout"
        },
        {
          "output_type": "stream",
          "text": [
            "447/446 [==============================] - 58s 130ms/step - loss: 0.7054 - acc: 0.7361 - val_loss: 1.0730 - val_acc: 0.6469\n",
            "\n",
            "Epoch 00018: val_acc did not improve from 0.66806\n",
            "Epoch 19/50\n",
            "343/446 [======================>.......] - ETA: 13s - loss: 0.7003 - acc: 0.7395"
          ],
          "name": "stdout"
        },
        {
          "output_type": "stream",
          "text": [
            "447/446 [==============================] - 58s 130ms/step - loss: 0.7046 - acc: 0.7368 - val_loss: 1.0719 - val_acc: 0.6508\n",
            "\n",
            "Epoch 00019: val_acc did not improve from 0.66806\n",
            "Epoch 20/50\n",
            "343/446 [======================>.......] - ETA: 12s - loss: 0.6889 - acc: 0.7415"
          ],
          "name": "stdout"
        },
        {
          "output_type": "stream",
          "text": [
            "447/446 [==============================] - 58s 130ms/step - loss: 0.6958 - acc: 0.7404 - val_loss: 1.0545 - val_acc: 0.6538\n",
            "\n",
            "Epoch 00020: val_acc did not improve from 0.66806\n",
            "Epoch 21/50\n",
            "343/446 [======================>.......] - ETA: 13s - loss: 0.6905 - acc: 0.7434"
          ],
          "name": "stdout"
        },
        {
          "output_type": "stream",
          "text": [
            "447/446 [==============================] - 58s 130ms/step - loss: 0.6958 - acc: 0.7412 - val_loss: 1.0798 - val_acc: 0.6541\n",
            "\n",
            "Epoch 00021: val_acc did not improve from 0.66806\n",
            "Epoch 22/50\n",
            "343/446 [======================>.......] - ETA: 13s - loss: 0.6905 - acc: 0.7443"
          ],
          "name": "stdout"
        },
        {
          "output_type": "stream",
          "text": [
            "447/446 [==============================] - 58s 130ms/step - loss: 0.6917 - acc: 0.7442 - val_loss: 1.0848 - val_acc: 0.6444\n",
            "\n",
            "Epoch 00022: val_acc did not improve from 0.66806\n",
            "Epoch 23/50\n",
            "343/446 [======================>.......] - ETA: 13s - loss: 0.6870 - acc: 0.7459"
          ],
          "name": "stdout"
        },
        {
          "output_type": "stream",
          "text": [
            "447/446 [==============================] - 58s 130ms/step - loss: 0.6959 - acc: 0.7423 - val_loss: 1.0604 - val_acc: 0.6630\n",
            "\n",
            "Epoch 00023: val_acc did not improve from 0.66806\n",
            "Epoch 24/50\n",
            "343/446 [======================>.......] - ETA: 13s - loss: 0.6903 - acc: 0.7445"
          ],
          "name": "stdout"
        },
        {
          "output_type": "stream",
          "text": [
            "447/446 [==============================] - 58s 130ms/step - loss: 0.6926 - acc: 0.7450 - val_loss: 1.0479 - val_acc: 0.6616\n",
            "\n",
            "Epoch 00024: val_acc did not improve from 0.66806\n",
            "Epoch 25/50\n",
            "343/446 [======================>.......] - ETA: 13s - loss: 0.6848 - acc: 0.7480"
          ],
          "name": "stdout"
        },
        {
          "output_type": "stream",
          "text": [
            "447/446 [==============================] - 58s 130ms/step - loss: 0.6911 - acc: 0.7453 - val_loss: 1.0386 - val_acc: 0.6597\n",
            "\n",
            "Epoch 00025: val_acc did not improve from 0.66806\n",
            "Epoch 26/50\n",
            "343/446 [======================>.......] - ETA: 13s - loss: 0.6761 - acc: 0.7472"
          ],
          "name": "stdout"
        },
        {
          "output_type": "stream",
          "text": [
            "447/446 [==============================] - 58s 130ms/step - loss: 0.6884 - acc: 0.7411 - val_loss: 1.0343 - val_acc: 0.6625\n",
            "\n",
            "Epoch 00026: val_acc did not improve from 0.66806\n",
            "Epoch 27/50\n",
            "343/446 [======================>.......] - ETA: 13s - loss: 0.6810 - acc: 0.7466"
          ],
          "name": "stdout"
        },
        {
          "output_type": "stream",
          "text": [
            "447/446 [==============================] - 58s 130ms/step - loss: 0.6808 - acc: 0.7466 - val_loss: 1.0896 - val_acc: 0.6594\n",
            "\n",
            "Epoch 00027: val_acc did not improve from 0.66806\n",
            "Epoch 28/50\n",
            "343/446 [======================>.......] - ETA: 13s - loss: 0.6780 - acc: 0.7503"
          ],
          "name": "stdout"
        },
        {
          "output_type": "stream",
          "text": [
            "447/446 [==============================] - 58s 130ms/step - loss: 0.6784 - acc: 0.7494 - val_loss: 1.1449 - val_acc: 0.6430\n",
            "\n",
            "Epoch 00028: val_acc did not improve from 0.66806\n",
            "Epoch 29/50\n",
            "343/446 [======================>.......] - ETA: 13s - loss: 0.6849 - acc: 0.7435"
          ],
          "name": "stdout"
        },
        {
          "output_type": "stream",
          "text": [
            "447/446 [==============================] - 58s 130ms/step - loss: 0.6834 - acc: 0.7461 - val_loss: 1.1220 - val_acc: 0.6522\n",
            "\n",
            "Epoch 00029: val_acc did not improve from 0.66806\n",
            "Epoch 30/50\n",
            "343/446 [======================>.......] - ETA: 13s - loss: 0.6678 - acc: 0.7515"
          ],
          "name": "stdout"
        },
        {
          "output_type": "stream",
          "text": [
            "447/446 [==============================] - 58s 130ms/step - loss: 0.6739 - acc: 0.7502 - val_loss: 1.1082 - val_acc: 0.6536\n",
            "\n",
            "Epoch 00030: val_acc did not improve from 0.66806\n",
            "Epoch 31/50\n",
            "343/446 [======================>.......] - ETA: 13s - loss: 0.6738 - acc: 0.7517"
          ],
          "name": "stdout"
        },
        {
          "output_type": "stream",
          "text": [
            "447/446 [==============================] - 58s 130ms/step - loss: 0.6752 - acc: 0.7515 - val_loss: 1.0753 - val_acc: 0.6594\n",
            "\n",
            "Epoch 00031: val_acc did not improve from 0.66806\n",
            "Epoch 32/50\n",
            "343/446 [======================>.......] - ETA: 13s - loss: 0.6718 - acc: 0.7508"
          ],
          "name": "stdout"
        },
        {
          "output_type": "stream",
          "text": [
            "447/446 [==============================] - 58s 130ms/step - loss: 0.6714 - acc: 0.7503 - val_loss: 1.1224 - val_acc: 0.6505\n",
            "\n",
            "Epoch 00032: val_acc did not improve from 0.66806\n",
            "Epoch 33/50\n",
            "343/446 [======================>.......] - ETA: 13s - loss: 0.6681 - acc: 0.7532"
          ],
          "name": "stdout"
        },
        {
          "output_type": "stream",
          "text": [
            "447/446 [==============================] - 58s 130ms/step - loss: 0.6731 - acc: 0.7517 - val_loss: 1.0559 - val_acc: 0.6644\n",
            "\n",
            "Epoch 00033: val_acc did not improve from 0.66806\n",
            "Epoch 34/50\n",
            "343/446 [======================>.......] - ETA: 12s - loss: 0.6652 - acc: 0.7536"
          ],
          "name": "stdout"
        },
        {
          "output_type": "stream",
          "text": [
            "447/446 [==============================] - 58s 130ms/step - loss: 0.6716 - acc: 0.7528 - val_loss: 1.2007 - val_acc: 0.6388\n",
            "\n",
            "Epoch 00034: val_acc did not improve from 0.66806\n",
            "Epoch 35/50\n",
            "343/446 [======================>.......] - ETA: 13s - loss: 0.6632 - acc: 0.7533"
          ],
          "name": "stdout"
        },
        {
          "output_type": "stream",
          "text": [
            "447/446 [==============================] - 58s 131ms/step - loss: 0.6644 - acc: 0.7540 - val_loss: 1.1495 - val_acc: 0.6446\n",
            "\n",
            "Epoch 00035: val_acc did not improve from 0.66806\n",
            "Epoch 36/50\n",
            "343/446 [======================>.......] - ETA: 12s - loss: 0.6671 - acc: 0.7507"
          ],
          "name": "stdout"
        },
        {
          "output_type": "stream",
          "text": [
            "447/446 [==============================] - 58s 130ms/step - loss: 0.6690 - acc: 0.7498 - val_loss: 1.1078 - val_acc: 0.6505\n",
            "\n",
            "Epoch 00036: val_acc did not improve from 0.66806\n",
            "Epoch 37/50\n",
            "343/446 [======================>.......] - ETA: 13s - loss: 0.6660 - acc: 0.7534"
          ],
          "name": "stdout"
        },
        {
          "output_type": "stream",
          "text": [
            "447/446 [==============================] - 58s 130ms/step - loss: 0.6677 - acc: 0.7528 - val_loss: 1.0639 - val_acc: 0.6619\n",
            "\n",
            "Epoch 00037: val_acc did not improve from 0.66806\n",
            "Epoch 38/50\n",
            "343/446 [======================>.......] - ETA: 13s - loss: 0.6564 - acc: 0.7558"
          ],
          "name": "stdout"
        },
        {
          "output_type": "stream",
          "text": [
            "447/446 [==============================] - 58s 130ms/step - loss: 0.6591 - acc: 0.7550 - val_loss: 1.1268 - val_acc: 0.6591\n",
            "\n",
            "Epoch 00038: val_acc did not improve from 0.66806\n",
            "Epoch 39/50\n",
            "343/446 [======================>.......] - ETA: 13s - loss: 0.6528 - acc: 0.7562"
          ],
          "name": "stdout"
        },
        {
          "output_type": "stream",
          "text": [
            "447/446 [==============================] - 58s 130ms/step - loss: 0.6546 - acc: 0.7557 - val_loss: 1.1126 - val_acc: 0.6642\n",
            "\n",
            "Epoch 00039: val_acc did not improve from 0.66806\n",
            "Epoch 40/50\n",
            "343/446 [======================>.......] - ETA: 13s - loss: 0.6506 - acc: 0.7572"
          ],
          "name": "stdout"
        },
        {
          "output_type": "stream",
          "text": [
            "447/446 [==============================] - 58s 130ms/step - loss: 0.6555 - acc: 0.7553 - val_loss: 1.1172 - val_acc: 0.6583\n",
            "\n",
            "Epoch 00040: val_acc did not improve from 0.66806\n",
            "Epoch 41/50\n",
            "343/446 [======================>.......] - ETA: 13s - loss: 0.6534 - acc: 0.7567"
          ],
          "name": "stdout"
        },
        {
          "output_type": "stream",
          "text": [
            "447/446 [==============================] - 58s 130ms/step - loss: 0.6555 - acc: 0.7570 - val_loss: 1.1024 - val_acc: 0.6444\n",
            "\n",
            "Epoch 00041: val_acc did not improve from 0.66806\n",
            "Epoch 42/50\n",
            "343/446 [======================>.......] - ETA: 13s - loss: 0.6626 - acc: 0.7537"
          ],
          "name": "stdout"
        },
        {
          "output_type": "stream",
          "text": [
            "447/446 [==============================] - 58s 130ms/step - loss: 0.6628 - acc: 0.7532 - val_loss: 1.0972 - val_acc: 0.6633\n",
            "\n",
            "Epoch 00042: val_acc did not improve from 0.66806\n",
            "Epoch 43/50\n",
            "343/446 [======================>.......] - ETA: 13s - loss: 0.6424 - acc: 0.7646"
          ],
          "name": "stdout"
        },
        {
          "output_type": "stream",
          "text": [
            "447/446 [==============================] - 58s 130ms/step - loss: 0.6467 - acc: 0.7615 - val_loss: 1.0508 - val_acc: 0.6647\n",
            "\n",
            "Epoch 00043: val_acc did not improve from 0.66806\n",
            "Epoch 44/50\n",
            "343/446 [======================>.......] - ETA: 13s - loss: 0.6441 - acc: 0.7615"
          ],
          "name": "stdout"
        },
        {
          "output_type": "stream",
          "text": [
            "447/446 [==============================] - 58s 130ms/step - loss: 0.6459 - acc: 0.7613 - val_loss: 1.1035 - val_acc: 0.6577\n",
            "\n",
            "Epoch 00044: val_acc did not improve from 0.66806\n",
            "Epoch 45/50\n",
            "343/446 [======================>.......] - ETA: 13s - loss: 0.6380 - acc: 0.7638"
          ],
          "name": "stdout"
        },
        {
          "output_type": "stream",
          "text": [
            "447/446 [==============================] - 58s 130ms/step - loss: 0.6453 - acc: 0.7611 - val_loss: 1.0878 - val_acc: 0.6689\n",
            "\n",
            "Epoch 00045: val_acc improved from 0.66806 to 0.66890, saving model to Model.best.hdf5\n",
            "Epoch 46/50\n",
            "300/446 [===================>..........] - ETA: 18s - loss: 0.6365 - acc: 0.7642"
          ],
          "name": "stdout"
        },
        {
          "output_type": "stream",
          "text": [
            "447/446 [==============================] - 58s 130ms/step - loss: 0.6419 - acc: 0.7626 - val_loss: 1.0969 - val_acc: 0.6672\n",
            "\n",
            "Epoch 00046: val_acc did not improve from 0.66890\n",
            "Epoch 47/50\n",
            "330/446 [=====================>........] - ETA: 14s - loss: 0.6405 - acc: 0.7624"
          ],
          "name": "stdout"
        },
        {
          "output_type": "stream",
          "text": [
            "447/446 [==============================] - 58s 131ms/step - loss: 0.6451 - acc: 0.7592 - val_loss: 1.1023 - val_acc: 0.6510\n",
            "\n",
            "Epoch 00047: val_acc did not improve from 0.66890\n",
            "Epoch 48/50\n",
            "339/446 [=====================>........] - ETA: 13s - loss: 0.6465 - acc: 0.7574"
          ],
          "name": "stdout"
        },
        {
          "output_type": "stream",
          "text": [
            "447/446 [==============================] - 58s 130ms/step - loss: 0.6477 - acc: 0.7586 - val_loss: 1.1123 - val_acc: 0.6519\n",
            "\n",
            "Epoch 00048: val_acc did not improve from 0.66890\n",
            "Epoch 49/50\n",
            "341/446 [=====================>........] - ETA: 13s - loss: 0.6250 - acc: 0.7693"
          ],
          "name": "stdout"
        },
        {
          "output_type": "stream",
          "text": [
            "447/446 [==============================] - 58s 130ms/step - loss: 0.6355 - acc: 0.7659 - val_loss: 1.1264 - val_acc: 0.6544\n",
            "\n",
            "Epoch 00049: val_acc did not improve from 0.66890\n",
            "Epoch 50/50\n",
            "342/446 [=====================>........] - ETA: 13s - loss: 0.6304 - acc: 0.7698"
          ],
          "name": "stdout"
        },
        {
          "output_type": "stream",
          "text": [
            "447/446 [==============================] - 58s 130ms/step - loss: 0.6397 - acc: 0.7648 - val_loss: 1.1694 - val_acc: 0.6544\n",
            "\n",
            "Epoch 00050: val_acc did not improve from 0.66890\n",
            "--- 2910.3238973617554 seconds ---\n"
          ],
          "name": "stdout"
        }
      ]
    },
    {
      "metadata": {
        "id": "WMaPXKT8FSGf",
        "colab_type": "code",
        "colab": {}
      },
      "cell_type": "code",
      "source": [
        "def predict_emotion(model, pic):\n",
        "  pic = pic.convert('L')\n",
        "  pic = pic.resize((48,48))\n",
        "  \n",
        "  from IPython.display import display\n",
        "  display(pic)\n",
        "  pic_np=np.asarray(pic)#.getdata()).reshape(48, 48, 1)\n",
        "  pic_np = pic_np.reshape(1, 48, 48, 1)\n",
        "  print(pic_np.shape)\n",
        "  pic_np = pic_np / 255.0\n",
        "  pic_np = pic_np - 0.5\n",
        "  pic_np = pic_np * 2\n",
        "  \n",
        "  print(pic_np.shape)\n",
        "  y = model.predict(pic_np)\n",
        "  print(\"0=Angry, 1=Disgust, 2=Fear, 3=Happy, 4=Sad, 5=Surprise, 6=Neutral\")\n",
        "  print(y)"
      ],
      "execution_count": 0,
      "outputs": []
    },
    {
      "metadata": {
        "id": "wX_M6Y923TXA",
        "colab_type": "code",
        "colab": {
          "resources": {
            "http://localhost:8080/nbextensions/google.colab/files.js": {
              "data": "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",
              "ok": true,
              "headers": [
                [
                  "content-type",
                  "application/javascript"
                ]
              ],
              "status": 200,
              "status_text": ""
            }
          },
          "base_uri": "https://localhost:8080/",
          "height": 73
        },
        "outputId": "24aac7c4-e4a5-40ec-b060-e243e820e6ca"
      },
      "cell_type": "code",
      "source": [
        "from google.colab import files\n",
        "uploaded = files.upload()"
      ],
      "execution_count": 33,
      "outputs": [
        {
          "output_type": "display_data",
          "data": {
            "text/html": [
              "\n",
              "     <input type=\"file\" id=\"files-8c5313a1-3a3b-4f1f-b401-da4382b9fc49\" name=\"files[]\" multiple disabled />\n",
              "     <output id=\"result-8c5313a1-3a3b-4f1f-b401-da4382b9fc49\">\n",
              "      Upload widget is only available when the cell has been executed in the\n",
              "      current browser session. Please rerun this cell to enable.\n",
              "      </output>\n",
              "      <script src=\"/nbextensions/google.colab/files.js\"></script> "
            ],
            "text/plain": [
              "<IPython.core.display.HTML object>"
            ]
          },
          "metadata": {
            "tags": []
          }
        },
        {
          "output_type": "stream",
          "text": [
            "Saving celebfer2.jpg to celebfer2.jpg\n"
          ],
          "name": "stdout"
        }
      ]
    },
    {
      "metadata": {
        "id": "5AAzrfWFHGAP",
        "colab_type": "code",
        "colab": {
          "base_uri": "https://localhost:8080/",
          "height": 156
        },
        "outputId": "72d2f6ea-08e7-4e80-bef6-e52c06055fb0"
      },
      "cell_type": "code",
      "source": [
        "celebanger = Image.open(\"celeb_fer1.jpg\")\n",
        "predict_emotion(model, celebanger)\n"
      ],
      "execution_count": 31,
      "outputs": [
        {
          "output_type": "display_data",
          "data": {
            "image/png": "[encoded data removed]",
            "text/plain": [
              "<PIL.Image.Image image mode=L size=48x48 at 0x7F3C501B0F60>"
            ]
          },
          "metadata": {
            "tags": []
          }
        },
        {
          "output_type": "stream",
          "text": [
            "(1, 48, 48, 1)\n",
            "(1, 48, 48, 1)\n",
            "0=Angry, 1=Disgust, 2=Fear, 3=Happy, 4=Sad, 5=Surprise, 6=Neutral\n",
            "[[0.18686783 0.00278126 0.02311718 0.1430708  0.5308481  0.00143547\n",
            "  0.1118793 ]]\n"
          ],
          "name": "stdout"
        }
      ]
    },
    {
      "metadata": {
        "id": "2LmFcuMmHfbr",
        "colab_type": "code",
        "colab": {
          "base_uri": "https://localhost:8080/",
          "height": 156
        },
        "outputId": "66fe4dbd-0d2d-4481-a38f-7478216fda33"
      },
      "cell_type": "code",
      "source": [
        "celeb = Image.open(\"Celeb.jpg\")\n",
        "predict_emotion(model, celeb)"
      ],
      "execution_count": 32,
      "outputs": [
        {
          "output_type": "display_data",
          "data": {
            "image/png": "[encoded data removed]",
            "text/plain": [
              "<PIL.Image.Image image mode=L size=48x48 at 0x7F3C6E4EEBE0>"
            ]
          },
          "metadata": {
            "tags": []
          }
        },
        {
          "output_type": "stream",
          "text": [
            "(1, 48, 48, 1)\n",
            "(1, 48, 48, 1)\n",
            "0=Angry, 1=Disgust, 2=Fear, 3=Happy, 4=Sad, 5=Surprise, 6=Neutral\n",
            "[[0.5319344  0.00196936 0.07488633 0.05328509 0.07548652 0.00826073\n",
            "  0.25417757]]\n"
          ],
          "name": "stdout"
        }
      ]
    },
    {
      "metadata": {
        "id": "2jFlfJAN3hFG",
        "colab_type": "code",
        "colab": {
          "base_uri": "https://localhost:8080/",
          "height": 156
        },
        "outputId": "40d279d6-0f9e-49f5-9b49-06bc7136e7aa"
      },
      "cell_type": "code",
      "source": [
        "celeb = Image.open(\"celebfer2.jpg\")\n",
        "predict_emotion(model, celeb)"
      ],
      "execution_count": 35,
      "outputs": [
        {
          "output_type": "display_data",
          "data": {
            "image/png": "[encoded data removed]",
            "text/plain": [
              "<PIL.Image.Image image mode=L size=48x48 at 0x7F3C6E4EEB00>"
            ]
          },
          "metadata": {
            "tags": []
          }
        },
        {
          "output_type": "stream",
          "text": [
            "(1, 48, 48, 1)\n",
            "(1, 48, 48, 1)\n",
            "0=Angry, 1=Disgust, 2=Fear, 3=Happy, 4=Sad, 5=Surprise, 6=Neutral\n",
            "[[0.10406367 0.00218619 0.01129904 0.34656185 0.37932992 0.00104361\n",
            "  0.1555157 ]]\n"
          ],
          "name": "stdout"
        }
      ]
    }
  ]
}