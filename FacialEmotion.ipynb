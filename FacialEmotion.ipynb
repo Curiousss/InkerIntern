{
  "nbformat": 4,
  "nbformat_minor": 0,
  "metadata": {
    "colab": {
      "name": "FacialEmotion.ipynb",
      "version": "0.3.2",
      "provenance": [],
      "collapsed_sections": [],
      "include_colab_link": true
    },
    "kernelspec": {
      "display_name": "Python 3",
      "language": "python",
      "name": "python3"
    },
    "accelerator": "GPU"
  },
  "cells": [
    {
      "cell_type": "markdown",
      "metadata": {
        "id": "view-in-github",
        "colab_type": "text"
      },
      "source": [
        "[View in Colaboratory](https://colab.research.google.com/github/Curiousss/InkerIntern/blob/master/FacialEmotion.ipynb)"
      ]
    },
    {
      "metadata": {
        "id": "yy770DX6q_UT",
        "colab_type": "text"
      },
      "cell_type": "markdown",
      "source": [
        "Loading the model from json file and the weight from https://github.com/zlpure/Facial-Expression-Recognition\n",
        "\n",
        "Without Image Augmentation the accuracy in 100 epochs is 64% With Image Augmentation the accuracy in 100 epochs is 66%"
      ]
    },
    {
      "metadata": {
        "id": "dlL47WoMWU86",
        "colab_type": "code",
        "colab": {
          "resources": {
            "http://localhost:8080/nbextensions/google.colab/files.js": {
              "data": "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",
              "ok": true,
              "headers": [
                [
                  "content-type",
                  "application/javascript"
                ]
              ],
              "status": 200,
              "status_text": ""
            }
          },
          "base_uri": "https://localhost:8080/",
          "height": 73
        },
        "outputId": "da302b0d-2344-4e53-edc9-249b7d297c66"
      },
      "cell_type": "code",
      "source": [
        "from google.colab import files\n",
        "uploaded = files.upload()"
      ],
      "execution_count": 0,
      "outputs": [
        {
          "output_type": "display_data",
          "data": {
            "text/html": [
              "\n",
              "     <input type=\"file\" id=\"files-22f3372e-438c-4610-b6c1-37dadcebf3bd\" name=\"files[]\" multiple disabled />\n",
              "     <output id=\"result-22f3372e-438c-4610-b6c1-37dadcebf3bd\">\n",
              "      Upload widget is only available when the cell has been executed in the\n",
              "      current browser session. Please rerun this cell to enable.\n",
              "      </output>\n",
              "      <script src=\"/nbextensions/google.colab/files.js\"></script> "
            ],
            "text/plain": [
              "<IPython.core.display.HTML object>"
            ]
          },
          "metadata": {
            "tags": []
          }
        },
        {
          "output_type": "stream",
          "text": [
            "Saving fer2013.tar to fer2013.tar\n"
          ],
          "name": "stdout"
        }
      ]
    },
    {
      "metadata": {
        "id": "zAvnxR8xdGvQ",
        "colab_type": "code",
        "colab": {}
      },
      "cell_type": "code",
      "source": [
        "!tar -xf fer2013.tar"
      ],
      "execution_count": 0,
      "outputs": []
    },
    {
      "metadata": {
        "id": "EnIMDTxtofYE",
        "colab_type": "code",
        "colab": {
          "base_uri": "https://localhost:8080/",
          "height": 90
        },
        "outputId": "31a4b30e-7144-43bf-dda8-056d0777b901"
      },
      "cell_type": "code",
      "source": [
        "!git clone https://github.com/zlpure/Facial-Expression-Recognition.git"
      ],
      "execution_count": 0,
      "outputs": [
        {
          "output_type": "stream",
          "text": [
            "Cloning into 'Facial-Expression-Recognition'...\n",
            "remote: Counting objects: 28, done.\u001b[K\n",
            "remote: Total 28 (delta 0), reused 0 (delta 0), pack-reused 28\u001b[K\n",
            "Unpacking objects: 100% (28/28), done.\n"
          ],
          "name": "stdout"
        }
      ]
    },
    {
      "metadata": {
        "id": "ZQczvRmConZN",
        "colab_type": "code",
        "colab": {
          "base_uri": "https://localhost:8080/",
          "height": 35
        },
        "outputId": "59434143-393e-4075-e4e0-2b2ccdbf576f"
      },
      "cell_type": "code",
      "source": [
        "!ls Facial-Expression-Recognition/"
      ],
      "execution_count": 0,
      "outputs": [
        {
          "output_type": "stream",
          "text": [
            "convnet.png  face_picture.png  LICENSE\tmodel.json  README.md  weights.hdf5\r\n"
          ],
          "name": "stdout"
        }
      ]
    },
    {
      "metadata": {
        "id": "8QT5wSabthrQ",
        "colab_type": "code",
        "colab": {}
      },
      "cell_type": "code",
      "source": [
        "import csv\n",
        "f = open('fer2013/fer2013.csv')\n",
        "csv_f = csv.reader(f)\n",
        "\n",
        "train_x = []\n",
        "train_y = []\n",
        "val_x =[]\n",
        "val_y =[]\n"
      ],
      "execution_count": 0,
      "outputs": []
    },
    {
      "metadata": {
        "id": "QikVeMiNtsmf",
        "colab_type": "code",
        "colab": {}
      },
      "cell_type": "code",
      "source": [
        "num=0\n",
        "for row in csv_f:\n",
        "  num = num +1\n",
        "  #print(num)\n",
        "  temp_list = []\n",
        "  for pixel in row[1].split( ):\n",
        "    temp_list.append(int(pixel))\n",
        "\n",
        "  if str(row[2]) == \"Training\":\n",
        "    train_y.append(int(row[0]))\n",
        "    train_x.append(temp_list)\n",
        "  elif str(row[2]) == \"PublicTest\":\n",
        "    val_y.append(int(row[0]))\n",
        "    val_x.append(temp_list)"
      ],
      "execution_count": 0,
      "outputs": []
    },
    {
      "metadata": {
        "id": "EcSxWSVjbd2n",
        "colab_type": "code",
        "colab": {}
      },
      "cell_type": "code",
      "source": [
        "import numpy as np\n",
        "train_x = np.asarray(train_x)\n",
        "train_y = np.asarray(train_y)\n",
        "val_x =np.asarray(val_x)\n",
        "val_y =np.asarray(val_y)"
      ],
      "execution_count": 0,
      "outputs": []
    },
    {
      "metadata": {
        "id": "bd-_MnXVRIu6",
        "colab_type": "code",
        "colab": {}
      },
      "cell_type": "code",
      "source": [
        "from keras.utils import np_utils\n",
        "train_x = train_x.reshape(train_x.shape[0],48,48)\n",
        "train_x = train_x.reshape(train_x.shape[0], 1, 48, 48)\n",
        "train_y = np_utils.to_categorical(train_y, 7)\n",
        "val_x = val_x.reshape(val_x.shape[0],48,48)\n",
        "val_x = val_x.reshape(val_x.shape[0], 1, 48, 48)\n",
        "val_y = np_utils.to_categorical(val_y, 7)"
      ],
      "execution_count": 0,
      "outputs": []
    },
    {
      "metadata": {
        "id": "1F98SmhWjNb8",
        "colab_type": "code",
        "colab": {
          "base_uri": "https://localhost:8080/",
          "height": 1201
        },
        "outputId": "2e66954d-c7b5-4338-c67a-9e473a0f92df"
      },
      "cell_type": "code",
      "source": [
        "from keras.models import model_from_json\n",
        "with open('Facial-Expression-Recognition/model.json', 'r') as f:\n",
        "    model = model_from_json(f.read())\n",
        "    #model.load_weights('Facial-Expression-Recognition/weights.hdf5')\n",
        "\n",
        "#model.summary()\n"
      ],
      "execution_count": 0,
      "outputs": [
        {
          "output_type": "stream",
          "text": [
            "/usr/local/lib/python3.6/dist-packages/keras/engine/topology.py:1271: UserWarning: Update your `Conv2D` call to the Keras 2 API: `Conv2D(name=\"convolution2d_1\", activity_regularizer=None, trainable=True, input_dtype=\"float32\", batch_input_shape=[None, 1, ..., activation=\"linear\", kernel_size=(3, 3), filters=64, strides=[1, 1], padding=\"same\", data_format=\"channels_first\", kernel_initializer=\"he_normal\", kernel_regularizer=None, bias_regularizer=None, kernel_constraint=None, bias_constraint=None, use_bias=True)`\n",
            "  return cls(**config)\n",
            "/usr/local/lib/python3.6/dist-packages/keras/engine/topology.py:1271: UserWarning: Update your `PReLU` call to the Keras 2 API: `PReLU(trainable=True, name=\"prelu_1\", alpha_initializer=\"zero\")`\n",
            "  return cls(**config)\n",
            "/usr/local/lib/python3.6/dist-packages/keras/engine/topology.py:1271: UserWarning: Update your `BatchNormalization` call to the Keras 2 API: `BatchNormalization(name=\"batchnormalization_1\", epsilon=1e-06, trainable=True, momentum=0.9, axis=-1)`\n",
            "  return cls(**config)\n",
            "/usr/local/lib/python3.6/dist-packages/keras/engine/topology.py:1271: UserWarning: Update your `Conv2D` call to the Keras 2 API: `Conv2D(name=\"convolution2d_2\", activity_regularizer=None, trainable=True, activation=\"linear\", kernel_size=(3, 3), filters=64, strides=[1, 1], padding=\"same\", data_format=\"channels_first\", kernel_initializer=\"he_normal\", kernel_regularizer=None, bias_regularizer=None, kernel_constraint=None, bias_constraint=None, use_bias=True)`\n",
            "  return cls(**config)\n",
            "/usr/local/lib/python3.6/dist-packages/keras/engine/topology.py:1271: UserWarning: Update your `PReLU` call to the Keras 2 API: `PReLU(trainable=True, name=\"prelu_2\", alpha_initializer=\"zero\")`\n",
            "  return cls(**config)\n",
            "/usr/local/lib/python3.6/dist-packages/keras/engine/topology.py:1271: UserWarning: Update your `BatchNormalization` call to the Keras 2 API: `BatchNormalization(name=\"batchnormalization_2\", epsilon=1e-06, trainable=True, momentum=0.9, axis=-1)`\n",
            "  return cls(**config)\n",
            "/usr/local/lib/python3.6/dist-packages/keras/engine/topology.py:1271: UserWarning: Update your `MaxPooling2D` call to the Keras 2 API: `MaxPooling2D(name=\"maxpooling2d_1\", trainable=True, pool_size=[2, 2], strides=[2, 2], padding=\"valid\", data_format=\"channels_first\")`\n",
            "  return cls(**config)\n",
            "/usr/local/lib/python3.6/dist-packages/keras/engine/topology.py:1271: UserWarning: Update your `Conv2D` call to the Keras 2 API: `Conv2D(name=\"convolution2d_3\", activity_regularizer=None, trainable=True, activation=\"linear\", kernel_size=(3, 3), filters=128, strides=[1, 1], padding=\"same\", data_format=\"channels_first\", kernel_initializer=\"he_normal\", kernel_regularizer=None, bias_regularizer=None, kernel_constraint=None, bias_constraint=None, use_bias=True)`\n",
            "  return cls(**config)\n",
            "/usr/local/lib/python3.6/dist-packages/keras/engine/topology.py:1271: UserWarning: Update your `PReLU` call to the Keras 2 API: `PReLU(trainable=True, name=\"prelu_3\", alpha_initializer=\"zero\")`\n",
            "  return cls(**config)\n",
            "/usr/local/lib/python3.6/dist-packages/keras/engine/topology.py:1271: UserWarning: Update your `BatchNormalization` call to the Keras 2 API: `BatchNormalization(name=\"batchnormalization_3\", epsilon=1e-06, trainable=True, momentum=0.9, axis=-1)`\n",
            "  return cls(**config)\n",
            "/usr/local/lib/python3.6/dist-packages/keras/engine/topology.py:1271: UserWarning: Update your `Conv2D` call to the Keras 2 API: `Conv2D(name=\"convolution2d_4\", activity_regularizer=None, trainable=True, activation=\"linear\", kernel_size=(3, 3), filters=128, strides=[1, 1], padding=\"same\", data_format=\"channels_first\", kernel_initializer=\"he_normal\", kernel_regularizer=None, bias_regularizer=None, kernel_constraint=None, bias_constraint=None, use_bias=True)`\n",
            "  return cls(**config)\n",
            "/usr/local/lib/python3.6/dist-packages/keras/engine/topology.py:1271: UserWarning: Update your `PReLU` call to the Keras 2 API: `PReLU(trainable=True, name=\"prelu_4\", alpha_initializer=\"zero\")`\n",
            "  return cls(**config)\n",
            "/usr/local/lib/python3.6/dist-packages/keras/engine/topology.py:1271: UserWarning: Update your `BatchNormalization` call to the Keras 2 API: `BatchNormalization(name=\"batchnormalization_4\", epsilon=1e-06, trainable=True, momentum=0.9, axis=-1)`\n",
            "  return cls(**config)\n",
            "/usr/local/lib/python3.6/dist-packages/keras/engine/topology.py:1271: UserWarning: Update your `MaxPooling2D` call to the Keras 2 API: `MaxPooling2D(name=\"maxpooling2d_2\", trainable=True, pool_size=[2, 2], strides=[2, 2], padding=\"valid\", data_format=\"channels_first\")`\n",
            "  return cls(**config)\n",
            "/usr/local/lib/python3.6/dist-packages/keras/engine/topology.py:1271: UserWarning: Update your `Dropout` call to the Keras 2 API: `Dropout(trainable=True, name=\"dropout_1\", rate=0.2)`\n",
            "  return cls(**config)\n",
            "/usr/local/lib/python3.6/dist-packages/keras/engine/topology.py:1271: UserWarning: Update your `Conv2D` call to the Keras 2 API: `Conv2D(name=\"convolution2d_5\", activity_regularizer=None, trainable=True, activation=\"linear\", kernel_size=(3, 3), filters=256, strides=[1, 1], padding=\"same\", data_format=\"channels_first\", kernel_initializer=\"he_normal\", kernel_regularizer=None, bias_regularizer=None, kernel_constraint=None, bias_constraint=None, use_bias=True)`\n",
            "  return cls(**config)\n",
            "/usr/local/lib/python3.6/dist-packages/keras/engine/topology.py:1271: UserWarning: Update your `PReLU` call to the Keras 2 API: `PReLU(trainable=True, name=\"prelu_5\", alpha_initializer=\"zero\")`\n",
            "  return cls(**config)\n",
            "/usr/local/lib/python3.6/dist-packages/keras/engine/topology.py:1271: UserWarning: Update your `BatchNormalization` call to the Keras 2 API: `BatchNormalization(name=\"batchnormalization_5\", epsilon=1e-06, trainable=True, momentum=0.9, axis=-1)`\n",
            "  return cls(**config)\n",
            "/usr/local/lib/python3.6/dist-packages/keras/engine/topology.py:1271: UserWarning: Update your `Conv2D` call to the Keras 2 API: `Conv2D(name=\"convolution2d_6\", activity_regularizer=None, trainable=True, activation=\"linear\", kernel_size=(3, 3), filters=256, strides=[1, 1], padding=\"same\", data_format=\"channels_first\", kernel_initializer=\"he_normal\", kernel_regularizer=None, bias_regularizer=None, kernel_constraint=None, bias_constraint=None, use_bias=True)`\n",
            "  return cls(**config)\n",
            "/usr/local/lib/python3.6/dist-packages/keras/engine/topology.py:1271: UserWarning: Update your `PReLU` call to the Keras 2 API: `PReLU(trainable=True, name=\"prelu_6\", alpha_initializer=\"zero\")`\n",
            "  return cls(**config)\n",
            "/usr/local/lib/python3.6/dist-packages/keras/engine/topology.py:1271: UserWarning: Update your `BatchNormalization` call to the Keras 2 API: `BatchNormalization(name=\"batchnormalization_6\", epsilon=1e-06, trainable=True, momentum=0.9, axis=-1)`\n",
            "  return cls(**config)\n",
            "/usr/local/lib/python3.6/dist-packages/keras/engine/topology.py:1271: UserWarning: Update your `MaxPooling2D` call to the Keras 2 API: `MaxPooling2D(name=\"maxpooling2d_3\", trainable=True, pool_size=[2, 2], strides=[2, 2], padding=\"valid\", data_format=\"channels_first\")`\n",
            "  return cls(**config)\n",
            "/usr/local/lib/python3.6/dist-packages/keras/engine/topology.py:1271: UserWarning: Update your `Dropout` call to the Keras 2 API: `Dropout(trainable=True, name=\"dropout_2\", rate=0.2)`\n",
            "  return cls(**config)\n",
            "/usr/local/lib/python3.6/dist-packages/keras/engine/topology.py:1271: UserWarning: Update your `Dense` call to the Keras 2 API: `Dense(name=\"dense_1\", activity_regularizer=None, trainable=True, input_dim=None, activation=\"linear\", units=512, kernel_initializer=\"he_normal\", kernel_regularizer=None, bias_regularizer=None, kernel_constraint=None, bias_constraint=None, use_bias=True)`\n",
            "  return cls(**config)\n",
            "/usr/local/lib/python3.6/dist-packages/keras/engine/topology.py:1271: UserWarning: Update your `BatchNormalization` call to the Keras 2 API: `BatchNormalization(name=\"batchnormalization_7\", epsilon=1e-06, trainable=True, momentum=0.9, axis=-1)`\n",
            "  return cls(**config)\n",
            "/usr/local/lib/python3.6/dist-packages/keras/engine/topology.py:1271: UserWarning: Update your `PReLU` call to the Keras 2 API: `PReLU(trainable=True, name=\"prelu_7\", alpha_initializer=\"zero\")`\n",
            "  return cls(**config)\n",
            "/usr/local/lib/python3.6/dist-packages/keras/engine/topology.py:1271: UserWarning: Update your `Dropout` call to the Keras 2 API: `Dropout(trainable=True, name=\"dropout_3\", rate=0.25)`\n",
            "  return cls(**config)\n",
            "/usr/local/lib/python3.6/dist-packages/keras/engine/topology.py:1271: UserWarning: Update your `Dense` call to the Keras 2 API: `Dense(name=\"dense_2\", activity_regularizer=None, trainable=True, input_dim=None, activation=\"linear\", units=512, kernel_initializer=\"he_normal\", kernel_regularizer=None, bias_regularizer=None, kernel_constraint=None, bias_constraint=None, use_bias=True)`\n",
            "  return cls(**config)\n",
            "/usr/local/lib/python3.6/dist-packages/keras/engine/topology.py:1271: UserWarning: Update your `BatchNormalization` call to the Keras 2 API: `BatchNormalization(name=\"batchnormalization_8\", epsilon=1e-06, trainable=True, momentum=0.9, axis=-1)`\n",
            "  return cls(**config)\n",
            "/usr/local/lib/python3.6/dist-packages/keras/engine/topology.py:1271: UserWarning: Update your `PReLU` call to the Keras 2 API: `PReLU(trainable=True, name=\"prelu_8\", alpha_initializer=\"zero\")`\n",
            "  return cls(**config)\n",
            "/usr/local/lib/python3.6/dist-packages/keras/engine/topology.py:1271: UserWarning: Update your `Dropout` call to the Keras 2 API: `Dropout(trainable=True, name=\"dropout_4\", rate=0.25)`\n",
            "  return cls(**config)\n",
            "/usr/local/lib/python3.6/dist-packages/keras/engine/topology.py:1271: UserWarning: Update your `Dense` call to the Keras 2 API: `Dense(name=\"dense_3\", activity_regularizer=None, trainable=True, input_dim=None, activation=\"linear\", units=7, kernel_initializer=\"he_normal\", kernel_regularizer=None, bias_regularizer=None, kernel_constraint=None, bias_constraint=None, use_bias=True)`\n",
            "  return cls(**config)\n"
          ],
          "name": "stderr"
        }
      ]
    },
    {
      "metadata": {
        "id": "TuOn3O6VXQIt",
        "colab_type": "code",
        "colab": {
          "base_uri": "https://localhost:8080/",
          "height": 3710
        },
        "outputId": "bc747fe9-97ae-410c-9ca2-b0a2e2bb43c4"
      },
      "cell_type": "code",
      "source": [
        "model.compile(optimizer='Adam',\n",
        "                 loss='categorical_crossentropy',\n",
        "                 metrics=['accuracy'])\n",
        "model.fit(train_x, train_y, epochs=100, batch_size=64, validation_data=(val_x, val_y))"
      ],
      "execution_count": 0,
      "outputs": [
        {
          "output_type": "stream",
          "text": [
            "Train on 28709 samples, validate on 3589 samples\n",
            "Epoch 1/100\n",
            "28709/28709 [==============================] - 75s 3ms/step - loss: 1.7938 - acc: 0.2992 - val_loss: 1.6821 - val_acc: 0.3773\n",
            "Epoch 2/100\n",
            " 7808/28709 [=======>......................] - ETA: 50s - loss: 1.5262 - acc: 0.4136"
          ],
          "name": "stdout"
        },
        {
          "output_type": "stream",
          "text": [
            "28709/28709 [==============================] - 72s 3ms/step - loss: 1.4447 - acc: 0.4453 - val_loss: 1.2698 - val_acc: 0.5116\n",
            "Epoch 3/100\n",
            "20864/28709 [====================>.........] - ETA: 18s - loss: 1.2280 - acc: 0.5332"
          ],
          "name": "stdout"
        },
        {
          "output_type": "stream",
          "text": [
            "28709/28709 [==============================] - 72s 3ms/step - loss: 1.2162 - acc: 0.5380 - val_loss: 1.1639 - val_acc: 0.5617\n",
            "Epoch 4/100\n",
            "25792/28709 [=========================>....] - ETA: 7s - loss: 1.0837 - acc: 0.5905"
          ],
          "name": "stdout"
        },
        {
          "output_type": "stream",
          "text": [
            "28709/28709 [==============================] - 72s 3ms/step - loss: 1.0842 - acc: 0.5903 - val_loss: 1.1190 - val_acc: 0.5798\n",
            "Epoch 5/100\n",
            "27648/28709 [===========================>..] - ETA: 2s - loss: 0.9660 - acc: 0.6370"
          ],
          "name": "stdout"
        },
        {
          "output_type": "stream",
          "text": [
            "28709/28709 [==============================] - 72s 2ms/step - loss: 0.9685 - acc: 0.6360 - val_loss: 1.0806 - val_acc: 0.5999\n",
            "Epoch 6/100\n",
            "28352/28709 [============================>.] - ETA: 0s - loss: 0.8477 - acc: 0.6820"
          ],
          "name": "stdout"
        },
        {
          "output_type": "stream",
          "text": [
            "28709/28709 [==============================] - 72s 2ms/step - loss: 0.8488 - acc: 0.6817 - val_loss: 1.0856 - val_acc: 0.6102\n",
            "Epoch 7/100\n",
            "28608/28709 [============================>.] - ETA: 0s - loss: 0.7178 - acc: 0.7332"
          ],
          "name": "stdout"
        },
        {
          "output_type": "stream",
          "text": [
            "28709/28709 [==============================] - 72s 2ms/step - loss: 0.7183 - acc: 0.7330 - val_loss: 1.1084 - val_acc: 0.6066\n",
            "Epoch 8/100\n",
            "28672/28709 [============================>.] - ETA: 0s - loss: 0.5834 - acc: 0.7843"
          ],
          "name": "stdout"
        },
        {
          "output_type": "stream",
          "text": [
            "28709/28709 [==============================] - 72s 2ms/step - loss: 0.5839 - acc: 0.7842 - val_loss: 1.1715 - val_acc: 0.6121\n",
            "Epoch 9/100\n",
            "28709/28709 [==============================] - 72s 2ms/step - loss: 0.4547 - acc: 0.8326 - val_loss: 1.2411 - val_acc: 0.6147\n"
          ],
          "name": "stdout"
        },
        {
          "output_type": "stream",
          "text": [
            "Epoch 10/100\n",
            "28709/28709 [==============================] - 72s 2ms/step - loss: 0.3400 - acc: 0.8779 - val_loss: 1.4152 - val_acc: 0.6147\n",
            "Epoch 11/100\n",
            "15232/28709 [==============>...............] - ETA: 32s - loss: 0.2416 - acc: 0.9139"
          ],
          "name": "stdout"
        },
        {
          "output_type": "stream",
          "text": [
            "28709/28709 [==============================] - 72s 2ms/step - loss: 0.2711 - acc: 0.9033 - val_loss: 1.4711 - val_acc: 0.6250\n",
            "Epoch 12/100\n",
            "23552/28709 [=======================>......] - ETA: 12s - loss: 0.2133 - acc: 0.9260"
          ],
          "name": "stdout"
        },
        {
          "output_type": "stream",
          "text": [
            "28709/28709 [==============================] - 72s 2ms/step - loss: 0.2181 - acc: 0.9242 - val_loss: 1.5859 - val_acc: 0.6177\n",
            "Epoch 13/100\n",
            "26688/28709 [==========================>...] - ETA: 4s - loss: 0.1880 - acc: 0.9347"
          ],
          "name": "stdout"
        },
        {
          "output_type": "stream",
          "text": [
            "28709/28709 [==============================] - 72s 2ms/step - loss: 0.1909 - acc: 0.9334 - val_loss: 1.5994 - val_acc: 0.6264\n",
            "Epoch 14/100\n",
            "27840/28709 [============================>.] - ETA: 2s - loss: 0.1588 - acc: 0.9455"
          ],
          "name": "stdout"
        },
        {
          "output_type": "stream",
          "text": [
            "28709/28709 [==============================] - 72s 2ms/step - loss: 0.1606 - acc: 0.9451 - val_loss: 1.7118 - val_acc: 0.6283\n",
            "Epoch 15/100\n",
            "28288/28709 [============================>.] - ETA: 1s - loss: 0.1519 - acc: 0.9469"
          ],
          "name": "stdout"
        },
        {
          "output_type": "stream",
          "text": [
            "28709/28709 [==============================] - 72s 2ms/step - loss: 0.1527 - acc: 0.9465 - val_loss: 1.7850 - val_acc: 0.6205\n",
            "Epoch 16/100\n",
            "28480/28709 [============================>.] - ETA: 0s - loss: 0.1404 - acc: 0.9514"
          ],
          "name": "stdout"
        },
        {
          "output_type": "stream",
          "text": [
            "28709/28709 [==============================] - 72s 2ms/step - loss: 0.1406 - acc: 0.9514 - val_loss: 1.8336 - val_acc: 0.6280\n",
            "Epoch 17/100\n",
            "28544/28709 [============================>.] - ETA: 0s - loss: 0.1329 - acc: 0.9538"
          ],
          "name": "stdout"
        },
        {
          "output_type": "stream",
          "text": [
            "28709/28709 [==============================] - 72s 2ms/step - loss: 0.1328 - acc: 0.9538 - val_loss: 1.8005 - val_acc: 0.6314\n",
            "Epoch 18/100\n",
            "28544/28709 [============================>.] - ETA: 0s - loss: 0.1199 - acc: 0.9602"
          ],
          "name": "stdout"
        },
        {
          "output_type": "stream",
          "text": [
            "28709/28709 [==============================] - 71s 2ms/step - loss: 0.1200 - acc: 0.9601 - val_loss: 1.8657 - val_acc: 0.6233\n",
            "Epoch 19/100\n",
            "28544/28709 [============================>.] - ETA: 0s - loss: 0.1166 - acc: 0.9596"
          ],
          "name": "stdout"
        },
        {
          "output_type": "stream",
          "text": [
            "28709/28709 [==============================] - 72s 2ms/step - loss: 0.1165 - acc: 0.9596 - val_loss: 1.9248 - val_acc: 0.6216\n",
            "Epoch 20/100\n",
            "28544/28709 [============================>.] - ETA: 0s - loss: 0.1070 - acc: 0.9627"
          ],
          "name": "stdout"
        },
        {
          "output_type": "stream",
          "text": [
            "28709/28709 [==============================] - 72s 2ms/step - loss: 0.1072 - acc: 0.9626 - val_loss: 1.9728 - val_acc: 0.6180\n",
            "Epoch 21/100\n",
            "28544/28709 [============================>.] - ETA: 0s - loss: 0.1067 - acc: 0.9635"
          ],
          "name": "stdout"
        },
        {
          "output_type": "stream",
          "text": [
            "28709/28709 [==============================] - 72s 2ms/step - loss: 0.1069 - acc: 0.9635 - val_loss: 1.8861 - val_acc: 0.6333\n",
            "Epoch 22/100\n",
            "28544/28709 [============================>.] - ETA: 0s - loss: 0.1040 - acc: 0.9648"
          ],
          "name": "stdout"
        },
        {
          "output_type": "stream",
          "text": [
            "28709/28709 [==============================] - 72s 2ms/step - loss: 0.1044 - acc: 0.9647 - val_loss: 1.9770 - val_acc: 0.6197\n",
            "Epoch 23/100\n",
            "28544/28709 [============================>.] - ETA: 0s - loss: 0.1010 - acc: 0.9661"
          ],
          "name": "stdout"
        },
        {
          "output_type": "stream",
          "text": [
            "28709/28709 [==============================] - 72s 2ms/step - loss: 0.1008 - acc: 0.9662 - val_loss: 2.0314 - val_acc: 0.6197\n",
            "Epoch 24/100\n",
            "28544/28709 [============================>.] - ETA: 0s - loss: 0.0901 - acc: 0.9678"
          ],
          "name": "stdout"
        },
        {
          "output_type": "stream",
          "text": [
            "28709/28709 [==============================] - 72s 2ms/step - loss: 0.0900 - acc: 0.9679 - val_loss: 2.0605 - val_acc: 0.6160\n",
            "Epoch 25/100\n",
            "28544/28709 [============================>.] - ETA: 0s - loss: 0.0901 - acc: 0.9677"
          ],
          "name": "stdout"
        },
        {
          "output_type": "stream",
          "text": [
            "28709/28709 [==============================] - 71s 2ms/step - loss: 0.0902 - acc: 0.9677 - val_loss: 2.0433 - val_acc: 0.6266\n",
            "Epoch 26/100\n",
            "28544/28709 [============================>.] - ETA: 0s - loss: 0.0900 - acc: 0.9689"
          ],
          "name": "stdout"
        },
        {
          "output_type": "stream",
          "text": [
            "28709/28709 [==============================] - 72s 2ms/step - loss: 0.0898 - acc: 0.9690 - val_loss: 2.0127 - val_acc: 0.6330\n",
            "Epoch 27/100\n",
            "28544/28709 [============================>.] - ETA: 0s - loss: 0.0858 - acc: 0.9704"
          ],
          "name": "stdout"
        },
        {
          "output_type": "stream",
          "text": [
            "28709/28709 [==============================] - 72s 2ms/step - loss: 0.0856 - acc: 0.9705 - val_loss: 2.1461 - val_acc: 0.6319\n",
            "Epoch 28/100\n",
            "28544/28709 [============================>.] - ETA: 0s - loss: 0.0806 - acc: 0.9721"
          ],
          "name": "stdout"
        },
        {
          "output_type": "stream",
          "text": [
            "28709/28709 [==============================] - 72s 2ms/step - loss: 0.0808 - acc: 0.9720 - val_loss: 2.1371 - val_acc: 0.6286\n",
            "Epoch 29/100\n",
            "28544/28709 [============================>.] - ETA: 0s - loss: 0.0786 - acc: 0.9725"
          ],
          "name": "stdout"
        },
        {
          "output_type": "stream",
          "text": [
            "28709/28709 [==============================] - 71s 2ms/step - loss: 0.0790 - acc: 0.9724 - val_loss: 2.0970 - val_acc: 0.6319\n",
            "Epoch 30/100\n",
            "28544/28709 [============================>.] - ETA: 0s - loss: 0.0802 - acc: 0.9715"
          ],
          "name": "stdout"
        },
        {
          "output_type": "stream",
          "text": [
            "28709/28709 [==============================] - 72s 2ms/step - loss: 0.0804 - acc: 0.9715 - val_loss: 2.0854 - val_acc: 0.6227\n",
            "Epoch 31/100\n",
            "28544/28709 [============================>.] - ETA: 0s - loss: 0.0758 - acc: 0.9738"
          ],
          "name": "stdout"
        },
        {
          "output_type": "stream",
          "text": [
            "28709/28709 [==============================] - 71s 2ms/step - loss: 0.0760 - acc: 0.9738 - val_loss: 2.1519 - val_acc: 0.6311\n",
            "Epoch 32/100\n",
            "28544/28709 [============================>.] - ETA: 0s - loss: 0.0703 - acc: 0.9746"
          ],
          "name": "stdout"
        },
        {
          "output_type": "stream",
          "text": [
            "28709/28709 [==============================] - 71s 2ms/step - loss: 0.0703 - acc: 0.9747 - val_loss: 2.1019 - val_acc: 0.6333\n",
            "Epoch 33/100\n",
            "28544/28709 [============================>.] - ETA: 0s - loss: 0.0680 - acc: 0.9765"
          ],
          "name": "stdout"
        },
        {
          "output_type": "stream",
          "text": [
            "28709/28709 [==============================] - 72s 2ms/step - loss: 0.0678 - acc: 0.9766 - val_loss: 2.1256 - val_acc: 0.6305\n",
            "Epoch 34/100\n",
            "28544/28709 [============================>.] - ETA: 0s - loss: 0.0762 - acc: 0.9736"
          ],
          "name": "stdout"
        },
        {
          "output_type": "stream",
          "text": [
            "28709/28709 [==============================] - 72s 2ms/step - loss: 0.0763 - acc: 0.9736 - val_loss: 2.1087 - val_acc: 0.6297\n",
            "Epoch 35/100\n",
            "28544/28709 [============================>.] - ETA: 0s - loss: 0.0700 - acc: 0.9763"
          ],
          "name": "stdout"
        },
        {
          "output_type": "stream",
          "text": [
            "28709/28709 [==============================] - 72s 2ms/step - loss: 0.0699 - acc: 0.9763 - val_loss: 2.2255 - val_acc: 0.6278\n",
            "Epoch 36/100\n",
            "28544/28709 [============================>.] - ETA: 0s - loss: 0.0619 - acc: 0.9783"
          ],
          "name": "stdout"
        },
        {
          "output_type": "stream",
          "text": [
            "28709/28709 [==============================] - 72s 2ms/step - loss: 0.0616 - acc: 0.9784 - val_loss: 2.1750 - val_acc: 0.6244\n",
            "Epoch 37/100\n",
            "28544/28709 [============================>.] - ETA: 0s - loss: 0.0686 - acc: 0.9771"
          ],
          "name": "stdout"
        },
        {
          "output_type": "stream",
          "text": [
            "28709/28709 [==============================] - 72s 2ms/step - loss: 0.0685 - acc: 0.9772 - val_loss: 2.1920 - val_acc: 0.6305\n",
            "Epoch 38/100\n",
            "28544/28709 [============================>.] - ETA: 0s - loss: 0.0622 - acc: 0.9781"
          ],
          "name": "stdout"
        },
        {
          "output_type": "stream",
          "text": [
            "28709/28709 [==============================] - 72s 2ms/step - loss: 0.0621 - acc: 0.9781 - val_loss: 2.3068 - val_acc: 0.6266\n",
            "Epoch 39/100\n",
            "28544/28709 [============================>.] - ETA: 0s - loss: 0.0671 - acc: 0.9764"
          ],
          "name": "stdout"
        },
        {
          "output_type": "stream",
          "text": [
            "28709/28709 [==============================] - 72s 2ms/step - loss: 0.0672 - acc: 0.9764 - val_loss: 2.1853 - val_acc: 0.6339\n",
            "Epoch 40/100\n",
            "28544/28709 [============================>.] - ETA: 0s - loss: 0.0554 - acc: 0.9795"
          ],
          "name": "stdout"
        },
        {
          "output_type": "stream",
          "text": [
            "28709/28709 [==============================] - 72s 2ms/step - loss: 0.0554 - acc: 0.9795 - val_loss: 2.2240 - val_acc: 0.6336\n",
            "Epoch 41/100\n",
            "28544/28709 [============================>.] - ETA: 0s - loss: 0.0576 - acc: 0.9793"
          ],
          "name": "stdout"
        },
        {
          "output_type": "stream",
          "text": [
            "28709/28709 [==============================] - 72s 2ms/step - loss: 0.0577 - acc: 0.9793 - val_loss: 2.3484 - val_acc: 0.6319\n",
            "Epoch 42/100\n",
            "28544/28709 [============================>.] - ETA: 0s - loss: 0.0541 - acc: 0.9807"
          ],
          "name": "stdout"
        },
        {
          "output_type": "stream",
          "text": [
            "28709/28709 [==============================] - 72s 2ms/step - loss: 0.0543 - acc: 0.9807 - val_loss: 2.2340 - val_acc: 0.6308\n",
            "Epoch 43/100\n",
            "28544/28709 [============================>.] - ETA: 0s - loss: 0.0621 - acc: 0.9784"
          ],
          "name": "stdout"
        },
        {
          "output_type": "stream",
          "text": [
            "28709/28709 [==============================] - 72s 2ms/step - loss: 0.0620 - acc: 0.9784 - val_loss: 2.2889 - val_acc: 0.6330\n",
            "Epoch 44/100\n",
            "28544/28709 [============================>.] - ETA: 0s - loss: 0.0574 - acc: 0.9796"
          ],
          "name": "stdout"
        },
        {
          "output_type": "stream",
          "text": [
            "28709/28709 [==============================] - 71s 2ms/step - loss: 0.0577 - acc: 0.9795 - val_loss: 2.2454 - val_acc: 0.6353\n",
            "Epoch 45/100\n",
            "28544/28709 [============================>.] - ETA: 0s - loss: 0.0572 - acc: 0.9804"
          ],
          "name": "stdout"
        },
        {
          "output_type": "stream",
          "text": [
            "28709/28709 [==============================] - 72s 2ms/step - loss: 0.0576 - acc: 0.9804 - val_loss: 2.3478 - val_acc: 0.6356\n",
            "Epoch 46/100\n",
            "28544/28709 [============================>.] - ETA: 0s - loss: 0.0553 - acc: 0.9801"
          ],
          "name": "stdout"
        },
        {
          "output_type": "stream",
          "text": [
            "28709/28709 [==============================] - 72s 2ms/step - loss: 0.0553 - acc: 0.9802 - val_loss: 2.2158 - val_acc: 0.6317\n",
            "Epoch 47/100\n",
            "28544/28709 [============================>.] - ETA: 0s - loss: 0.0557 - acc: 0.9807"
          ],
          "name": "stdout"
        },
        {
          "output_type": "stream",
          "text": [
            "28709/28709 [==============================] - 72s 2ms/step - loss: 0.0558 - acc: 0.9807 - val_loss: 2.2563 - val_acc: 0.6392\n",
            "Epoch 48/100\n",
            "28544/28709 [============================>.] - ETA: 0s - loss: 0.0494 - acc: 0.9828"
          ],
          "name": "stdout"
        },
        {
          "output_type": "stream",
          "text": [
            "28709/28709 [==============================] - 71s 2ms/step - loss: 0.0493 - acc: 0.9828 - val_loss: 2.2769 - val_acc: 0.6317\n",
            "Epoch 49/100\n",
            "28544/28709 [============================>.] - ETA: 0s - loss: 0.0543 - acc: 0.9811"
          ],
          "name": "stdout"
        },
        {
          "output_type": "stream",
          "text": [
            "28709/28709 [==============================] - 72s 2ms/step - loss: 0.0543 - acc: 0.9811 - val_loss: 2.2275 - val_acc: 0.6272\n",
            "Epoch 50/100\n",
            "28544/28709 [============================>.] - ETA: 0s - loss: 0.0502 - acc: 0.9822"
          ],
          "name": "stdout"
        },
        {
          "output_type": "stream",
          "text": [
            "28709/28709 [==============================] - 72s 2ms/step - loss: 0.0503 - acc: 0.9822 - val_loss: 2.3234 - val_acc: 0.6250\n",
            "Epoch 51/100\n",
            "28544/28709 [============================>.] - ETA: 0s - loss: 0.0474 - acc: 0.9836"
          ],
          "name": "stdout"
        },
        {
          "output_type": "stream",
          "text": [
            "28709/28709 [==============================] - 71s 2ms/step - loss: 0.0473 - acc: 0.9837 - val_loss: 2.3473 - val_acc: 0.6330\n",
            "Epoch 52/100\n",
            "28544/28709 [============================>.] - ETA: 0s - loss: 0.0506 - acc: 0.9825"
          ],
          "name": "stdout"
        },
        {
          "output_type": "stream",
          "text": [
            "28709/28709 [==============================] - 72s 3ms/step - loss: 0.0505 - acc: 0.9825 - val_loss: 2.3897 - val_acc: 0.6344\n",
            "Epoch 53/100\n",
            "28544/28709 [============================>.] - ETA: 0s - loss: 0.0429 - acc: 0.9842"
          ],
          "name": "stdout"
        },
        {
          "output_type": "stream",
          "text": [
            "28709/28709 [==============================] - 72s 2ms/step - loss: 0.0431 - acc: 0.9842 - val_loss: 2.4327 - val_acc: 0.6303\n",
            "Epoch 54/100\n",
            "28544/28709 [============================>.] - ETA: 0s - loss: 0.0406 - acc: 0.9854"
          ],
          "name": "stdout"
        },
        {
          "output_type": "stream",
          "text": [
            "28709/28709 [==============================] - 72s 2ms/step - loss: 0.0406 - acc: 0.9854 - val_loss: 2.5644 - val_acc: 0.6328\n",
            "Epoch 55/100\n",
            "28544/28709 [============================>.] - ETA: 0s - loss: 0.0532 - acc: 0.9811"
          ],
          "name": "stdout"
        },
        {
          "output_type": "stream",
          "text": [
            "28709/28709 [==============================] - 72s 2ms/step - loss: 0.0530 - acc: 0.9811 - val_loss: 2.3229 - val_acc: 0.6314\n",
            "Epoch 56/100\n",
            "28544/28709 [============================>.] - ETA: 0s - loss: 0.0445 - acc: 0.9844"
          ],
          "name": "stdout"
        },
        {
          "output_type": "stream",
          "text": [
            "28709/28709 [==============================] - 72s 2ms/step - loss: 0.0445 - acc: 0.9844 - val_loss: 2.4170 - val_acc: 0.6300\n",
            "Epoch 57/100\n",
            "28544/28709 [============================>.] - ETA: 0s - loss: 0.0439 - acc: 0.9847"
          ],
          "name": "stdout"
        },
        {
          "output_type": "stream",
          "text": [
            "28709/28709 [==============================] - 72s 2ms/step - loss: 0.0441 - acc: 0.9846 - val_loss: 2.3694 - val_acc: 0.6342\n",
            "Epoch 58/100\n",
            "28544/28709 [============================>.] - ETA: 0s - loss: 0.0491 - acc: 0.9833"
          ],
          "name": "stdout"
        },
        {
          "output_type": "stream",
          "text": [
            "28709/28709 [==============================] - 72s 2ms/step - loss: 0.0494 - acc: 0.9833 - val_loss: 2.4400 - val_acc: 0.6283\n",
            "Epoch 59/100\n",
            "28544/28709 [============================>.] - ETA: 0s - loss: 0.0463 - acc: 0.9835"
          ],
          "name": "stdout"
        },
        {
          "output_type": "stream",
          "text": [
            "28709/28709 [==============================] - 72s 2ms/step - loss: 0.0465 - acc: 0.9834 - val_loss: 2.3791 - val_acc: 0.6294\n",
            "Epoch 60/100\n",
            "28544/28709 [============================>.] - ETA: 0s - loss: 0.0384 - acc: 0.9865"
          ],
          "name": "stdout"
        },
        {
          "output_type": "stream",
          "text": [
            "28709/28709 [==============================] - 72s 2ms/step - loss: 0.0385 - acc: 0.9865 - val_loss: 2.4069 - val_acc: 0.6353\n",
            "Epoch 61/100\n",
            "28544/28709 [============================>.] - ETA: 0s - loss: 0.0436 - acc: 0.9849"
          ],
          "name": "stdout"
        },
        {
          "output_type": "stream",
          "text": [
            "28709/28709 [==============================] - 72s 2ms/step - loss: 0.0436 - acc: 0.9849 - val_loss: 2.3760 - val_acc: 0.6361\n",
            "Epoch 62/100\n",
            "28544/28709 [============================>.] - ETA: 0s - loss: 0.0372 - acc: 0.9863"
          ],
          "name": "stdout"
        },
        {
          "output_type": "stream",
          "text": [
            "28709/28709 [==============================] - 72s 2ms/step - loss: 0.0372 - acc: 0.9863 - val_loss: 2.4818 - val_acc: 0.6328\n",
            "Epoch 63/100\n",
            "28544/28709 [============================>.] - ETA: 0s - loss: 0.0451 - acc: 0.9833"
          ],
          "name": "stdout"
        },
        {
          "output_type": "stream",
          "text": [
            "28709/28709 [==============================] - 72s 2ms/step - loss: 0.0451 - acc: 0.9834 - val_loss: 2.4509 - val_acc: 0.6305\n",
            "Epoch 64/100\n",
            "28544/28709 [============================>.] - ETA: 0s - loss: 0.0425 - acc: 0.9851"
          ],
          "name": "stdout"
        },
        {
          "output_type": "stream",
          "text": [
            "28709/28709 [==============================] - 72s 2ms/step - loss: 0.0425 - acc: 0.9851 - val_loss: 2.4362 - val_acc: 0.6294\n",
            "Epoch 65/100\n",
            "28544/28709 [============================>.] - ETA: 0s - loss: 0.0451 - acc: 0.9836"
          ],
          "name": "stdout"
        },
        {
          "output_type": "stream",
          "text": [
            "28709/28709 [==============================] - 72s 2ms/step - loss: 0.0452 - acc: 0.9835 - val_loss: 2.4864 - val_acc: 0.6378\n",
            "Epoch 66/100\n",
            "28544/28709 [============================>.] - ETA: 0s - loss: 0.0433 - acc: 0.9847"
          ],
          "name": "stdout"
        },
        {
          "output_type": "stream",
          "text": [
            "28709/28709 [==============================] - 72s 3ms/step - loss: 0.0434 - acc: 0.9847 - val_loss: 2.3809 - val_acc: 0.6383\n",
            "Epoch 67/100\n",
            "28544/28709 [============================>.] - ETA: 0s - loss: 0.0369 - acc: 0.9874"
          ],
          "name": "stdout"
        },
        {
          "output_type": "stream",
          "text": [
            "28709/28709 [==============================] - 72s 2ms/step - loss: 0.0369 - acc: 0.9874 - val_loss: 2.4128 - val_acc: 0.6308\n",
            "Epoch 68/100\n",
            "28544/28709 [============================>.] - ETA: 0s - loss: 0.0409 - acc: 0.9858"
          ],
          "name": "stdout"
        },
        {
          "output_type": "stream",
          "text": [
            "28709/28709 [==============================] - 72s 2ms/step - loss: 0.0409 - acc: 0.9858 - val_loss: 2.4893 - val_acc: 0.6303\n",
            "Epoch 69/100\n",
            "28544/28709 [============================>.] - ETA: 0s - loss: 0.0411 - acc: 0.9855"
          ],
          "name": "stdout"
        },
        {
          "output_type": "stream",
          "text": [
            "28709/28709 [==============================] - 72s 2ms/step - loss: 0.0412 - acc: 0.9854 - val_loss: 2.4052 - val_acc: 0.6322\n",
            "Epoch 70/100\n",
            "28544/28709 [============================>.] - ETA: 0s - loss: 0.0387 - acc: 0.9863"
          ],
          "name": "stdout"
        },
        {
          "output_type": "stream",
          "text": [
            "28709/28709 [==============================] - 72s 2ms/step - loss: 0.0389 - acc: 0.9862 - val_loss: 2.4987 - val_acc: 0.6297\n",
            "Epoch 71/100\n",
            "28544/28709 [============================>.] - ETA: 0s - loss: 0.0362 - acc: 0.9870"
          ],
          "name": "stdout"
        },
        {
          "output_type": "stream",
          "text": [
            "28709/28709 [==============================] - 72s 2ms/step - loss: 0.0366 - acc: 0.9869 - val_loss: 2.5879 - val_acc: 0.6361\n",
            "Epoch 72/100\n",
            "28544/28709 [============================>.] - ETA: 0s - loss: 0.0428 - acc: 0.9849"
          ],
          "name": "stdout"
        },
        {
          "output_type": "stream",
          "text": [
            "28709/28709 [==============================] - 72s 2ms/step - loss: 0.0427 - acc: 0.9850 - val_loss: 2.4684 - val_acc: 0.6353\n",
            "Epoch 73/100\n",
            "28544/28709 [============================>.] - ETA: 0s - loss: 0.0351 - acc: 0.9872"
          ],
          "name": "stdout"
        },
        {
          "output_type": "stream",
          "text": [
            "28709/28709 [==============================] - 72s 2ms/step - loss: 0.0350 - acc: 0.9873 - val_loss: 2.5006 - val_acc: 0.6364\n",
            "Epoch 74/100\n",
            "28544/28709 [============================>.] - ETA: 0s - loss: 0.0373 - acc: 0.9865"
          ],
          "name": "stdout"
        },
        {
          "output_type": "stream",
          "text": [
            "28709/28709 [==============================] - 72s 2ms/step - loss: 0.0372 - acc: 0.9865 - val_loss: 2.5643 - val_acc: 0.6372\n",
            "Epoch 75/100\n",
            "28544/28709 [============================>.] - ETA: 0s - loss: 0.0387 - acc: 0.9860"
          ],
          "name": "stdout"
        },
        {
          "output_type": "stream",
          "text": [
            "28709/28709 [==============================] - 72s 2ms/step - loss: 0.0387 - acc: 0.9860 - val_loss: 2.5043 - val_acc: 0.6361\n",
            "Epoch 76/100\n",
            "28544/28709 [============================>.] - ETA: 0s - loss: 0.0355 - acc: 0.9879"
          ],
          "name": "stdout"
        },
        {
          "output_type": "stream",
          "text": [
            "28709/28709 [==============================] - 72s 2ms/step - loss: 0.0355 - acc: 0.9879 - val_loss: 2.5433 - val_acc: 0.6322\n",
            "Epoch 77/100\n",
            "28544/28709 [============================>.] - ETA: 0s - loss: 0.0330 - acc: 0.9884"
          ],
          "name": "stdout"
        },
        {
          "output_type": "stream",
          "text": [
            "28709/28709 [==============================] - 72s 2ms/step - loss: 0.0335 - acc: 0.9883 - val_loss: 2.5867 - val_acc: 0.6294\n",
            "Epoch 78/100\n",
            "28544/28709 [============================>.] - ETA: 0s - loss: 0.0347 - acc: 0.9873"
          ],
          "name": "stdout"
        },
        {
          "output_type": "stream",
          "text": [
            "28709/28709 [==============================] - 72s 2ms/step - loss: 0.0346 - acc: 0.9873 - val_loss: 2.5610 - val_acc: 0.6342\n",
            "Epoch 79/100\n",
            "28544/28709 [============================>.] - ETA: 0s - loss: 0.0348 - acc: 0.9872"
          ],
          "name": "stdout"
        },
        {
          "output_type": "stream",
          "text": [
            "28709/28709 [==============================] - 72s 2ms/step - loss: 0.0347 - acc: 0.9873 - val_loss: 2.5640 - val_acc: 0.6283\n",
            "Epoch 80/100\n",
            "28544/28709 [============================>.] - ETA: 0s - loss: 0.0382 - acc: 0.9858"
          ],
          "name": "stdout"
        },
        {
          "output_type": "stream",
          "text": [
            "28709/28709 [==============================] - 72s 2ms/step - loss: 0.0381 - acc: 0.9859 - val_loss: 2.6211 - val_acc: 0.6286\n",
            "Epoch 81/100\n",
            "28544/28709 [============================>.] - ETA: 0s - loss: 0.0342 - acc: 0.9879"
          ],
          "name": "stdout"
        },
        {
          "output_type": "stream",
          "text": [
            "28709/28709 [==============================] - 72s 2ms/step - loss: 0.0341 - acc: 0.9879 - val_loss: 2.5491 - val_acc: 0.6322\n",
            "Epoch 82/100\n",
            "28544/28709 [============================>.] - ETA: 0s - loss: 0.0321 - acc: 0.9878"
          ],
          "name": "stdout"
        },
        {
          "output_type": "stream",
          "text": [
            "28709/28709 [==============================] - 72s 2ms/step - loss: 0.0321 - acc: 0.9878 - val_loss: 2.5139 - val_acc: 0.6264\n",
            "Epoch 83/100\n",
            "28544/28709 [============================>.] - ETA: 0s - loss: 0.0365 - acc: 0.9875"
          ],
          "name": "stdout"
        },
        {
          "output_type": "stream",
          "text": [
            "28709/28709 [==============================] - 72s 2ms/step - loss: 0.0366 - acc: 0.9874 - val_loss: 2.5006 - val_acc: 0.6286\n",
            "Epoch 84/100\n",
            "28544/28709 [============================>.] - ETA: 0s - loss: 0.0334 - acc: 0.9876"
          ],
          "name": "stdout"
        },
        {
          "output_type": "stream",
          "text": [
            "28709/28709 [==============================] - 72s 2ms/step - loss: 0.0337 - acc: 0.9876 - val_loss: 2.6118 - val_acc: 0.6408\n",
            "Epoch 85/100\n",
            "28544/28709 [============================>.] - ETA: 0s - loss: 0.0317 - acc: 0.9881"
          ],
          "name": "stdout"
        },
        {
          "output_type": "stream",
          "text": [
            "28709/28709 [==============================] - 72s 2ms/step - loss: 0.0316 - acc: 0.9881 - val_loss: 2.5687 - val_acc: 0.6381\n",
            "Epoch 86/100\n",
            "28544/28709 [============================>.] - ETA: 0s - loss: 0.0330 - acc: 0.9884"
          ],
          "name": "stdout"
        },
        {
          "output_type": "stream",
          "text": [
            "28709/28709 [==============================] - 72s 2ms/step - loss: 0.0328 - acc: 0.9885 - val_loss: 2.5919 - val_acc: 0.6322\n",
            "Epoch 87/100\n",
            "28544/28709 [============================>.] - ETA: 0s - loss: 0.0330 - acc: 0.9880"
          ],
          "name": "stdout"
        },
        {
          "output_type": "stream",
          "text": [
            "28709/28709 [==============================] - 72s 2ms/step - loss: 0.0330 - acc: 0.9880 - val_loss: 2.6545 - val_acc: 0.6372\n",
            "Epoch 88/100\n",
            "28544/28709 [============================>.] - ETA: 0s - loss: 0.0339 - acc: 0.9883"
          ],
          "name": "stdout"
        },
        {
          "output_type": "stream",
          "text": [
            "28709/28709 [==============================] - 72s 2ms/step - loss: 0.0342 - acc: 0.9882 - val_loss: 2.6112 - val_acc: 0.6369\n",
            "Epoch 89/100\n",
            "28544/28709 [============================>.] - ETA: 0s - loss: 0.0373 - acc: 0.9873"
          ],
          "name": "stdout"
        },
        {
          "output_type": "stream",
          "text": [
            "28709/28709 [==============================] - 72s 2ms/step - loss: 0.0372 - acc: 0.9874 - val_loss: 2.5413 - val_acc: 0.6278\n",
            "Epoch 90/100\n",
            "28544/28709 [============================>.] - ETA: 0s - loss: 0.0296 - acc: 0.9895"
          ],
          "name": "stdout"
        },
        {
          "output_type": "stream",
          "text": [
            "28709/28709 [==============================] - 72s 2ms/step - loss: 0.0295 - acc: 0.9896 - val_loss: 2.4963 - val_acc: 0.6347\n",
            "Epoch 91/100\n",
            "28544/28709 [============================>.] - ETA: 0s - loss: 0.0264 - acc: 0.9904"
          ],
          "name": "stdout"
        },
        {
          "output_type": "stream",
          "text": [
            "28709/28709 [==============================] - 72s 2ms/step - loss: 0.0267 - acc: 0.9902 - val_loss: 2.6928 - val_acc: 0.6261\n",
            "Epoch 92/100\n",
            "28544/28709 [============================>.] - ETA: 0s - loss: 0.0327 - acc: 0.9887"
          ],
          "name": "stdout"
        },
        {
          "output_type": "stream",
          "text": [
            "28709/28709 [==============================] - 72s 2ms/step - loss: 0.0328 - acc: 0.9886 - val_loss: 2.5412 - val_acc: 0.6411\n",
            "Epoch 93/100\n",
            "28544/28709 [============================>.] - ETA: 0s - loss: 0.0361 - acc: 0.9879"
          ],
          "name": "stdout"
        },
        {
          "output_type": "stream",
          "text": [
            "28709/28709 [==============================] - 72s 2ms/step - loss: 0.0362 - acc: 0.9878 - val_loss: 2.5156 - val_acc: 0.6314\n",
            "Epoch 94/100\n",
            "28544/28709 [============================>.] - ETA: 0s - loss: 0.0303 - acc: 0.9886"
          ],
          "name": "stdout"
        },
        {
          "output_type": "stream",
          "text": [
            "28709/28709 [==============================] - 72s 2ms/step - loss: 0.0304 - acc: 0.9885 - val_loss: 2.4703 - val_acc: 0.6328\n",
            "Epoch 95/100\n",
            "28544/28709 [============================>.] - ETA: 0s - loss: 0.0307 - acc: 0.9899"
          ],
          "name": "stdout"
        },
        {
          "output_type": "stream",
          "text": [
            "28709/28709 [==============================] - 72s 2ms/step - loss: 0.0309 - acc: 0.9899 - val_loss: 2.5221 - val_acc: 0.6233\n",
            "Epoch 96/100\n",
            "28544/28709 [============================>.] - ETA: 0s - loss: 0.0340 - acc: 0.9886"
          ],
          "name": "stdout"
        },
        {
          "output_type": "stream",
          "text": [
            "28709/28709 [==============================] - 72s 2ms/step - loss: 0.0339 - acc: 0.9886 - val_loss: 2.5509 - val_acc: 0.6311\n",
            "Epoch 97/100\n",
            "28544/28709 [============================>.] - ETA: 0s - loss: 0.0293 - acc: 0.9898"
          ],
          "name": "stdout"
        },
        {
          "output_type": "stream",
          "text": [
            "28709/28709 [==============================] - 71s 2ms/step - loss: 0.0293 - acc: 0.9898 - val_loss: 2.5796 - val_acc: 0.6375\n",
            "Epoch 98/100\n",
            "28544/28709 [============================>.] - ETA: 0s - loss: 0.0279 - acc: 0.9896"
          ],
          "name": "stdout"
        },
        {
          "output_type": "stream",
          "text": [
            "28709/28709 [==============================] - 72s 2ms/step - loss: 0.0279 - acc: 0.9896 - val_loss: 2.5187 - val_acc: 0.6255\n",
            "Epoch 99/100\n",
            "28544/28709 [============================>.] - ETA: 0s - loss: 0.0317 - acc: 0.9891"
          ],
          "name": "stdout"
        },
        {
          "output_type": "stream",
          "text": [
            "28709/28709 [==============================] - 72s 2ms/step - loss: 0.0319 - acc: 0.9890 - val_loss: 2.6175 - val_acc: 0.6250\n",
            "Epoch 100/100\n",
            "28416/28709 [============================>.] - ETA: 0s - loss: 0.0306 - acc: 0.9888"
          ],
          "name": "stdout"
        },
        {
          "output_type": "stream",
          "text": [
            "28709/28709 [==============================] - 72s 2ms/step - loss: 0.0308 - acc: 0.9888 - val_loss: 2.6678 - val_acc: 0.6261\n"
          ],
          "name": "stdout"
        },
        {
          "output_type": "execute_result",
          "data": {
            "text/plain": [
              "<keras.callbacks.History at 0x7fa4290759e8>"
            ]
          },
          "metadata": {
            "tags": []
          },
          "execution_count": 31
        }
      ]
    },
    {
      "metadata": {
        "id": "tY5yPLI2SvAB",
        "colab_type": "code",
        "colab": {}
      },
      "cell_type": "code",
      "source": [
        "import keras\n",
        "from keras.preprocessing.image import ImageDataGenerator"
      ],
      "execution_count": 0,
      "outputs": []
    },
    {
      "metadata": {
        "id": "cC8jQo-9SkKT",
        "colab_type": "code",
        "colab": {}
      },
      "cell_type": "code",
      "source": [
        "model.compile(optimizer='Adam',\n",
        "                 loss='categorical_crossentropy',\n",
        "                 metrics=['accuracy'])\n",
        "filepath='Model.best.hdf5'\n",
        "checkpointer = keras.callbacks.ModelCheckpoint(filepath, monitor='val_acc', verbose=1, save_best_only=True, mode='auto')\n"
      ],
      "execution_count": 0,
      "outputs": []
    },
    {
      "metadata": {
        "id": "Rrxs0zKtSeBF",
        "colab_type": "code",
        "colab": {
          "base_uri": "https://localhost:8080/",
          "height": 8427
        },
        "outputId": "46b99329-42c4-438c-d64e-adcda1a16f69"
      },
      "cell_type": "code",
      "source": [
        "import time\n",
        "batch_size = 64\n",
        "start_time = time.time()\n",
        "\n",
        "datagen = ImageDataGenerator(\n",
        "    featurewise_center=False,  # set input mean to 0 over the dataset\n",
        "    samplewise_center=False,  # set each sample mean to 0\n",
        "    featurewise_std_normalization=False,  # divide inputs by std of the dataset\n",
        "    samplewise_std_normalization=False,  # divide each input by its std\n",
        "    zca_whitening=False,  # apply ZCA whitening\n",
        "    rotation_range=30,  # randomly rotate images in the range (degrees, 0 to 180)\n",
        "    width_shift_range=0.1,  # randomly shift images horizontally (fraction of total width)\n",
        "    height_shift_range=0.1,  # randomly shift images vertically (fraction of total height)\n",
        "    horizontal_flip=True,  # randomly flip images\n",
        "    vertical_flip=False,\n",
        "    shear_range=0.2,\n",
        "    zoom_range=0.2)  # randomly flip images\n",
        "\n",
        "datagen.fit(train_x)\n",
        "\n",
        "model.fit_generator(datagen.flow(train_x, train_y,\n",
        "                    batch_size=batch_size),\n",
        "                    steps_per_epoch=(train_x.shape[0]/batch_size),\n",
        "                    epochs=150,\n",
        "                    validation_data=(val_x, val_y),\n",
        "                    callbacks=[checkpointer])\n",
        "print(\"--- %s seconds ---\" % (time.time() - start_time))"
      ],
      "execution_count": 0,
      "outputs": [
        {
          "output_type": "stream",
          "text": [
            "/usr/local/lib/python3.6/dist-packages/keras/preprocessing/image.py:957: UserWarning: Expected input to be images (as Numpy array) following the data format convention \"channels_last\" (channels on axis 3), i.e. expected either 1, 3 or 4 channels on axis 3. However, it was passed an array with shape (28709, 1, 48, 48) (48 channels).\n",
            "  ' (' + str(x.shape[self.channel_axis]) + ' channels).')\n",
            "/usr/local/lib/python3.6/dist-packages/keras/preprocessing/image.py:1144: UserWarning: NumpyArrayIterator is set to use the data format convention \"channels_last\" (channels on axis 3), i.e. expected either 1, 3 or 4 channels on axis 3. However, it was passed an array with shape (28709, 1, 48, 48) (48 channels).\n",
            "  ' (' + str(self.x.shape[channels_axis]) + ' channels).')\n"
          ],
          "name": "stderr"
        },
        {
          "output_type": "stream",
          "text": [
            "Epoch 1/150\n",
            "449/448 [==============================] - 81s 181ms/step - loss: 1.9232 - acc: 0.5061 - val_loss: 1.2058 - val_acc: 0.6197\n",
            "\n",
            "Epoch 00001: val_acc improved from -inf to 0.61967, saving model to Model.best.hdf5\n",
            "Epoch 2/150\n",
            "185/448 [===========>..................] - ETA: 43s - loss: 1.2308 - acc: 0.5442"
          ],
          "name": "stdout"
        },
        {
          "output_type": "stream",
          "text": [
            "449/448 [==============================] - 77s 171ms/step - loss: 1.2107 - acc: 0.5557 - val_loss: 1.1628 - val_acc: 0.6264\n",
            "\n",
            "Epoch 00002: val_acc improved from 0.61967 to 0.62636, saving model to Model.best.hdf5\n",
            "Epoch 3/150\n",
            "258/448 [================>.............] - ETA: 31s - loss: 1.1316 - acc: 0.5873"
          ],
          "name": "stdout"
        },
        {
          "output_type": "stream",
          "text": [
            "449/448 [==============================] - 77s 170ms/step - loss: 1.1237 - acc: 0.5902 - val_loss: 1.1313 - val_acc: 0.6289\n",
            "\n",
            "Epoch 00003: val_acc improved from 0.62636 to 0.62887, saving model to Model.best.hdf5\n",
            "Epoch 4/150\n",
            "277/448 [=================>............] - ETA: 28s - loss: 1.0603 - acc: 0.6103"
          ],
          "name": "stdout"
        },
        {
          "output_type": "stream",
          "text": [
            "449/448 [==============================] - 77s 171ms/step - loss: 1.0486 - acc: 0.6148 - val_loss: 1.1466 - val_acc: 0.6400\n",
            "\n",
            "Epoch 00004: val_acc improved from 0.62887 to 0.64001, saving model to Model.best.hdf5\n",
            "Epoch 5/150\n",
            "282/448 [=================>............] - ETA: 27s - loss: 1.0081 - acc: 0.6275"
          ],
          "name": "stdout"
        },
        {
          "output_type": "stream",
          "text": [
            "449/448 [==============================] - 77s 171ms/step - loss: 1.0066 - acc: 0.6284 - val_loss: 1.1569 - val_acc: 0.6395\n",
            "\n",
            "Epoch 00005: val_acc did not improve from 0.64001\n",
            "Epoch 6/150\n",
            "323/448 [====================>.........] - ETA: 20s - loss: 0.9490 - acc: 0.6550"
          ],
          "name": "stdout"
        },
        {
          "output_type": "stream",
          "text": [
            "449/448 [==============================] - 77s 171ms/step - loss: 0.9510 - acc: 0.6529 - val_loss: 1.1302 - val_acc: 0.6322\n",
            "\n",
            "Epoch 00006: val_acc did not improve from 0.64001\n",
            "Epoch 7/150\n",
            "336/448 [=====================>........] - ETA: 18s - loss: 0.9121 - acc: 0.6611"
          ],
          "name": "stdout"
        },
        {
          "output_type": "stream",
          "text": [
            "449/448 [==============================] - 78s 173ms/step - loss: 0.9128 - acc: 0.6624 - val_loss: 1.2002 - val_acc: 0.6364\n",
            "\n",
            "Epoch 00007: val_acc did not improve from 0.64001\n",
            "Epoch 8/150\n",
            "340/448 [=====================>........] - ETA: 17s - loss: 0.8868 - acc: 0.6729"
          ],
          "name": "stdout"
        },
        {
          "output_type": "stream",
          "text": [
            "449/448 [==============================] - 77s 171ms/step - loss: 0.8912 - acc: 0.6712 - val_loss: 1.1376 - val_acc: 0.6395\n",
            "\n",
            "Epoch 00008: val_acc did not improve from 0.64001\n",
            "Epoch 9/150\n",
            "341/448 [=====================>........] - ETA: 17s - loss: 0.8463 - acc: 0.6889"
          ],
          "name": "stdout"
        },
        {
          "output_type": "stream",
          "text": [
            "449/448 [==============================] - 77s 170ms/step - loss: 0.8480 - acc: 0.6884 - val_loss: 1.2184 - val_acc: 0.6428\n",
            "\n",
            "Epoch 00009: val_acc improved from 0.64001 to 0.64280, saving model to Model.best.hdf5\n",
            "Epoch 10/150\n",
            "298/448 [==================>...........] - ETA: 24s - loss: 0.8133 - acc: 0.7002"
          ],
          "name": "stdout"
        },
        {
          "output_type": "stream",
          "text": [
            "449/448 [==============================] - 76s 170ms/step - loss: 0.8185 - acc: 0.6971 - val_loss: 1.2068 - val_acc: 0.6395\n",
            "\n",
            "Epoch 00010: val_acc did not improve from 0.64280\n",
            "Epoch 11/150\n",
            "327/448 [====================>.........] - ETA: 20s - loss: 0.7838 - acc: 0.7146"
          ],
          "name": "stdout"
        },
        {
          "output_type": "stream",
          "text": [
            "449/448 [==============================] - 76s 170ms/step - loss: 0.7924 - acc: 0.7107 - val_loss: 1.1872 - val_acc: 0.6486\n",
            "\n",
            "Epoch 00011: val_acc improved from 0.64280 to 0.64865, saving model to Model.best.hdf5\n",
            "Epoch 12/150\n",
            "294/448 [==================>...........] - ETA: 25s - loss: 0.7473 - acc: 0.7278"
          ],
          "name": "stdout"
        },
        {
          "output_type": "stream",
          "text": [
            "449/448 [==============================] - 76s 170ms/step - loss: 0.7576 - acc: 0.7252 - val_loss: 1.2160 - val_acc: 0.6439\n",
            "\n",
            "Epoch 00012: val_acc did not improve from 0.64865\n",
            "Epoch 13/150\n",
            "326/448 [====================>.........] - ETA: 20s - loss: 0.7478 - acc: 0.7265"
          ],
          "name": "stdout"
        },
        {
          "output_type": "stream",
          "text": [
            "449/448 [==============================] - 76s 170ms/step - loss: 0.7441 - acc: 0.7278 - val_loss: 1.1953 - val_acc: 0.6570\n",
            "\n",
            "Epoch 00013: val_acc improved from 0.64865 to 0.65701, saving model to Model.best.hdf5\n",
            "Epoch 14/150\n",
            "294/448 [==================>...........] - ETA: 25s - loss: 0.7179 - acc: 0.7395"
          ],
          "name": "stdout"
        },
        {
          "output_type": "stream",
          "text": [
            "449/448 [==============================] - 76s 169ms/step - loss: 0.7244 - acc: 0.7366 - val_loss: 1.2207 - val_acc: 0.6486\n",
            "\n",
            "Epoch 00014: val_acc did not improve from 0.65701\n",
            "Epoch 15/150\n",
            "326/448 [====================>.........] - ETA: 20s - loss: 0.6918 - acc: 0.7472"
          ],
          "name": "stdout"
        },
        {
          "output_type": "stream",
          "text": [
            "449/448 [==============================] - 76s 170ms/step - loss: 0.6984 - acc: 0.7438 - val_loss: 1.2384 - val_acc: 0.6539\n",
            "\n",
            "Epoch 00015: val_acc did not improve from 0.65701\n",
            "Epoch 16/150\n",
            "335/448 [=====================>........] - ETA: 18s - loss: 0.6729 - acc: 0.7531"
          ],
          "name": "stdout"
        },
        {
          "output_type": "stream",
          "text": [
            "449/448 [==============================] - 76s 170ms/step - loss: 0.6708 - acc: 0.7539 - val_loss: 1.2580 - val_acc: 0.6484\n",
            "\n",
            "Epoch 00016: val_acc did not improve from 0.65701\n",
            "Epoch 17/150\n",
            "338/448 [=====================>........] - ETA: 18s - loss: 0.6568 - acc: 0.7629"
          ],
          "name": "stdout"
        },
        {
          "output_type": "stream",
          "text": [
            "449/448 [==============================] - 76s 170ms/step - loss: 0.6628 - acc: 0.7607 - val_loss: 1.2767 - val_acc: 0.6512\n",
            "\n",
            "Epoch 00017: val_acc did not improve from 0.65701\n",
            "Epoch 18/150\n",
            "339/448 [=====================>........] - ETA: 18s - loss: 0.6412 - acc: 0.7649"
          ],
          "name": "stdout"
        },
        {
          "output_type": "stream",
          "text": [
            "449/448 [==============================] - 76s 170ms/step - loss: 0.6429 - acc: 0.7652 - val_loss: 1.2711 - val_acc: 0.6556\n",
            "\n",
            "Epoch 00018: val_acc did not improve from 0.65701\n",
            "Epoch 19/150\n",
            "339/448 [=====================>........] - ETA: 17s - loss: 0.6144 - acc: 0.7759"
          ],
          "name": "stdout"
        },
        {
          "output_type": "stream",
          "text": [
            "449/448 [==============================] - 76s 169ms/step - loss: 0.6145 - acc: 0.7779 - val_loss: 1.2783 - val_acc: 0.6473\n",
            "\n",
            "Epoch 00019: val_acc did not improve from 0.65701\n",
            "Epoch 20/150\n",
            "339/448 [=====================>........] - ETA: 18s - loss: 0.6030 - acc: 0.7812"
          ],
          "name": "stdout"
        },
        {
          "output_type": "stream",
          "text": [
            "449/448 [==============================] - 76s 170ms/step - loss: 0.6030 - acc: 0.7811 - val_loss: 1.2975 - val_acc: 0.6500\n",
            "\n",
            "Epoch 00020: val_acc did not improve from 0.65701\n",
            "Epoch 21/150\n",
            "339/448 [=====================>........] - ETA: 18s - loss: 0.5740 - acc: 0.7927"
          ],
          "name": "stdout"
        },
        {
          "output_type": "stream",
          "text": [
            "449/448 [==============================] - 76s 170ms/step - loss: 0.5840 - acc: 0.7893 - val_loss: 1.3044 - val_acc: 0.6584\n",
            "\n",
            "Epoch 00021: val_acc improved from 0.65701 to 0.65840, saving model to Model.best.hdf5\n",
            "Epoch 22/150\n",
            "297/448 [==================>...........] - ETA: 24s - loss: 0.5577 - acc: 0.8013"
          ],
          "name": "stdout"
        },
        {
          "output_type": "stream",
          "text": [
            "449/448 [==============================] - 76s 170ms/step - loss: 0.5643 - acc: 0.7986 - val_loss: 1.3105 - val_acc: 0.6559\n",
            "\n",
            "Epoch 00022: val_acc did not improve from 0.65840\n",
            "Epoch 23/150\n",
            "327/448 [====================>.........] - ETA: 19s - loss: 0.5495 - acc: 0.8037"
          ],
          "name": "stdout"
        },
        {
          "output_type": "stream",
          "text": [
            "449/448 [==============================] - 76s 169ms/step - loss: 0.5544 - acc: 0.8015 - val_loss: 1.3400 - val_acc: 0.6464\n",
            "\n",
            "Epoch 00023: val_acc did not improve from 0.65840\n",
            "Epoch 24/150\n",
            "336/448 [=====================>........] - ETA: 18s - loss: 0.5402 - acc: 0.8046"
          ],
          "name": "stdout"
        },
        {
          "output_type": "stream",
          "text": [
            "449/448 [==============================] - 76s 169ms/step - loss: 0.5426 - acc: 0.8048 - val_loss: 1.3371 - val_acc: 0.6528\n",
            "\n",
            "Epoch 00024: val_acc did not improve from 0.65840\n",
            "Epoch 25/150\n",
            "338/448 [=====================>........] - ETA: 18s - loss: 0.5189 - acc: 0.8145"
          ],
          "name": "stdout"
        },
        {
          "output_type": "stream",
          "text": [
            "449/448 [==============================] - 76s 169ms/step - loss: 0.5209 - acc: 0.8118 - val_loss: 1.3959 - val_acc: 0.6576\n",
            "\n",
            "Epoch 00025: val_acc did not improve from 0.65840\n",
            "Epoch 26/150\n",
            "339/448 [=====================>........] - ETA: 18s - loss: 0.5114 - acc: 0.8120"
          ],
          "name": "stdout"
        },
        {
          "output_type": "stream",
          "text": [
            "449/448 [==============================] - 77s 171ms/step - loss: 0.5125 - acc: 0.8131 - val_loss: 1.3645 - val_acc: 0.6512\n",
            "\n",
            "Epoch 00026: val_acc did not improve from 0.65840\n",
            "Epoch 27/150\n",
            "339/448 [=====================>........] - ETA: 18s - loss: 0.4974 - acc: 0.8203"
          ],
          "name": "stdout"
        },
        {
          "output_type": "stream",
          "text": [
            "449/448 [==============================] - 76s 170ms/step - loss: 0.5001 - acc: 0.8185 - val_loss: 1.4014 - val_acc: 0.6537\n",
            "\n",
            "Epoch 00027: val_acc did not improve from 0.65840\n",
            "Epoch 28/150\n",
            "339/448 [=====================>........] - ETA: 18s - loss: 0.4731 - acc: 0.8303"
          ],
          "name": "stdout"
        },
        {
          "output_type": "stream",
          "text": [
            "449/448 [==============================] - 76s 170ms/step - loss: 0.4825 - acc: 0.8266 - val_loss: 1.4373 - val_acc: 0.6590\n",
            "\n",
            "Epoch 00028: val_acc improved from 0.65840 to 0.65896, saving model to Model.best.hdf5\n",
            "Epoch 29/150\n",
            "297/448 [==================>...........] - ETA: 24s - loss: 0.4720 - acc: 0.8328"
          ],
          "name": "stdout"
        },
        {
          "output_type": "stream",
          "text": [
            "449/448 [==============================] - 76s 170ms/step - loss: 0.4774 - acc: 0.8306 - val_loss: 1.4355 - val_acc: 0.6576\n",
            "\n",
            "Epoch 00029: val_acc did not improve from 0.65896\n",
            "Epoch 30/150\n",
            "327/448 [====================>.........] - ETA: 19s - loss: 0.4592 - acc: 0.8349"
          ],
          "name": "stdout"
        },
        {
          "output_type": "stream",
          "text": [
            "449/448 [==============================] - 76s 170ms/step - loss: 0.4625 - acc: 0.8346 - val_loss: 1.3860 - val_acc: 0.6514\n",
            "\n",
            "Epoch 00030: val_acc did not improve from 0.65896\n",
            "Epoch 31/150\n",
            "336/448 [=====================>........] - ETA: 18s - loss: 0.4441 - acc: 0.8414"
          ],
          "name": "stdout"
        },
        {
          "output_type": "stream",
          "text": [
            "449/448 [==============================] - 76s 170ms/step - loss: 0.4484 - acc: 0.8400 - val_loss: 1.4525 - val_acc: 0.6598\n",
            "\n",
            "Epoch 00031: val_acc improved from 0.65896 to 0.65979, saving model to Model.best.hdf5\n",
            "Epoch 32/150\n",
            "297/448 [==================>...........] - ETA: 25s - loss: 0.4273 - acc: 0.8467"
          ],
          "name": "stdout"
        },
        {
          "output_type": "stream",
          "text": [
            "449/448 [==============================] - 77s 171ms/step - loss: 0.4359 - acc: 0.8433 - val_loss: 1.3954 - val_acc: 0.6584\n",
            "\n",
            "Epoch 00032: val_acc did not improve from 0.65979\n",
            "Epoch 33/150\n",
            "327/448 [====================>.........] - ETA: 20s - loss: 0.4328 - acc: 0.8441"
          ],
          "name": "stdout"
        },
        {
          "output_type": "stream",
          "text": [
            "449/448 [==============================] - 77s 171ms/step - loss: 0.4308 - acc: 0.8450 - val_loss: 1.4525 - val_acc: 0.6512\n",
            "\n",
            "Epoch 00033: val_acc did not improve from 0.65979\n",
            "Epoch 34/150\n",
            "336/448 [=====================>........] - ETA: 18s - loss: 0.4123 - acc: 0.8522"
          ],
          "name": "stdout"
        },
        {
          "output_type": "stream",
          "text": [
            "449/448 [==============================] - 77s 172ms/step - loss: 0.4186 - acc: 0.8499 - val_loss: 1.4600 - val_acc: 0.6500\n",
            "\n",
            "Epoch 00034: val_acc did not improve from 0.65979\n",
            "Epoch 35/150\n",
            "338/448 [=====================>........] - ETA: 18s - loss: 0.4099 - acc: 0.8532"
          ],
          "name": "stdout"
        },
        {
          "output_type": "stream",
          "text": [
            "449/448 [==============================] - 78s 173ms/step - loss: 0.4114 - acc: 0.8526 - val_loss: 1.4728 - val_acc: 0.6489\n",
            "\n",
            "Epoch 00035: val_acc did not improve from 0.65979\n",
            "Epoch 36/150\n",
            "339/448 [=====================>........] - ETA: 18s - loss: 0.3930 - acc: 0.8614"
          ],
          "name": "stdout"
        },
        {
          "output_type": "stream",
          "text": [
            "449/448 [==============================] - 77s 172ms/step - loss: 0.3977 - acc: 0.8587 - val_loss: 1.4816 - val_acc: 0.6506\n",
            "\n",
            "Epoch 00036: val_acc did not improve from 0.65979\n",
            "Epoch 37/150\n",
            "339/448 [=====================>........] - ETA: 18s - loss: 0.3961 - acc: 0.8608"
          ],
          "name": "stdout"
        },
        {
          "output_type": "stream",
          "text": [
            "449/448 [==============================] - 77s 171ms/step - loss: 0.3977 - acc: 0.8596 - val_loss: 1.4608 - val_acc: 0.6542\n",
            "\n",
            "Epoch 00037: val_acc did not improve from 0.65979\n",
            "Epoch 38/150\n",
            "339/448 [=====================>........] - ETA: 18s - loss: 0.3765 - acc: 0.8664"
          ],
          "name": "stdout"
        },
        {
          "output_type": "stream",
          "text": [
            "449/448 [==============================] - 77s 172ms/step - loss: 0.3792 - acc: 0.8641 - val_loss: 1.4980 - val_acc: 0.6545\n",
            "\n",
            "Epoch 00038: val_acc did not improve from 0.65979\n",
            "Epoch 39/150\n",
            "339/448 [=====================>........] - ETA: 18s - loss: 0.3662 - acc: 0.8681"
          ],
          "name": "stdout"
        },
        {
          "output_type": "stream",
          "text": [
            "449/448 [==============================] - 77s 173ms/step - loss: 0.3676 - acc: 0.8679 - val_loss: 1.4961 - val_acc: 0.6506\n",
            "\n",
            "Epoch 00039: val_acc did not improve from 0.65979\n",
            "Epoch 40/150\n",
            "339/448 [=====================>........] - ETA: 18s - loss: 0.3654 - acc: 0.8706"
          ],
          "name": "stdout"
        },
        {
          "output_type": "stream",
          "text": [
            "449/448 [==============================] - 78s 173ms/step - loss: 0.3674 - acc: 0.8688 - val_loss: 1.4723 - val_acc: 0.6512\n",
            "\n",
            "Epoch 00040: val_acc did not improve from 0.65979\n",
            "Epoch 41/150\n",
            "339/448 [=====================>........] - ETA: 18s - loss: 0.3629 - acc: 0.8711"
          ],
          "name": "stdout"
        },
        {
          "output_type": "stream",
          "text": [
            "449/448 [==============================] - 78s 173ms/step - loss: 0.3612 - acc: 0.8724 - val_loss: 1.5041 - val_acc: 0.6517\n",
            "\n",
            "Epoch 00041: val_acc did not improve from 0.65979\n",
            "Epoch 42/150\n",
            "339/448 [=====================>........] - ETA: 18s - loss: 0.3460 - acc: 0.8786"
          ],
          "name": "stdout"
        },
        {
          "output_type": "stream",
          "text": [
            "449/448 [==============================] - 78s 173ms/step - loss: 0.3530 - acc: 0.8758 - val_loss: 1.5280 - val_acc: 0.6506\n",
            "\n",
            "Epoch 00042: val_acc did not improve from 0.65979\n",
            "Epoch 43/150\n",
            "339/448 [=====================>........] - ETA: 18s - loss: 0.3472 - acc: 0.8784"
          ],
          "name": "stdout"
        },
        {
          "output_type": "stream",
          "text": [
            "449/448 [==============================] - 78s 173ms/step - loss: 0.3508 - acc: 0.8773 - val_loss: 1.5220 - val_acc: 0.6506\n",
            "\n",
            "Epoch 00043: val_acc did not improve from 0.65979\n",
            "Epoch 44/150\n",
            "339/448 [=====================>........] - ETA: 18s - loss: 0.3349 - acc: 0.8821"
          ],
          "name": "stdout"
        },
        {
          "output_type": "stream",
          "text": [
            "449/448 [==============================] - 78s 173ms/step - loss: 0.3378 - acc: 0.8810 - val_loss: 1.5209 - val_acc: 0.6484\n",
            "\n",
            "Epoch 00044: val_acc did not improve from 0.65979\n",
            "Epoch 45/150\n",
            "339/448 [=====================>........] - ETA: 18s - loss: 0.3381 - acc: 0.8800"
          ],
          "name": "stdout"
        },
        {
          "output_type": "stream",
          "text": [
            "449/448 [==============================] - 77s 170ms/step - loss: 0.3387 - acc: 0.8792 - val_loss: 1.5315 - val_acc: 0.6542\n",
            "\n",
            "Epoch 00045: val_acc did not improve from 0.65979\n",
            "Epoch 46/150\n",
            "339/448 [=====================>........] - ETA: 18s - loss: 0.3199 - acc: 0.8853"
          ],
          "name": "stdout"
        },
        {
          "output_type": "stream",
          "text": [
            "449/448 [==============================] - 76s 170ms/step - loss: 0.3231 - acc: 0.8837 - val_loss: 1.5634 - val_acc: 0.6539\n",
            "\n",
            "Epoch 00046: val_acc did not improve from 0.65979\n",
            "Epoch 47/150\n",
            "339/448 [=====================>........] - ETA: 18s - loss: 0.3180 - acc: 0.8871"
          ],
          "name": "stdout"
        },
        {
          "output_type": "stream",
          "text": [
            "449/448 [==============================] - 76s 170ms/step - loss: 0.3214 - acc: 0.8866 - val_loss: 1.5472 - val_acc: 0.6500\n",
            "\n",
            "Epoch 00047: val_acc did not improve from 0.65979\n",
            "Epoch 48/150\n",
            "339/448 [=====================>........] - ETA: 18s - loss: 0.3124 - acc: 0.8908"
          ],
          "name": "stdout"
        },
        {
          "output_type": "stream",
          "text": [
            "449/448 [==============================] - 76s 170ms/step - loss: 0.3202 - acc: 0.8892 - val_loss: 1.5641 - val_acc: 0.6473\n",
            "\n",
            "Epoch 00048: val_acc did not improve from 0.65979\n",
            "Epoch 49/150\n",
            "339/448 [=====================>........] - ETA: 18s - loss: 0.3121 - acc: 0.8894"
          ],
          "name": "stdout"
        },
        {
          "output_type": "stream",
          "text": [
            "449/448 [==============================] - 76s 170ms/step - loss: 0.3124 - acc: 0.8889 - val_loss: 1.5655 - val_acc: 0.6514\n",
            "\n",
            "Epoch 00049: val_acc did not improve from 0.65979\n",
            "Epoch 50/150\n",
            "339/448 [=====================>........] - ETA: 18s - loss: 0.2987 - acc: 0.8957"
          ],
          "name": "stdout"
        },
        {
          "output_type": "stream",
          "text": [
            "449/448 [==============================] - 76s 170ms/step - loss: 0.3003 - acc: 0.8946 - val_loss: 1.5865 - val_acc: 0.6573\n",
            "\n",
            "Epoch 00050: val_acc did not improve from 0.65979\n",
            "Epoch 51/150\n",
            "339/448 [=====================>........] - ETA: 18s - loss: 0.2921 - acc: 0.8962"
          ],
          "name": "stdout"
        },
        {
          "output_type": "stream",
          "text": [
            "449/448 [==============================] - 77s 171ms/step - loss: 0.2959 - acc: 0.8947 - val_loss: 1.6103 - val_acc: 0.6528\n",
            "\n",
            "Epoch 00051: val_acc did not improve from 0.65979\n",
            "Epoch 52/150\n",
            "339/448 [=====================>........] - ETA: 18s - loss: 0.2994 - acc: 0.8957"
          ],
          "name": "stdout"
        },
        {
          "output_type": "stream",
          "text": [
            "449/448 [==============================] - 77s 172ms/step - loss: 0.3030 - acc: 0.8938 - val_loss: 1.5573 - val_acc: 0.6514\n",
            "\n",
            "Epoch 00052: val_acc did not improve from 0.65979\n",
            "Epoch 53/150\n",
            "339/448 [=====================>........] - ETA: 18s - loss: 0.2917 - acc: 0.8963"
          ],
          "name": "stdout"
        },
        {
          "output_type": "stream",
          "text": [
            "449/448 [==============================] - 77s 171ms/step - loss: 0.2952 - acc: 0.8952 - val_loss: 1.5783 - val_acc: 0.6517\n",
            "\n",
            "Epoch 00053: val_acc did not improve from 0.65979\n",
            "Epoch 54/150\n",
            "339/448 [=====================>........] - ETA: 18s - loss: 0.2946 - acc: 0.8952"
          ],
          "name": "stdout"
        },
        {
          "output_type": "stream",
          "text": [
            "449/448 [==============================] - 76s 170ms/step - loss: 0.2956 - acc: 0.8943 - val_loss: 1.5559 - val_acc: 0.6548\n",
            "\n",
            "Epoch 00054: val_acc did not improve from 0.65979\n",
            "Epoch 55/150\n",
            "339/448 [=====================>........] - ETA: 18s - loss: 0.2787 - acc: 0.9031"
          ],
          "name": "stdout"
        },
        {
          "output_type": "stream",
          "text": [
            "449/448 [==============================] - 77s 172ms/step - loss: 0.2845 - acc: 0.9005 - val_loss: 1.6117 - val_acc: 0.6542\n",
            "\n",
            "Epoch 00055: val_acc did not improve from 0.65979\n",
            "Epoch 56/150\n",
            "339/448 [=====================>........] - ETA: 18s - loss: 0.2752 - acc: 0.9035"
          ],
          "name": "stdout"
        },
        {
          "output_type": "stream",
          "text": [
            "449/448 [==============================] - 78s 173ms/step - loss: 0.2803 - acc: 0.9020 - val_loss: 1.5722 - val_acc: 0.6484\n",
            "\n",
            "Epoch 00056: val_acc did not improve from 0.65979\n",
            "Epoch 57/150\n",
            "339/448 [=====================>........] - ETA: 18s - loss: 0.2727 - acc: 0.9036"
          ],
          "name": "stdout"
        },
        {
          "output_type": "stream",
          "text": [
            "449/448 [==============================] - 78s 173ms/step - loss: 0.2755 - acc: 0.9015 - val_loss: 1.5883 - val_acc: 0.6506\n",
            "\n",
            "Epoch 00057: val_acc did not improve from 0.65979\n",
            "Epoch 58/150\n",
            "339/448 [=====================>........] - ETA: 18s - loss: 0.2648 - acc: 0.9093"
          ],
          "name": "stdout"
        },
        {
          "output_type": "stream",
          "text": [
            "449/448 [==============================] - 78s 173ms/step - loss: 0.2680 - acc: 0.9079 - val_loss: 1.5998 - val_acc: 0.6506\n",
            "\n",
            "Epoch 00058: val_acc did not improve from 0.65979\n",
            "Epoch 59/150\n",
            "339/448 [=====================>........] - ETA: 18s - loss: 0.2608 - acc: 0.9108"
          ],
          "name": "stdout"
        },
        {
          "output_type": "stream",
          "text": [
            "449/448 [==============================] - 77s 171ms/step - loss: 0.2675 - acc: 0.9072 - val_loss: 1.6063 - val_acc: 0.6534\n",
            "\n",
            "Epoch 00059: val_acc did not improve from 0.65979\n",
            "Epoch 60/150\n",
            "339/448 [=====================>........] - ETA: 18s - loss: 0.2531 - acc: 0.9087"
          ],
          "name": "stdout"
        },
        {
          "output_type": "stream",
          "text": [
            "449/448 [==============================] - 77s 171ms/step - loss: 0.2546 - acc: 0.9092 - val_loss: 1.6216 - val_acc: 0.6573\n",
            "\n",
            "Epoch 00060: val_acc did not improve from 0.65979\n",
            "Epoch 61/150\n",
            "339/448 [=====================>........] - ETA: 18s - loss: 0.2594 - acc: 0.9066"
          ],
          "name": "stdout"
        },
        {
          "output_type": "stream",
          "text": [
            "449/448 [==============================] - 76s 170ms/step - loss: 0.2619 - acc: 0.9059 - val_loss: 1.6094 - val_acc: 0.6492\n",
            "\n",
            "Epoch 00061: val_acc did not improve from 0.65979\n",
            "Epoch 62/150\n",
            "339/448 [=====================>........] - ETA: 18s - loss: 0.2553 - acc: 0.9094"
          ],
          "name": "stdout"
        },
        {
          "output_type": "stream",
          "text": [
            "449/448 [==============================] - 76s 170ms/step - loss: 0.2565 - acc: 0.9095 - val_loss: 1.5895 - val_acc: 0.6548\n",
            "\n",
            "Epoch 00062: val_acc did not improve from 0.65979\n",
            "Epoch 63/150\n",
            "339/448 [=====================>........] - ETA: 18s - loss: 0.2635 - acc: 0.9095"
          ],
          "name": "stdout"
        },
        {
          "output_type": "stream",
          "text": [
            "449/448 [==============================] - 76s 170ms/step - loss: 0.2591 - acc: 0.9102 - val_loss: 1.6608 - val_acc: 0.6447\n",
            "\n",
            "Epoch 00063: val_acc did not improve from 0.65979\n",
            "Epoch 64/150\n",
            "339/448 [=====================>........] - ETA: 17s - loss: 0.2485 - acc: 0.9136"
          ],
          "name": "stdout"
        },
        {
          "output_type": "stream",
          "text": [
            "449/448 [==============================] - 76s 169ms/step - loss: 0.2513 - acc: 0.9126 - val_loss: 1.5920 - val_acc: 0.6570\n",
            "\n",
            "Epoch 00064: val_acc did not improve from 0.65979\n",
            "Epoch 65/150\n",
            "339/448 [=====================>........] - ETA: 18s - loss: 0.2469 - acc: 0.9130"
          ],
          "name": "stdout"
        },
        {
          "output_type": "stream",
          "text": [
            "449/448 [==============================] - 76s 170ms/step - loss: 0.2409 - acc: 0.9148 - val_loss: 1.6899 - val_acc: 0.6537\n",
            "\n",
            "Epoch 00065: val_acc did not improve from 0.65979\n",
            "Epoch 66/150\n",
            "339/448 [=====================>........] - ETA: 18s - loss: 0.2413 - acc: 0.9142"
          ],
          "name": "stdout"
        },
        {
          "output_type": "stream",
          "text": [
            "449/448 [==============================] - 76s 170ms/step - loss: 0.2442 - acc: 0.9138 - val_loss: 1.6641 - val_acc: 0.6542\n",
            "\n",
            "Epoch 00066: val_acc did not improve from 0.65979\n",
            "Epoch 67/150\n",
            "339/448 [=====================>........] - ETA: 18s - loss: 0.2397 - acc: 0.9160"
          ],
          "name": "stdout"
        },
        {
          "output_type": "stream",
          "text": [
            "449/448 [==============================] - 76s 170ms/step - loss: 0.2381 - acc: 0.9171 - val_loss: 1.6632 - val_acc: 0.6551\n",
            "\n",
            "Epoch 00067: val_acc did not improve from 0.65979\n",
            "Epoch 68/150\n",
            "339/448 [=====================>........] - ETA: 18s - loss: 0.2398 - acc: 0.9168"
          ],
          "name": "stdout"
        },
        {
          "output_type": "stream",
          "text": [
            "449/448 [==============================] - 76s 170ms/step - loss: 0.2371 - acc: 0.9168 - val_loss: 1.6689 - val_acc: 0.6528\n",
            "\n",
            "Epoch 00068: val_acc did not improve from 0.65979\n",
            "Epoch 69/150\n",
            "339/448 [=====================>........] - ETA: 18s - loss: 0.2353 - acc: 0.9174"
          ],
          "name": "stdout"
        },
        {
          "output_type": "stream",
          "text": [
            "449/448 [==============================] - 76s 170ms/step - loss: 0.2356 - acc: 0.9167 - val_loss: 1.6799 - val_acc: 0.6542\n",
            "\n",
            "Epoch 00069: val_acc did not improve from 0.65979\n",
            "Epoch 70/150\n",
            "339/448 [=====================>........] - ETA: 18s - loss: 0.2288 - acc: 0.9200"
          ],
          "name": "stdout"
        },
        {
          "output_type": "stream",
          "text": [
            "449/448 [==============================] - 76s 170ms/step - loss: 0.2355 - acc: 0.9177 - val_loss: 1.6334 - val_acc: 0.6481\n",
            "\n",
            "Epoch 00070: val_acc did not improve from 0.65979\n",
            "Epoch 71/150\n",
            "339/448 [=====================>........] - ETA: 18s - loss: 0.2315 - acc: 0.9188"
          ],
          "name": "stdout"
        },
        {
          "output_type": "stream",
          "text": [
            "449/448 [==============================] - 76s 170ms/step - loss: 0.2331 - acc: 0.9181 - val_loss: 1.6586 - val_acc: 0.6484\n",
            "\n",
            "Epoch 00071: val_acc did not improve from 0.65979\n",
            "Epoch 72/150\n",
            "339/448 [=====================>........] - ETA: 18s - loss: 0.2274 - acc: 0.9219"
          ],
          "name": "stdout"
        },
        {
          "output_type": "stream",
          "text": [
            "449/448 [==============================] - 76s 170ms/step - loss: 0.2282 - acc: 0.9212 - val_loss: 1.6873 - val_acc: 0.6534\n",
            "\n",
            "Epoch 00072: val_acc did not improve from 0.65979\n",
            "Epoch 73/150\n",
            "339/448 [=====================>........] - ETA: 18s - loss: 0.2238 - acc: 0.9221"
          ],
          "name": "stdout"
        },
        {
          "output_type": "stream",
          "text": [
            "449/448 [==============================] - 77s 171ms/step - loss: 0.2268 - acc: 0.9207 - val_loss: 1.6827 - val_acc: 0.6517\n",
            "\n",
            "Epoch 00073: val_acc did not improve from 0.65979\n",
            "Epoch 74/150\n",
            "339/448 [=====================>........] - ETA: 18s - loss: 0.2130 - acc: 0.9270"
          ],
          "name": "stdout"
        },
        {
          "output_type": "stream",
          "text": [
            "449/448 [==============================] - 77s 171ms/step - loss: 0.2176 - acc: 0.9248 - val_loss: 1.6682 - val_acc: 0.6559\n",
            "\n",
            "Epoch 00074: val_acc did not improve from 0.65979\n",
            "Epoch 75/150\n",
            "339/448 [=====================>........] - ETA: 18s - loss: 0.2221 - acc: 0.9213"
          ],
          "name": "stdout"
        },
        {
          "output_type": "stream",
          "text": [
            "449/448 [==============================] - 77s 172ms/step - loss: 0.2243 - acc: 0.9204 - val_loss: 1.7046 - val_acc: 0.6595\n",
            "\n",
            "Epoch 00075: val_acc did not improve from 0.65979\n",
            "Epoch 76/150\n",
            "339/448 [=====================>........] - ETA: 18s - loss: 0.2121 - acc: 0.9266"
          ],
          "name": "stdout"
        },
        {
          "output_type": "stream",
          "text": [
            "449/448 [==============================] - 77s 171ms/step - loss: 0.2147 - acc: 0.9254 - val_loss: 1.7282 - val_acc: 0.6489\n",
            "\n",
            "Epoch 00076: val_acc did not improve from 0.65979\n",
            "Epoch 77/150\n",
            "339/448 [=====================>........] - ETA: 18s - loss: 0.2100 - acc: 0.9262"
          ],
          "name": "stdout"
        },
        {
          "output_type": "stream",
          "text": [
            "449/448 [==============================] - 76s 170ms/step - loss: 0.2135 - acc: 0.9244 - val_loss: 1.6639 - val_acc: 0.6506\n",
            "\n",
            "Epoch 00077: val_acc did not improve from 0.65979\n",
            "Epoch 78/150\n",
            "339/448 [=====================>........] - ETA: 18s - loss: 0.2091 - acc: 0.9288"
          ],
          "name": "stdout"
        },
        {
          "output_type": "stream",
          "text": [
            "449/448 [==============================] - 76s 170ms/step - loss: 0.2147 - acc: 0.9268 - val_loss: 1.7141 - val_acc: 0.6498\n",
            "\n",
            "Epoch 00078: val_acc did not improve from 0.65979\n",
            "Epoch 79/150\n",
            "339/448 [=====================>........] - ETA: 18s - loss: 0.2119 - acc: 0.9270"
          ],
          "name": "stdout"
        },
        {
          "output_type": "stream",
          "text": [
            "449/448 [==============================] - 76s 170ms/step - loss: 0.2133 - acc: 0.9254 - val_loss: 1.6917 - val_acc: 0.6528\n",
            "\n",
            "Epoch 00079: val_acc did not improve from 0.65979\n",
            "Epoch 80/150\n",
            "339/448 [=====================>........] - ETA: 18s - loss: 0.2120 - acc: 0.9267"
          ],
          "name": "stdout"
        },
        {
          "output_type": "stream",
          "text": [
            "449/448 [==============================] - 77s 171ms/step - loss: 0.2105 - acc: 0.9267 - val_loss: 1.7110 - val_acc: 0.6453\n",
            "\n",
            "Epoch 00080: val_acc did not improve from 0.65979\n",
            "Epoch 81/150\n",
            "339/448 [=====================>........] - ETA: 18s - loss: 0.2062 - acc: 0.9272"
          ],
          "name": "stdout"
        },
        {
          "output_type": "stream",
          "text": [
            "449/448 [==============================] - 76s 170ms/step - loss: 0.2090 - acc: 0.9261 - val_loss: 1.7091 - val_acc: 0.6500\n",
            "\n",
            "Epoch 00081: val_acc did not improve from 0.65979\n",
            "Epoch 82/150\n",
            "339/448 [=====================>........] - ETA: 18s - loss: 0.2045 - acc: 0.9282"
          ],
          "name": "stdout"
        },
        {
          "output_type": "stream",
          "text": [
            "449/448 [==============================] - 78s 173ms/step - loss: 0.2057 - acc: 0.9281 - val_loss: 1.7219 - val_acc: 0.6520\n",
            "\n",
            "Epoch 00082: val_acc did not improve from 0.65979\n",
            "Epoch 83/150\n",
            "339/448 [=====================>........] - ETA: 18s - loss: 0.1967 - acc: 0.9314"
          ],
          "name": "stdout"
        },
        {
          "output_type": "stream",
          "text": [
            "449/448 [==============================] - 77s 172ms/step - loss: 0.2014 - acc: 0.9301 - val_loss: 1.7024 - val_acc: 0.6495\n",
            "\n",
            "Epoch 00083: val_acc did not improve from 0.65979\n",
            "Epoch 84/150\n",
            "339/448 [=====================>........] - ETA: 18s - loss: 0.2062 - acc: 0.9288"
          ],
          "name": "stdout"
        },
        {
          "output_type": "stream",
          "text": [
            "449/448 [==============================] - 77s 172ms/step - loss: 0.2088 - acc: 0.9283 - val_loss: 1.6979 - val_acc: 0.6528\n",
            "\n",
            "Epoch 00084: val_acc did not improve from 0.65979\n",
            "Epoch 85/150\n",
            "339/448 [=====================>........] - ETA: 18s - loss: 0.2017 - acc: 0.9304"
          ],
          "name": "stdout"
        },
        {
          "output_type": "stream",
          "text": [
            "449/448 [==============================] - 77s 172ms/step - loss: 0.2010 - acc: 0.9310 - val_loss: 1.6994 - val_acc: 0.6500\n",
            "\n",
            "Epoch 00085: val_acc did not improve from 0.65979\n",
            "Epoch 86/150\n",
            "339/448 [=====================>........] - ETA: 18s - loss: 0.1885 - acc: 0.9331"
          ],
          "name": "stdout"
        },
        {
          "output_type": "stream",
          "text": [
            "449/448 [==============================] - 77s 172ms/step - loss: 0.1913 - acc: 0.9333 - val_loss: 1.7391 - val_acc: 0.6470\n",
            "\n",
            "Epoch 00086: val_acc did not improve from 0.65979\n",
            "Epoch 87/150\n",
            "339/448 [=====================>........] - ETA: 18s - loss: 0.1966 - acc: 0.9317"
          ],
          "name": "stdout"
        },
        {
          "output_type": "stream",
          "text": [
            "449/448 [==============================] - 77s 171ms/step - loss: 0.1988 - acc: 0.9311 - val_loss: 1.7347 - val_acc: 0.6525\n",
            "\n",
            "Epoch 00087: val_acc did not improve from 0.65979\n",
            "Epoch 88/150\n",
            "339/448 [=====================>........] - ETA: 18s - loss: 0.1866 - acc: 0.9353"
          ],
          "name": "stdout"
        },
        {
          "output_type": "stream",
          "text": [
            "449/448 [==============================] - 77s 172ms/step - loss: 0.1888 - acc: 0.9345 - val_loss: 1.6989 - val_acc: 0.6500\n",
            "\n",
            "Epoch 00088: val_acc did not improve from 0.65979\n",
            "Epoch 89/150\n",
            "339/448 [=====================>........] - ETA: 18s - loss: 0.1953 - acc: 0.9320"
          ],
          "name": "stdout"
        },
        {
          "output_type": "stream",
          "text": [
            "449/448 [==============================] - 77s 172ms/step - loss: 0.1960 - acc: 0.9313 - val_loss: 1.7140 - val_acc: 0.6595\n",
            "\n",
            "Epoch 00089: val_acc did not improve from 0.65979\n",
            "Epoch 90/150\n",
            "339/448 [=====================>........] - ETA: 18s - loss: 0.1934 - acc: 0.9333"
          ],
          "name": "stdout"
        },
        {
          "output_type": "stream",
          "text": [
            "449/448 [==============================] - 76s 170ms/step - loss: 0.1957 - acc: 0.9318 - val_loss: 1.7160 - val_acc: 0.6548\n",
            "\n",
            "Epoch 00090: val_acc did not improve from 0.65979\n",
            "Epoch 91/150\n",
            " 84/448 [====>.........................] - ETA: 1:00 - loss: 0.1639 - acc: 0.9423"
          ],
          "name": "stdout"
        },
        {
          "output_type": "error",
          "ename": "KeyboardInterrupt",
          "evalue": "ignored",
          "traceback": [
            "\u001b[0;31m---------------------------------------------------------------------------\u001b[0m",
            "\u001b[0;31mKeyboardInterrupt\u001b[0m                         Traceback (most recent call last)",
            "\u001b[0;32m<ipython-input-39-fa4f892cf9ce>\u001b[0m in \u001b[0;36m<module>\u001b[0;34m()\u001b[0m\n\u001b[1;32m     24\u001b[0m                     \u001b[0mepochs\u001b[0m\u001b[0;34m=\u001b[0m\u001b[0;36m150\u001b[0m\u001b[0;34m,\u001b[0m\u001b[0;34m\u001b[0m\u001b[0m\n\u001b[1;32m     25\u001b[0m                     \u001b[0mvalidation_data\u001b[0m\u001b[0;34m=\u001b[0m\u001b[0;34m(\u001b[0m\u001b[0mval_x\u001b[0m\u001b[0;34m,\u001b[0m \u001b[0mval_y\u001b[0m\u001b[0;34m)\u001b[0m\u001b[0;34m,\u001b[0m\u001b[0;34m\u001b[0m\u001b[0m\n\u001b[0;32m---> 26\u001b[0;31m                     callbacks=[checkpointer])\n\u001b[0m\u001b[1;32m     27\u001b[0m \u001b[0mprint\u001b[0m\u001b[0;34m(\u001b[0m\u001b[0;34m\"--- %s seconds ---\"\u001b[0m \u001b[0;34m%\u001b[0m \u001b[0;34m(\u001b[0m\u001b[0mtime\u001b[0m\u001b[0;34m.\u001b[0m\u001b[0mtime\u001b[0m\u001b[0;34m(\u001b[0m\u001b[0;34m)\u001b[0m \u001b[0;34m-\u001b[0m \u001b[0mstart_time\u001b[0m\u001b[0;34m)\u001b[0m\u001b[0;34m)\u001b[0m\u001b[0;34m\u001b[0m\u001b[0m\n",
            "\u001b[0;32m/usr/local/lib/python3.6/dist-packages/keras/legacy/interfaces.py\u001b[0m in \u001b[0;36mwrapper\u001b[0;34m(*args, **kwargs)\u001b[0m\n\u001b[1;32m     89\u001b[0m                 warnings.warn('Update your `' + object_name +\n\u001b[1;32m     90\u001b[0m                               '` call to the Keras 2 API: ' + signature, stacklevel=2)\n\u001b[0;32m---> 91\u001b[0;31m             \u001b[0;32mreturn\u001b[0m \u001b[0mfunc\u001b[0m\u001b[0;34m(\u001b[0m\u001b[0;34m*\u001b[0m\u001b[0margs\u001b[0m\u001b[0;34m,\u001b[0m \u001b[0;34m**\u001b[0m\u001b[0mkwargs\u001b[0m\u001b[0;34m)\u001b[0m\u001b[0;34m\u001b[0m\u001b[0m\n\u001b[0m\u001b[1;32m     92\u001b[0m         \u001b[0mwrapper\u001b[0m\u001b[0;34m.\u001b[0m\u001b[0m_original_function\u001b[0m \u001b[0;34m=\u001b[0m \u001b[0mfunc\u001b[0m\u001b[0;34m\u001b[0m\u001b[0m\n\u001b[1;32m     93\u001b[0m         \u001b[0;32mreturn\u001b[0m \u001b[0mwrapper\u001b[0m\u001b[0;34m\u001b[0m\u001b[0m\n",
            "\u001b[0;32m/usr/local/lib/python3.6/dist-packages/keras/models.py\u001b[0m in \u001b[0;36mfit_generator\u001b[0;34m(self, generator, steps_per_epoch, epochs, verbose, callbacks, validation_data, validation_steps, class_weight, max_queue_size, workers, use_multiprocessing, shuffle, initial_epoch)\u001b[0m\n\u001b[1;32m   1313\u001b[0m                                         \u001b[0muse_multiprocessing\u001b[0m\u001b[0;34m=\u001b[0m\u001b[0muse_multiprocessing\u001b[0m\u001b[0;34m,\u001b[0m\u001b[0;34m\u001b[0m\u001b[0m\n\u001b[1;32m   1314\u001b[0m                                         \u001b[0mshuffle\u001b[0m\u001b[0;34m=\u001b[0m\u001b[0mshuffle\u001b[0m\u001b[0;34m,\u001b[0m\u001b[0;34m\u001b[0m\u001b[0m\n\u001b[0;32m-> 1315\u001b[0;31m                                         initial_epoch=initial_epoch)\n\u001b[0m\u001b[1;32m   1316\u001b[0m \u001b[0;34m\u001b[0m\u001b[0m\n\u001b[1;32m   1317\u001b[0m     \u001b[0;34m@\u001b[0m\u001b[0minterfaces\u001b[0m\u001b[0;34m.\u001b[0m\u001b[0mlegacy_generator_methods_support\u001b[0m\u001b[0;34m\u001b[0m\u001b[0m\n",
            "\u001b[0;32m/usr/local/lib/python3.6/dist-packages/keras/legacy/interfaces.py\u001b[0m in \u001b[0;36mwrapper\u001b[0;34m(*args, **kwargs)\u001b[0m\n\u001b[1;32m     89\u001b[0m                 warnings.warn('Update your `' + object_name +\n\u001b[1;32m     90\u001b[0m                               '` call to the Keras 2 API: ' + signature, stacklevel=2)\n\u001b[0;32m---> 91\u001b[0;31m             \u001b[0;32mreturn\u001b[0m \u001b[0mfunc\u001b[0m\u001b[0;34m(\u001b[0m\u001b[0;34m*\u001b[0m\u001b[0margs\u001b[0m\u001b[0;34m,\u001b[0m \u001b[0;34m**\u001b[0m\u001b[0mkwargs\u001b[0m\u001b[0;34m)\u001b[0m\u001b[0;34m\u001b[0m\u001b[0m\n\u001b[0m\u001b[1;32m     92\u001b[0m         \u001b[0mwrapper\u001b[0m\u001b[0;34m.\u001b[0m\u001b[0m_original_function\u001b[0m \u001b[0;34m=\u001b[0m \u001b[0mfunc\u001b[0m\u001b[0;34m\u001b[0m\u001b[0m\n\u001b[1;32m     93\u001b[0m         \u001b[0;32mreturn\u001b[0m \u001b[0mwrapper\u001b[0m\u001b[0;34m\u001b[0m\u001b[0m\n",
            "\u001b[0;32m/usr/local/lib/python3.6/dist-packages/keras/engine/training.py\u001b[0m in \u001b[0;36mfit_generator\u001b[0;34m(self, generator, steps_per_epoch, epochs, verbose, callbacks, validation_data, validation_steps, class_weight, max_queue_size, workers, use_multiprocessing, shuffle, initial_epoch)\u001b[0m\n\u001b[1;32m   2228\u001b[0m                     outs = self.train_on_batch(x, y,\n\u001b[1;32m   2229\u001b[0m                                                \u001b[0msample_weight\u001b[0m\u001b[0;34m=\u001b[0m\u001b[0msample_weight\u001b[0m\u001b[0;34m,\u001b[0m\u001b[0;34m\u001b[0m\u001b[0m\n\u001b[0;32m-> 2230\u001b[0;31m                                                class_weight=class_weight)\n\u001b[0m\u001b[1;32m   2231\u001b[0m \u001b[0;34m\u001b[0m\u001b[0m\n\u001b[1;32m   2232\u001b[0m                     \u001b[0;32mif\u001b[0m \u001b[0;32mnot\u001b[0m \u001b[0misinstance\u001b[0m\u001b[0;34m(\u001b[0m\u001b[0mouts\u001b[0m\u001b[0;34m,\u001b[0m \u001b[0mlist\u001b[0m\u001b[0;34m)\u001b[0m\u001b[0;34m:\u001b[0m\u001b[0;34m\u001b[0m\u001b[0m\n",
            "\u001b[0;32m/usr/local/lib/python3.6/dist-packages/keras/engine/training.py\u001b[0m in \u001b[0;36mtrain_on_batch\u001b[0;34m(self, x, y, sample_weight, class_weight)\u001b[0m\n\u001b[1;32m   1881\u001b[0m             \u001b[0mins\u001b[0m \u001b[0;34m=\u001b[0m \u001b[0mx\u001b[0m \u001b[0;34m+\u001b[0m \u001b[0my\u001b[0m \u001b[0;34m+\u001b[0m \u001b[0msample_weights\u001b[0m\u001b[0;34m\u001b[0m\u001b[0m\n\u001b[1;32m   1882\u001b[0m         \u001b[0mself\u001b[0m\u001b[0;34m.\u001b[0m\u001b[0m_make_train_function\u001b[0m\u001b[0;34m(\u001b[0m\u001b[0;34m)\u001b[0m\u001b[0;34m\u001b[0m\u001b[0m\n\u001b[0;32m-> 1883\u001b[0;31m         \u001b[0moutputs\u001b[0m \u001b[0;34m=\u001b[0m \u001b[0mself\u001b[0m\u001b[0;34m.\u001b[0m\u001b[0mtrain_function\u001b[0m\u001b[0;34m(\u001b[0m\u001b[0mins\u001b[0m\u001b[0;34m)\u001b[0m\u001b[0;34m\u001b[0m\u001b[0m\n\u001b[0m\u001b[1;32m   1884\u001b[0m         \u001b[0;32mif\u001b[0m \u001b[0mlen\u001b[0m\u001b[0;34m(\u001b[0m\u001b[0moutputs\u001b[0m\u001b[0;34m)\u001b[0m \u001b[0;34m==\u001b[0m \u001b[0;36m1\u001b[0m\u001b[0;34m:\u001b[0m\u001b[0;34m\u001b[0m\u001b[0m\n\u001b[1;32m   1885\u001b[0m             \u001b[0;32mreturn\u001b[0m \u001b[0moutputs\u001b[0m\u001b[0;34m[\u001b[0m\u001b[0;36m0\u001b[0m\u001b[0;34m]\u001b[0m\u001b[0;34m\u001b[0m\u001b[0m\n",
            "\u001b[0;32m/usr/local/lib/python3.6/dist-packages/keras/backend/tensorflow_backend.py\u001b[0m in \u001b[0;36m__call__\u001b[0;34m(self, inputs)\u001b[0m\n\u001b[1;32m   2480\u001b[0m         \u001b[0msession\u001b[0m \u001b[0;34m=\u001b[0m \u001b[0mget_session\u001b[0m\u001b[0;34m(\u001b[0m\u001b[0;34m)\u001b[0m\u001b[0;34m\u001b[0m\u001b[0m\n\u001b[1;32m   2481\u001b[0m         updated = session.run(fetches=fetches, feed_dict=feed_dict,\n\u001b[0;32m-> 2482\u001b[0;31m                               **self.session_kwargs)\n\u001b[0m\u001b[1;32m   2483\u001b[0m         \u001b[0;32mreturn\u001b[0m \u001b[0mupdated\u001b[0m\u001b[0;34m[\u001b[0m\u001b[0;34m:\u001b[0m\u001b[0mlen\u001b[0m\u001b[0;34m(\u001b[0m\u001b[0mself\u001b[0m\u001b[0;34m.\u001b[0m\u001b[0moutputs\u001b[0m\u001b[0;34m)\u001b[0m\u001b[0;34m]\u001b[0m\u001b[0;34m\u001b[0m\u001b[0m\n\u001b[1;32m   2484\u001b[0m \u001b[0;34m\u001b[0m\u001b[0m\n",
            "\u001b[0;32m/usr/local/lib/python3.6/dist-packages/tensorflow/python/client/session.py\u001b[0m in \u001b[0;36mrun\u001b[0;34m(self, fetches, feed_dict, options, run_metadata)\u001b[0m\n\u001b[1;32m    898\u001b[0m     \u001b[0;32mtry\u001b[0m\u001b[0;34m:\u001b[0m\u001b[0;34m\u001b[0m\u001b[0m\n\u001b[1;32m    899\u001b[0m       result = self._run(None, fetches, feed_dict, options_ptr,\n\u001b[0;32m--> 900\u001b[0;31m                          run_metadata_ptr)\n\u001b[0m\u001b[1;32m    901\u001b[0m       \u001b[0;32mif\u001b[0m \u001b[0mrun_metadata\u001b[0m\u001b[0;34m:\u001b[0m\u001b[0;34m\u001b[0m\u001b[0m\n\u001b[1;32m    902\u001b[0m         \u001b[0mproto_data\u001b[0m \u001b[0;34m=\u001b[0m \u001b[0mtf_session\u001b[0m\u001b[0;34m.\u001b[0m\u001b[0mTF_GetBuffer\u001b[0m\u001b[0;34m(\u001b[0m\u001b[0mrun_metadata_ptr\u001b[0m\u001b[0;34m)\u001b[0m\u001b[0;34m\u001b[0m\u001b[0m\n",
            "\u001b[0;32m/usr/local/lib/python3.6/dist-packages/tensorflow/python/client/session.py\u001b[0m in \u001b[0;36m_run\u001b[0;34m(self, handle, fetches, feed_dict, options, run_metadata)\u001b[0m\n\u001b[1;32m   1133\u001b[0m     \u001b[0;32mif\u001b[0m \u001b[0mfinal_fetches\u001b[0m \u001b[0;32mor\u001b[0m \u001b[0mfinal_targets\u001b[0m \u001b[0;32mor\u001b[0m \u001b[0;34m(\u001b[0m\u001b[0mhandle\u001b[0m \u001b[0;32mand\u001b[0m \u001b[0mfeed_dict_tensor\u001b[0m\u001b[0;34m)\u001b[0m\u001b[0;34m:\u001b[0m\u001b[0;34m\u001b[0m\u001b[0m\n\u001b[1;32m   1134\u001b[0m       results = self._do_run(handle, final_targets, final_fetches,\n\u001b[0;32m-> 1135\u001b[0;31m                              feed_dict_tensor, options, run_metadata)\n\u001b[0m\u001b[1;32m   1136\u001b[0m     \u001b[0;32melse\u001b[0m\u001b[0;34m:\u001b[0m\u001b[0;34m\u001b[0m\u001b[0m\n\u001b[1;32m   1137\u001b[0m       \u001b[0mresults\u001b[0m \u001b[0;34m=\u001b[0m \u001b[0;34m[\u001b[0m\u001b[0;34m]\u001b[0m\u001b[0;34m\u001b[0m\u001b[0m\n",
            "\u001b[0;32m/usr/local/lib/python3.6/dist-packages/tensorflow/python/client/session.py\u001b[0m in \u001b[0;36m_do_run\u001b[0;34m(self, handle, target_list, fetch_list, feed_dict, options, run_metadata)\u001b[0m\n\u001b[1;32m   1314\u001b[0m     \u001b[0;32mif\u001b[0m \u001b[0mhandle\u001b[0m \u001b[0;32mis\u001b[0m \u001b[0;32mNone\u001b[0m\u001b[0;34m:\u001b[0m\u001b[0;34m\u001b[0m\u001b[0m\n\u001b[1;32m   1315\u001b[0m       return self._do_call(_run_fn, feeds, fetches, targets, options,\n\u001b[0;32m-> 1316\u001b[0;31m                            run_metadata)\n\u001b[0m\u001b[1;32m   1317\u001b[0m     \u001b[0;32melse\u001b[0m\u001b[0;34m:\u001b[0m\u001b[0;34m\u001b[0m\u001b[0m\n\u001b[1;32m   1318\u001b[0m       \u001b[0;32mreturn\u001b[0m \u001b[0mself\u001b[0m\u001b[0;34m.\u001b[0m\u001b[0m_do_call\u001b[0m\u001b[0;34m(\u001b[0m\u001b[0m_prun_fn\u001b[0m\u001b[0;34m,\u001b[0m \u001b[0mhandle\u001b[0m\u001b[0;34m,\u001b[0m \u001b[0mfeeds\u001b[0m\u001b[0;34m,\u001b[0m \u001b[0mfetches\u001b[0m\u001b[0;34m)\u001b[0m\u001b[0;34m\u001b[0m\u001b[0m\n",
            "\u001b[0;32m/usr/local/lib/python3.6/dist-packages/tensorflow/python/client/session.py\u001b[0m in \u001b[0;36m_do_call\u001b[0;34m(self, fn, *args)\u001b[0m\n\u001b[1;32m   1320\u001b[0m   \u001b[0;32mdef\u001b[0m \u001b[0m_do_call\u001b[0m\u001b[0;34m(\u001b[0m\u001b[0mself\u001b[0m\u001b[0;34m,\u001b[0m \u001b[0mfn\u001b[0m\u001b[0;34m,\u001b[0m \u001b[0;34m*\u001b[0m\u001b[0margs\u001b[0m\u001b[0;34m)\u001b[0m\u001b[0;34m:\u001b[0m\u001b[0;34m\u001b[0m\u001b[0m\n\u001b[1;32m   1321\u001b[0m     \u001b[0;32mtry\u001b[0m\u001b[0;34m:\u001b[0m\u001b[0;34m\u001b[0m\u001b[0m\n\u001b[0;32m-> 1322\u001b[0;31m       \u001b[0;32mreturn\u001b[0m \u001b[0mfn\u001b[0m\u001b[0;34m(\u001b[0m\u001b[0;34m*\u001b[0m\u001b[0margs\u001b[0m\u001b[0;34m)\u001b[0m\u001b[0;34m\u001b[0m\u001b[0m\n\u001b[0m\u001b[1;32m   1323\u001b[0m     \u001b[0;32mexcept\u001b[0m \u001b[0merrors\u001b[0m\u001b[0;34m.\u001b[0m\u001b[0mOpError\u001b[0m \u001b[0;32mas\u001b[0m \u001b[0me\u001b[0m\u001b[0;34m:\u001b[0m\u001b[0;34m\u001b[0m\u001b[0m\n\u001b[1;32m   1324\u001b[0m       \u001b[0mmessage\u001b[0m \u001b[0;34m=\u001b[0m \u001b[0mcompat\u001b[0m\u001b[0;34m.\u001b[0m\u001b[0mas_text\u001b[0m\u001b[0;34m(\u001b[0m\u001b[0me\u001b[0m\u001b[0;34m.\u001b[0m\u001b[0mmessage\u001b[0m\u001b[0;34m)\u001b[0m\u001b[0;34m\u001b[0m\u001b[0m\n",
            "\u001b[0;32m/usr/local/lib/python3.6/dist-packages/tensorflow/python/client/session.py\u001b[0m in \u001b[0;36m_run_fn\u001b[0;34m(feed_dict, fetch_list, target_list, options, run_metadata)\u001b[0m\n\u001b[1;32m   1305\u001b[0m       \u001b[0mself\u001b[0m\u001b[0;34m.\u001b[0m\u001b[0m_extend_graph\u001b[0m\u001b[0;34m(\u001b[0m\u001b[0;34m)\u001b[0m\u001b[0;34m\u001b[0m\u001b[0m\n\u001b[1;32m   1306\u001b[0m       return self._call_tf_sessionrun(\n\u001b[0;32m-> 1307\u001b[0;31m           options, feed_dict, fetch_list, target_list, run_metadata)\n\u001b[0m\u001b[1;32m   1308\u001b[0m \u001b[0;34m\u001b[0m\u001b[0m\n\u001b[1;32m   1309\u001b[0m     \u001b[0;32mdef\u001b[0m \u001b[0m_prun_fn\u001b[0m\u001b[0;34m(\u001b[0m\u001b[0mhandle\u001b[0m\u001b[0;34m,\u001b[0m \u001b[0mfeed_dict\u001b[0m\u001b[0;34m,\u001b[0m \u001b[0mfetch_list\u001b[0m\u001b[0;34m)\u001b[0m\u001b[0;34m:\u001b[0m\u001b[0;34m\u001b[0m\u001b[0m\n",
            "\u001b[0;32m/usr/local/lib/python3.6/dist-packages/tensorflow/python/client/session.py\u001b[0m in \u001b[0;36m_call_tf_sessionrun\u001b[0;34m(self, options, feed_dict, fetch_list, target_list, run_metadata)\u001b[0m\n\u001b[1;32m   1407\u001b[0m       return tf_session.TF_SessionRun_wrapper(\n\u001b[1;32m   1408\u001b[0m           \u001b[0mself\u001b[0m\u001b[0;34m.\u001b[0m\u001b[0m_session\u001b[0m\u001b[0;34m,\u001b[0m \u001b[0moptions\u001b[0m\u001b[0;34m,\u001b[0m \u001b[0mfeed_dict\u001b[0m\u001b[0;34m,\u001b[0m \u001b[0mfetch_list\u001b[0m\u001b[0;34m,\u001b[0m \u001b[0mtarget_list\u001b[0m\u001b[0;34m,\u001b[0m\u001b[0;34m\u001b[0m\u001b[0m\n\u001b[0;32m-> 1409\u001b[0;31m           run_metadata)\n\u001b[0m\u001b[1;32m   1410\u001b[0m     \u001b[0;32melse\u001b[0m\u001b[0;34m:\u001b[0m\u001b[0;34m\u001b[0m\u001b[0m\n\u001b[1;32m   1411\u001b[0m       \u001b[0;32mwith\u001b[0m \u001b[0merrors\u001b[0m\u001b[0;34m.\u001b[0m\u001b[0mraise_exception_on_not_ok_status\u001b[0m\u001b[0;34m(\u001b[0m\u001b[0;34m)\u001b[0m \u001b[0;32mas\u001b[0m \u001b[0mstatus\u001b[0m\u001b[0;34m:\u001b[0m\u001b[0;34m\u001b[0m\u001b[0m\n",
            "\u001b[0;31mKeyboardInterrupt\u001b[0m: "
          ]
        }
      ]
    }
  ]
}