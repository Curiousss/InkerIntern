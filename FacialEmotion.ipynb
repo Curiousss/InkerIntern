{
  "nbformat": 4,
  "nbformat_minor": 0,
  "metadata": {
    "colab": {
      "name": "FacialEmotion.ipynb",
      "version": "0.3.2",
      "provenance": [],
      "collapsed_sections": [],
      "include_colab_link": true
    },
    "kernelspec": {
      "display_name": "Python 3",
      "language": "python",
      "name": "python3"
    },
    "accelerator": "GPU"
  },
  "cells": [
    {
      "cell_type": "markdown",
      "metadata": {
        "id": "view-in-github",
        "colab_type": "text"
      },
      "source": [
        "[View in Colaboratory](https://colab.research.google.com/github/Curiousss/InkerIntern/blob/master/FacialEmotion.ipynb)"
      ]
    },
    {
      "metadata": {
        "id": "kI81U2jSerIq",
        "colab_type": "code",
        "colab": {}
      },
      "cell_type": "code",
      "source": [
        "'''\n",
        "https://github.com/zlpure/Facial-Expression-Recognition\n",
        "- Loading the model from json file\n",
        "- test with and without TF_ENABLE_WINOGRAD_NONFUSED\n",
        "'''"
      ],
      "execution_count": 0,
      "outputs": []
    },
    {
      "metadata": {
        "id": "dlL47WoMWU86",
        "colab_type": "code",
        "colab": {
          "resources": {
            "http://localhost:8080/nbextensions/google.colab/files.js": {
              "data": "Ly8gQ29weXJpZ2h0IDIwMTcgR29vZ2xlIExMQwovLwovLyBMaWNlbnNlZCB1bmRlciB0aGUgQXBhY2hlIExpY2Vuc2UsIFZlcnNpb24gMi4wICh0aGUgIkxpY2Vuc2UiKTsKLy8geW91IG1heSBub3QgdXNlIHRoaXMgZmlsZSBleGNlcHQgaW4gY29tcGxpYW5jZSB3aXRoIHRoZSBMaWNlbnNlLgovLyBZb3UgbWF5IG9idGFpbiBhIGNvcHkgb2YgdGhlIExpY2Vuc2UgYXQKLy8KLy8gICAgICBodHRwOi8vd3d3LmFwYWNoZS5vcmcvbGljZW5zZXMvTElDRU5TRS0yLjAKLy8KLy8gVW5sZXNzIHJlcXVpcmVkIGJ5IGFwcGxpY2FibGUgbGF3IG9yIGFncmVlZCB0byBpbiB3cml0aW5nLCBzb2Z0d2FyZQovLyBkaXN0cmlidXRlZCB1bmRlciB0aGUgTGljZW5zZSBpcyBkaXN0cmlidXRlZCBvbiBhbiAiQVMgSVMiIEJBU0lTLAovLyBXSVRIT1VUIFdBUlJBTlRJRVMgT1IgQ09ORElUSU9OUyBPRiBBTlkgS0lORCwgZWl0aGVyIGV4cHJlc3Mgb3IgaW1wbGllZC4KLy8gU2VlIHRoZSBMaWNlbnNlIGZvciB0aGUgc3BlY2lmaWMgbGFuZ3VhZ2UgZ292ZXJuaW5nIHBlcm1pc3Npb25zIGFuZAovLyBsaW1pdGF0aW9ucyB1bmRlciB0aGUgTGljZW5zZS4KCi8qKgogKiBAZmlsZW92ZXJ2aWV3IEhlbHBlcnMgZm9yIGdvb2dsZS5jb2xhYiBQeXRob24gbW9kdWxlLgogKi8KKGZ1bmN0aW9uKHNjb3BlKSB7CmZ1bmN0aW9uIHNwYW4odGV4dCwgc3R5bGVBdHRyaWJ1dGVzID0ge30pIHsKICBjb25zdCBlbGVtZW50ID0gZG9jdW1lbnQuY3JlYXRlRWxlbWVudCgnc3BhbicpOwogIGVsZW1lbnQudGV4dENvbnRlbnQgPSB0ZXh0OwogIGZvciAoY29uc3Qga2V5IG9mIE9iamVjdC5rZXlzKHN0eWxlQXR0cmlidXRlcykpIHsKICAgIGVsZW1lbnQuc3R5bGVba2V5XSA9IHN0eWxlQXR0cmlidXRlc1trZXldOwogIH0KICByZXR1cm4gZWxlbWVudDsKfQoKLy8gTWF4IG51bWJlciBvZiBieXRlcyB3aGljaCB3aWxsIGJlIHVwbG9hZGVkIGF0IGEgdGltZS4KY29uc3QgTUFYX1BBWUxPQURfU0laRSA9IDEwMCAqIDEwMjQ7Ci8vIE1heCBhbW91bnQgb2YgdGltZSB0byBibG9jayB3YWl0aW5nIGZvciB0aGUgdXNlci4KY29uc3QgRklMRV9DSEFOR0VfVElNRU9VVF9NUyA9IDMwICogMTAwMDsKCmZ1bmN0aW9uIF91cGxvYWRGaWxlcyhpbnB1dElkLCBvdXRwdXRJZCkgewogIGNvbnN0IHN0ZXBzID0gdXBsb2FkRmlsZXNTdGVwKGlucHV0SWQsIG91dHB1dElkKTsKICBjb25zdCBvdXRwdXRFbGVtZW50ID0gZG9jdW1lbnQuZ2V0RWxlbWVudEJ5SWQob3V0cHV0SWQpOwogIC8vIENhY2hlIHN0ZXBzIG9uIHRoZSBvdXRwdXRFbGVtZW50IHRvIG1ha2UgaXQgYXZhaWxhYmxlIGZvciB0aGUgbmV4dCBjYWxsCiAgLy8gdG8gdXBsb2FkRmlsZXNDb250aW51ZSBmcm9tIFB5dGhvbi4KICBvdXRwdXRFbGVtZW50LnN0ZXBzID0gc3RlcHM7CgogIHJldHVybiBfdXBsb2FkRmlsZXNDb250aW51ZShvdXRwdXRJZCk7Cn0KCi8vIFRoaXMgaXMgcm91Z2hseSBhbiBhc3luYyBnZW5lcmF0b3IgKG5vdCBzdXBwb3J0ZWQgaW4gdGhlIGJyb3dzZXIgeWV0KSwKLy8gd2hlcmUgdGhlcmUgYXJlIG11bHRpcGxlIGFzeW5jaHJvbm91cyBzdGVwcyBhbmQgdGhlIFB5dGhvbiBzaWRlIGlzIGdvaW5nCi8vIHRvIHBvbGwgZm9yIGNvbXBsZXRpb24gb2YgZWFjaCBzdGVwLgovLyBUaGlzIHVzZXMgYSBQcm9taXNlIHRvIGJsb2NrIHRoZSBweXRob24gc2lkZSBvbiBjb21wbGV0aW9uIG9mIGVhY2ggc3RlcCwKLy8gdGhlbiBwYXNzZXMgdGhlIHJlc3VsdCBvZiB0aGUgcHJldmlvdXMgc3RlcCBhcyB0aGUgaW5wdXQgdG8gdGhlIG5leHQgc3RlcC4KZnVuY3Rpb24gX3VwbG9hZEZpbGVzQ29udGludWUob3V0cHV0SWQpIHsKICBjb25zdCBvdXRwdXRFbGVtZW50ID0gZG9jdW1lbnQuZ2V0RWxlbWVudEJ5SWQob3V0cHV0SWQpOwogIGNvbnN0IHN0ZXBzID0gb3V0cHV0RWxlbWVudC5zdGVwczsKCiAgY29uc3QgbmV4dCA9IHN0ZXBzLm5leHQob3V0cHV0RWxlbWVudC5sYXN0UHJvbWlzZVZhbHVlKTsKICByZXR1cm4gUHJvbWlzZS5yZXNvbHZlKG5leHQudmFsdWUucHJvbWlzZSkudGhlbigodmFsdWUpID0+IHsKICAgIC8vIENhY2hlIHRoZSBsYXN0IHByb21pc2UgdmFsdWUgdG8gbWFrZSBpdCBhdmFpbGFibGUgdG8gdGhlIG5leHQKICAgIC8vIHN0ZXAgb2YgdGhlIGdlbmVyYXRvci4KICAgIG91dHB1dEVsZW1lbnQubGFzdFByb21pc2VWYWx1ZSA9IHZhbHVlOwogICAgcmV0dXJuIG5leHQudmFsdWUucmVzcG9uc2U7CiAgfSk7Cn0KCi8qKgogKiBHZW5lcmF0b3IgZnVuY3Rpb24gd2hpY2ggaXMgY2FsbGVkIGJldHdlZW4gZWFjaCBhc3luYyBzdGVwIG9mIHRoZSB1cGxvYWQKICogcHJvY2Vzcy4KICogQHBhcmFtIHtzdHJpbmd9IGlucHV0SWQgRWxlbWVudCBJRCBvZiB0aGUgaW5wdXQgZmlsZSBwaWNrZXIgZWxlbWVudC4KICogQHBhcmFtIHtzdHJpbmd9IG91dHB1dElkIEVsZW1lbnQgSUQgb2YgdGhlIG91dHB1dCBkaXNwbGF5LgogKiBAcmV0dXJuIHshSXRlcmFibGU8IU9iamVjdD59IEl0ZXJhYmxlIG9mIG5leHQgc3RlcHMuCiAqLwpmdW5jdGlvbiogdXBsb2FkRmlsZXNTdGVwKGlucHV0SWQsIG91dHB1dElkKSB7CiAgY29uc3QgaW5wdXRFbGVtZW50ID0gZG9jdW1lbnQuZ2V0RWxlbWVudEJ5SWQoaW5wdXRJZCk7CiAgaW5wdXRFbGVtZW50LmRpc2FibGVkID0gZmFsc2U7CgogIGNvbnN0IG91dHB1dEVsZW1lbnQgPSBkb2N1bWVudC5nZXRFbGVtZW50QnlJZChvdXRwdXRJZCk7CiAgb3V0cHV0RWxlbWVudC5pbm5lckhUTUwgPSAnJzsKCiAgY29uc3QgcGlja2VkUHJvbWlzZSA9IG5ldyBQcm9taXNlKChyZXNvbHZlKSA9PiB7CiAgICBpbnB1dEVsZW1lbnQuYWRkRXZlbnRMaXN0ZW5lcignY2hhbmdlJywgKGUpID0+IHsKICAgICAgcmVzb2x2ZShlLnRhcmdldC5maWxlcyk7CiAgICB9KTsKICB9KTsKCiAgY29uc3QgY2FuY2VsID0gZG9jdW1lbnQuY3JlYXRlRWxlbWVudCgnYnV0dG9uJyk7CiAgaW5wdXRFbGVtZW50LnBhcmVudEVsZW1lbnQuYXBwZW5kQ2hpbGQoY2FuY2VsKTsKICBjYW5jZWwudGV4dENvbnRlbnQgPSAnQ2FuY2VsIHVwbG9hZCc7CiAgY29uc3QgY2FuY2VsUHJvbWlzZSA9IG5ldyBQcm9taXNlKChyZXNvbHZlKSA9PiB7CiAgICBjYW5jZWwub25jbGljayA9ICgpID0+IHsKICAgICAgcmVzb2x2ZShudWxsKTsKICAgIH07CiAgfSk7CgogIC8vIENhbmNlbCB1cGxvYWQgaWYgdXNlciBoYXNuJ3QgcGlja2VkIGFueXRoaW5nIGluIHRpbWVvdXQuCiAgY29uc3QgdGltZW91dFByb21pc2UgPSBuZXcgUHJvbWlzZSgocmVzb2x2ZSkgPT4gewogICAgc2V0VGltZW91dCgoKSA9PiB7CiAgICAgIHJlc29sdmUobnVsbCk7CiAgICB9LCBGSUxFX0NIQU5HRV9USU1FT1VUX01TKTsKICB9KTsKCiAgLy8gV2FpdCBmb3IgdGhlIHVzZXIgdG8gcGljayB0aGUgZmlsZXMuCiAgY29uc3QgZmlsZXMgPSB5aWVsZCB7CiAgICBwcm9taXNlOiBQcm9taXNlLnJhY2UoW3BpY2tlZFByb21pc2UsIHRpbWVvdXRQcm9taXNlLCBjYW5jZWxQcm9taXNlXSksCiAgICByZXNwb25zZTogewogICAgICBhY3Rpb246ICdzdGFydGluZycsCiAgICB9CiAgfTsKCiAgaWYgKCFmaWxlcykgewogICAgcmV0dXJuIHsKICAgICAgcmVzcG9uc2U6IHsKICAgICAgICBhY3Rpb246ICdjb21wbGV0ZScsCiAgICAgIH0KICAgIH07CiAgfQoKICBjYW5jZWwucmVtb3ZlKCk7CgogIC8vIERpc2FibGUgdGhlIGlucHV0IGVsZW1lbnQgc2luY2UgZnVydGhlciBwaWNrcyBhcmUgbm90IGFsbG93ZWQuCiAgaW5wdXRFbGVtZW50LmRpc2FibGVkID0gdHJ1ZTsKCiAgZm9yIChjb25zdCBmaWxlIG9mIGZpbGVzKSB7CiAgICBjb25zdCBsaSA9IGRvY3VtZW50LmNyZWF0ZUVsZW1lbnQoJ2xpJyk7CiAgICBsaS5hcHBlbmQoc3BhbihmaWxlLm5hbWUsIHtmb250V2VpZ2h0OiAnYm9sZCd9KSk7CiAgICBsaS5hcHBlbmQoc3BhbigKICAgICAgICBgKCR7ZmlsZS50eXBlIHx8ICduL2EnfSkgLSAke2ZpbGUuc2l6ZX0gYnl0ZXMsIGAgKwogICAgICAgIGBsYXN0IG1vZGlmaWVkOiAkewogICAgICAgICAgICBmaWxlLmxhc3RNb2RpZmllZERhdGUgPyBmaWxlLmxhc3RNb2RpZmllZERhdGUudG9Mb2NhbGVEYXRlU3RyaW5nKCkgOgogICAgICAgICAgICAgICAgICAgICAgICAgICAgICAgICAgICAnbi9hJ30gLSBgKSk7CiAgICBjb25zdCBwZXJjZW50ID0gc3BhbignMCUgZG9uZScpOwogICAgbGkuYXBwZW5kQ2hpbGQocGVyY2VudCk7CgogICAgb3V0cHV0RWxlbWVudC5hcHBlbmRDaGlsZChsaSk7CgogICAgY29uc3QgZmlsZURhdGFQcm9taXNlID0gbmV3IFByb21pc2UoKHJlc29sdmUpID0+IHsKICAgICAgY29uc3QgcmVhZGVyID0gbmV3IEZpbGVSZWFkZXIoKTsKICAgICAgcmVhZGVyLm9ubG9hZCA9IChlKSA9PiB7CiAgICAgICAgcmVzb2x2ZShlLnRhcmdldC5yZXN1bHQpOwogICAgICB9OwogICAgICByZWFkZXIucmVhZEFzQXJyYXlCdWZmZXIoZmlsZSk7CiAgICB9KTsKICAgIC8vIFdhaXQgZm9yIHRoZSBkYXRhIHRvIGJlIHJlYWR5LgogICAgbGV0IGZpbGVEYXRhID0geWllbGQgewogICAgICBwcm9taXNlOiBmaWxlRGF0YVByb21pc2UsCiAgICAgIHJlc3BvbnNlOiB7CiAgICAgICAgYWN0aW9uOiAnY29udGludWUnLAogICAgICB9CiAgICB9OwoKICAgIC8vIFVzZSBhIGNodW5rZWQgc2VuZGluZyB0byBhdm9pZCBtZXNzYWdlIHNpemUgbGltaXRzLiBTZWUgYi82MjExNTY2MC4KICAgIGxldCBwb3NpdGlvbiA9IDA7CiAgICB3aGlsZSAocG9zaXRpb24gPCBmaWxlRGF0YS5ieXRlTGVuZ3RoKSB7CiAgICAgIGNvbnN0IGxlbmd0aCA9IE1hdGgubWluKGZpbGVEYXRhLmJ5dGVMZW5ndGggLSBwb3NpdGlvbiwgTUFYX1BBWUxPQURfU0laRSk7CiAgICAgIGNvbnN0IGNodW5rID0gbmV3IFVpbnQ4QXJyYXkoZmlsZURhdGEsIHBvc2l0aW9uLCBsZW5ndGgpOwogICAgICBwb3NpdGlvbiArPSBsZW5ndGg7CgogICAgICBjb25zdCBiYXNlNjQgPSBidG9hKFN0cmluZy5mcm9tQ2hhckNvZGUuYXBwbHkobnVsbCwgY2h1bmspKTsKICAgICAgeWllbGQgewogICAgICAgIHJlc3BvbnNlOiB7CiAgICAgICAgICBhY3Rpb246ICdhcHBlbmQnLAogICAgICAgICAgZmlsZTogZmlsZS5uYW1lLAogICAgICAgICAgZGF0YTogYmFzZTY0LAogICAgICAgIH0sCiAgICAgIH07CiAgICAgIHBlcmNlbnQudGV4dENvbnRlbnQgPQogICAgICAgICAgYCR7TWF0aC5yb3VuZCgocG9zaXRpb24gLyBmaWxlRGF0YS5ieXRlTGVuZ3RoKSAqIDEwMCl9JSBkb25lYDsKICAgIH0KICB9CgogIC8vIEFsbCBkb25lLgogIHlpZWxkIHsKICAgIHJlc3BvbnNlOiB7CiAgICAgIGFjdGlvbjogJ2NvbXBsZXRlJywKICAgIH0KICB9Owp9CgpzY29wZS5nb29nbGUgPSBzY29wZS5nb29nbGUgfHwge307CnNjb3BlLmdvb2dsZS5jb2xhYiA9IHNjb3BlLmdvb2dsZS5jb2xhYiB8fCB7fTsKc2NvcGUuZ29vZ2xlLmNvbGFiLl9maWxlcyA9IHsKICBfdXBsb2FkRmlsZXMsCiAgX3VwbG9hZEZpbGVzQ29udGludWUsCn07Cn0pKHNlbGYpOwo=",
              "ok": true,
              "headers": [
                [
                  "content-type",
                  "application/javascript"
                ]
              ],
              "status": 200,
              "status_text": ""
            }
          },
          "base_uri": "https://localhost:8080/",
          "height": 73
        },
        "outputId": "da302b0d-2344-4e53-edc9-249b7d297c66"
      },
      "cell_type": "code",
      "source": [
        "from google.colab import files\n",
        "uploaded = files.upload()"
      ],
      "execution_count": 1,
      "outputs": [
        {
          "output_type": "display_data",
          "data": {
            "text/html": [
              "\n",
              "     <input type=\"file\" id=\"files-22f3372e-438c-4610-b6c1-37dadcebf3bd\" name=\"files[]\" multiple disabled />\n",
              "     <output id=\"result-22f3372e-438c-4610-b6c1-37dadcebf3bd\">\n",
              "      Upload widget is only available when the cell has been executed in the\n",
              "      current browser session. Please rerun this cell to enable.\n",
              "      </output>\n",
              "      <script src=\"/nbextensions/google.colab/files.js\"></script> "
            ],
            "text/plain": [
              "<IPython.core.display.HTML object>"
            ]
          },
          "metadata": {
            "tags": []
          }
        },
        {
          "output_type": "stream",
          "text": [
            "Saving fer2013.tar to fer2013.tar\n"
          ],
          "name": "stdout"
        }
      ]
    },
    {
      "metadata": {
        "id": "zAvnxR8xdGvQ",
        "colab_type": "code",
        "colab": {}
      },
      "cell_type": "code",
      "source": [
        "!tar -xf fer2013.tar"
      ],
      "execution_count": 0,
      "outputs": []
    },
    {
      "metadata": {
        "id": "EnIMDTxtofYE",
        "colab_type": "code",
        "colab": {
          "base_uri": "https://localhost:8080/",
          "height": 90
        },
        "outputId": "31a4b30e-7144-43bf-dda8-056d0777b901"
      },
      "cell_type": "code",
      "source": [
        "!git clone https://github.com/zlpure/Facial-Expression-Recognition.git"
      ],
      "execution_count": 3,
      "outputs": [
        {
          "output_type": "stream",
          "text": [
            "Cloning into 'Facial-Expression-Recognition'...\n",
            "remote: Counting objects: 28, done.\u001b[K\n",
            "remote: Total 28 (delta 0), reused 0 (delta 0), pack-reused 28\u001b[K\n",
            "Unpacking objects: 100% (28/28), done.\n"
          ],
          "name": "stdout"
        }
      ]
    },
    {
      "metadata": {
        "id": "ZQczvRmConZN",
        "colab_type": "code",
        "colab": {
          "base_uri": "https://localhost:8080/",
          "height": 35
        },
        "outputId": "59434143-393e-4075-e4e0-2b2ccdbf576f"
      },
      "cell_type": "code",
      "source": [
        "!ls Facial-Expression-Recognition/"
      ],
      "execution_count": 12,
      "outputs": [
        {
          "output_type": "stream",
          "text": [
            "convnet.png  face_picture.png  LICENSE\tmodel.json  README.md  weights.hdf5\r\n"
          ],
          "name": "stdout"
        }
      ]
    },
    {
      "metadata": {
        "id": "8QT5wSabthrQ",
        "colab_type": "code",
        "colab": {}
      },
      "cell_type": "code",
      "source": [
        "import csv\n",
        "f = open('fer2013/fer2013.csv')\n",
        "csv_f = csv.reader(f)\n",
        "\n",
        "train_x = []\n",
        "train_y = []\n",
        "val_x =[]\n",
        "val_y =[]\n"
      ],
      "execution_count": 0,
      "outputs": []
    },
    {
      "metadata": {
        "id": "QikVeMiNtsmf",
        "colab_type": "code",
        "colab": {}
      },
      "cell_type": "code",
      "source": [
        "num=0\n",
        "for row in csv_f:\n",
        "  num = num +1\n",
        "  #print(num)\n",
        "  temp_list = []\n",
        "  for pixel in row[1].split( ):\n",
        "    temp_list.append(int(pixel))\n",
        "\n",
        "  if str(row[2]) == \"Training\":\n",
        "    train_y.append(int(row[0]))\n",
        "    train_x.append(temp_list)\n",
        "  elif str(row[2]) == \"PublicTest\":\n",
        "    val_y.append(int(row[0]))\n",
        "    val_x.append(temp_list)"
      ],
      "execution_count": 0,
      "outputs": []
    },
    {
      "metadata": {
        "id": "EcSxWSVjbd2n",
        "colab_type": "code",
        "colab": {}
      },
      "cell_type": "code",
      "source": [
        "import numpy as np\n",
        "train_x = np.asarray(train_x)\n",
        "train_y = np.asarray(train_y)\n",
        "val_x =np.asarray(val_x)\n",
        "val_y =np.asarray(val_y)"
      ],
      "execution_count": 0,
      "outputs": []
    },
    {
      "metadata": {
        "id": "bd-_MnXVRIu6",
        "colab_type": "code",
        "colab": {}
      },
      "cell_type": "code",
      "source": [
        "from keras.utils import np_utils\n",
        "train_x = train_x.reshape(train_x.shape[0],48,48)\n",
        "train_x = train_x.reshape(train_x.shape[0], 1, 48, 48)\n",
        "train_y = np_utils.to_categorical(train_y, 7)\n",
        "val_x = val_x.reshape(val_x.shape[0],48,48)\n",
        "val_x = val_x.reshape(val_x.shape[0], 1, 48, 48)\n",
        "val_y = np_utils.to_categorical(val_y, 7)"
      ],
      "execution_count": 0,
      "outputs": []
    },
    {
      "metadata": {
        "id": "1F98SmhWjNb8",
        "colab_type": "code",
        "colab": {
          "base_uri": "https://localhost:8080/",
          "height": 1201
        },
        "outputId": "2e66954d-c7b5-4338-c67a-9e473a0f92df"
      },
      "cell_type": "code",
      "source": [
        "from keras.models import model_from_json\n",
        "with open('Facial-Expression-Recognition/model.json', 'r') as f:\n",
        "    model = model_from_json(f.read())\n",
        "    #model.load_weights('Facial-Expression-Recognition/weights.hdf5')\n",
        "\n",
        "#model.summary()\n"
      ],
      "execution_count": 30,
      "outputs": [
        {
          "output_type": "stream",
          "text": [
            "/usr/local/lib/python3.6/dist-packages/keras/engine/topology.py:1271: UserWarning: Update your `Conv2D` call to the Keras 2 API: `Conv2D(name=\"convolution2d_1\", activity_regularizer=None, trainable=True, input_dtype=\"float32\", batch_input_shape=[None, 1, ..., activation=\"linear\", kernel_size=(3, 3), filters=64, strides=[1, 1], padding=\"same\", data_format=\"channels_first\", kernel_initializer=\"he_normal\", kernel_regularizer=None, bias_regularizer=None, kernel_constraint=None, bias_constraint=None, use_bias=True)`\n",
            "  return cls(**config)\n",
            "/usr/local/lib/python3.6/dist-packages/keras/engine/topology.py:1271: UserWarning: Update your `PReLU` call to the Keras 2 API: `PReLU(trainable=True, name=\"prelu_1\", alpha_initializer=\"zero\")`\n",
            "  return cls(**config)\n",
            "/usr/local/lib/python3.6/dist-packages/keras/engine/topology.py:1271: UserWarning: Update your `BatchNormalization` call to the Keras 2 API: `BatchNormalization(name=\"batchnormalization_1\", epsilon=1e-06, trainable=True, momentum=0.9, axis=-1)`\n",
            "  return cls(**config)\n",
            "/usr/local/lib/python3.6/dist-packages/keras/engine/topology.py:1271: UserWarning: Update your `Conv2D` call to the Keras 2 API: `Conv2D(name=\"convolution2d_2\", activity_regularizer=None, trainable=True, activation=\"linear\", kernel_size=(3, 3), filters=64, strides=[1, 1], padding=\"same\", data_format=\"channels_first\", kernel_initializer=\"he_normal\", kernel_regularizer=None, bias_regularizer=None, kernel_constraint=None, bias_constraint=None, use_bias=True)`\n",
            "  return cls(**config)\n",
            "/usr/local/lib/python3.6/dist-packages/keras/engine/topology.py:1271: UserWarning: Update your `PReLU` call to the Keras 2 API: `PReLU(trainable=True, name=\"prelu_2\", alpha_initializer=\"zero\")`\n",
            "  return cls(**config)\n",
            "/usr/local/lib/python3.6/dist-packages/keras/engine/topology.py:1271: UserWarning: Update your `BatchNormalization` call to the Keras 2 API: `BatchNormalization(name=\"batchnormalization_2\", epsilon=1e-06, trainable=True, momentum=0.9, axis=-1)`\n",
            "  return cls(**config)\n",
            "/usr/local/lib/python3.6/dist-packages/keras/engine/topology.py:1271: UserWarning: Update your `MaxPooling2D` call to the Keras 2 API: `MaxPooling2D(name=\"maxpooling2d_1\", trainable=True, pool_size=[2, 2], strides=[2, 2], padding=\"valid\", data_format=\"channels_first\")`\n",
            "  return cls(**config)\n",
            "/usr/local/lib/python3.6/dist-packages/keras/engine/topology.py:1271: UserWarning: Update your `Conv2D` call to the Keras 2 API: `Conv2D(name=\"convolution2d_3\", activity_regularizer=None, trainable=True, activation=\"linear\", kernel_size=(3, 3), filters=128, strides=[1, 1], padding=\"same\", data_format=\"channels_first\", kernel_initializer=\"he_normal\", kernel_regularizer=None, bias_regularizer=None, kernel_constraint=None, bias_constraint=None, use_bias=True)`\n",
            "  return cls(**config)\n",
            "/usr/local/lib/python3.6/dist-packages/keras/engine/topology.py:1271: UserWarning: Update your `PReLU` call to the Keras 2 API: `PReLU(trainable=True, name=\"prelu_3\", alpha_initializer=\"zero\")`\n",
            "  return cls(**config)\n",
            "/usr/local/lib/python3.6/dist-packages/keras/engine/topology.py:1271: UserWarning: Update your `BatchNormalization` call to the Keras 2 API: `BatchNormalization(name=\"batchnormalization_3\", epsilon=1e-06, trainable=True, momentum=0.9, axis=-1)`\n",
            "  return cls(**config)\n",
            "/usr/local/lib/python3.6/dist-packages/keras/engine/topology.py:1271: UserWarning: Update your `Conv2D` call to the Keras 2 API: `Conv2D(name=\"convolution2d_4\", activity_regularizer=None, trainable=True, activation=\"linear\", kernel_size=(3, 3), filters=128, strides=[1, 1], padding=\"same\", data_format=\"channels_first\", kernel_initializer=\"he_normal\", kernel_regularizer=None, bias_regularizer=None, kernel_constraint=None, bias_constraint=None, use_bias=True)`\n",
            "  return cls(**config)\n",
            "/usr/local/lib/python3.6/dist-packages/keras/engine/topology.py:1271: UserWarning: Update your `PReLU` call to the Keras 2 API: `PReLU(trainable=True, name=\"prelu_4\", alpha_initializer=\"zero\")`\n",
            "  return cls(**config)\n",
            "/usr/local/lib/python3.6/dist-packages/keras/engine/topology.py:1271: UserWarning: Update your `BatchNormalization` call to the Keras 2 API: `BatchNormalization(name=\"batchnormalization_4\", epsilon=1e-06, trainable=True, momentum=0.9, axis=-1)`\n",
            "  return cls(**config)\n",
            "/usr/local/lib/python3.6/dist-packages/keras/engine/topology.py:1271: UserWarning: Update your `MaxPooling2D` call to the Keras 2 API: `MaxPooling2D(name=\"maxpooling2d_2\", trainable=True, pool_size=[2, 2], strides=[2, 2], padding=\"valid\", data_format=\"channels_first\")`\n",
            "  return cls(**config)\n",
            "/usr/local/lib/python3.6/dist-packages/keras/engine/topology.py:1271: UserWarning: Update your `Dropout` call to the Keras 2 API: `Dropout(trainable=True, name=\"dropout_1\", rate=0.2)`\n",
            "  return cls(**config)\n",
            "/usr/local/lib/python3.6/dist-packages/keras/engine/topology.py:1271: UserWarning: Update your `Conv2D` call to the Keras 2 API: `Conv2D(name=\"convolution2d_5\", activity_regularizer=None, trainable=True, activation=\"linear\", kernel_size=(3, 3), filters=256, strides=[1, 1], padding=\"same\", data_format=\"channels_first\", kernel_initializer=\"he_normal\", kernel_regularizer=None, bias_regularizer=None, kernel_constraint=None, bias_constraint=None, use_bias=True)`\n",
            "  return cls(**config)\n",
            "/usr/local/lib/python3.6/dist-packages/keras/engine/topology.py:1271: UserWarning: Update your `PReLU` call to the Keras 2 API: `PReLU(trainable=True, name=\"prelu_5\", alpha_initializer=\"zero\")`\n",
            "  return cls(**config)\n",
            "/usr/local/lib/python3.6/dist-packages/keras/engine/topology.py:1271: UserWarning: Update your `BatchNormalization` call to the Keras 2 API: `BatchNormalization(name=\"batchnormalization_5\", epsilon=1e-06, trainable=True, momentum=0.9, axis=-1)`\n",
            "  return cls(**config)\n",
            "/usr/local/lib/python3.6/dist-packages/keras/engine/topology.py:1271: UserWarning: Update your `Conv2D` call to the Keras 2 API: `Conv2D(name=\"convolution2d_6\", activity_regularizer=None, trainable=True, activation=\"linear\", kernel_size=(3, 3), filters=256, strides=[1, 1], padding=\"same\", data_format=\"channels_first\", kernel_initializer=\"he_normal\", kernel_regularizer=None, bias_regularizer=None, kernel_constraint=None, bias_constraint=None, use_bias=True)`\n",
            "  return cls(**config)\n",
            "/usr/local/lib/python3.6/dist-packages/keras/engine/topology.py:1271: UserWarning: Update your `PReLU` call to the Keras 2 API: `PReLU(trainable=True, name=\"prelu_6\", alpha_initializer=\"zero\")`\n",
            "  return cls(**config)\n",
            "/usr/local/lib/python3.6/dist-packages/keras/engine/topology.py:1271: UserWarning: Update your `BatchNormalization` call to the Keras 2 API: `BatchNormalization(name=\"batchnormalization_6\", epsilon=1e-06, trainable=True, momentum=0.9, axis=-1)`\n",
            "  return cls(**config)\n",
            "/usr/local/lib/python3.6/dist-packages/keras/engine/topology.py:1271: UserWarning: Update your `MaxPooling2D` call to the Keras 2 API: `MaxPooling2D(name=\"maxpooling2d_3\", trainable=True, pool_size=[2, 2], strides=[2, 2], padding=\"valid\", data_format=\"channels_first\")`\n",
            "  return cls(**config)\n",
            "/usr/local/lib/python3.6/dist-packages/keras/engine/topology.py:1271: UserWarning: Update your `Dropout` call to the Keras 2 API: `Dropout(trainable=True, name=\"dropout_2\", rate=0.2)`\n",
            "  return cls(**config)\n",
            "/usr/local/lib/python3.6/dist-packages/keras/engine/topology.py:1271: UserWarning: Update your `Dense` call to the Keras 2 API: `Dense(name=\"dense_1\", activity_regularizer=None, trainable=True, input_dim=None, activation=\"linear\", units=512, kernel_initializer=\"he_normal\", kernel_regularizer=None, bias_regularizer=None, kernel_constraint=None, bias_constraint=None, use_bias=True)`\n",
            "  return cls(**config)\n",
            "/usr/local/lib/python3.6/dist-packages/keras/engine/topology.py:1271: UserWarning: Update your `BatchNormalization` call to the Keras 2 API: `BatchNormalization(name=\"batchnormalization_7\", epsilon=1e-06, trainable=True, momentum=0.9, axis=-1)`\n",
            "  return cls(**config)\n",
            "/usr/local/lib/python3.6/dist-packages/keras/engine/topology.py:1271: UserWarning: Update your `PReLU` call to the Keras 2 API: `PReLU(trainable=True, name=\"prelu_7\", alpha_initializer=\"zero\")`\n",
            "  return cls(**config)\n",
            "/usr/local/lib/python3.6/dist-packages/keras/engine/topology.py:1271: UserWarning: Update your `Dropout` call to the Keras 2 API: `Dropout(trainable=True, name=\"dropout_3\", rate=0.25)`\n",
            "  return cls(**config)\n",
            "/usr/local/lib/python3.6/dist-packages/keras/engine/topology.py:1271: UserWarning: Update your `Dense` call to the Keras 2 API: `Dense(name=\"dense_2\", activity_regularizer=None, trainable=True, input_dim=None, activation=\"linear\", units=512, kernel_initializer=\"he_normal\", kernel_regularizer=None, bias_regularizer=None, kernel_constraint=None, bias_constraint=None, use_bias=True)`\n",
            "  return cls(**config)\n",
            "/usr/local/lib/python3.6/dist-packages/keras/engine/topology.py:1271: UserWarning: Update your `BatchNormalization` call to the Keras 2 API: `BatchNormalization(name=\"batchnormalization_8\", epsilon=1e-06, trainable=True, momentum=0.9, axis=-1)`\n",
            "  return cls(**config)\n",
            "/usr/local/lib/python3.6/dist-packages/keras/engine/topology.py:1271: UserWarning: Update your `PReLU` call to the Keras 2 API: `PReLU(trainable=True, name=\"prelu_8\", alpha_initializer=\"zero\")`\n",
            "  return cls(**config)\n",
            "/usr/local/lib/python3.6/dist-packages/keras/engine/topology.py:1271: UserWarning: Update your `Dropout` call to the Keras 2 API: `Dropout(trainable=True, name=\"dropout_4\", rate=0.25)`\n",
            "  return cls(**config)\n",
            "/usr/local/lib/python3.6/dist-packages/keras/engine/topology.py:1271: UserWarning: Update your `Dense` call to the Keras 2 API: `Dense(name=\"dense_3\", activity_regularizer=None, trainable=True, input_dim=None, activation=\"linear\", units=7, kernel_initializer=\"he_normal\", kernel_regularizer=None, bias_regularizer=None, kernel_constraint=None, bias_constraint=None, use_bias=True)`\n",
            "  return cls(**config)\n"
          ],
          "name": "stderr"
        }
      ]
    },
    {
      "metadata": {
        "id": "TuOn3O6VXQIt",
        "colab_type": "code",
        "colab": {
          "base_uri": "https://localhost:8080/",
          "height": 3710
        },
        "outputId": "bc747fe9-97ae-410c-9ca2-b0a2e2bb43c4"
      },
      "cell_type": "code",
      "source": [
        "model.compile(optimizer='Adam',\n",
        "                 loss='categorical_crossentropy',\n",
        "                 metrics=['accuracy'])\n",
        "model.fit(train_x, train_y, epochs=100, batch_size=64, validation_data=(val_x, val_y))"
      ],
      "execution_count": 31,
      "outputs": [
        {
          "output_type": "stream",
          "text": [
            "Train on 28709 samples, validate on 3589 samples\n",
            "Epoch 1/100\n",
            "28709/28709 [==============================] - 75s 3ms/step - loss: 1.7938 - acc: 0.2992 - val_loss: 1.6821 - val_acc: 0.3773\n",
            "Epoch 2/100\n",
            " 7808/28709 [=======>......................] - ETA: 50s - loss: 1.5262 - acc: 0.4136"
          ],
          "name": "stdout"
        },
        {
          "output_type": "stream",
          "text": [
            "28709/28709 [==============================] - 72s 3ms/step - loss: 1.4447 - acc: 0.4453 - val_loss: 1.2698 - val_acc: 0.5116\n",
            "Epoch 3/100\n",
            "20864/28709 [====================>.........] - ETA: 18s - loss: 1.2280 - acc: 0.5332"
          ],
          "name": "stdout"
        },
        {
          "output_type": "stream",
          "text": [
            "28709/28709 [==============================] - 72s 3ms/step - loss: 1.2162 - acc: 0.5380 - val_loss: 1.1639 - val_acc: 0.5617\n",
            "Epoch 4/100\n",
            "25792/28709 [=========================>....] - ETA: 7s - loss: 1.0837 - acc: 0.5905"
          ],
          "name": "stdout"
        },
        {
          "output_type": "stream",
          "text": [
            "28709/28709 [==============================] - 72s 3ms/step - loss: 1.0842 - acc: 0.5903 - val_loss: 1.1190 - val_acc: 0.5798\n",
            "Epoch 5/100\n",
            "27648/28709 [===========================>..] - ETA: 2s - loss: 0.9660 - acc: 0.6370"
          ],
          "name": "stdout"
        },
        {
          "output_type": "stream",
          "text": [
            "28709/28709 [==============================] - 72s 2ms/step - loss: 0.9685 - acc: 0.6360 - val_loss: 1.0806 - val_acc: 0.5999\n",
            "Epoch 6/100\n",
            "28352/28709 [============================>.] - ETA: 0s - loss: 0.8477 - acc: 0.6820"
          ],
          "name": "stdout"
        },
        {
          "output_type": "stream",
          "text": [
            "28709/28709 [==============================] - 72s 2ms/step - loss: 0.8488 - acc: 0.6817 - val_loss: 1.0856 - val_acc: 0.6102\n",
            "Epoch 7/100\n",
            "28608/28709 [============================>.] - ETA: 0s - loss: 0.7178 - acc: 0.7332"
          ],
          "name": "stdout"
        },
        {
          "output_type": "stream",
          "text": [
            "28709/28709 [==============================] - 72s 2ms/step - loss: 0.7183 - acc: 0.7330 - val_loss: 1.1084 - val_acc: 0.6066\n",
            "Epoch 8/100\n",
            "28672/28709 [============================>.] - ETA: 0s - loss: 0.5834 - acc: 0.7843"
          ],
          "name": "stdout"
        },
        {
          "output_type": "stream",
          "text": [
            "28709/28709 [==============================] - 72s 2ms/step - loss: 0.5839 - acc: 0.7842 - val_loss: 1.1715 - val_acc: 0.6121\n",
            "Epoch 9/100\n",
            "28709/28709 [==============================] - 72s 2ms/step - loss: 0.4547 - acc: 0.8326 - val_loss: 1.2411 - val_acc: 0.6147\n"
          ],
          "name": "stdout"
        },
        {
          "output_type": "stream",
          "text": [
            "Epoch 10/100\n",
            "28709/28709 [==============================] - 72s 2ms/step - loss: 0.3400 - acc: 0.8779 - val_loss: 1.4152 - val_acc: 0.6147\n",
            "Epoch 11/100\n",
            "15232/28709 [==============>...............] - ETA: 32s - loss: 0.2416 - acc: 0.9139"
          ],
          "name": "stdout"
        },
        {
          "output_type": "stream",
          "text": [
            "28709/28709 [==============================] - 72s 2ms/step - loss: 0.2711 - acc: 0.9033 - val_loss: 1.4711 - val_acc: 0.6250\n",
            "Epoch 12/100\n",
            "23552/28709 [=======================>......] - ETA: 12s - loss: 0.2133 - acc: 0.9260"
          ],
          "name": "stdout"
        },
        {
          "output_type": "stream",
          "text": [
            "28709/28709 [==============================] - 72s 2ms/step - loss: 0.2181 - acc: 0.9242 - val_loss: 1.5859 - val_acc: 0.6177\n",
            "Epoch 13/100\n",
            "26688/28709 [==========================>...] - ETA: 4s - loss: 0.1880 - acc: 0.9347"
          ],
          "name": "stdout"
        },
        {
          "output_type": "stream",
          "text": [
            "28709/28709 [==============================] - 72s 2ms/step - loss: 0.1909 - acc: 0.9334 - val_loss: 1.5994 - val_acc: 0.6264\n",
            "Epoch 14/100\n",
            "27840/28709 [============================>.] - ETA: 2s - loss: 0.1588 - acc: 0.9455"
          ],
          "name": "stdout"
        },
        {
          "output_type": "stream",
          "text": [
            "28709/28709 [==============================] - 72s 2ms/step - loss: 0.1606 - acc: 0.9451 - val_loss: 1.7118 - val_acc: 0.6283\n",
            "Epoch 15/100\n",
            "28288/28709 [============================>.] - ETA: 1s - loss: 0.1519 - acc: 0.9469"
          ],
          "name": "stdout"
        },
        {
          "output_type": "stream",
          "text": [
            "28709/28709 [==============================] - 72s 2ms/step - loss: 0.1527 - acc: 0.9465 - val_loss: 1.7850 - val_acc: 0.6205\n",
            "Epoch 16/100\n",
            "28480/28709 [============================>.] - ETA: 0s - loss: 0.1404 - acc: 0.9514"
          ],
          "name": "stdout"
        },
        {
          "output_type": "stream",
          "text": [
            "28709/28709 [==============================] - 72s 2ms/step - loss: 0.1406 - acc: 0.9514 - val_loss: 1.8336 - val_acc: 0.6280\n",
            "Epoch 17/100\n",
            "28544/28709 [============================>.] - ETA: 0s - loss: 0.1329 - acc: 0.9538"
          ],
          "name": "stdout"
        },
        {
          "output_type": "stream",
          "text": [
            "28709/28709 [==============================] - 72s 2ms/step - loss: 0.1328 - acc: 0.9538 - val_loss: 1.8005 - val_acc: 0.6314\n",
            "Epoch 18/100\n",
            "28544/28709 [============================>.] - ETA: 0s - loss: 0.1199 - acc: 0.9602"
          ],
          "name": "stdout"
        },
        {
          "output_type": "stream",
          "text": [
            "28709/28709 [==============================] - 71s 2ms/step - loss: 0.1200 - acc: 0.9601 - val_loss: 1.8657 - val_acc: 0.6233\n",
            "Epoch 19/100\n",
            "28544/28709 [============================>.] - ETA: 0s - loss: 0.1166 - acc: 0.9596"
          ],
          "name": "stdout"
        },
        {
          "output_type": "stream",
          "text": [
            "28709/28709 [==============================] - 72s 2ms/step - loss: 0.1165 - acc: 0.9596 - val_loss: 1.9248 - val_acc: 0.6216\n",
            "Epoch 20/100\n",
            "28544/28709 [============================>.] - ETA: 0s - loss: 0.1070 - acc: 0.9627"
          ],
          "name": "stdout"
        },
        {
          "output_type": "stream",
          "text": [
            "28709/28709 [==============================] - 72s 2ms/step - loss: 0.1072 - acc: 0.9626 - val_loss: 1.9728 - val_acc: 0.6180\n",
            "Epoch 21/100\n",
            "28544/28709 [============================>.] - ETA: 0s - loss: 0.1067 - acc: 0.9635"
          ],
          "name": "stdout"
        },
        {
          "output_type": "stream",
          "text": [
            "28709/28709 [==============================] - 72s 2ms/step - loss: 0.1069 - acc: 0.9635 - val_loss: 1.8861 - val_acc: 0.6333\n",
            "Epoch 22/100\n",
            "28544/28709 [============================>.] - ETA: 0s - loss: 0.1040 - acc: 0.9648"
          ],
          "name": "stdout"
        },
        {
          "output_type": "stream",
          "text": [
            "28709/28709 [==============================] - 72s 2ms/step - loss: 0.1044 - acc: 0.9647 - val_loss: 1.9770 - val_acc: 0.6197\n",
            "Epoch 23/100\n",
            "28544/28709 [============================>.] - ETA: 0s - loss: 0.1010 - acc: 0.9661"
          ],
          "name": "stdout"
        },
        {
          "output_type": "stream",
          "text": [
            "28709/28709 [==============================] - 72s 2ms/step - loss: 0.1008 - acc: 0.9662 - val_loss: 2.0314 - val_acc: 0.6197\n",
            "Epoch 24/100\n",
            "28544/28709 [============================>.] - ETA: 0s - loss: 0.0901 - acc: 0.9678"
          ],
          "name": "stdout"
        },
        {
          "output_type": "stream",
          "text": [
            "28709/28709 [==============================] - 72s 2ms/step - loss: 0.0900 - acc: 0.9679 - val_loss: 2.0605 - val_acc: 0.6160\n",
            "Epoch 25/100\n",
            "28544/28709 [============================>.] - ETA: 0s - loss: 0.0901 - acc: 0.9677"
          ],
          "name": "stdout"
        },
        {
          "output_type": "stream",
          "text": [
            "28709/28709 [==============================] - 71s 2ms/step - loss: 0.0902 - acc: 0.9677 - val_loss: 2.0433 - val_acc: 0.6266\n",
            "Epoch 26/100\n",
            "28544/28709 [============================>.] - ETA: 0s - loss: 0.0900 - acc: 0.9689"
          ],
          "name": "stdout"
        },
        {
          "output_type": "stream",
          "text": [
            "28709/28709 [==============================] - 72s 2ms/step - loss: 0.0898 - acc: 0.9690 - val_loss: 2.0127 - val_acc: 0.6330\n",
            "Epoch 27/100\n",
            "28544/28709 [============================>.] - ETA: 0s - loss: 0.0858 - acc: 0.9704"
          ],
          "name": "stdout"
        },
        {
          "output_type": "stream",
          "text": [
            "28709/28709 [==============================] - 72s 2ms/step - loss: 0.0856 - acc: 0.9705 - val_loss: 2.1461 - val_acc: 0.6319\n",
            "Epoch 28/100\n",
            "28544/28709 [============================>.] - ETA: 0s - loss: 0.0806 - acc: 0.9721"
          ],
          "name": "stdout"
        },
        {
          "output_type": "stream",
          "text": [
            "28709/28709 [==============================] - 72s 2ms/step - loss: 0.0808 - acc: 0.9720 - val_loss: 2.1371 - val_acc: 0.6286\n",
            "Epoch 29/100\n",
            "28544/28709 [============================>.] - ETA: 0s - loss: 0.0786 - acc: 0.9725"
          ],
          "name": "stdout"
        },
        {
          "output_type": "stream",
          "text": [
            "28709/28709 [==============================] - 71s 2ms/step - loss: 0.0790 - acc: 0.9724 - val_loss: 2.0970 - val_acc: 0.6319\n",
            "Epoch 30/100\n",
            "28544/28709 [============================>.] - ETA: 0s - loss: 0.0802 - acc: 0.9715"
          ],
          "name": "stdout"
        },
        {
          "output_type": "stream",
          "text": [
            "28709/28709 [==============================] - 72s 2ms/step - loss: 0.0804 - acc: 0.9715 - val_loss: 2.0854 - val_acc: 0.6227\n",
            "Epoch 31/100\n",
            "28544/28709 [============================>.] - ETA: 0s - loss: 0.0758 - acc: 0.9738"
          ],
          "name": "stdout"
        },
        {
          "output_type": "stream",
          "text": [
            "28709/28709 [==============================] - 71s 2ms/step - loss: 0.0760 - acc: 0.9738 - val_loss: 2.1519 - val_acc: 0.6311\n",
            "Epoch 32/100\n",
            "28544/28709 [============================>.] - ETA: 0s - loss: 0.0703 - acc: 0.9746"
          ],
          "name": "stdout"
        },
        {
          "output_type": "stream",
          "text": [
            "28709/28709 [==============================] - 71s 2ms/step - loss: 0.0703 - acc: 0.9747 - val_loss: 2.1019 - val_acc: 0.6333\n",
            "Epoch 33/100\n",
            "28544/28709 [============================>.] - ETA: 0s - loss: 0.0680 - acc: 0.9765"
          ],
          "name": "stdout"
        },
        {
          "output_type": "stream",
          "text": [
            "28709/28709 [==============================] - 72s 2ms/step - loss: 0.0678 - acc: 0.9766 - val_loss: 2.1256 - val_acc: 0.6305\n",
            "Epoch 34/100\n",
            "28544/28709 [============================>.] - ETA: 0s - loss: 0.0762 - acc: 0.9736"
          ],
          "name": "stdout"
        },
        {
          "output_type": "stream",
          "text": [
            "28709/28709 [==============================] - 72s 2ms/step - loss: 0.0763 - acc: 0.9736 - val_loss: 2.1087 - val_acc: 0.6297\n",
            "Epoch 35/100\n",
            "28544/28709 [============================>.] - ETA: 0s - loss: 0.0700 - acc: 0.9763"
          ],
          "name": "stdout"
        },
        {
          "output_type": "stream",
          "text": [
            "28709/28709 [==============================] - 72s 2ms/step - loss: 0.0699 - acc: 0.9763 - val_loss: 2.2255 - val_acc: 0.6278\n",
            "Epoch 36/100\n",
            "28544/28709 [============================>.] - ETA: 0s - loss: 0.0619 - acc: 0.9783"
          ],
          "name": "stdout"
        },
        {
          "output_type": "stream",
          "text": [
            "28709/28709 [==============================] - 72s 2ms/step - loss: 0.0616 - acc: 0.9784 - val_loss: 2.1750 - val_acc: 0.6244\n",
            "Epoch 37/100\n",
            "28544/28709 [============================>.] - ETA: 0s - loss: 0.0686 - acc: 0.9771"
          ],
          "name": "stdout"
        },
        {
          "output_type": "stream",
          "text": [
            "28709/28709 [==============================] - 72s 2ms/step - loss: 0.0685 - acc: 0.9772 - val_loss: 2.1920 - val_acc: 0.6305\n",
            "Epoch 38/100\n",
            "28544/28709 [============================>.] - ETA: 0s - loss: 0.0622 - acc: 0.9781"
          ],
          "name": "stdout"
        },
        {
          "output_type": "stream",
          "text": [
            "28709/28709 [==============================] - 72s 2ms/step - loss: 0.0621 - acc: 0.9781 - val_loss: 2.3068 - val_acc: 0.6266\n",
            "Epoch 39/100\n",
            "28544/28709 [============================>.] - ETA: 0s - loss: 0.0671 - acc: 0.9764"
          ],
          "name": "stdout"
        },
        {
          "output_type": "stream",
          "text": [
            "28709/28709 [==============================] - 72s 2ms/step - loss: 0.0672 - acc: 0.9764 - val_loss: 2.1853 - val_acc: 0.6339\n",
            "Epoch 40/100\n",
            "28544/28709 [============================>.] - ETA: 0s - loss: 0.0554 - acc: 0.9795"
          ],
          "name": "stdout"
        },
        {
          "output_type": "stream",
          "text": [
            "28709/28709 [==============================] - 72s 2ms/step - loss: 0.0554 - acc: 0.9795 - val_loss: 2.2240 - val_acc: 0.6336\n",
            "Epoch 41/100\n",
            "28544/28709 [============================>.] - ETA: 0s - loss: 0.0576 - acc: 0.9793"
          ],
          "name": "stdout"
        },
        {
          "output_type": "stream",
          "text": [
            "28709/28709 [==============================] - 72s 2ms/step - loss: 0.0577 - acc: 0.9793 - val_loss: 2.3484 - val_acc: 0.6319\n",
            "Epoch 42/100\n",
            "28544/28709 [============================>.] - ETA: 0s - loss: 0.0541 - acc: 0.9807"
          ],
          "name": "stdout"
        },
        {
          "output_type": "stream",
          "text": [
            "28709/28709 [==============================] - 72s 2ms/step - loss: 0.0543 - acc: 0.9807 - val_loss: 2.2340 - val_acc: 0.6308\n",
            "Epoch 43/100\n",
            "28544/28709 [============================>.] - ETA: 0s - loss: 0.0621 - acc: 0.9784"
          ],
          "name": "stdout"
        },
        {
          "output_type": "stream",
          "text": [
            "28709/28709 [==============================] - 72s 2ms/step - loss: 0.0620 - acc: 0.9784 - val_loss: 2.2889 - val_acc: 0.6330\n",
            "Epoch 44/100\n",
            "28544/28709 [============================>.] - ETA: 0s - loss: 0.0574 - acc: 0.9796"
          ],
          "name": "stdout"
        },
        {
          "output_type": "stream",
          "text": [
            "28709/28709 [==============================] - 71s 2ms/step - loss: 0.0577 - acc: 0.9795 - val_loss: 2.2454 - val_acc: 0.6353\n",
            "Epoch 45/100\n",
            "28544/28709 [============================>.] - ETA: 0s - loss: 0.0572 - acc: 0.9804"
          ],
          "name": "stdout"
        },
        {
          "output_type": "stream",
          "text": [
            "28709/28709 [==============================] - 72s 2ms/step - loss: 0.0576 - acc: 0.9804 - val_loss: 2.3478 - val_acc: 0.6356\n",
            "Epoch 46/100\n",
            "28544/28709 [============================>.] - ETA: 0s - loss: 0.0553 - acc: 0.9801"
          ],
          "name": "stdout"
        },
        {
          "output_type": "stream",
          "text": [
            "28709/28709 [==============================] - 72s 2ms/step - loss: 0.0553 - acc: 0.9802 - val_loss: 2.2158 - val_acc: 0.6317\n",
            "Epoch 47/100\n",
            "28544/28709 [============================>.] - ETA: 0s - loss: 0.0557 - acc: 0.9807"
          ],
          "name": "stdout"
        },
        {
          "output_type": "stream",
          "text": [
            "28709/28709 [==============================] - 72s 2ms/step - loss: 0.0558 - acc: 0.9807 - val_loss: 2.2563 - val_acc: 0.6392\n",
            "Epoch 48/100\n",
            "28544/28709 [============================>.] - ETA: 0s - loss: 0.0494 - acc: 0.9828"
          ],
          "name": "stdout"
        },
        {
          "output_type": "stream",
          "text": [
            "28709/28709 [==============================] - 71s 2ms/step - loss: 0.0493 - acc: 0.9828 - val_loss: 2.2769 - val_acc: 0.6317\n",
            "Epoch 49/100\n",
            "28544/28709 [============================>.] - ETA: 0s - loss: 0.0543 - acc: 0.9811"
          ],
          "name": "stdout"
        },
        {
          "output_type": "stream",
          "text": [
            "28709/28709 [==============================] - 72s 2ms/step - loss: 0.0543 - acc: 0.9811 - val_loss: 2.2275 - val_acc: 0.6272\n",
            "Epoch 50/100\n",
            "28544/28709 [============================>.] - ETA: 0s - loss: 0.0502 - acc: 0.9822"
          ],
          "name": "stdout"
        },
        {
          "output_type": "stream",
          "text": [
            "28709/28709 [==============================] - 72s 2ms/step - loss: 0.0503 - acc: 0.9822 - val_loss: 2.3234 - val_acc: 0.6250\n",
            "Epoch 51/100\n",
            "28544/28709 [============================>.] - ETA: 0s - loss: 0.0474 - acc: 0.9836"
          ],
          "name": "stdout"
        },
        {
          "output_type": "stream",
          "text": [
            "28709/28709 [==============================] - 71s 2ms/step - loss: 0.0473 - acc: 0.9837 - val_loss: 2.3473 - val_acc: 0.6330\n",
            "Epoch 52/100\n",
            "28544/28709 [============================>.] - ETA: 0s - loss: 0.0506 - acc: 0.9825"
          ],
          "name": "stdout"
        },
        {
          "output_type": "stream",
          "text": [
            "28709/28709 [==============================] - 72s 3ms/step - loss: 0.0505 - acc: 0.9825 - val_loss: 2.3897 - val_acc: 0.6344\n",
            "Epoch 53/100\n",
            "28544/28709 [============================>.] - ETA: 0s - loss: 0.0429 - acc: 0.9842"
          ],
          "name": "stdout"
        },
        {
          "output_type": "stream",
          "text": [
            "28709/28709 [==============================] - 72s 2ms/step - loss: 0.0431 - acc: 0.9842 - val_loss: 2.4327 - val_acc: 0.6303\n",
            "Epoch 54/100\n",
            "28544/28709 [============================>.] - ETA: 0s - loss: 0.0406 - acc: 0.9854"
          ],
          "name": "stdout"
        },
        {
          "output_type": "stream",
          "text": [
            "28709/28709 [==============================] - 72s 2ms/step - loss: 0.0406 - acc: 0.9854 - val_loss: 2.5644 - val_acc: 0.6328\n",
            "Epoch 55/100\n",
            "28544/28709 [============================>.] - ETA: 0s - loss: 0.0532 - acc: 0.9811"
          ],
          "name": "stdout"
        },
        {
          "output_type": "stream",
          "text": [
            "28709/28709 [==============================] - 72s 2ms/step - loss: 0.0530 - acc: 0.9811 - val_loss: 2.3229 - val_acc: 0.6314\n",
            "Epoch 56/100\n",
            "28544/28709 [============================>.] - ETA: 0s - loss: 0.0445 - acc: 0.9844"
          ],
          "name": "stdout"
        },
        {
          "output_type": "stream",
          "text": [
            "28709/28709 [==============================] - 72s 2ms/step - loss: 0.0445 - acc: 0.9844 - val_loss: 2.4170 - val_acc: 0.6300\n",
            "Epoch 57/100\n",
            "28544/28709 [============================>.] - ETA: 0s - loss: 0.0439 - acc: 0.9847"
          ],
          "name": "stdout"
        },
        {
          "output_type": "stream",
          "text": [
            "28709/28709 [==============================] - 72s 2ms/step - loss: 0.0441 - acc: 0.9846 - val_loss: 2.3694 - val_acc: 0.6342\n",
            "Epoch 58/100\n",
            "28544/28709 [============================>.] - ETA: 0s - loss: 0.0491 - acc: 0.9833"
          ],
          "name": "stdout"
        },
        {
          "output_type": "stream",
          "text": [
            "28709/28709 [==============================] - 72s 2ms/step - loss: 0.0494 - acc: 0.9833 - val_loss: 2.4400 - val_acc: 0.6283\n",
            "Epoch 59/100\n",
            "28544/28709 [============================>.] - ETA: 0s - loss: 0.0463 - acc: 0.9835"
          ],
          "name": "stdout"
        },
        {
          "output_type": "stream",
          "text": [
            "28709/28709 [==============================] - 72s 2ms/step - loss: 0.0465 - acc: 0.9834 - val_loss: 2.3791 - val_acc: 0.6294\n",
            "Epoch 60/100\n",
            "28544/28709 [============================>.] - ETA: 0s - loss: 0.0384 - acc: 0.9865"
          ],
          "name": "stdout"
        },
        {
          "output_type": "stream",
          "text": [
            "28709/28709 [==============================] - 72s 2ms/step - loss: 0.0385 - acc: 0.9865 - val_loss: 2.4069 - val_acc: 0.6353\n",
            "Epoch 61/100\n",
            "28544/28709 [============================>.] - ETA: 0s - loss: 0.0436 - acc: 0.9849"
          ],
          "name": "stdout"
        },
        {
          "output_type": "stream",
          "text": [
            "28709/28709 [==============================] - 72s 2ms/step - loss: 0.0436 - acc: 0.9849 - val_loss: 2.3760 - val_acc: 0.6361\n",
            "Epoch 62/100\n",
            "28544/28709 [============================>.] - ETA: 0s - loss: 0.0372 - acc: 0.9863"
          ],
          "name": "stdout"
        },
        {
          "output_type": "stream",
          "text": [
            "28709/28709 [==============================] - 72s 2ms/step - loss: 0.0372 - acc: 0.9863 - val_loss: 2.4818 - val_acc: 0.6328\n",
            "Epoch 63/100\n",
            "28544/28709 [============================>.] - ETA: 0s - loss: 0.0451 - acc: 0.9833"
          ],
          "name": "stdout"
        },
        {
          "output_type": "stream",
          "text": [
            "28709/28709 [==============================] - 72s 2ms/step - loss: 0.0451 - acc: 0.9834 - val_loss: 2.4509 - val_acc: 0.6305\n",
            "Epoch 64/100\n",
            "28544/28709 [============================>.] - ETA: 0s - loss: 0.0425 - acc: 0.9851"
          ],
          "name": "stdout"
        },
        {
          "output_type": "stream",
          "text": [
            "28709/28709 [==============================] - 72s 2ms/step - loss: 0.0425 - acc: 0.9851 - val_loss: 2.4362 - val_acc: 0.6294\n",
            "Epoch 65/100\n",
            "28544/28709 [============================>.] - ETA: 0s - loss: 0.0451 - acc: 0.9836"
          ],
          "name": "stdout"
        },
        {
          "output_type": "stream",
          "text": [
            "28709/28709 [==============================] - 72s 2ms/step - loss: 0.0452 - acc: 0.9835 - val_loss: 2.4864 - val_acc: 0.6378\n",
            "Epoch 66/100\n",
            "28544/28709 [============================>.] - ETA: 0s - loss: 0.0433 - acc: 0.9847"
          ],
          "name": "stdout"
        },
        {
          "output_type": "stream",
          "text": [
            "28709/28709 [==============================] - 72s 3ms/step - loss: 0.0434 - acc: 0.9847 - val_loss: 2.3809 - val_acc: 0.6383\n",
            "Epoch 67/100\n",
            "28544/28709 [============================>.] - ETA: 0s - loss: 0.0369 - acc: 0.9874"
          ],
          "name": "stdout"
        },
        {
          "output_type": "stream",
          "text": [
            "28709/28709 [==============================] - 72s 2ms/step - loss: 0.0369 - acc: 0.9874 - val_loss: 2.4128 - val_acc: 0.6308\n",
            "Epoch 68/100\n",
            "28544/28709 [============================>.] - ETA: 0s - loss: 0.0409 - acc: 0.9858"
          ],
          "name": "stdout"
        },
        {
          "output_type": "stream",
          "text": [
            "28709/28709 [==============================] - 72s 2ms/step - loss: 0.0409 - acc: 0.9858 - val_loss: 2.4893 - val_acc: 0.6303\n",
            "Epoch 69/100\n",
            "28544/28709 [============================>.] - ETA: 0s - loss: 0.0411 - acc: 0.9855"
          ],
          "name": "stdout"
        },
        {
          "output_type": "stream",
          "text": [
            "28709/28709 [==============================] - 72s 2ms/step - loss: 0.0412 - acc: 0.9854 - val_loss: 2.4052 - val_acc: 0.6322\n",
            "Epoch 70/100\n",
            "28544/28709 [============================>.] - ETA: 0s - loss: 0.0387 - acc: 0.9863"
          ],
          "name": "stdout"
        },
        {
          "output_type": "stream",
          "text": [
            "28709/28709 [==============================] - 72s 2ms/step - loss: 0.0389 - acc: 0.9862 - val_loss: 2.4987 - val_acc: 0.6297\n",
            "Epoch 71/100\n",
            "28544/28709 [============================>.] - ETA: 0s - loss: 0.0362 - acc: 0.9870"
          ],
          "name": "stdout"
        },
        {
          "output_type": "stream",
          "text": [
            "28709/28709 [==============================] - 72s 2ms/step - loss: 0.0366 - acc: 0.9869 - val_loss: 2.5879 - val_acc: 0.6361\n",
            "Epoch 72/100\n",
            "28544/28709 [============================>.] - ETA: 0s - loss: 0.0428 - acc: 0.9849"
          ],
          "name": "stdout"
        },
        {
          "output_type": "stream",
          "text": [
            "28709/28709 [==============================] - 72s 2ms/step - loss: 0.0427 - acc: 0.9850 - val_loss: 2.4684 - val_acc: 0.6353\n",
            "Epoch 73/100\n",
            "28544/28709 [============================>.] - ETA: 0s - loss: 0.0351 - acc: 0.9872"
          ],
          "name": "stdout"
        },
        {
          "output_type": "stream",
          "text": [
            "28709/28709 [==============================] - 72s 2ms/step - loss: 0.0350 - acc: 0.9873 - val_loss: 2.5006 - val_acc: 0.6364\n",
            "Epoch 74/100\n",
            "28544/28709 [============================>.] - ETA: 0s - loss: 0.0373 - acc: 0.9865"
          ],
          "name": "stdout"
        },
        {
          "output_type": "stream",
          "text": [
            "28709/28709 [==============================] - 72s 2ms/step - loss: 0.0372 - acc: 0.9865 - val_loss: 2.5643 - val_acc: 0.6372\n",
            "Epoch 75/100\n",
            "28544/28709 [============================>.] - ETA: 0s - loss: 0.0387 - acc: 0.9860"
          ],
          "name": "stdout"
        },
        {
          "output_type": "stream",
          "text": [
            "28709/28709 [==============================] - 72s 2ms/step - loss: 0.0387 - acc: 0.9860 - val_loss: 2.5043 - val_acc: 0.6361\n",
            "Epoch 76/100\n",
            "28544/28709 [============================>.] - ETA: 0s - loss: 0.0355 - acc: 0.9879"
          ],
          "name": "stdout"
        },
        {
          "output_type": "stream",
          "text": [
            "28709/28709 [==============================] - 72s 2ms/step - loss: 0.0355 - acc: 0.9879 - val_loss: 2.5433 - val_acc: 0.6322\n",
            "Epoch 77/100\n",
            "28544/28709 [============================>.] - ETA: 0s - loss: 0.0330 - acc: 0.9884"
          ],
          "name": "stdout"
        },
        {
          "output_type": "stream",
          "text": [
            "28709/28709 [==============================] - 72s 2ms/step - loss: 0.0335 - acc: 0.9883 - val_loss: 2.5867 - val_acc: 0.6294\n",
            "Epoch 78/100\n",
            "28544/28709 [============================>.] - ETA: 0s - loss: 0.0347 - acc: 0.9873"
          ],
          "name": "stdout"
        },
        {
          "output_type": "stream",
          "text": [
            "28709/28709 [==============================] - 72s 2ms/step - loss: 0.0346 - acc: 0.9873 - val_loss: 2.5610 - val_acc: 0.6342\n",
            "Epoch 79/100\n",
            "28544/28709 [============================>.] - ETA: 0s - loss: 0.0348 - acc: 0.9872"
          ],
          "name": "stdout"
        },
        {
          "output_type": "stream",
          "text": [
            "28709/28709 [==============================] - 72s 2ms/step - loss: 0.0347 - acc: 0.9873 - val_loss: 2.5640 - val_acc: 0.6283\n",
            "Epoch 80/100\n",
            "28544/28709 [============================>.] - ETA: 0s - loss: 0.0382 - acc: 0.9858"
          ],
          "name": "stdout"
        },
        {
          "output_type": "stream",
          "text": [
            "28709/28709 [==============================] - 72s 2ms/step - loss: 0.0381 - acc: 0.9859 - val_loss: 2.6211 - val_acc: 0.6286\n",
            "Epoch 81/100\n",
            "28544/28709 [============================>.] - ETA: 0s - loss: 0.0342 - acc: 0.9879"
          ],
          "name": "stdout"
        },
        {
          "output_type": "stream",
          "text": [
            "28709/28709 [==============================] - 72s 2ms/step - loss: 0.0341 - acc: 0.9879 - val_loss: 2.5491 - val_acc: 0.6322\n",
            "Epoch 82/100\n",
            "28544/28709 [============================>.] - ETA: 0s - loss: 0.0321 - acc: 0.9878"
          ],
          "name": "stdout"
        },
        {
          "output_type": "stream",
          "text": [
            "28709/28709 [==============================] - 72s 2ms/step - loss: 0.0321 - acc: 0.9878 - val_loss: 2.5139 - val_acc: 0.6264\n",
            "Epoch 83/100\n",
            "28544/28709 [============================>.] - ETA: 0s - loss: 0.0365 - acc: 0.9875"
          ],
          "name": "stdout"
        },
        {
          "output_type": "stream",
          "text": [
            "28709/28709 [==============================] - 72s 2ms/step - loss: 0.0366 - acc: 0.9874 - val_loss: 2.5006 - val_acc: 0.6286\n",
            "Epoch 84/100\n",
            "28544/28709 [============================>.] - ETA: 0s - loss: 0.0334 - acc: 0.9876"
          ],
          "name": "stdout"
        },
        {
          "output_type": "stream",
          "text": [
            "28709/28709 [==============================] - 72s 2ms/step - loss: 0.0337 - acc: 0.9876 - val_loss: 2.6118 - val_acc: 0.6408\n",
            "Epoch 85/100\n",
            "28544/28709 [============================>.] - ETA: 0s - loss: 0.0317 - acc: 0.9881"
          ],
          "name": "stdout"
        },
        {
          "output_type": "stream",
          "text": [
            "28709/28709 [==============================] - 72s 2ms/step - loss: 0.0316 - acc: 0.9881 - val_loss: 2.5687 - val_acc: 0.6381\n",
            "Epoch 86/100\n",
            "28544/28709 [============================>.] - ETA: 0s - loss: 0.0330 - acc: 0.9884"
          ],
          "name": "stdout"
        },
        {
          "output_type": "stream",
          "text": [
            "28709/28709 [==============================] - 72s 2ms/step - loss: 0.0328 - acc: 0.9885 - val_loss: 2.5919 - val_acc: 0.6322\n",
            "Epoch 87/100\n",
            "28544/28709 [============================>.] - ETA: 0s - loss: 0.0330 - acc: 0.9880"
          ],
          "name": "stdout"
        },
        {
          "output_type": "stream",
          "text": [
            "28709/28709 [==============================] - 72s 2ms/step - loss: 0.0330 - acc: 0.9880 - val_loss: 2.6545 - val_acc: 0.6372\n",
            "Epoch 88/100\n",
            "28544/28709 [============================>.] - ETA: 0s - loss: 0.0339 - acc: 0.9883"
          ],
          "name": "stdout"
        },
        {
          "output_type": "stream",
          "text": [
            "28709/28709 [==============================] - 72s 2ms/step - loss: 0.0342 - acc: 0.9882 - val_loss: 2.6112 - val_acc: 0.6369\n",
            "Epoch 89/100\n",
            "28544/28709 [============================>.] - ETA: 0s - loss: 0.0373 - acc: 0.9873"
          ],
          "name": "stdout"
        },
        {
          "output_type": "stream",
          "text": [
            "28709/28709 [==============================] - 72s 2ms/step - loss: 0.0372 - acc: 0.9874 - val_loss: 2.5413 - val_acc: 0.6278\n",
            "Epoch 90/100\n",
            "28544/28709 [============================>.] - ETA: 0s - loss: 0.0296 - acc: 0.9895"
          ],
          "name": "stdout"
        },
        {
          "output_type": "stream",
          "text": [
            "28709/28709 [==============================] - 72s 2ms/step - loss: 0.0295 - acc: 0.9896 - val_loss: 2.4963 - val_acc: 0.6347\n",
            "Epoch 91/100\n",
            "28544/28709 [============================>.] - ETA: 0s - loss: 0.0264 - acc: 0.9904"
          ],
          "name": "stdout"
        },
        {
          "output_type": "stream",
          "text": [
            "28709/28709 [==============================] - 72s 2ms/step - loss: 0.0267 - acc: 0.9902 - val_loss: 2.6928 - val_acc: 0.6261\n",
            "Epoch 92/100\n",
            "28544/28709 [============================>.] - ETA: 0s - loss: 0.0327 - acc: 0.9887"
          ],
          "name": "stdout"
        },
        {
          "output_type": "stream",
          "text": [
            "28709/28709 [==============================] - 72s 2ms/step - loss: 0.0328 - acc: 0.9886 - val_loss: 2.5412 - val_acc: 0.6411\n",
            "Epoch 93/100\n",
            "28544/28709 [============================>.] - ETA: 0s - loss: 0.0361 - acc: 0.9879"
          ],
          "name": "stdout"
        },
        {
          "output_type": "stream",
          "text": [
            "28709/28709 [==============================] - 72s 2ms/step - loss: 0.0362 - acc: 0.9878 - val_loss: 2.5156 - val_acc: 0.6314\n",
            "Epoch 94/100\n",
            "28544/28709 [============================>.] - ETA: 0s - loss: 0.0303 - acc: 0.9886"
          ],
          "name": "stdout"
        },
        {
          "output_type": "stream",
          "text": [
            "28709/28709 [==============================] - 72s 2ms/step - loss: 0.0304 - acc: 0.9885 - val_loss: 2.4703 - val_acc: 0.6328\n",
            "Epoch 95/100\n",
            "28544/28709 [============================>.] - ETA: 0s - loss: 0.0307 - acc: 0.9899"
          ],
          "name": "stdout"
        },
        {
          "output_type": "stream",
          "text": [
            "28709/28709 [==============================] - 72s 2ms/step - loss: 0.0309 - acc: 0.9899 - val_loss: 2.5221 - val_acc: 0.6233\n",
            "Epoch 96/100\n",
            "28544/28709 [============================>.] - ETA: 0s - loss: 0.0340 - acc: 0.9886"
          ],
          "name": "stdout"
        },
        {
          "output_type": "stream",
          "text": [
            "28709/28709 [==============================] - 72s 2ms/step - loss: 0.0339 - acc: 0.9886 - val_loss: 2.5509 - val_acc: 0.6311\n",
            "Epoch 97/100\n",
            "28544/28709 [============================>.] - ETA: 0s - loss: 0.0293 - acc: 0.9898"
          ],
          "name": "stdout"
        },
        {
          "output_type": "stream",
          "text": [
            "28709/28709 [==============================] - 71s 2ms/step - loss: 0.0293 - acc: 0.9898 - val_loss: 2.5796 - val_acc: 0.6375\n",
            "Epoch 98/100\n",
            "28544/28709 [============================>.] - ETA: 0s - loss: 0.0279 - acc: 0.9896"
          ],
          "name": "stdout"
        },
        {
          "output_type": "stream",
          "text": [
            "28709/28709 [==============================] - 72s 2ms/step - loss: 0.0279 - acc: 0.9896 - val_loss: 2.5187 - val_acc: 0.6255\n",
            "Epoch 99/100\n",
            "28544/28709 [============================>.] - ETA: 0s - loss: 0.0317 - acc: 0.9891"
          ],
          "name": "stdout"
        },
        {
          "output_type": "stream",
          "text": [
            "28709/28709 [==============================] - 72s 2ms/step - loss: 0.0319 - acc: 0.9890 - val_loss: 2.6175 - val_acc: 0.6250\n",
            "Epoch 100/100\n",
            "28416/28709 [============================>.] - ETA: 0s - loss: 0.0306 - acc: 0.9888"
          ],
          "name": "stdout"
        },
        {
          "output_type": "stream",
          "text": [
            "28709/28709 [==============================] - 72s 2ms/step - loss: 0.0308 - acc: 0.9888 - val_loss: 2.6678 - val_acc: 0.6261\n"
          ],
          "name": "stdout"
        },
        {
          "output_type": "execute_result",
          "data": {
            "text/plain": [
              "<keras.callbacks.History at 0x7fa4290759e8>"
            ]
          },
          "metadata": {
            "tags": []
          },
          "execution_count": 31
        }
      ]
    }
  ]
}