{
  "nbformat": 4,
  "nbformat_minor": 0,
  "metadata": {
    "colab": {
      "name": "FER_WINO.ipynb",
      "version": "0.3.2",
      "provenance": [],
      "collapsed_sections": []
    },
    "kernelspec": {
      "name": "python3",
      "display_name": "Python 3"
    }
  },
  "cells": [
    {
      "cell_type": "markdown",
      "metadata": {
        "id": "view-in-github",
        "colab_type": "text"
      },
      "source": [
        "[View in Colaboratory](https://colab.research.google.com/github/Curiousss/InkerIntern/blob/master/FER_WINO.ipynb)"
      ]
    },
    {
      "metadata": {
        "id": "LpMOFJib1whG",
        "colab_type": "code",
        "colab": {
          "base_uri": "https://localhost:8080/",
          "height": 309
        },
        "outputId": "1bb36e5b-c25b-4136-af12-cb9ad848c412"
      },
      "cell_type": "code",
      "source": [
        "!wget https://developer.nvidia.com/compute/cuda/8.0/Prod2/local_installers/cuda-repo-ubuntu1604-8-0-local-ga2_8.0.61-1_amd64-deb"
      ],
      "execution_count": 9,
      "outputs": [
        {
          "output_type": "stream",
          "text": [
            "--2018-06-09 08:25:31--  https://developer.nvidia.com/compute/cuda/8.0/Prod2/local_installers/cuda-repo-ubuntu1604-8-0-local-ga2_8.0.61-1_amd64-deb\n",
            "Resolving developer.nvidia.com (developer.nvidia.com)... 192.229.162.216\n",
            "Connecting to developer.nvidia.com (developer.nvidia.com)|192.229.162.216|:443... connected.\n",
            "HTTP request sent, awaiting response... 302 Found\n",
            "Location: https://developer.download.nvidia.com/compute/cuda/8.0/secure/Prod2/local_installers/cuda-repo-ubuntu1604-8-0-local-ga2_8.0.61-1_amd64.deb?Vir_d0qLLgKLg0YB8DKnx6xTH0DOJJIFWUyiVMcyf78SiDxOu5brF2a9bS6Stj2vOxMSq_OA4ZBuAf1jf0ZWAliHw9sxxh62EqV05WIl41ic8QJ-xO53uS4e03gI7yfWik6OmjVf2PQihSVGOAwTJPHCdgMFh1uGWwug2FN7Ru0nT3S9DNXUahDFACLt3WWi7tr214do60EKBxiCnnagdQMeew [following]\n",
            "--2018-06-09 08:25:32--  https://developer.download.nvidia.com/compute/cuda/8.0/secure/Prod2/local_installers/cuda-repo-ubuntu1604-8-0-local-ga2_8.0.61-1_amd64.deb?Vir_d0qLLgKLg0YB8DKnx6xTH0DOJJIFWUyiVMcyf78SiDxOu5brF2a9bS6Stj2vOxMSq_OA4ZBuAf1jf0ZWAliHw9sxxh62EqV05WIl41ic8QJ-xO53uS4e03gI7yfWik6OmjVf2PQihSVGOAwTJPHCdgMFh1uGWwug2FN7Ru0nT3S9DNXUahDFACLt3WWi7tr214do60EKBxiCnnagdQMeew\n",
            "Resolving developer.download.nvidia.com (developer.download.nvidia.com)... 192.229.211.70, 2606:2800:21f:3aa:dcf:37b:1ed6:1fb\n",
            "Connecting to developer.download.nvidia.com (developer.download.nvidia.com)|192.229.211.70|:443... connected.\n",
            "HTTP request sent, awaiting response... 200 OK\n",
            "Length: 1913589814 (1.8G) [application/x-deb]\n",
            "Saving to: ‘cuda-repo-ubuntu1604-8-0-local-ga2_8.0.61-1_amd64-deb.1’\n",
            "\n",
            "-deb.1               80%[===============>    ]   1.43G  56.3MB/s    eta 3s     "
          ],
          "name": "stdout"
        },
        {
          "output_type": "stream",
          "text": [
            "cuda-repo-ubuntu160 100%[===================>]   1.78G  26.4MB/s    in 27s     \n",
            "\n",
            "2018-06-09 08:25:59 (68.2 MB/s) - ‘cuda-repo-ubuntu1604-8-0-local-ga2_8.0.61-1_amd64-deb.1’ saved [1913589814/1913589814]\n",
            "\n"
          ],
          "name": "stdout"
        }
      ]
    },
    {
      "metadata": {
        "id": "sAdosSkp16Hi",
        "colab_type": "code",
        "colab": {
          "base_uri": "https://localhost:8080/",
          "height": 187
        },
        "outputId": "7eb32854-9b7c-4702-d219-e45dd4f636c5"
      },
      "cell_type": "code",
      "source": [
        "!dpkg -i cuda-repo-ubuntu1604-8-0-local-ga2_8.0.61-1_amd64-deb"
      ],
      "execution_count": 10,
      "outputs": [
        {
          "output_type": "stream",
          "text": [
            "(Reading database ... 85597 files and directories currently installed.)\n",
            "Preparing to unpack cuda-repo-ubuntu1604-8-0-local-ga2_8.0.61-1_amd64-deb ...\n",
            "Unpacking cuda-repo-ubuntu1604-8-0-local-ga2 (8.0.61-1) over (8.0.61-1) ...\n",
            "Setting up cuda-repo-ubuntu1604-8-0-local-ga2 (8.0.61-1) ...\n",
            "Warning: The postinst maintainerscript of the package cuda-repo-ubuntu1604-8-0-local-ga2\n",
            "Warning: seems to use apt-key (provided by apt) without depending on gnupg or gnupg2.\n",
            "Warning: This will BREAK in the future and should be fixed by the package maintainer(s).\n",
            "Note: Check first if apt-key functionality is needed at all - it probably isn't!\n",
            "Warning: apt-key should not be used in scripts (called from postinst maintainerscript of the package cuda-repo-ubuntu1604-8-0-local-ga2)\n",
            "OK\n"
          ],
          "name": "stdout"
        }
      ]
    },
    {
      "metadata": {
        "id": "CPlgqyya2d6t",
        "colab_type": "code",
        "colab": {
          "base_uri": "https://localhost:8080/",
          "height": 34
        },
        "outputId": "a7981cda-29e8-489e-a711-94fefab18257"
      },
      "cell_type": "code",
      "source": [
        "!apt-key add /var/cuda-repo-8-0-local-ga2/7fa2af80.pub"
      ],
      "execution_count": 11,
      "outputs": [
        {
          "output_type": "stream",
          "text": [
            "OK\r\n"
          ],
          "name": "stdout"
        }
      ]
    },
    {
      "metadata": {
        "id": "lCMs5__D5XA3",
        "colab_type": "code",
        "colab": {
          "base_uri": "https://localhost:8080/",
          "height": 221
        },
        "outputId": "9b7b5ea8-be59-4cff-c9c3-bd0a3e0503aa"
      },
      "cell_type": "code",
      "source": [
        "!apt update"
      ],
      "execution_count": 12,
      "outputs": [
        {
          "output_type": "stream",
          "text": [
            "\u001b[33m\r0% [Working]\u001b[0m\r            \rGet:1 file:/var/cuda-repo-8-0-local-ga2  InRelease\r\n",
            "\r            \rIgn:1 file:/var/cuda-repo-8-0-local-ga2  InRelease\r\n",
            "\u001b[33m\r0% [Working]\u001b[0m\r            \rGet:2 file:/var/cuda-repo-8-0-local-ga2  Release [574 B]\r\n",
            "Get:2 file:/var/cuda-repo-8-0-local-ga2  Release [574 B]\n",
            "Hit:3 http://archive.ubuntu.com/ubuntu artful InRelease\n",
            "Hit:4 http://security.ubuntu.com/ubuntu artful-security InRelease\n",
            "Hit:6 http://archive.ubuntu.com/ubuntu artful-updates InRelease\n",
            "Hit:7 http://archive.ubuntu.com/ubuntu artful-backports InRelease\n",
            "Reading package lists... Done\n",
            "Building dependency tree       \n",
            "Reading state information... Done\n",
            "14 packages can be upgraded. Run 'apt list --upgradable' to see them.\n"
          ],
          "name": "stdout"
        }
      ]
    },
    {
      "metadata": {
        "id": "qBp4OOd35goX",
        "colab_type": "code",
        "colab": {
          "base_uri": "https://localhost:8080/",
          "height": 102
        },
        "outputId": "0eb3723c-fcb7-48d1-c086-e94e935a1ae8"
      },
      "cell_type": "code",
      "source": [
        "!apt install cuda-8-0 -y"
      ],
      "execution_count": 13,
      "outputs": [
        {
          "output_type": "stream",
          "text": [
            "Reading package lists... Done\n",
            "Building dependency tree       \n",
            "Reading state information... Done\n",
            "cuda-8-0 is already the newest version (8.0.61-1).\n",
            "0 upgraded, 0 newly installed, 0 to remove and 14 not upgraded.\n"
          ],
          "name": "stdout"
        }
      ]
    },
    {
      "metadata": {
        "id": "8PkWj-vQ5lcx",
        "colab_type": "code",
        "colab": {}
      },
      "cell_type": "code",
      "source": [
        "import os\n",
        "os.environ['PATH'] += ':/usr/local/cuda/bin'"
      ],
      "execution_count": 0,
      "outputs": []
    },
    {
      "metadata": {
        "id": "ePgfUwu95sAv",
        "colab_type": "code",
        "colab": {
          "base_uri": "https://localhost:8080/",
          "height": 1108
        },
        "outputId": "5cb89f16-0788-44a9-9be9-ea019d3ba18a"
      },
      "cell_type": "code",
      "source": [
        "!apt install gcc-5 g++-5 -y"
      ],
      "execution_count": 15,
      "outputs": [
        {
          "output_type": "stream",
          "text": [
            "Reading package lists... Done\n",
            "Building dependency tree       \n",
            "Reading state information... Done\n",
            "The following additional packages will be installed:\n",
            "  cpp-5 gcc-5-base libasan2 libgcc-5-dev libmpx0 libstdc++-5-dev\n",
            "Suggested packages:\n",
            "  gcc-5-locales g++-5-multilib gcc-5-doc libstdc++6-5-dbg gcc-5-multilib\n",
            "  libgcc1-dbg libgomp1-dbg libitm1-dbg libatomic1-dbg libasan2-dbg\n",
            "  liblsan0-dbg libtsan0-dbg libubsan0-dbg libcilkrts5-dbg libmpx0-dbg\n",
            "  libquadmath0-dbg libstdc++-5-doc\n",
            "The following NEW packages will be installed:\n",
            "  cpp-5 g++-5 gcc-5 gcc-5-base libasan2 libgcc-5-dev libmpx0 libstdc++-5-dev\n",
            "0 upgraded, 8 newly installed, 0 to remove and 14 not upgraded.\n",
            "Need to get 28.6 MB of archives.\n",
            "After this operation, 98.8 MB of additional disk space will be used.\n",
            "Get:1 http://archive.ubuntu.com/ubuntu artful-updates/main amd64 gcc-5-base amd64 5.5.0-1ubuntu2 [17.2 kB]\n",
            "Get:2 http://archive.ubuntu.com/ubuntu artful-updates/main amd64 cpp-5 amd64 5.5.0-1ubuntu2 [7,798 kB]\n",
            "Get:3 http://archive.ubuntu.com/ubuntu artful-updates/main amd64 libasan2 amd64 5.5.0-1ubuntu2 [265 kB]\n",
            "Get:4 http://archive.ubuntu.com/ubuntu artful-updates/main amd64 libmpx0 amd64 5.5.0-1ubuntu2 [9,820 B]\n",
            "Get:5 http://archive.ubuntu.com/ubuntu artful-updates/main amd64 libgcc-5-dev amd64 5.5.0-1ubuntu2 [2,225 kB]\n",
            "Get:6 http://archive.ubuntu.com/ubuntu artful-updates/main amd64 gcc-5 amd64 5.5.0-1ubuntu2 [8,364 kB]\n",
            "Get:7 http://archive.ubuntu.com/ubuntu artful-updates/main amd64 libstdc++-5-dev amd64 5.5.0-1ubuntu2 [1,435 kB]\n",
            "Get:8 http://archive.ubuntu.com/ubuntu artful-updates/universe amd64 g++-5 amd64 5.5.0-1ubuntu2 [8,462 kB]\n",
            "Fetched 28.6 MB in 1s (15.4 MB/s)\n",
            "\n",
            "\u001b7\u001b[0;23r\u001b8\u001b[1ASelecting previously unselected package gcc-5-base:amd64.\n",
            "(Reading database ... 85597 files and directories currently installed.)\n",
            "Preparing to unpack .../0-gcc-5-base_5.5.0-1ubuntu2_amd64.deb ...\n",
            "\u001b7\u001b[24;0f\u001b[42m\u001b[30mProgress: [  0%]\u001b[49m\u001b[39m [..........................................................] \u001b8\u001b7\u001b[24;0f\u001b[42m\u001b[30mProgress: [  2%]\u001b[49m\u001b[39m [#.........................................................] \u001b8Unpacking gcc-5-base:amd64 (5.5.0-1ubuntu2) ...\n",
            "\u001b7\u001b[24;0f\u001b[42m\u001b[30mProgress: [  4%]\u001b[49m\u001b[39m [##........................................................] \u001b8\u001b7\u001b[24;0f\u001b[42m\u001b[30mProgress: [  7%]\u001b[49m\u001b[39m [####......................................................] \u001b8Selecting previously unselected package cpp-5.\n",
            "Preparing to unpack .../1-cpp-5_5.5.0-1ubuntu2_amd64.deb ...\n",
            "\u001b7\u001b[24;0f\u001b[42m\u001b[30mProgress: [  9%]\u001b[49m\u001b[39m [#####.....................................................] \u001b8Unpacking cpp-5 (5.5.0-1ubuntu2) ...\n",
            "\u001b7\u001b[24;0f\u001b[42m\u001b[30mProgress: [ 12%]\u001b[49m\u001b[39m [#######...................................................] \u001b8\u001b7\u001b[24;0f\u001b[42m\u001b[30mProgress: [ 14%]\u001b[49m\u001b[39m [########..................................................] \u001b8Selecting previously unselected package libasan2:amd64.\n",
            "Preparing to unpack .../2-libasan2_5.5.0-1ubuntu2_amd64.deb ...\n",
            "\u001b7\u001b[24;0f\u001b[42m\u001b[30mProgress: [ 17%]\u001b[49m\u001b[39m [#########.................................................] \u001b8Unpacking libasan2:amd64 (5.5.0-1ubuntu2) ...\n",
            "\u001b7\u001b[24;0f\u001b[42m\u001b[30mProgress: [ 19%]\u001b[49m\u001b[39m [###########...............................................] \u001b8\u001b7\u001b[24;0f\u001b[42m\u001b[30mProgress: [ 21%]\u001b[49m\u001b[39m [############..............................................] \u001b8Selecting previously unselected package libmpx0:amd64.\n",
            "Preparing to unpack .../3-libmpx0_5.5.0-1ubuntu2_amd64.deb ...\n",
            "\u001b7\u001b[24;0f\u001b[42m\u001b[30mProgress: [ 24%]\u001b[49m\u001b[39m [##############............................................] \u001b8Unpacking libmpx0:amd64 (5.5.0-1ubuntu2) ...\n",
            "\u001b7\u001b[24;0f\u001b[42m\u001b[30mProgress: [ 26%]\u001b[49m\u001b[39m [###############...........................................] \u001b8\u001b7\u001b[24;0f\u001b[42m\u001b[30mProgress: [ 29%]\u001b[49m\u001b[39m [################..........................................] \u001b8Selecting previously unselected package libgcc-5-dev:amd64.\n",
            "Preparing to unpack .../4-libgcc-5-dev_5.5.0-1ubuntu2_amd64.deb ...\n",
            "\u001b7\u001b[24;0f\u001b[42m\u001b[30mProgress: [ 31%]\u001b[49m\u001b[39m [##################........................................] \u001b8Unpacking libgcc-5-dev:amd64 (5.5.0-1ubuntu2) ...\n",
            "\u001b7\u001b[24;0f\u001b[42m\u001b[30mProgress: [ 34%]\u001b[49m\u001b[39m [###################.......................................] \u001b8\u001b7\u001b[24;0f\u001b[42m\u001b[30mProgress: [ 36%]\u001b[49m\u001b[39m [#####################.....................................] \u001b8Selecting previously unselected package gcc-5.\n",
            "Preparing to unpack .../5-gcc-5_5.5.0-1ubuntu2_amd64.deb ...\n",
            "\u001b7\u001b[24;0f\u001b[42m\u001b[30mProgress: [ 39%]\u001b[49m\u001b[39m [######################....................................] \u001b8Unpacking gcc-5 (5.5.0-1ubuntu2) ...\n",
            "\u001b7\u001b[24;0f\u001b[42m\u001b[30mProgress: [ 41%]\u001b[49m\u001b[39m [########################..................................] \u001b8\u001b7\u001b[24;0f\u001b[42m\u001b[30mProgress: [ 43%]\u001b[49m\u001b[39m [#########################.................................] \u001b8Selecting previously unselected package libstdc++-5-dev:amd64.\n",
            "Preparing to unpack .../6-libstdc++-5-dev_5.5.0-1ubuntu2_amd64.deb ...\n",
            "\u001b7\u001b[24;0f\u001b[42m\u001b[30mProgress: [ 46%]\u001b[49m\u001b[39m [##########################................................] \u001b8Unpacking libstdc++-5-dev:amd64 (5.5.0-1ubuntu2) ...\n",
            "\u001b7\u001b[24;0f\u001b[42m\u001b[30mProgress: [ 48%]\u001b[49m\u001b[39m [############################..............................] \u001b8\u001b7\u001b[24;0f\u001b[42m\u001b[30mProgress: [ 51%]\u001b[49m\u001b[39m [#############################.............................] \u001b8Selecting previously unselected package g++-5.\n",
            "Preparing to unpack .../7-g++-5_5.5.0-1ubuntu2_amd64.deb ...\n",
            "\u001b7\u001b[24;0f\u001b[42m\u001b[30mProgress: [ 53%]\u001b[49m\u001b[39m [###############################...........................] \u001b8Unpacking g++-5 (5.5.0-1ubuntu2) ...\n",
            "\u001b7\u001b[24;0f\u001b[42m\u001b[30mProgress: [ 56%]\u001b[49m\u001b[39m [################################..........................] \u001b8\u001b7\u001b[24;0f\u001b[42m\u001b[30mProgress: [ 58%]\u001b[49m\u001b[39m [#################################.........................] \u001b8Processing triggers for libc-bin (2.26-0ubuntu2.1) ...\n"
          ],
          "name": "stdout"
        },
        {
          "output_type": "stream",
          "text": [
            "Processing triggers for man-db (2.7.6.1-2) ...\n",
            "Setting up gcc-5-base:amd64 (5.5.0-1ubuntu2) ...\n",
            "\u001b7\u001b[24;0f\u001b[42m\u001b[30mProgress: [ 60%]\u001b[49m\u001b[39m [###################################.......................] \u001b8\u001b7\u001b[24;0f\u001b[42m\u001b[30mProgress: [ 63%]\u001b[49m\u001b[39m [####################################......................] \u001b8Setting up libmpx0:amd64 (5.5.0-1ubuntu2) ...\n",
            "\u001b7\u001b[24;0f\u001b[42m\u001b[30mProgress: [ 65%]\u001b[49m\u001b[39m [######################################....................] \u001b8\u001b7\u001b[24;0f\u001b[42m\u001b[30mProgress: [ 68%]\u001b[49m\u001b[39m [#######################################...................] \u001b8Setting up libasan2:amd64 (5.5.0-1ubuntu2) ...\n",
            "\u001b7\u001b[24;0f\u001b[42m\u001b[30mProgress: [ 70%]\u001b[49m\u001b[39m [#########################################.................] \u001b8\u001b7\u001b[24;0f\u001b[42m\u001b[30mProgress: [ 73%]\u001b[49m\u001b[39m [##########################################................] \u001b8Setting up libgcc-5-dev:amd64 (5.5.0-1ubuntu2) ...\n",
            "\u001b7\u001b[24;0f\u001b[42m\u001b[30mProgress: [ 75%]\u001b[49m\u001b[39m [###########################################...............] \u001b8\u001b7\u001b[24;0f\u001b[42m\u001b[30mProgress: [ 78%]\u001b[49m\u001b[39m [#############################################.............] \u001b8Setting up cpp-5 (5.5.0-1ubuntu2) ...\n",
            "\u001b7\u001b[24;0f\u001b[42m\u001b[30mProgress: [ 80%]\u001b[49m\u001b[39m [##############################################............] \u001b8\u001b7\u001b[24;0f\u001b[42m\u001b[30mProgress: [ 82%]\u001b[49m\u001b[39m [################################################..........] \u001b8Setting up libstdc++-5-dev:amd64 (5.5.0-1ubuntu2) ...\n",
            "\u001b7\u001b[24;0f\u001b[42m\u001b[30mProgress: [ 85%]\u001b[49m\u001b[39m [#################################################.........] \u001b8\u001b7\u001b[24;0f\u001b[42m\u001b[30mProgress: [ 87%]\u001b[49m\u001b[39m [##################################################........] \u001b8Setting up gcc-5 (5.5.0-1ubuntu2) ...\n",
            "\u001b7\u001b[24;0f\u001b[42m\u001b[30mProgress: [ 90%]\u001b[49m\u001b[39m [####################################################......] \u001b8\u001b7\u001b[24;0f\u001b[42m\u001b[30mProgress: [ 92%]\u001b[49m\u001b[39m [#####################################################.....] \u001b8Setting up g++-5 (5.5.0-1ubuntu2) ...\n",
            "\u001b7\u001b[24;0f\u001b[42m\u001b[30mProgress: [ 95%]\u001b[49m\u001b[39m [#######################################################...] \u001b8\u001b7\u001b[24;0f\u001b[42m\u001b[30mProgress: [ 97%]\u001b[49m\u001b[39m [########################################################..] \u001b8Processing triggers for libc-bin (2.26-0ubuntu2.1) ...\n",
            "\n",
            "\u001b7\u001b[0;24r\u001b8\u001b[1A\u001b[J"
          ],
          "name": "stdout"
        }
      ]
    },
    {
      "metadata": {
        "id": "J6Jfg0ok5vke",
        "colab_type": "code",
        "colab": {}
      },
      "cell_type": "code",
      "source": [
        "!ln -s /usr/bin/gcc-5 /usr/local/cuda/bin/gcc \n",
        "!ln -s /usr/bin/g++-5 /usr/local/cuda/bin/g++"
      ],
      "execution_count": 0,
      "outputs": []
    },
    {
      "metadata": {
        "id": "Ju3Sfymx5zku",
        "colab_type": "code",
        "colab": {}
      },
      "cell_type": "code",
      "source": [
        "import os\n",
        "os.environ['PATH'] += ':/usr/local/cuda/bin'"
      ],
      "execution_count": 0,
      "outputs": []
    },
    {
      "metadata": {
        "id": "hkJZr6wgszoh",
        "colab_type": "code",
        "colab": {}
      },
      "cell_type": "code",
      "source": [
        "from google.colab import files\n",
        "uploaded = files.upload()"
      ],
      "execution_count": 0,
      "outputs": []
    },
    {
      "metadata": {
        "id": "D2Z12hpcsNc-",
        "colab_type": "code",
        "colab": {}
      },
      "cell_type": "code",
      "source": [
        "import urllib\n",
        "testfile = urllib.request.URLopener()\n",
        "testfile.retrieve(\"https://developer.nvidia.com/compute/machine-learning/cudnn/secure/v7.0.5/prod/8.0_20171129/cudnn-8.0-linux-x64-v7.tgz\", \"cudnn-8.0-linux-x64-v7.tgz\")"
      ],
      "execution_count": 0,
      "outputs": []
    },
    {
      "metadata": {
        "id": "memLDizxFUtW",
        "colab_type": "code",
        "colab": {}
      },
      "cell_type": "code",
      "source": [
        "!tar -xzvf cudnn-8.0-linux-x64-v7.tgz"
      ],
      "execution_count": 0,
      "outputs": []
    },
    {
      "metadata": {
        "id": "TEORl3yNFiFr",
        "colab_type": "code",
        "colab": {}
      },
      "cell_type": "code",
      "source": [
        "!cp cuda/include/cudnn.h /usr/local/cuda/include\n",
        "!cp cuda/lib64/libcudnn* /usr/local/cuda/lib64\n",
        "!chmod a+r /usr/local/cuda/include/cudnn.h"
      ],
      "execution_count": 0,
      "outputs": []
    },
    {
      "metadata": {
        "id": "Nyv-3xmix_Mg",
        "colab_type": "code",
        "colab": {}
      },
      "cell_type": "code",
      "source": [
        "!tar -xf fer2013.tar"
      ],
      "execution_count": 0,
      "outputs": []
    },
    {
      "metadata": {
        "id": "IPUt1W6SsbwM",
        "colab_type": "code",
        "colab": {}
      },
      "cell_type": "code",
      "source": [
        "import os\n",
        "import csv\n",
        "import numpy as np\n",
        "\n",
        "import keras\n",
        "from keras.models import Sequential\n",
        "from keras.layers import Dense, Dropout, Activation, Flatten\n",
        "from keras.layers import Convolution2D, MaxPooling2D, BatchNormalization\n",
        "from keras.utils import np_utils"
      ],
      "execution_count": 0,
      "outputs": []
    },
    {
      "metadata": {
        "id": "OqJCQeGxhq4x",
        "colab_type": "code",
        "colab": {}
      },
      "cell_type": "code",
      "source": [
        "img_rows, img_cols = 48, 48\n",
        "batch_size = 128\n",
        "nb_classes = 7\n",
        "nb_epoch = 1200\n",
        "img_channels = 1"
      ],
      "execution_count": 0,
      "outputs": []
    },
    {
      "metadata": {
        "id": "sq7nNsVmhsYX",
        "colab_type": "code",
        "colab": {}
      },
      "cell_type": "code",
      "source": [
        "\n",
        "f = open('fer2013/fer2013.csv')\n",
        "csv_f = csv.reader(f)\n",
        "\n",
        "train_x = []\n",
        "train_y = []\n",
        "val_x =[]\n",
        "val_y =[]\n"
      ],
      "execution_count": 0,
      "outputs": []
    },
    {
      "metadata": {
        "id": "ZhDydMh9h0_B",
        "colab_type": "code",
        "colab": {}
      },
      "cell_type": "code",
      "source": [
        "num=0\n",
        "for row in csv_f:\n",
        "  num = num +1\n",
        "  #print(num)\n",
        "  temp_list = []\n",
        "  for pixel in row[1].split( ):\n",
        "    temp_list.append(int(pixel))\n",
        "\n",
        "  if str(row[2]) == \"Training\":\n",
        "    train_y.append(int(row[0]))\n",
        "    train_x.append(temp_list) \n",
        "  elif str(row[2]) == \"PublicTest\":\n",
        "    val_y.append(int(row[0]))\n",
        "    val_x.append(temp_list) "
      ],
      "execution_count": 0,
      "outputs": []
    },
    {
      "metadata": {
        "id": "H6rDJXl4rUKS",
        "colab_type": "code",
        "colab": {}
      },
      "cell_type": "code",
      "source": [
        "\n",
        "train_x = np.asarray(train_x)\n",
        "train_y = np.asarray(train_y)\n",
        "val_x = np.asarray(val_x)\n",
        "val_y = np.asarray(val_y)"
      ],
      "execution_count": 0,
      "outputs": []
    },
    {
      "metadata": {
        "id": "lmXwV3InrVsQ",
        "colab_type": "code",
        "colab": {}
      },
      "cell_type": "code",
      "source": [
        "train_x = train_x.reshape(train_x.shape[0], 48, 48)\n",
        "train_x = train_x.reshape(train_x.shape[0], 1, 48, 48)\n",
        "train_y = np_utils.to_categorical(train_y, 7)"
      ],
      "execution_count": 0,
      "outputs": []
    },
    {
      "metadata": {
        "id": "s3iZUfL1ztRu",
        "colab_type": "code",
        "colab": {}
      },
      "cell_type": "code",
      "source": [
        "val_x = val_x.reshape(val_x.shape[0], 48, 48)\n",
        "val_x = val_x.reshape(val_x.shape[0], 1, 48, 48)\n",
        "val_y = np_utils.to_categorical(val_y, 7)"
      ],
      "execution_count": 0,
      "outputs": []
    },
    {
      "metadata": {
        "id": "VYZy-qnpreiK",
        "colab_type": "code",
        "colab": {}
      },
      "cell_type": "code",
      "source": [
        "!export TF_ENABLE_WINOGRAD_NONFUSED=1\n",
        "os.environ['TF_ENABLE_WINOGRAD_NONFUSED'] = '1'"
      ],
      "execution_count": 0,
      "outputs": []
    },
    {
      "metadata": {
        "id": "jMKS1KOEGsB3",
        "colab_type": "code",
        "colab": {
          "base_uri": "https://localhost:8080/",
          "height": 34
        },
        "outputId": "561cc876-c0c9-42b2-fa03-03eeab44f127"
      },
      "cell_type": "code",
      "source": [
        "input_shape = (img_channels, img_rows, img_cols)\n",
        "model = Sequential()\n",
        "model.add(Convolution2D(filters=64, kernel_size=(3, 3), padding='same',\n",
        "                            name='image_array', input_shape=input_shape))\n",
        "model.add(BatchNormalization())\n",
        "model.add(Activation('relu'))\n",
        "model.add(Convolution2D(filters=64, kernel_size=(3, 3), padding='same'))\n",
        "model.add(BatchNormalization())\n",
        "model.add(Activation('relu'))\n",
        "model.add(MaxPooling2D(pool_size=(2, 2), padding='same'))\n",
        "#model.add(Dropout(.5))\n",
        "\n",
        "model.add(Convolution2D(filters=128, kernel_size=(3, 3), padding='same'))\n",
        "model.add(BatchNormalization())\n",
        "model.add(Activation('relu'))\n",
        "model.add(Convolution2D(filters=128, kernel_size=(3, 3), padding='same'))\n",
        "model.add(BatchNormalization())\n",
        "model.add(Activation('relu'))\n",
        "model.add(MaxPooling2D(pool_size=(2, 2), padding='same'))\n",
        "model.add(Dropout(.2))\n",
        "\n",
        "model.add(Convolution2D(filters=256, kernel_size=(3, 3), padding='same'))\n",
        "model.add(BatchNormalization())\n",
        "model.add(Activation('relu'))\n",
        "model.add(Convolution2D(filters=256, kernel_size=(3, 3), padding='same'))\n",
        "model.add(BatchNormalization())\n",
        "model.add(Activation('relu'))\n",
        "model.add(MaxPooling2D(pool_size=(2, 2), padding='same'))\n",
        "model.add(Dropout(.25))\n",
        "\n",
        "model.add(Convolution2D(filters=512, kernel_size=(3, 3), padding='same'))\n",
        "model.add(BatchNormalization())\n",
        "model.add(Activation('relu'))\n",
        "model.add(Convolution2D(filters=512, kernel_size=(3, 3), padding='same'))\n",
        "model.add(BatchNormalization())\n",
        "model.add(Activation('relu'))\n",
        "model.add(MaxPooling2D(pool_size=(2, 2), padding='same'))\n",
        "model.add(Dropout(.25))\n",
        "\n",
        "model.add(Flatten())\n",
        "\n",
        "model.add(Dense(1024))\n",
        "model.add(BatchNormalization())\n",
        "model.add(Activation('relu'))\n",
        "model.add(Dropout(.45))\n",
        "\n",
        "model.add(Dense(1024))\n",
        "model.add(BatchNormalization())\n",
        "model.add(Activation('relu'))\n",
        "model.add(Dropout(.45))\n",
        "\n",
        "model.add(Dense(output_dim=7))\n",
        "model.add(Activation('softmax'))"
      ],
      "execution_count": 33,
      "outputs": [
        {
          "output_type": "stream",
          "text": [
            "/usr/local/lib/python3.6/dist-packages/ipykernel_launcher.py:52: UserWarning: Update your `Dense` call to the Keras 2 API: `Dense(units=7)`\n"
          ],
          "name": "stderr"
        }
      ]
    },
    {
      "metadata": {
        "id": "tRsZspcA0uxT",
        "colab_type": "code",
        "colab": {
          "base_uri": "https://localhost:8080/",
          "height": 1530
        },
        "outputId": "cc081381-0431-4855-e5b5-4268892bd449"
      },
      "cell_type": "code",
      "source": [
        "model.summary()"
      ],
      "execution_count": 27,
      "outputs": [
        {
          "output_type": "stream",
          "text": [
            "_________________________________________________________________\n",
            "Layer (type)                 Output Shape              Param #   \n",
            "=================================================================\n",
            "image_array (Conv2D)         (None, 1, 48, 64)         27712     \n",
            "_________________________________________________________________\n",
            "batch_normalization_21 (Batc (None, 1, 48, 64)         256       \n",
            "_________________________________________________________________\n",
            "activation_23 (Activation)   (None, 1, 48, 64)         0         \n",
            "_________________________________________________________________\n",
            "conv2d_15 (Conv2D)           (None, 1, 48, 64)         36928     \n",
            "_________________________________________________________________\n",
            "batch_normalization_22 (Batc (None, 1, 48, 64)         256       \n",
            "_________________________________________________________________\n",
            "activation_24 (Activation)   (None, 1, 48, 64)         0         \n",
            "_________________________________________________________________\n",
            "max_pooling2d_9 (MaxPooling2 (None, 1, 24, 64)         0         \n",
            "_________________________________________________________________\n",
            "conv2d_16 (Conv2D)           (None, 1, 24, 128)        73856     \n",
            "_________________________________________________________________\n",
            "batch_normalization_23 (Batc (None, 1, 24, 128)        512       \n",
            "_________________________________________________________________\n",
            "activation_25 (Activation)   (None, 1, 24, 128)        0         \n",
            "_________________________________________________________________\n",
            "conv2d_17 (Conv2D)           (None, 1, 24, 128)        147584    \n",
            "_________________________________________________________________\n",
            "batch_normalization_24 (Batc (None, 1, 24, 128)        512       \n",
            "_________________________________________________________________\n",
            "activation_26 (Activation)   (None, 1, 24, 128)        0         \n",
            "_________________________________________________________________\n",
            "max_pooling2d_10 (MaxPooling (None, 1, 12, 128)        0         \n",
            "_________________________________________________________________\n",
            "dropout_11 (Dropout)         (None, 1, 12, 128)        0         \n",
            "_________________________________________________________________\n",
            "conv2d_18 (Conv2D)           (None, 1, 12, 256)        295168    \n",
            "_________________________________________________________________\n",
            "batch_normalization_25 (Batc (None, 1, 12, 256)        1024      \n",
            "_________________________________________________________________\n",
            "activation_27 (Activation)   (None, 1, 12, 256)        0         \n",
            "_________________________________________________________________\n",
            "conv2d_19 (Conv2D)           (None, 1, 12, 256)        590080    \n",
            "_________________________________________________________________\n",
            "batch_normalization_26 (Batc (None, 1, 12, 256)        1024      \n",
            "_________________________________________________________________\n",
            "activation_28 (Activation)   (None, 1, 12, 256)        0         \n",
            "_________________________________________________________________\n",
            "max_pooling2d_11 (MaxPooling (None, 1, 6, 256)         0         \n",
            "_________________________________________________________________\n",
            "dropout_12 (Dropout)         (None, 1, 6, 256)         0         \n",
            "_________________________________________________________________\n",
            "conv2d_20 (Conv2D)           (None, 1, 6, 512)         1180160   \n",
            "_________________________________________________________________\n",
            "batch_normalization_27 (Batc (None, 1, 6, 512)         2048      \n",
            "_________________________________________________________________\n",
            "activation_29 (Activation)   (None, 1, 6, 512)         0         \n",
            "_________________________________________________________________\n",
            "conv2d_21 (Conv2D)           (None, 1, 6, 512)         2359808   \n",
            "_________________________________________________________________\n",
            "batch_normalization_28 (Batc (None, 1, 6, 512)         2048      \n",
            "_________________________________________________________________\n",
            "activation_30 (Activation)   (None, 1, 6, 512)         0         \n",
            "_________________________________________________________________\n",
            "max_pooling2d_12 (MaxPooling (None, 1, 3, 512)         0         \n",
            "_________________________________________________________________\n",
            "dropout_13 (Dropout)         (None, 1, 3, 512)         0         \n",
            "_________________________________________________________________\n",
            "dense_7 (Dense)              (None, 1, 3, 1024)        525312    \n",
            "_________________________________________________________________\n",
            "batch_normalization_29 (Batc (None, 1, 3, 1024)        4096      \n",
            "_________________________________________________________________\n",
            "activation_31 (Activation)   (None, 1, 3, 1024)        0         \n",
            "_________________________________________________________________\n",
            "dropout_14 (Dropout)         (None, 1, 3, 1024)        0         \n",
            "_________________________________________________________________\n",
            "dense_8 (Dense)              (None, 1, 3, 1024)        1049600   \n",
            "_________________________________________________________________\n",
            "batch_normalization_30 (Batc (None, 1, 3, 1024)        4096      \n",
            "_________________________________________________________________\n",
            "activation_32 (Activation)   (None, 1, 3, 1024)        0         \n",
            "_________________________________________________________________\n",
            "dropout_15 (Dropout)         (None, 1, 3, 1024)        0         \n",
            "_________________________________________________________________\n",
            "dense_9 (Dense)              (None, 1, 3, 7)           7175      \n",
            "_________________________________________________________________\n",
            "activation_33 (Activation)   (None, 1, 3, 7)           0         \n",
            "=================================================================\n",
            "Total params: 6,309,255\n",
            "Trainable params: 6,301,319\n",
            "Non-trainable params: 7,936\n",
            "_________________________________________________________________\n"
          ],
          "name": "stdout"
        }
      ]
    },
    {
      "metadata": {
        "id": "PB9jPqCQhXOg",
        "colab_type": "code",
        "colab": {
          "base_uri": "https://localhost:8080/",
          "height": 85
        },
        "outputId": "06f02b29-c911-4c3e-e9ad-f39f90774ca0"
      },
      "cell_type": "code",
      "source": [
        "model.compile(optimizer='Adam',\n",
        "                 loss='categorical_crossentropy',\n",
        "                 metrics=['accuracy'])\n",
        "model.fit(train_x, train_y, epochs=1, batch_size=batch_size, validation_data=(val_x, val_y))"
      ],
      "execution_count": 31,
      "outputs": [
        {
          "output_type": "stream",
          "text": [
            "Train on 28709 samples, validate on 3589 samples\n",
            "Epoch 1/1\n",
            "28709/28709 [==============================] - 484s 17ms/step - loss: 1.9931 - acc: 0.2407 - val_loss: 1.7793 - val_acc: 0.2906\n"
          ],
          "name": "stdout"
        },
        {
          "output_type": "execute_result",
          "data": {
            "text/plain": [
              "<keras.callbacks.History at 0x7fb1bfee9cc0>"
            ]
          },
          "metadata": {
            "tags": []
          },
          "execution_count": 31
        }
      ]
    },
    {
      "metadata": {
        "id": "rCSCjxwP6eMQ",
        "colab_type": "code",
        "colab": {
          "base_uri": "https://localhost:8080/",
          "height": 85
        },
        "outputId": "2582b2ca-e38b-465a-c599-6051880d9faa"
      },
      "cell_type": "code",
      "source": [
        "model.compile(optimizer='Adam',\n",
        "                 loss='categorical_crossentropy',\n",
        "                 metrics=['accuracy'])\n",
        "model.fit(train_x, train_y, epochs=1, batch_size=batch_size, validation_data=(val_x, val_y))"
      ],
      "execution_count": 34,
      "outputs": [
        {
          "output_type": "stream",
          "text": [
            "Train on 28709 samples, validate on 3589 samples\n",
            "Epoch 1/1\n",
            "28709/28709 [==============================] - 485s 17ms/step - loss: 1.9693 - acc: 0.2616 - val_loss: 1.8027 - val_acc: 0.2742\n"
          ],
          "name": "stdout"
        },
        {
          "output_type": "execute_result",
          "data": {
            "text/plain": [
              "<keras.callbacks.History at 0x7fb1bcbfbdd8>"
            ]
          },
          "metadata": {
            "tags": []
          },
          "execution_count": 34
        }
      ]
    }
  ]
}