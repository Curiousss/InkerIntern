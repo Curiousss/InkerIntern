{
 "cells": [
  {
   "cell_type": "code",
   "execution_count": 42,
   "metadata": {
    "collapsed": true
   },
   "outputs": [],
   "source": [
    "import numpy as np"
   ]
  },
  {
   "cell_type": "code",
   "execution_count": 43,
   "metadata": {},
   "outputs": [],
   "source": [
    "X = np.array([[1, 0, 1, 0],\n",
    "     [1, 0, 1, 1],\n",
    "     [0, 1, 0, 1]])\n",
    "Y = np.array([[1],\n",
    "             [1],\n",
    "             [0]])\n",
    "lr = 1"
   ]
  },
  {
   "cell_type": "code",
   "execution_count": 44,
   "metadata": {},
   "outputs": [
    {
     "data": {
      "text/plain": [
       "'\\nnp.random.uniform(low=0, high=1, size=(4,3))\\nbh = np.random.uniform(low=0, high=1, size=(3,1))\\nwout = np.random.uniform(low=0, high=1, size=(3,1))\\nbout = np.random.uniform(low=0, high=1, size=(1,1))\\nprint(wh,bh)\\n'"
      ]
     },
     "execution_count": 44,
     "metadata": {},
     "output_type": "execute_result"
    }
   ],
   "source": [
    "'''\n",
    "np.random.uniform(low=0, high=1, size=(4,3))\n",
    "bh = np.random.uniform(low=0, high=1, size=(3,1))\n",
    "wout = np.random.uniform(low=0, high=1, size=(3,1))\n",
    "bout = np.random.uniform(low=0, high=1, size=(1,1))\n",
    "print(wh,bh)\n",
    "'''"
   ]
  },
  {
   "cell_type": "code",
   "execution_count": 45,
   "metadata": {},
   "outputs": [],
   "source": [
    "wh = np.array([[0.42, 0.88, 0.55],\n",
    "     [0.1, 0.73, 0.68],\n",
    "     [0.6, 0.18, 0.47],\n",
    "     [0.92, 0.11, 0.52]])\n",
    "bh = np.array([0.46, 0.72, 0.08])\n",
    "wout = np.array([[0.3],\n",
    "                [0.25], \n",
    "                [0.23]])\n",
    "bout = np.array([0.69])"
   ]
  },
  {
   "cell_type": "code",
   "execution_count": 46,
   "metadata": {
    "collapsed": true
   },
   "outputs": [],
   "source": [
    "def sigmoid(x):\n",
    "    return 1.0 / (1 + np.exp(-x))"
   ]
  },
  {
   "cell_type": "code",
   "execution_count": 47,
   "metadata": {
    "collapsed": true
   },
   "outputs": [],
   "source": [
    "def sigmoid_der(xprime):\n",
    "    return xprime * (1 - xprime)"
   ]
  },
  {
   "cell_type": "code",
   "execution_count": 48,
   "metadata": {},
   "outputs": [
    {
     "name": "stdout",
     "output_type": "stream",
     "text": [
      "[[ 1.48  1.78  1.1 ]\n",
      " [ 2.4   1.89  1.62]\n",
      " [ 1.48  1.56  1.28]]\n",
      "[[ 0.81457258  0.85569687  0.75026011]\n",
      " [ 0.9168273   0.86875553  0.83479513]\n",
      " [ 0.81457258  0.82635335  0.78244978]]\n"
     ]
    }
   ],
   "source": [
    "hidden_layer = X.dot(wh) + bh\n",
    "print(hidden_layer)\n",
    "hidden_layer = sigmoid(hidden_layer)\n",
    "print(hidden_layer)"
   ]
  },
  {
   "cell_type": "code",
   "execution_count": 49,
   "metadata": {},
   "outputs": [
    {
     "name": "stdout",
     "output_type": "stream",
     "text": [
      "[[ 1.32085581]\n",
      " [ 1.37423995]\n",
      " [ 1.32092356]]\n",
      "[[ 0.78932406]\n",
      " [ 0.79806432]\n",
      " [ 0.78933532]]\n"
     ]
    }
   ],
   "source": [
    "output_layer = hidden_layer.dot(wout) + bout\n",
    "print(output_layer)\n",
    "output_layer = sigmoid(output_layer)\n",
    "print(output_layer)"
   ]
  },
  {
   "cell_type": "code",
   "execution_count": 50,
   "metadata": {},
   "outputs": [
    {
     "name": "stdout",
     "output_type": "stream",
     "text": [
      "[[ 0.21067594]\n",
      " [ 0.20193568]\n",
      " [-0.78933532]]\n"
     ]
    }
   ],
   "source": [
    "err_output = Y - output_layer\n",
    "print(err_output)"
   ]
  },
  {
   "cell_type": "code",
   "execution_count": 51,
   "metadata": {},
   "outputs": [
    {
     "name": "stdout",
     "output_type": "stream",
     "text": [
      "[[ 0.16629159]\n",
      " [ 0.16115766]\n",
      " [ 0.16628507]]\n"
     ]
    }
   ],
   "source": [
    "slope_out = sigmoid_der(output_layer)\n",
    "print(slope_out)"
   ]
  },
  {
   "cell_type": "code",
   "execution_count": 52,
   "metadata": {},
   "outputs": [
    {
     "name": "stdout",
     "output_type": "stream",
     "text": [
      "[[ 0.15104409  0.12347974  0.18736988]\n",
      " [ 0.076255    0.11401936  0.13791222]\n",
      " [ 0.15104409  0.14349349  0.17022212]]\n"
     ]
    }
   ],
   "source": [
    "slope_hidden = sigmoid_der(hidden_layer)\n",
    "print(slope_hidden)"
   ]
  },
  {
   "cell_type": "code",
   "execution_count": 53,
   "metadata": {},
   "outputs": [
    {
     "name": "stdout",
     "output_type": "stream",
     "text": [
      "[[ 0.03503364]\n",
      " [ 0.03254348]\n",
      " [-0.13125468]]\n"
     ]
    }
   ],
   "source": [
    "d_output = err_output * slope_out\n",
    "print(d_output)"
   ]
  },
  {
   "cell_type": "code",
   "execution_count": 55,
   "metadata": {},
   "outputs": [
    {
     "name": "stdout",
     "output_type": "stream",
     "text": [
      "(3, 1) (3, 1)\n",
      "[[ 0.01051009  0.00875841  0.00805774]\n",
      " [ 0.00976304  0.00813587  0.007485  ]\n",
      " [-0.0393764  -0.03281367 -0.03018858]]\n"
     ]
    }
   ],
   "source": [
    "err_hidden = d_output.dot(wout.T)\n",
    "print(d_output.shape, wout.shape)\n",
    "print(err_hidden)"
   ]
  },
  {
   "cell_type": "code",
   "execution_count": 56,
   "metadata": {},
   "outputs": [
    {
     "name": "stdout",
     "output_type": "stream",
     "text": [
      "[[ 0.00158749  0.00108149  0.00150978]\n",
      " [ 0.00074448  0.00092765  0.00103227]\n",
      " [-0.00594757 -0.00470855 -0.00513876]]\n"
     ]
    }
   ],
   "source": [
    "d_hidden = err_hidden*slope_hidden\n",
    "print(d_hidden)"
   ]
  },
  {
   "cell_type": "code",
   "execution_count": 57,
   "metadata": {},
   "outputs": [
    {
     "name": "stdout",
     "output_type": "stream",
     "text": [
      "[[ 0.25145773]\n",
      " [ 0.19978776]\n",
      " [ 0.18075129]]\n"
     ]
    }
   ],
   "source": [
    "wout = wout + hidden_layer.T.dot(d_output) * lr\n",
    "print(wout)"
   ]
  },
  {
   "cell_type": "code",
   "execution_count": 58,
   "metadata": {},
   "outputs": [
    {
     "name": "stdout",
     "output_type": "stream",
     "text": [
      "[[ 0.42233197  0.88200913  0.55254205]\n",
      " [ 0.09405243  0.72529145  0.67486124]\n",
      " [ 0.60233197  0.18200913  0.47254205]\n",
      " [ 0.91479691  0.1062191   0.51589351]]\n"
     ]
    }
   ],
   "source": [
    "wh = wh+ X.T.dot(d_hidden) * lr\n",
    "print(wh)"
   ]
  },
  {
   "cell_type": "code",
   "execution_count": 59,
   "metadata": {},
   "outputs": [
    {
     "name": "stdout",
     "output_type": "stream",
     "text": [
      "[ 0.45638439  0.71730058  0.07740329] [ 0.62632244]\n"
     ]
    }
   ],
   "source": [
    "bh = bh + np.sum(d_hidden, axis=0) * lr\n",
    "bout = bout + np.sum(d_output, axis=0)*lr\n",
    "print(bh, bout)"
   ]
  },
  {
   "cell_type": "code",
   "execution_count": null,
   "metadata": {
    "collapsed": true
   },
   "outputs": [],
   "source": []
  }
 ],
 "metadata": {
  "kernelspec": {
   "display_name": "Python 3",
   "language": "python",
   "name": "python3"
  },
  "language_info": {
   "codemirror_mode": {
    "name": "ipython",
    "version": 3
   },
   "file_extension": ".py",
   "mimetype": "text/x-python",
   "name": "python",
   "nbconvert_exporter": "python",
   "pygments_lexer": "ipython3",
   "version": "3.6.3"
  }
 },
 "nbformat": 4,
 "nbformat_minor": 2
}
