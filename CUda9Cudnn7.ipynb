{
  "nbformat": 4,
  "nbformat_minor": 0,
  "metadata": {
    "colab": {
      "name": "CUda9Cudnn7.ipynb",
      "version": "0.3.2",
      "provenance": [],
      "collapsed_sections": [],
      "include_colab_link": true
    },
    "kernelspec": {
      "name": "python3",
      "display_name": "Python 3"
    },
    "accelerator": "GPU"
  },
  "cells": [
    {
      "cell_type": "markdown",
      "metadata": {
        "id": "view-in-github",
        "colab_type": "text"
      },
      "source": [
        "[View in Colaboratory](https://colab.research.google.com/github/Curiousss/InkerIntern/blob/master/CUda9Cudnn7.ipynb)"
      ]
    },
    {
      "metadata": {
        "id": "mwkEK0IFrhz7",
        "colab_type": "text"
      },
      "cell_type": "markdown",
      "source": [
        "This notebook installs CUDA 9 and CuDNN 7 in colaboratory.\n",
        "It also re-installs tensorflow-gpu to make sure that the CuDNN is used. \n",
        "The model is test with the enironment variable TF_ENABLE_WINOGRAD_NONFUSED set to \"1\" and \"0\". The speed was almost the same. Any small differences in the speed were not found related to the setting of the flag. Sometimes enabling the flag was faster sometime disabling was faster."
      ]
    },
    {
      "metadata": {
        "id": "wDNSZ2z3_c7u",
        "colab_type": "code",
        "colab": {
          "base_uri": "https://localhost:8080/",
          "height": 119
        },
        "outputId": "e3c2c9c9-bd26-40c7-cfe0-0ed47f009d96"
      },
      "cell_type": "code",
      "source": [
        "!ls"
      ],
      "execution_count": 0,
      "outputs": [
        {
          "output_type": "stream",
          "text": [
            "cuda-repo-ubuntu1604-9-0-local_9.0.176-1_amd64-deb\r\n",
            "cuda-repo-ubuntu1604-9-0-local_9.0.176-1_amd64-deb.1\r\n",
            "cuda-repo-ubuntu1604-9-0-local_9.0.176-1_amd64-deb.2\r\n",
            "cuda-repo-ubuntu1604-9-0-local-cublas-performance-update_1.0-1_amd64-deb\r\n",
            "datalab\r\n",
            "libcudnn7_7.0.5.15-1+cuda9.0_amd64.deb\r\n"
          ],
          "name": "stdout"
        }
      ]
    },
    {
      "metadata": {
        "id": "JHGCH-okkRuL",
        "colab_type": "code",
        "colab": {
          "base_uri": "https://localhost:8080/",
          "height": 102
        },
        "outputId": "b746ad99-d3a3-444e-f83e-03b0058bb0d6"
      },
      "cell_type": "code",
      "source": [
        "CUDA_REPO_PKG=\"cuda-repo-ubuntu1604-9-0-local_9.0.176-1_amd64-deb\"\n",
        "#!wget https://developer.nvidia.com/compute/cuda/9.0/Prod/local_installers/cuda-repo-ubuntu1604-9-0-local_9.0.176-1_amd64-deb\n",
        "#!dpkg -i cuda-repo-ubuntu1604-9-0-local_9.0.176-1_amd64-deb\n",
        "!apt-key adv --fetch-keys http://developer.download.nvidia.com/compute/cuda/repos/ubuntu1604/x86_64/7fa2af80.pub\n",
        "#!apt-get update\n",
        "#!apt-get -y install cuda-9-0"
      ],
      "execution_count": 0,
      "outputs": [
        {
          "output_type": "stream",
          "text": [
            "Executing: /tmp/apt-key-gpghome.tKYnh4SG02/gpg.1.sh --fetch-keys http://developer.download.nvidia.com/compute/cuda/repos/ubuntu1604/x86_64/7fa2af80.pub\r\n",
            "gpg: requesting key from 'http://developer.download.nvidia.com/compute/cuda/repos/ubuntu1604/x86_64/7fa2af80.pub'\r\n",
            "gpg: failed to start the dirmngr '/usr/bin/dirmngr': No such file or directory\r\n",
            "gpg: connecting dirmngr at '/tmp/apt-key-gpghome.tKYnh4SG02/S.dirmngr' failed: No such file or directory\r\n",
            "gpg: WARNING: unable to fetch URI http://developer.download.nvidia.com/compute/cuda/repos/ubuntu1604/x86_64/7fa2af80.pub: No dirmngr\r\n"
          ],
          "name": "stdout"
        }
      ]
    },
    {
      "metadata": {
        "id": "Qm5wpAybktBh",
        "colab_type": "code",
        "colab": {
          "base_uri": "https://localhost:8080/",
          "height": 938
        },
        "outputId": "5a1cf023-9ed7-4362-e31a-d2bc8c8fc8d8"
      },
      "cell_type": "code",
      "source": [
        "CUDA_PATCH1=\"cuda-repo-ubuntu1604-9-0-local-cublas-performance-update_1.0-1_amd64-deb\"\n",
        "!wget https://developer.nvidia.com/compute/cuda/9.0/Prod/patches/1/cuda-repo-ubuntu1604-9-0-local-cublas-performance-update_1.0-1_amd64-deb\n",
        "!dpkg -i cuda-repo-ubuntu1604-9-0-local-cublas-performance-update_1.0-1_amd64-deb\n",
        "!apt-get update"
      ],
      "execution_count": 0,
      "outputs": [
        {
          "output_type": "stream",
          "text": [
            "--2018-06-17 13:26:38--  https://developer.nvidia.com/compute/cuda/9.0/Prod/patches/1/cuda-repo-ubuntu1604-9-0-local-cublas-performance-update_1.0-1_amd64-deb\r\n",
            "Resolving developer.nvidia.com (developer.nvidia.com)... 192.229.162.216\r\n",
            "Connecting to developer.nvidia.com (developer.nvidia.com)|192.229.162.216|:443... connected.\n",
            "HTTP request sent, awaiting response... 302 Found\n",
            "Location: https://developer.download.nvidia.com/compute/cuda/9.0/secure/Prod/patches/1/cuda-repo-ubuntu1604-9-0-local-cublas-performance-update_1.0-1_amd64.deb?SYRF3FZ8f8tGVdvn9gRXNztyYpzDolTZPDZFvx4_IoQ68Qulj9OOsfJcYkt_x8xfoWclvp9SmYpcnSQ0HiFqeJQDi4O1Fg3oG_D9tnvo2K4PRUrOFOXoCR9D4UzeC4q0KL4bEdejSkElHcfcU4WeqAbRB6IWjjIyHz9E8Q3G9h78o7vInKxrXt8LPGcOrODwT7FJGalIxqVU4P2lu88rtTX3L89AuLMkEuxqFrOD [following]\n",
            "--2018-06-17 13:26:39--  https://developer.download.nvidia.com/compute/cuda/9.0/secure/Prod/patches/1/cuda-repo-ubuntu1604-9-0-local-cublas-performance-update_1.0-1_amd64.deb?SYRF3FZ8f8tGVdvn9gRXNztyYpzDolTZPDZFvx4_IoQ68Qulj9OOsfJcYkt_x8xfoWclvp9SmYpcnSQ0HiFqeJQDi4O1Fg3oG_D9tnvo2K4PRUrOFOXoCR9D4UzeC4q0KL4bEdejSkElHcfcU4WeqAbRB6IWjjIyHz9E8Q3G9h78o7vInKxrXt8LPGcOrODwT7FJGalIxqVU4P2lu88rtTX3L89AuLMkEuxqFrOD\n",
            "Resolving developer.download.nvidia.com (developer.download.nvidia.com)... 192.229.211.70, 2606:2800:21f:3aa:dcf:37b:1ed6:1fb\n",
            "Connecting to developer.download.nvidia.com (developer.download.nvidia.com)|192.229.211.70|:443... connected.\n",
            "HTTP request sent, awaiting response... 200 OK\n",
            "Length: 100157250 (96M) [application/x-deb]\n",
            "Saving to: ‘cuda-repo-ubuntu1604-9-0-local-cublas-performance-update_1.0-1_amd64-deb’\n",
            "\n",
            "cuda-repo-ubuntu160 100%[===================>]  95.52M   151MB/s    in 0.6s    \n",
            "\n",
            "2018-06-17 13:26:40 (151 MB/s) - ‘cuda-repo-ubuntu1604-9-0-local-cublas-performance-update_1.0-1_amd64-deb’ saved [100157250/100157250]\n",
            "\n",
            "Selecting previously unselected package cuda-repo-ubuntu1604-9-0-local-cublas-performance-update.\n",
            "(Reading database ... 18357 files and directories currently installed.)\n",
            "Preparing to unpack cuda-repo-ubuntu1604-9-0-local-cublas-performance-update_1.0-1_amd64-deb ...\n",
            "Unpacking cuda-repo-ubuntu1604-9-0-local-cublas-performance-update (1.0-1) ...\n",
            "Setting up cuda-repo-ubuntu1604-9-0-local-cublas-performance-update (1.0-1) ...\n",
            "\n",
            "The public CUDA GPG key does not appear to be installed.\n",
            "To install the key, run this command:\n",
            "sudo apt-key add /var/cuda-repo-9-0-local-cublas-performance-update/7fa2af80.pub\n",
            "\n",
            "Get:1 file:/var/cuda-repo-9-0-local-cublas-performance-update  InRelease\n",
            "Ign:1 file:/var/cuda-repo-9-0-local-cublas-performance-update  InRelease\n",
            "Get:2 file:/var/cuda-repo-9-0-local  InRelease\n",
            "Ign:2 file:/var/cuda-repo-9-0-local  InRelease\n",
            "Get:3 file:/var/cuda-repo-9-0-local-cublas-performance-update  Release [574 B]\n",
            "Get:4 file:/var/cuda-repo-9-0-local  Release [574 B]\n",
            "Get:3 file:/var/cuda-repo-9-0-local-cublas-performance-update  Release [574 B]\n",
            "Get:4 file:/var/cuda-repo-9-0-local  Release [574 B]\n",
            "Get:5 file:/var/cuda-repo-9-0-local-cublas-performance-update  Release.gpg [801 B]\n",
            "Get:5 file:/var/cuda-repo-9-0-local-cublas-performance-update  Release.gpg [801 B]\n",
            "Get:6 file:/var/cuda-repo-9-0-local  Release.gpg [819 B]\n",
            "Get:6 file:/var/cuda-repo-9-0-local  Release.gpg [819 B]\n",
            "Hit:7 http://archive.ubuntu.com/ubuntu artful InRelease\n",
            "Hit:8 http://security.ubuntu.com/ubuntu artful-security InRelease\n",
            "Ign:5 file:/var/cuda-repo-9-0-local-cublas-performance-update  Release.gpg\n",
            "Hit:9 http://archive.ubuntu.com/ubuntu artful-updates InRelease\n",
            "Hit:10 http://archive.ubuntu.com/ubuntu artful-backports InRelease\n",
            "Ign:6 file:/var/cuda-repo-9-0-local  Release.gpg\n",
            "Reading package lists... Done\n",
            "W: GPG error: file:/var/cuda-repo-9-0-local-cublas-performance-update  Release: The following signatures couldn't be verified because the public key is not available: NO_PUBKEY F60F4B3D7FA2AF80\n",
            "E: The repository 'file:/var/cuda-repo-9-0-local-cublas-performance-update  Release' is not signed.\n",
            "N: Updating from such a repository can't be done securely, and is therefore disabled by default.\n",
            "N: See apt-secure(8) manpage for repository creation and user configuration details.\n",
            "W: GPG error: file:/var/cuda-repo-9-0-local  Release: The following signatures couldn't be verified because the public key is not available: NO_PUBKEY F60F4B3D7FA2AF80\n",
            "E: The repository 'file:/var/cuda-repo-9-0-local  Release' is not signed.\n",
            "N: Updating from such a repository can't be done securely, and is therefore disabled by default.\n",
            "N: See apt-secure(8) manpage for repository creation and user configuration details.\n"
          ],
          "name": "stdout"
        }
      ]
    },
    {
      "metadata": {
        "id": "ss4BrjNPn4sx",
        "colab_type": "code",
        "colab": {
          "base_uri": "https://localhost:8080/",
          "height": 870
        },
        "outputId": "73d68072-d1c2-4177-a788-2fede65ee0c3"
      },
      "cell_type": "code",
      "source": [
        "CUDNN_PKG=\"libcudnn7_7.0.5.15-1+cuda9.0_amd64.deb\"\n",
        "!wget https://github.com/ashokpant/cudnn_archive/raw/master/v7.0/libcudnn7_7.0.5.15-1+cuda9.0_amd64.deb\n",
        "!dpkg -i libcudnn7_7.0.5.15-1+cuda9.0_amd64.deb\n",
        "!apt-get update"
      ],
      "execution_count": 0,
      "outputs": [
        {
          "output_type": "stream",
          "text": [
            "--2018-06-17 13:26:51--  https://github.com/ashokpant/cudnn_archive/raw/master/v7.0/libcudnn7_7.0.5.15-1+cuda9.0_amd64.deb\r\n",
            "Resolving github.com (github.com)... 192.30.253.112, 192.30.253.113\r\n",
            "Connecting to github.com (github.com)|192.30.253.112|:443... connected.\n",
            "HTTP request sent, awaiting response... 302 Found\n",
            "Location: https://raw.githubusercontent.com/ashokpant/cudnn_archive/master/v7.0/libcudnn7_7.0.5.15-1%2Bcuda9.0_amd64.deb [following]\n",
            "--2018-06-17 13:26:51--  https://raw.githubusercontent.com/ashokpant/cudnn_archive/master/v7.0/libcudnn7_7.0.5.15-1%2Bcuda9.0_amd64.deb\n",
            "Resolving raw.githubusercontent.com (raw.githubusercontent.com)... 151.101.0.133, 151.101.64.133, 151.101.128.133, ...\n",
            "Connecting to raw.githubusercontent.com (raw.githubusercontent.com)|151.101.0.133|:443... connected.\n",
            "HTTP request sent, awaiting response... 200 OK\n",
            "Length: 102521974 (98M) [application/octet-stream]\n",
            "Saving to: ‘libcudnn7_7.0.5.15-1+cuda9.0_amd64.deb’\n",
            "\n",
            "libcudnn7_7.0.5.15- 100%[===================>]  97.77M  83.3MB/s    in 1.2s    \n",
            "\n",
            "2018-06-17 13:26:59 (83.3 MB/s) - ‘libcudnn7_7.0.5.15-1+cuda9.0_amd64.deb’ saved [102521974/102521974]\n",
            "\n",
            "Selecting previously unselected package libcudnn7.\n",
            "(Reading database ... 18367 files and directories currently installed.)\n",
            "Preparing to unpack libcudnn7_7.0.5.15-1+cuda9.0_amd64.deb ...\n",
            "Unpacking libcudnn7 (7.0.5.15-1+cuda9.0) ...\n",
            "Setting up libcudnn7 (7.0.5.15-1+cuda9.0) ...\n",
            "Processing triggers for libc-bin (2.26-0ubuntu2.1) ...\n",
            "Get:1 file:/var/cuda-repo-9-0-local-cublas-performance-update  InRelease\n",
            "Ign:1 file:/var/cuda-repo-9-0-local-cublas-performance-update  InRelease\n",
            "Get:2 file:/var/cuda-repo-9-0-local  InRelease\n",
            "Ign:2 file:/var/cuda-repo-9-0-local  InRelease\n",
            "Get:3 file:/var/cuda-repo-9-0-local-cublas-performance-update  Release [574 B]\n",
            "Get:3 file:/var/cuda-repo-9-0-local-cublas-performance-update  Release [574 B]\n",
            "Get:4 file:/var/cuda-repo-9-0-local  Release [574 B]\n",
            "Get:4 file:/var/cuda-repo-9-0-local  Release [574 B]\n",
            "Get:5 file:/var/cuda-repo-9-0-local-cublas-performance-update  Release.gpg [801 B]\n",
            "Get:5 file:/var/cuda-repo-9-0-local-cublas-performance-update  Release.gpg [801 B]\n",
            "Get:6 file:/var/cuda-repo-9-0-local  Release.gpg [819 B]\n",
            "Get:6 file:/var/cuda-repo-9-0-local  Release.gpg [819 B]\n",
            "Hit:7 http://security.ubuntu.com/ubuntu artful-security InRelease\n",
            "Hit:8 http://archive.ubuntu.com/ubuntu artful InRelease\n",
            "Ign:5 file:/var/cuda-repo-9-0-local-cublas-performance-update  Release.gpg\n",
            "Hit:9 http://archive.ubuntu.com/ubuntu artful-updates InRelease\n",
            "Ign:6 file:/var/cuda-repo-9-0-local  Release.gpg\n",
            "Hit:10 http://archive.ubuntu.com/ubuntu artful-backports InRelease\n",
            "Reading package lists... Done\n",
            "W: GPG error: file:/var/cuda-repo-9-0-local-cublas-performance-update  Release: The following signatures couldn't be verified because the public key is not available: NO_PUBKEY F60F4B3D7FA2AF80\n",
            "E: The repository 'file:/var/cuda-repo-9-0-local-cublas-performance-update  Release' is not signed.\n",
            "N: Updating from such a repository can't be done securely, and is therefore disabled by default.\n",
            "N: See apt-secure(8) manpage for repository creation and user configuration details.\n",
            "W: GPG error: file:/var/cuda-repo-9-0-local  Release: The following signatures couldn't be verified because the public key is not available: NO_PUBKEY F60F4B3D7FA2AF80\n",
            "E: The repository 'file:/var/cuda-repo-9-0-local  Release' is not signed.\n",
            "N: Updating from such a repository can't be done securely, and is therefore disabled by default.\n",
            "N: See apt-secure(8) manpage for repository creation and user configuration details.\n"
          ],
          "name": "stdout"
        }
      ]
    },
    {
      "metadata": {
        "id": "65E2cCCsoIsn",
        "colab_type": "code",
        "colab": {
          "base_uri": "https://localhost:8080/",
          "height": 85
        },
        "outputId": "eac3a780-fd01-48bb-fc5b-238c718e10d1"
      },
      "cell_type": "code",
      "source": [
        "!apt-get install cuda-command-line-tools-9-0"
      ],
      "execution_count": 0,
      "outputs": [
        {
          "output_type": "stream",
          "text": [
            "Reading package lists... Done\n",
            "Building dependency tree       \n",
            "Reading state information... Done\n",
            "E: Unable to locate package cuda-command-line-tools-9-0\n"
          ],
          "name": "stdout"
        }
      ]
    },
    {
      "metadata": {
        "id": "PftzfITZoQ8b",
        "colab_type": "code",
        "colab": {}
      },
      "cell_type": "code",
      "source": [
        "!export PATH=${PATH}:/usr/local/cuda-9.0/bin\n",
        "!export CUDA_HOME=${CUDA_HOME}:/usr/local/cuda:/usr/local/cuda-9.0\n",
        "!export LD_LIBRARY_PATH=${LD_LIBRARY_PATH}:/usr/local/cuda-9.0/lib64\n",
        "!export LD_LIBRARY_PATH=$LD_LIBRARY_PATH:/usr/local/cuda/extras/CUPTI/lib64"
      ],
      "execution_count": 0,
      "outputs": []
    },
    {
      "metadata": {
        "id": "VL8qZ248ocYS",
        "colab_type": "code",
        "colab": {}
      },
      "cell_type": "code",
      "source": [
        "import os\n",
        "os.environ['PATH'] += ':/usr/local/cuda-9.0/bin'\n",
        "#os.environ['CUDA_HOME'] += '/usr/local/cuda:/usr/local/cuda'\n",
        "#os.environ['CUDA_HOME'] += '/usr/local/cuda:/usr/local/cuda-9.0'\n",
        "os.environ['LD_LIBRARY_PATH'] += ':/usr/local/cuda-9.0/lib64'\n",
        "os.environ['LD_LIBRARY_PATH'] += ':/usr/local/cuda/extras/CUPTI/lib64'\n"
      ],
      "execution_count": 0,
      "outputs": []
    },
    {
      "metadata": {
        "id": "sng14miZoYRV",
        "colab_type": "code",
        "colab": {
          "base_uri": "https://localhost:8080/",
          "height": 71
        },
        "outputId": "d39ac9d1-9887-46df-e8bb-5567f35732b4"
      },
      "cell_type": "code",
      "source": [
        "!echo $PATH\n",
        "!ls /usr/local/"
      ],
      "execution_count": 0,
      "outputs": [
        {
          "output_type": "stream",
          "text": [
            "/usr/local/bin:/usr/local/sbin:/usr/local/bin:/usr/sbin:/usr/bin:/sbin:/bin:/tools/node/bin:/tools/google-cloud-sdk/bin:/usr/local/cuda-9.0/bin:/usr/local/cuda-9.0/bin\n",
            "ls: cannot access '/usr/local/cuda-9.0/lib64': No such file or directory\n"
          ],
          "name": "stdout"
        }
      ]
    },
    {
      "metadata": {
        "id": "tgHHdkNPpGoF",
        "colab_type": "code",
        "colab": {
          "base_uri": "https://localhost:8080/",
          "height": 51
        },
        "outputId": "15683fb0-1df4-4232-e16b-5d4b3d50a392"
      },
      "cell_type": "code",
      "source": [
        "!pip uninstall tensorflow-gpu -y\n",
        "#!pip uninstall keras -y\n",
        "#!pip install tensorflow-gpu\n",
        "#!pip uninstall keras -y\n",
        "#!pip install keras"
      ],
      "execution_count": 0,
      "outputs": [
        {
          "output_type": "stream",
          "text": [
            "Uninstalling tensorflow-gpu-1.8.0:\n",
            "  Successfully uninstalled tensorflow-gpu-1.8.0\n"
          ],
          "name": "stdout"
        }
      ]
    },
    {
      "metadata": {
        "id": "4F5N24mkqEnb",
        "colab_type": "code",
        "colab": {}
      },
      "cell_type": "code",
      "source": [
        "img_rows, img_cols = 48, 48\n",
        "batch_size = 128\n",
        "nb_classes = 7\n",
        "nb_epoch = 1200\n",
        "img_channels = 1"
      ],
      "execution_count": 0,
      "outputs": []
    },
    {
      "metadata": {
        "id": "0egbnZSqpPIF",
        "colab_type": "code",
        "colab": {}
      },
      "cell_type": "code",
      "source": [
        "import csv\n",
        "import numpy as np\n",
        "\n",
        "import keras\n",
        "from keras.models import Sequential\n",
        "from keras.layers import Dense, Dropout, Activation, Flatten\n",
        "from keras.layers import Convolution2D, MaxPooling2D, BatchNormalization\n",
        "from keras.utils import np_utils\n"
      ],
      "execution_count": 0,
      "outputs": []
    },
    {
      "metadata": {
        "id": "LfWU2fxFpkG7",
        "colab_type": "code",
        "colab": {
          "base_uri": "https://localhost:8080/",
          "height": 34
        },
        "outputId": "41ebaf1e-3d48-4ed6-da03-0acf0abb5584"
      },
      "cell_type": "code",
      "source": [
        "input_shape = (img_channels, img_rows, img_cols)\n",
        "model = Sequential()\n",
        "model.add(Convolution2D(filters=64, kernel_size=(3, 3), padding='same',\n",
        "                            name='image_array', input_shape=input_shape))\n",
        "model.add(BatchNormalization())\n",
        "model.add(Activation('relu'))\n",
        "model.add(Convolution2D(filters=64, kernel_size=(3, 3), padding='same'))\n",
        "model.add(BatchNormalization())\n",
        "model.add(Activation('relu'))\n",
        "model.add(MaxPooling2D(pool_size=(2, 2), padding='same'))\n",
        "#model.add(Dropout(.5))\n",
        "\n",
        "model.add(Convolution2D(filters=128, kernel_size=(3, 3), padding='same'))\n",
        "model.add(BatchNormalization())\n",
        "model.add(Activation('relu'))\n",
        "model.add(Convolution2D(filters=128, kernel_size=(3, 3), padding='same'))\n",
        "model.add(BatchNormalization())\n",
        "model.add(Activation('relu'))\n",
        "model.add(MaxPooling2D(pool_size=(2, 2), padding='same'))\n",
        "model.add(Dropout(.2))\n",
        "\n",
        "model.add(Convolution2D(filters=256, kernel_size=(3, 3), padding='same'))\n",
        "model.add(BatchNormalization())\n",
        "model.add(Activation('relu'))\n",
        "model.add(Convolution2D(filters=256, kernel_size=(3, 3), padding='same'))\n",
        "model.add(BatchNormalization())\n",
        "model.add(Activation('relu'))\n",
        "model.add(MaxPooling2D(pool_size=(2, 2), padding='same'))\n",
        "model.add(Dropout(.25))\n",
        "\n",
        "model.add(Convolution2D(filters=512, kernel_size=(3, 3), padding='same'))\n",
        "model.add(BatchNormalization())\n",
        "model.add(Activation('relu'))\n",
        "model.add(Convolution2D(filters=512, kernel_size=(3, 3), padding='same'))\n",
        "model.add(BatchNormalization())\n",
        "model.add(Activation('relu'))\n",
        "model.add(MaxPooling2D(pool_size=(2, 2), padding='same'))\n",
        "model.add(Dropout(.25))\n",
        "\n",
        "model.add(Flatten())\n",
        "\n",
        "model.add(Dense(1024))\n",
        "model.add(BatchNormalization())\n",
        "model.add(Activation('relu'))\n",
        "model.add(Dropout(.45))\n",
        "\n",
        "model.add(Dense(1024))\n",
        "model.add(BatchNormalization())\n",
        "model.add(Activation('relu'))\n",
        "model.add(Dropout(.45))\n",
        "\n",
        "model.add(Dense(output_dim=7))\n",
        "model.add(Activation('softmax'))"
      ],
      "execution_count": 0,
      "outputs": [
        {
          "output_type": "stream",
          "text": [
            "/usr/local/lib/python3.6/dist-packages/ipykernel_launcher.py:52: UserWarning: Update your `Dense` call to the Keras 2 API: `Dense(units=7)`\n"
          ],
          "name": "stderr"
        }
      ]
    },
    {
      "metadata": {
        "id": "eVJ5n8YAqHgR",
        "colab_type": "code",
        "colab": {}
      },
      "cell_type": "code",
      "source": [
        "f = open('fer2013/fer2013.csv')\n",
        "csv_f = csv.reader(f)\n",
        "\n",
        "train_x = []\n",
        "train_y = []\n",
        "val_x =[]\n",
        "val_y =[]"
      ],
      "execution_count": 0,
      "outputs": []
    },
    {
      "metadata": {
        "id": "W7SBh7A2qOQO",
        "colab_type": "code",
        "colab": {}
      },
      "cell_type": "code",
      "source": [
        "for row in csv_f:\n",
        "  temp_list = []\n",
        "  for pixel in row[1].split( ):\n",
        "    temp_list.append(int(pixel))\n",
        "\n",
        "  if str(row[2]) == \"Training\":\n",
        "    train_y.append(int(row[0]))\n",
        "    train_x.append(temp_list) \n",
        "  elif str(row[2]) == \"PublicTest\":\n",
        "    val_y.append(int(row[0]))\n",
        "    val_x.append(temp_list) "
      ],
      "execution_count": 0,
      "outputs": []
    },
    {
      "metadata": {
        "id": "NCFG0xBKqVgj",
        "colab_type": "code",
        "colab": {}
      },
      "cell_type": "code",
      "source": [
        "\n",
        "train_x = np.asarray(train_x)\n",
        "train_y = np.asarray(train_y)\n",
        "val_x = np.asarray(val_x)\n",
        "val_y = np.asarray(val_y)\n",
        "train_x = train_x.reshape(train_x.shape[0], 48, 48)\n",
        "train_x = train_x.reshape(train_x.shape[0], 1, 48, 48)\n",
        "train_y = np_utils.to_categorical(train_y, 7)"
      ],
      "execution_count": 0,
      "outputs": []
    },
    {
      "metadata": {
        "id": "oLC5rKCQqmsC",
        "colab_type": "code",
        "colab": {}
      },
      "cell_type": "code",
      "source": [
        "val_x = val_x.reshape(val_x.shape[0], 48, 48)\n",
        "val_x = val_x.reshape(val_x.shape[0], 1, 48, 48)\n",
        "val_y = np_utils.to_categorical(val_y, 7)"
      ],
      "execution_count": 0,
      "outputs": []
    },
    {
      "metadata": {
        "id": "DAmvs-oJqn7g",
        "colab_type": "code",
        "colab": {
          "base_uri": "https://localhost:8080/",
          "height": 34
        },
        "outputId": "de3f3808-0c9d-47ad-ec3d-faf8448290fb"
      },
      "cell_type": "code",
      "source": [
        "!export TF_ENABLE_WINOGRAD_NONFUSED=1\n",
        "os.environ['TF_ENABLE_WINOGRAD_NONFUSED'] = '1'\n",
        "os.environ.pop('TF_ENABLE_WINOGRAD_NONFUSED', None)"
      ],
      "execution_count": 0,
      "outputs": [
        {
          "output_type": "execute_result",
          "data": {
            "text/plain": [
              "'1'"
            ]
          },
          "metadata": {
            "tags": []
          },
          "execution_count": 32
        }
      ]
    },
    {
      "metadata": {
        "id": "8zDH34uAqtyN",
        "colab_type": "code",
        "colab": {}
      },
      "cell_type": "code",
      "source": [
        "model.compile(optimizer='Adam',\n",
        "                 loss='categorical_crossentropy',\n",
        "                 metrics=['accuracy'])\n"
      ],
      "execution_count": 0,
      "outputs": []
    },
    {
      "metadata": {
        "id": "YslhoAG1qyIN",
        "colab_type": "code",
        "colab": {}
      },
      "cell_type": "code",
      "source": [
        "from keras.callbacks import ModelCheckpoint\n",
        "filepath= \"weights.best01.hdf5\"\n",
        "checkpoint = ModelCheckpoint(filepath, monitor='val_acc', verbose=1, save_best_only=True, mode='max')\n",
        "#filepath=\"weights-improvement-{epoch:02d}-{val_acc:.2f}.hdf5\"\n",
        "#checkpoint = ModelCheckpoint(filepath, monitor='val_acc', verbose=1, save_best_only=True, mode='max')\n",
        "callbacks_list = [checkpoint]"
      ],
      "execution_count": 0,
      "outputs": []
    },
    {
      "metadata": {
        "id": "oCxCa_IEq0hG",
        "colab_type": "code",
        "colab": {
          "base_uri": "https://localhost:8080/",
          "height": 119
        },
        "outputId": "13d6e92a-0cfe-4a83-c53a-dfc1ff15d953"
      },
      "cell_type": "code",
      "source": [
        "import time\n",
        "start_time = time.time()\n",
        "model.fit(train_x, train_y, epochs=1, batch_size=batch_size, validation_data=(val_x, val_y),\n",
        "             callbacks=callbacks_list)\n",
        "print(\"--- %s seconds ---\" % (time.time() - start_time))"
      ],
      "execution_count": 0,
      "outputs": [
        {
          "output_type": "stream",
          "text": [
            "Train on 28709 samples, validate on 3589 samples\n",
            "Epoch 1/1\n",
            "28709/28709 [==============================] - 622s 22ms/step - loss: 1.6299 - acc: 0.3735 - val_loss: 1.6000 - val_acc: 0.3817\n",
            "\n",
            "Epoch 00001: val_acc improved from 0.29340 to 0.38172, saving model to weights.best01.hdf5\n",
            "--- 622.6715898513794 seconds ---\n"
          ],
          "name": "stdout"
        }
      ]
    },
    {
      "metadata": {
        "id": "_GvbgJxm0BA1",
        "colab_type": "code",
        "colab": {
          "base_uri": "https://localhost:8080/",
          "height": 119
        },
        "outputId": "b9fbdb81-a39b-41a1-c377-f53cfb138171"
      },
      "cell_type": "code",
      "source": [
        "import time\n",
        "start_time = time.time()\n",
        "model.fit(train_x, train_y, epochs=1, batch_size=batch_size, validation_data=(val_x, val_y),\n",
        "             callbacks=callbacks_list)\n",
        "print(\"--- %s seconds ---\" % (time.time() - start_time))"
      ],
      "execution_count": 0,
      "outputs": [
        {
          "output_type": "stream",
          "text": [
            "Train on 28709 samples, validate on 3589 samples\n",
            "Epoch 1/1\n",
            "28709/28709 [==============================] - 632s 22ms/step - loss: 1.4857 - acc: 0.4300 - val_loss: 1.5248 - val_acc: 0.4110\n",
            "\n",
            "Epoch 00001: val_acc improved from 0.40039 to 0.41098, saving model to weights.best01.hdf5\n",
            "--- 632.5001616477966 seconds ---\n"
          ],
          "name": "stdout"
        }
      ]
    }
  ]
}